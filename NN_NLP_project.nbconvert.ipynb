{
 "cells": [
  {
   "cell_type": "code",
   "execution_count": 1,
   "metadata": {
    "collapsed": true,
    "execution": {
     "iopub.execute_input": "2023-06-20T13:54:30.094048Z",
     "iopub.status.busy": "2023-06-20T13:54:30.093090Z",
     "iopub.status.idle": "2023-06-20T13:54:54.529132Z",
     "shell.execute_reply": "2023-06-20T13:54:54.527008Z"
    },
    "is_executing": true
   },
   "outputs": [],
   "source": [
    "from torchHMM.model.discretized_HMM import DiscreteHMM, DISCRETIZATION_TECHNIQUES\n",
    "from torchHMM.model.discretized_flow_HMM import FlowHMM"
   ]
  },
  {
   "cell_type": "code",
   "execution_count": 2,
   "metadata": {
    "collapsed": false,
    "execution": {
     "iopub.execute_input": "2023-06-20T13:54:54.539800Z",
     "iopub.status.busy": "2023-06-20T13:54:54.537890Z",
     "iopub.status.idle": "2023-06-20T13:54:59.389516Z",
     "shell.execute_reply": "2023-06-20T13:54:59.387963Z"
    },
    "is_executing": true
   },
   "outputs": [],
   "source": [
    "import numpy as np\n",
    "import pandas as pd\n",
    "import pickle as pkl"
   ]
  },
  {
   "cell_type": "code",
   "execution_count": 3,
   "metadata": {
    "ExecuteTime": {
     "end_time": "2023-06-19T11:04:08.874277362Z",
     "start_time": "2023-06-19T11:04:08.453626622Z"
    },
    "collapsed": false,
    "execution": {
     "iopub.execute_input": "2023-06-20T13:54:59.396870Z",
     "iopub.status.busy": "2023-06-20T13:54:59.395471Z",
     "iopub.status.idle": "2023-06-20T13:55:01.136659Z",
     "shell.execute_reply": "2023-06-20T13:55:01.134747Z"
    }
   },
   "outputs": [],
   "source": [
    "from hmmlearn.hmm import CategoricalHMM, GaussianHMM\n",
    "from gensim.models import KeyedVectors\n"
   ]
  },
  {
   "cell_type": "code",
   "execution_count": 4,
   "metadata": {
    "ExecuteTime": {
     "end_time": "2023-06-19T11:04:48.077216177Z",
     "start_time": "2023-06-19T11:04:08.875073499Z"
    },
    "collapsed": false,
    "execution": {
     "iopub.execute_input": "2023-06-20T13:55:01.144622Z",
     "iopub.status.busy": "2023-06-20T13:55:01.143651Z",
     "iopub.status.idle": "2023-06-20T13:55:15.585082Z",
     "shell.execute_reply": "2023-06-20T13:55:15.584408Z"
    }
   },
   "outputs": [],
   "source": [
    "with open('clickstream_experiment/data/preprocessed_data/ClickStream_test_cleaned.pkl', 'rb') as f:\n",
    "    cs = pkl.load(f)\n",
    "cs.sessions = cs.sessions[:10000]"
   ]
  },
  {
   "cell_type": "code",
   "execution_count": 5,
   "metadata": {
    "ExecuteTime": {
     "end_time": "2023-06-19T11:06:02.360713765Z",
     "start_time": "2023-06-19T11:05:44.917029061Z"
    },
    "collapsed": false,
    "execution": {
     "iopub.execute_input": "2023-06-20T13:55:15.591067Z",
     "iopub.status.busy": "2023-06-20T13:55:15.590632Z",
     "iopub.status.idle": "2023-06-20T13:55:15.757358Z",
     "shell.execute_reply": "2023-06-20T13:55:15.756368Z"
    }
   },
   "outputs": [],
   "source": [
    "item_ids = np.unique([e.item_id for s in cs.sessions for e in s.event_list])\n",
    "item_ids = {item_ids[i]: i for i in range(len(item_ids))}\n",
    "\n",
    "Xs = [[item_ids[e.item_id] for e in s.event_list[:-1]] for s in cs.sessions]\n",
    "l = [len(y) for y in Xs]\n",
    "\n",
    "X = np.concatenate(Xs).reshape(-1, 1)\n",
    "\n",
    "target = [item_ids[s.event_list[-1].item_id] for s in cs.sessions]"
   ]
  },
  {
   "cell_type": "code",
   "execution_count": 6,
   "metadata": {
    "ExecuteTime": {
     "end_time": "2023-06-19T11:06:02.436207376Z",
     "start_time": "2023-06-19T11:06:02.399812064Z"
    },
    "collapsed": false,
    "execution": {
     "iopub.execute_input": "2023-06-20T13:55:15.763683Z",
     "iopub.status.busy": "2023-06-20T13:55:15.763115Z",
     "iopub.status.idle": "2023-06-20T13:55:15.792375Z",
     "shell.execute_reply": "2023-06-20T13:55:15.790733Z"
    }
   },
   "outputs": [
    {
     "data": {
      "text/plain": [
       "array([[24915],\n",
       "       [12793],\n",
       "       [21234],\n",
       "       ...,\n",
       "       [21501],\n",
       "       [21501],\n",
       "       [21501]])"
      ]
     },
     "execution_count": 6,
     "metadata": {},
     "output_type": "execute_result"
    }
   ],
   "source": [
    "X"
   ]
  },
  {
   "cell_type": "code",
   "execution_count": 7,
   "metadata": {
    "ExecuteTime": {
     "end_time": "2023-06-19T11:06:02.486832269Z",
     "start_time": "2023-06-19T11:06:02.417888350Z"
    },
    "collapsed": false,
    "execution": {
     "iopub.execute_input": "2023-06-20T13:55:15.868715Z",
     "iopub.status.busy": "2023-06-20T13:55:15.867393Z",
     "iopub.status.idle": "2023-06-20T13:55:15.875514Z",
     "shell.execute_reply": "2023-06-20T13:55:15.873876Z"
    }
   },
   "outputs": [],
   "source": [
    "chmm = CategoricalHMM(5, n_iter=10, verbose=True)\n"
   ]
  },
  {
   "cell_type": "code",
   "execution_count": 8,
   "metadata": {
    "ExecuteTime": {
     "end_time": "2023-06-19T11:14:36.294789566Z",
     "start_time": "2023-06-19T11:06:02.464244888Z"
    },
    "collapsed": false,
    "execution": {
     "iopub.execute_input": "2023-06-20T13:55:15.880846Z",
     "iopub.status.busy": "2023-06-20T13:55:15.879573Z",
     "iopub.status.idle": "2023-06-20T13:55:29.219828Z",
     "shell.execute_reply": "2023-06-20T13:55:29.218335Z"
    }
   },
   "outputs": [
    {
     "name": "stderr",
     "output_type": "stream",
     "text": [
      "Fitting a model with 203424 free scalar parameters with only 91294 data points will result in a degenerate solution.\n",
      "         1     -983814.7831             +nan\n",
      "         2     -910837.0780      +72977.7051\n",
      "         3     -896773.9569      +14063.1211\n",
      "         4     -883694.0611      +13079.8958\n",
      "         5     -874817.9125       +8876.1486\n",
      "         6     -869870.5634       +4947.3491\n",
      "         7     -867042.1743       +2828.3891\n",
      "         8     -865347.4804       +1694.6939\n",
      "         9     -864208.7605       +1138.7199\n"
     ]
    },
    {
     "name": "stdout",
     "output_type": "stream",
     "text": [
      "CPU times: user 13.3 s, sys: 7.52 ms, total: 13.3 s\n",
      "Wall time: 13.3 s\n"
     ]
    },
    {
     "name": "stderr",
     "output_type": "stream",
     "text": [
      "        10     -863438.8693        +769.8912\n"
     ]
    },
    {
     "data": {
      "text/html": [
       "<style>#sk-container-id-1 {color: black;background-color: white;}#sk-container-id-1 pre{padding: 0;}#sk-container-id-1 div.sk-toggleable {background-color: white;}#sk-container-id-1 label.sk-toggleable__label {cursor: pointer;display: block;width: 100%;margin-bottom: 0;padding: 0.3em;box-sizing: border-box;text-align: center;}#sk-container-id-1 label.sk-toggleable__label-arrow:before {content: \"▸\";float: left;margin-right: 0.25em;color: #696969;}#sk-container-id-1 label.sk-toggleable__label-arrow:hover:before {color: black;}#sk-container-id-1 div.sk-estimator:hover label.sk-toggleable__label-arrow:before {color: black;}#sk-container-id-1 div.sk-toggleable__content {max-height: 0;max-width: 0;overflow: hidden;text-align: left;background-color: #f0f8ff;}#sk-container-id-1 div.sk-toggleable__content pre {margin: 0.2em;color: black;border-radius: 0.25em;background-color: #f0f8ff;}#sk-container-id-1 input.sk-toggleable__control:checked~div.sk-toggleable__content {max-height: 200px;max-width: 100%;overflow: auto;}#sk-container-id-1 input.sk-toggleable__control:checked~label.sk-toggleable__label-arrow:before {content: \"▾\";}#sk-container-id-1 div.sk-estimator input.sk-toggleable__control:checked~label.sk-toggleable__label {background-color: #d4ebff;}#sk-container-id-1 div.sk-label input.sk-toggleable__control:checked~label.sk-toggleable__label {background-color: #d4ebff;}#sk-container-id-1 input.sk-hidden--visually {border: 0;clip: rect(1px 1px 1px 1px);clip: rect(1px, 1px, 1px, 1px);height: 1px;margin: -1px;overflow: hidden;padding: 0;position: absolute;width: 1px;}#sk-container-id-1 div.sk-estimator {font-family: monospace;background-color: #f0f8ff;border: 1px dotted black;border-radius: 0.25em;box-sizing: border-box;margin-bottom: 0.5em;}#sk-container-id-1 div.sk-estimator:hover {background-color: #d4ebff;}#sk-container-id-1 div.sk-parallel-item::after {content: \"\";width: 100%;border-bottom: 1px solid gray;flex-grow: 1;}#sk-container-id-1 div.sk-label:hover label.sk-toggleable__label {background-color: #d4ebff;}#sk-container-id-1 div.sk-serial::before {content: \"\";position: absolute;border-left: 1px solid gray;box-sizing: border-box;top: 0;bottom: 0;left: 50%;z-index: 0;}#sk-container-id-1 div.sk-serial {display: flex;flex-direction: column;align-items: center;background-color: white;padding-right: 0.2em;padding-left: 0.2em;position: relative;}#sk-container-id-1 div.sk-item {position: relative;z-index: 1;}#sk-container-id-1 div.sk-parallel {display: flex;align-items: stretch;justify-content: center;background-color: white;position: relative;}#sk-container-id-1 div.sk-item::before, #sk-container-id-1 div.sk-parallel-item::before {content: \"\";position: absolute;border-left: 1px solid gray;box-sizing: border-box;top: 0;bottom: 0;left: 50%;z-index: -1;}#sk-container-id-1 div.sk-parallel-item {display: flex;flex-direction: column;z-index: 1;position: relative;background-color: white;}#sk-container-id-1 div.sk-parallel-item:first-child::after {align-self: flex-end;width: 50%;}#sk-container-id-1 div.sk-parallel-item:last-child::after {align-self: flex-start;width: 50%;}#sk-container-id-1 div.sk-parallel-item:only-child::after {width: 0;}#sk-container-id-1 div.sk-dashed-wrapped {border: 1px dashed gray;margin: 0 0.4em 0.5em 0.4em;box-sizing: border-box;padding-bottom: 0.4em;background-color: white;}#sk-container-id-1 div.sk-label label {font-family: monospace;font-weight: bold;display: inline-block;line-height: 1.2em;}#sk-container-id-1 div.sk-label-container {text-align: center;}#sk-container-id-1 div.sk-container {/* jupyter's `normalize.less` sets `[hidden] { display: none; }` but bootstrap.min.css set `[hidden] { display: none !important; }` so we also need the `!important` here to be able to override the default hidden behavior on the sphinx rendered scikit-learn.org. See: https://github.com/scikit-learn/scikit-learn/issues/21755 */display: inline-block !important;position: relative;}#sk-container-id-1 div.sk-text-repr-fallback {display: none;}</style><div id=\"sk-container-id-1\" class=\"sk-top-container\"><div class=\"sk-text-repr-fallback\"><pre>CategoricalHMM(n_components=5,\n",
       "               random_state=RandomState(MT19937) at 0x7F19D8834A40,\n",
       "               verbose=True)</pre><b>In a Jupyter environment, please rerun this cell to show the HTML representation or trust the notebook. <br />On GitHub, the HTML representation is unable to render, please try loading this page with nbviewer.org.</b></div><div class=\"sk-container\" hidden><div class=\"sk-item\"><div class=\"sk-estimator sk-toggleable\"><input class=\"sk-toggleable__control sk-hidden--visually\" id=\"sk-estimator-id-1\" type=\"checkbox\" checked><label for=\"sk-estimator-id-1\" class=\"sk-toggleable__label sk-toggleable__label-arrow\">CategoricalHMM</label><div class=\"sk-toggleable__content\"><pre>CategoricalHMM(n_components=5,\n",
       "               random_state=RandomState(MT19937) at 0x7F19D8834A40,\n",
       "               verbose=True)</pre></div></div></div></div></div>"
      ],
      "text/plain": [
       "CategoricalHMM(n_components=5,\n",
       "               random_state=RandomState(MT19937) at 0x7F19D8834A40,\n",
       "               verbose=True)"
      ]
     },
     "execution_count": 8,
     "metadata": {},
     "output_type": "execute_result"
    }
   ],
   "source": [
    "%time chmm.fit(X, l)"
   ]
  },
  {
   "cell_type": "code",
   "execution_count": 9,
   "metadata": {
    "ExecuteTime": {
     "end_time": "2023-06-19T11:30:34.675827243Z",
     "start_time": "2023-06-19T11:28:44.228971808Z"
    },
    "collapsed": false,
    "execution": {
     "iopub.execute_input": "2023-06-20T13:55:29.225557Z",
     "iopub.status.busy": "2023-06-20T13:55:29.224992Z",
     "iopub.status.idle": "2023-06-20T13:55:35.597150Z",
     "shell.execute_reply": "2023-06-20T13:55:35.596418Z"
    }
   },
   "outputs": [
    {
     "ename": "IndexError",
     "evalue": "index 40681 is out of bounds for axis 1 with size 40681",
     "output_type": "error",
     "traceback": [
      "\u001b[0;31m---------------------------------------------------------------------------\u001b[0m",
      "\u001b[0;31mIndexError\u001b[0m                                Traceback (most recent call last)",
      "Cell \u001b[0;32mIn[9], line 2\u001b[0m\n\u001b[1;32m      1\u001b[0m l1 \u001b[38;5;241m=\u001b[39m chmm\u001b[38;5;241m.\u001b[39mscore(np\u001b[38;5;241m.\u001b[39marray(X)\u001b[38;5;241m.\u001b[39mreshape(\u001b[38;5;241m-\u001b[39m\u001b[38;5;241m1\u001b[39m, \u001b[38;5;241m1\u001b[39m), l)\n\u001b[0;32m----> 2\u001b[0m l2 \u001b[38;5;241m=\u001b[39m \u001b[43mchmm\u001b[49m\u001b[38;5;241;43m.\u001b[39;49m\u001b[43mscore\u001b[49m\u001b[43m(\u001b[49m\u001b[43mnp\u001b[49m\u001b[38;5;241;43m.\u001b[39;49m\u001b[43mconcatenate\u001b[49m\u001b[43m(\u001b[49m\u001b[43m[\u001b[49m\u001b[43m[\u001b[49m\u001b[43mitem_ids\u001b[49m\u001b[43m[\u001b[49m\u001b[43me\u001b[49m\u001b[38;5;241;43m.\u001b[39;49m\u001b[43mitem_id\u001b[49m\u001b[43m]\u001b[49m\u001b[43m \u001b[49m\u001b[38;5;28;43;01mfor\u001b[39;49;00m\u001b[43m \u001b[49m\u001b[43me\u001b[49m\u001b[43m \u001b[49m\u001b[38;5;129;43;01min\u001b[39;49;00m\u001b[43m \u001b[49m\u001b[43ms\u001b[49m\u001b[38;5;241;43m.\u001b[39;49m\u001b[43mevent_list\u001b[49m\u001b[43m]\u001b[49m\u001b[43m \u001b[49m\u001b[38;5;28;43;01mfor\u001b[39;49;00m\u001b[43m \u001b[49m\u001b[43ms\u001b[49m\u001b[43m \u001b[49m\u001b[38;5;129;43;01min\u001b[39;49;00m\u001b[43m \u001b[49m\u001b[43mcs\u001b[49m\u001b[38;5;241;43m.\u001b[39;49m\u001b[43msessions\u001b[49m\u001b[43m]\u001b[49m\u001b[43m)\u001b[49m\u001b[38;5;241;43m.\u001b[39;49m\u001b[43mreshape\u001b[49m\u001b[43m(\u001b[49m\u001b[38;5;241;43m-\u001b[39;49m\u001b[38;5;241;43m1\u001b[39;49m\u001b[43m,\u001b[49m\u001b[43m \u001b[49m\u001b[38;5;241;43m1\u001b[39;49m\u001b[43m)\u001b[49m\u001b[43m,\u001b[49m\u001b[43m \u001b[49m\u001b[43mnp\u001b[49m\u001b[38;5;241;43m.\u001b[39;49m\u001b[43marray\u001b[49m\u001b[43m(\u001b[49m\u001b[43ml\u001b[49m\u001b[43m)\u001b[49m\u001b[43m \u001b[49m\u001b[38;5;241;43m+\u001b[39;49m\u001b[43m \u001b[49m\u001b[38;5;241;43m1\u001b[39;49m\u001b[43m)\u001b[49m\n\u001b[1;32m      3\u001b[0m (l2 \u001b[38;5;241m-\u001b[39m l1) \u001b[38;5;241m/\u001b[39m \u001b[38;5;28mlen\u001b[39m(l)\n",
      "File \u001b[0;32m/ziob/klaudia/miniconda3/envs/preproc/lib/python3.10/site-packages/hmmlearn/hmm.py:517\u001b[0m, in \u001b[0;36m_categoricalhmm_fix_docstring_shape.<locals>.<lambda>\u001b[0;34m(*args, **kwargs)\u001b[0m\n\u001b[1;32m    514\u001b[0m     wrapper \u001b[38;5;241m=\u001b[39m func\n\u001b[1;32m    515\u001b[0m \u001b[38;5;28;01melse\u001b[39;00m:\n\u001b[1;32m    516\u001b[0m     wrapper \u001b[38;5;241m=\u001b[39m functools\u001b[38;5;241m.\u001b[39mwraps(func)(\n\u001b[0;32m--> 517\u001b[0m         \u001b[38;5;28;01mlambda\u001b[39;00m \u001b[38;5;241m*\u001b[39margs, \u001b[38;5;241m*\u001b[39m\u001b[38;5;241m*\u001b[39mkwargs: \u001b[43mfunc\u001b[49m\u001b[43m(\u001b[49m\u001b[38;5;241;43m*\u001b[39;49m\u001b[43margs\u001b[49m\u001b[43m,\u001b[49m\u001b[43m \u001b[49m\u001b[38;5;241;43m*\u001b[39;49m\u001b[38;5;241;43m*\u001b[39;49m\u001b[43mkwargs\u001b[49m\u001b[43m)\u001b[49m)\n\u001b[1;32m    518\u001b[0m     wrapper\u001b[38;5;241m.\u001b[39m\u001b[38;5;18m__doc__\u001b[39m \u001b[38;5;241m=\u001b[39m (\n\u001b[1;32m    519\u001b[0m         doc\u001b[38;5;241m.\u001b[39mreplace(\u001b[38;5;124m\"\u001b[39m\u001b[38;5;124m(n_samples, n_features)\u001b[39m\u001b[38;5;124m\"\u001b[39m, \u001b[38;5;124m\"\u001b[39m\u001b[38;5;124m(n_samples, 1)\u001b[39m\u001b[38;5;124m\"\u001b[39m)\n\u001b[1;32m    520\u001b[0m         \u001b[38;5;241m+\u001b[39m _CATEGORICALHMM_DOC_SUFFIX)\n\u001b[1;32m    521\u001b[0m \u001b[38;5;28;01mreturn\u001b[39;00m wrapper\n",
      "File \u001b[0;32m/ziob/klaudia/miniconda3/envs/preproc/lib/python3.10/site-packages/hmmlearn/base.py:259\u001b[0m, in \u001b[0;36mBaseHMM.score\u001b[0;34m(self, X, lengths)\u001b[0m\n\u001b[1;32m    236\u001b[0m \u001b[38;5;28;01mdef\u001b[39;00m \u001b[38;5;21mscore\u001b[39m(\u001b[38;5;28mself\u001b[39m, X, lengths\u001b[38;5;241m=\u001b[39m\u001b[38;5;28;01mNone\u001b[39;00m):\n\u001b[1;32m    237\u001b[0m \u001b[38;5;250m    \u001b[39m\u001b[38;5;124;03m\"\"\"\u001b[39;00m\n\u001b[1;32m    238\u001b[0m \u001b[38;5;124;03m    Compute the log probability under the model.\u001b[39;00m\n\u001b[1;32m    239\u001b[0m \n\u001b[0;32m   (...)\u001b[0m\n\u001b[1;32m    257\u001b[0m \u001b[38;5;124;03m    decode : Find most likely state sequence corresponding to ``X``.\u001b[39;00m\n\u001b[1;32m    258\u001b[0m \u001b[38;5;124;03m    \"\"\"\u001b[39;00m\n\u001b[0;32m--> 259\u001b[0m     \u001b[38;5;28;01mreturn\u001b[39;00m \u001b[38;5;28;43mself\u001b[39;49m\u001b[38;5;241;43m.\u001b[39;49m\u001b[43m_score\u001b[49m\u001b[43m(\u001b[49m\u001b[43mX\u001b[49m\u001b[43m,\u001b[49m\u001b[43m \u001b[49m\u001b[43mlengths\u001b[49m\u001b[43m,\u001b[49m\u001b[43m \u001b[49m\u001b[43mcompute_posteriors\u001b[49m\u001b[38;5;241;43m=\u001b[39;49m\u001b[38;5;28;43;01mFalse\u001b[39;49;00m\u001b[43m)\u001b[49m[\u001b[38;5;241m0\u001b[39m]\n",
      "File \u001b[0;32m/ziob/klaudia/miniconda3/envs/preproc/lib/python3.10/site-packages/hmmlearn/base.py:277\u001b[0m, in \u001b[0;36mBaseHMM._score\u001b[0;34m(self, X, lengths, compute_posteriors)\u001b[0m\n\u001b[1;32m    272\u001b[0m X \u001b[38;5;241m=\u001b[39m check_array(X)\n\u001b[1;32m    273\u001b[0m impl \u001b[38;5;241m=\u001b[39m {\n\u001b[1;32m    274\u001b[0m     \u001b[38;5;124m\"\u001b[39m\u001b[38;5;124mscaling\u001b[39m\u001b[38;5;124m\"\u001b[39m: \u001b[38;5;28mself\u001b[39m\u001b[38;5;241m.\u001b[39m_score_scaling,\n\u001b[1;32m    275\u001b[0m     \u001b[38;5;124m\"\u001b[39m\u001b[38;5;124mlog\u001b[39m\u001b[38;5;124m\"\u001b[39m: \u001b[38;5;28mself\u001b[39m\u001b[38;5;241m.\u001b[39m_score_log,\n\u001b[1;32m    276\u001b[0m }[\u001b[38;5;28mself\u001b[39m\u001b[38;5;241m.\u001b[39mimplementation]\n\u001b[0;32m--> 277\u001b[0m \u001b[38;5;28;01mreturn\u001b[39;00m \u001b[43mimpl\u001b[49m\u001b[43m(\u001b[49m\n\u001b[1;32m    278\u001b[0m \u001b[43m    \u001b[49m\u001b[43mX\u001b[49m\u001b[38;5;241;43m=\u001b[39;49m\u001b[43mX\u001b[49m\u001b[43m,\u001b[49m\u001b[43m \u001b[49m\u001b[43mlengths\u001b[49m\u001b[38;5;241;43m=\u001b[39;49m\u001b[43mlengths\u001b[49m\u001b[43m,\u001b[49m\u001b[43m \u001b[49m\u001b[43mcompute_posteriors\u001b[49m\u001b[38;5;241;43m=\u001b[39;49m\u001b[43mcompute_posteriors\u001b[49m\u001b[43m)\u001b[49m\n",
      "File \u001b[0;32m/ziob/klaudia/miniconda3/envs/preproc/lib/python3.10/site-packages/hmmlearn/base.py:289\u001b[0m, in \u001b[0;36mBaseHMM._score_log\u001b[0;34m(self, X, lengths, compute_posteriors)\u001b[0m\n\u001b[1;32m    287\u001b[0m sub_posteriors \u001b[38;5;241m=\u001b[39m [np\u001b[38;5;241m.\u001b[39mempty((\u001b[38;5;241m0\u001b[39m, \u001b[38;5;28mself\u001b[39m\u001b[38;5;241m.\u001b[39mn_components))]\n\u001b[1;32m    288\u001b[0m \u001b[38;5;28;01mfor\u001b[39;00m sub_X \u001b[38;5;129;01min\u001b[39;00m _utils\u001b[38;5;241m.\u001b[39msplit_X_lengths(X, lengths):\n\u001b[0;32m--> 289\u001b[0m     log_frameprob \u001b[38;5;241m=\u001b[39m \u001b[38;5;28;43mself\u001b[39;49m\u001b[38;5;241;43m.\u001b[39;49m\u001b[43m_compute_log_likelihood\u001b[49m\u001b[43m(\u001b[49m\u001b[43msub_X\u001b[49m\u001b[43m)\u001b[49m\n\u001b[1;32m    290\u001b[0m     log_probij, fwdlattice \u001b[38;5;241m=\u001b[39m _hmmc\u001b[38;5;241m.\u001b[39mforward_log(\n\u001b[1;32m    291\u001b[0m         \u001b[38;5;28mself\u001b[39m\u001b[38;5;241m.\u001b[39mstartprob_, \u001b[38;5;28mself\u001b[39m\u001b[38;5;241m.\u001b[39mtransmat_, log_frameprob)\n\u001b[1;32m    292\u001b[0m     log_prob \u001b[38;5;241m+\u001b[39m\u001b[38;5;241m=\u001b[39m log_probij\n",
      "File \u001b[0;32m/ziob/klaudia/miniconda3/envs/preproc/lib/python3.10/site-packages/hmmlearn/base.py:684\u001b[0m, in \u001b[0;36mBaseHMM._compute_log_likelihood\u001b[0;34m(self, X)\u001b[0m\n\u001b[1;32m    668\u001b[0m \u001b[38;5;250m\u001b[39m\u001b[38;5;124;03m\"\"\"\u001b[39;00m\n\u001b[1;32m    669\u001b[0m \u001b[38;5;124;03mCompute per-component emission log probability under the model.\u001b[39;00m\n\u001b[1;32m    670\u001b[0m \n\u001b[0;32m   (...)\u001b[0m\n\u001b[1;32m    680\u001b[0m \u001b[38;5;124;03m    model states, i.e., ``log(p(X|state))``.\u001b[39;00m\n\u001b[1;32m    681\u001b[0m \u001b[38;5;124;03m\"\"\"\u001b[39;00m\n\u001b[1;32m    682\u001b[0m \u001b[38;5;28;01mif\u001b[39;00m (\u001b[38;5;28mself\u001b[39m\u001b[38;5;241m.\u001b[39m_compute_likelihood  \u001b[38;5;66;03m# prevent recursion\u001b[39;00m\n\u001b[1;32m    683\u001b[0m         \u001b[38;5;241m!=\u001b[39m BaseHMM\u001b[38;5;241m.\u001b[39m_compute_likelihood\u001b[38;5;241m.\u001b[39m\u001b[38;5;21m__get__\u001b[39m(\u001b[38;5;28mself\u001b[39m)):\n\u001b[0;32m--> 684\u001b[0m     likelihood \u001b[38;5;241m=\u001b[39m \u001b[38;5;28;43mself\u001b[39;49m\u001b[38;5;241;43m.\u001b[39;49m\u001b[43m_compute_likelihood\u001b[49m\u001b[43m(\u001b[49m\u001b[43mX\u001b[49m\u001b[43m)\u001b[49m\n\u001b[1;32m    685\u001b[0m     \u001b[38;5;66;03m# Probabilities equal to zero do occur, and log(0) = -inf is OK.\u001b[39;00m\n\u001b[1;32m    686\u001b[0m     \u001b[38;5;28;01mwith\u001b[39;00m np\u001b[38;5;241m.\u001b[39merrstate(divide\u001b[38;5;241m=\u001b[39m\u001b[38;5;124m\"\u001b[39m\u001b[38;5;124mignore\u001b[39m\u001b[38;5;124m\"\u001b[39m):\n",
      "File \u001b[0;32m/ziob/klaudia/miniconda3/envs/preproc/lib/python3.10/site-packages/hmmlearn/hmm.py:657\u001b[0m, in \u001b[0;36mCategoricalHMM._compute_likelihood\u001b[0;34m(self, X)\u001b[0m\n\u001b[1;32m    656\u001b[0m \u001b[38;5;28;01mdef\u001b[39;00m \u001b[38;5;21m_compute_likelihood\u001b[39m(\u001b[38;5;28mself\u001b[39m, X):\n\u001b[0;32m--> 657\u001b[0m     \u001b[38;5;28;01mreturn\u001b[39;00m \u001b[38;5;28;43mself\u001b[39;49m\u001b[38;5;241;43m.\u001b[39;49m\u001b[43memissionprob_\u001b[49m\u001b[43m[\u001b[49m\u001b[43m:\u001b[49m\u001b[43m,\u001b[49m\u001b[43m \u001b[49m\u001b[43mnp\u001b[49m\u001b[38;5;241;43m.\u001b[39;49m\u001b[43mconcatenate\u001b[49m\u001b[43m(\u001b[49m\u001b[43mX\u001b[49m\u001b[43m)\u001b[49m\u001b[43m]\u001b[49m\u001b[38;5;241m.\u001b[39mT\n",
      "\u001b[0;31mIndexError\u001b[0m: index 40681 is out of bounds for axis 1 with size 40681"
     ]
    }
   ],
   "source": [
    "l1 = chmm.score(np.array(X).reshape(-1, 1), l)\n",
    "l2 = chmm.score(np.concatenate([[item_ids[e.item_id] for e in s.event_list] for s in cs.sessions]).reshape(-1, 1), np.array(l) + 1)\n",
    "(l2 - l1) / len(l)"
   ]
  },
  {
   "cell_type": "code",
   "execution_count": 10,
   "metadata": {
    "ExecuteTime": {
     "end_time": "2023-06-19T11:33:26.375948032Z",
     "start_time": "2023-06-19T11:33:25.429184415Z"
    },
    "collapsed": false,
    "execution": {
     "iopub.execute_input": "2023-06-20T13:55:35.603652Z",
     "iopub.status.busy": "2023-06-20T13:55:35.603219Z",
     "iopub.status.idle": "2023-06-20T13:55:35.942560Z",
     "shell.execute_reply": "2023-06-20T13:55:35.941761Z"
    }
   },
   "outputs": [],
   "source": [
    "vectors = KeyedVectors.load(\n",
    "    f\"clickstream_experiment/data/preprocessed_data/vectors_train_20_10_5_8_cleaned.kv\"\n",
    ")\n",
    "vecs = np.concatenate(\n",
    "    [\n",
    "        vectors.get_vector(k).reshape(1, -1)\n",
    "        for k in list(vectors.key_to_index.keys())\n",
    "    ]\n",
    ")"
   ]
  },
  {
   "cell_type": "code",
   "execution_count": 11,
   "metadata": {
    "ExecuteTime": {
     "end_time": "2023-06-19T11:33:27.547725958Z",
     "start_time": "2023-06-19T11:33:27.398466320Z"
    },
    "collapsed": false,
    "execution": {
     "iopub.execute_input": "2023-06-20T13:55:35.948189Z",
     "iopub.status.busy": "2023-06-20T13:55:35.947707Z",
     "iopub.status.idle": "2023-06-20T13:55:35.954393Z",
     "shell.execute_reply": "2023-06-20T13:55:35.953296Z"
    }
   },
   "outputs": [],
   "source": [
    "unknown = vecs.mean(axis=0).reshape(1, -1)\n",
    "\n",
    "def get_vec(e):\n",
    "    try:\n",
    "        return vectors.get_vector(e.item_id).reshape(1, -1)\n",
    "    except:\n",
    "        return unknown"
   ]
  },
  {
   "cell_type": "code",
   "execution_count": 12,
   "metadata": {
    "ExecuteTime": {
     "end_time": "2023-06-19T11:34:16.043842810Z",
     "start_time": "2023-06-19T11:33:29.818189116Z"
    },
    "collapsed": false,
    "execution": {
     "iopub.execute_input": "2023-06-20T13:55:35.959664Z",
     "iopub.status.busy": "2023-06-20T13:55:35.959199Z",
     "iopub.status.idle": "2023-06-20T13:55:36.156995Z",
     "shell.execute_reply": "2023-06-20T13:55:36.156099Z"
    }
   },
   "outputs": [],
   "source": [
    "Xs_c = [[get_vec(e) for e in s.event_list[:-1]] for s in cs.sessions]\n",
    "l_c = [len(y) for y in X]\n",
    "\n",
    "X_c = np.concatenate([a for as_ in Xs_c for a in as_], axis=0)\n",
    "\n",
    "target_c = [get_vec(s.event_list[-1]) for s in cs.sessions]"
   ]
  },
  {
   "cell_type": "code",
   "execution_count": 13,
   "metadata": {
    "ExecuteTime": {
     "end_time": "2023-06-19T11:34:16.055172725Z",
     "start_time": "2023-06-19T11:34:16.044861965Z"
    },
    "collapsed": false,
    "execution": {
     "iopub.execute_input": "2023-06-20T13:55:36.163533Z",
     "iopub.status.busy": "2023-06-20T13:55:36.162958Z",
     "iopub.status.idle": "2023-06-20T13:55:36.167857Z",
     "shell.execute_reply": "2023-06-20T13:55:36.167316Z"
    }
   },
   "outputs": [
    {
     "data": {
      "text/plain": [
       "(91294, 20)"
      ]
     },
     "execution_count": 13,
     "metadata": {},
     "output_type": "execute_result"
    }
   ],
   "source": [
    "X_c.shape"
   ]
  },
  {
   "cell_type": "code",
   "execution_count": 14,
   "metadata": {
    "ExecuteTime": {
     "end_time": "2023-06-19T11:34:16.056338423Z",
     "start_time": "2023-06-19T11:34:16.045723486Z"
    },
    "collapsed": false,
    "execution": {
     "iopub.execute_input": "2023-06-20T13:55:36.171603Z",
     "iopub.status.busy": "2023-06-20T13:55:36.171147Z",
     "iopub.status.idle": "2023-06-20T13:55:36.174908Z",
     "shell.execute_reply": "2023-06-20T13:55:36.173817Z"
    }
   },
   "outputs": [],
   "source": [
    "w2vhmm = GaussianHMM(5, n_iter=10, verbose=True)"
   ]
  },
  {
   "cell_type": "code",
   "execution_count": 15,
   "metadata": {
    "ExecuteTime": {
     "start_time": "2023-06-19T11:47:33.983843020Z"
    },
    "collapsed": false,
    "execution": {
     "iopub.execute_input": "2023-06-20T13:55:36.178278Z",
     "iopub.status.busy": "2023-06-20T13:55:36.177840Z",
     "iopub.status.idle": "2023-06-20T13:57:29.131030Z",
     "shell.execute_reply": "2023-06-20T13:57:29.130414Z"
    },
    "is_executing": true
   },
   "outputs": [
    {
     "name": "stderr",
     "output_type": "stream",
     "text": [
      "/ziob/klaudia/miniconda3/envs/preproc/lib/python3.10/site-packages/sklearn/cluster/_kmeans.py:870: FutureWarning: The default value of `n_init` will change from 10 to 'auto' in 1.4. Set the value of `n_init` explicitly to suppress the warning\n",
      "  warnings.warn(\n",
      "         1     1560961.8041             +nan\n",
      "         2     4040172.9465    +2479211.1424\n",
      "         3     6614705.8266    +2574532.8801\n",
      "         4    12285094.7698    +5670388.9432\n",
      "         5    12294925.2681       +9830.4983\n",
      "         6    12300448.1653       +5522.8972\n",
      "         7    12303231.9045       +2783.7392\n",
      "         8    12304527.1558       +1295.2513\n",
      "         9    12305071.4798        +544.3241\n",
      "        10    12305344.6423        +273.1625\n",
      "Some rows of transmat_ have zero sum because no transition from the state was ever observed.\n"
     ]
    },
    {
     "name": "stdout",
     "output_type": "stream",
     "text": [
      "CPU times: user 1min 52s, sys: 643 ms, total: 1min 53s\n",
      "Wall time: 1min 52s\n"
     ]
    },
    {
     "data": {
      "text/html": [
       "<style>#sk-container-id-2 {color: black;background-color: white;}#sk-container-id-2 pre{padding: 0;}#sk-container-id-2 div.sk-toggleable {background-color: white;}#sk-container-id-2 label.sk-toggleable__label {cursor: pointer;display: block;width: 100%;margin-bottom: 0;padding: 0.3em;box-sizing: border-box;text-align: center;}#sk-container-id-2 label.sk-toggleable__label-arrow:before {content: \"▸\";float: left;margin-right: 0.25em;color: #696969;}#sk-container-id-2 label.sk-toggleable__label-arrow:hover:before {color: black;}#sk-container-id-2 div.sk-estimator:hover label.sk-toggleable__label-arrow:before {color: black;}#sk-container-id-2 div.sk-toggleable__content {max-height: 0;max-width: 0;overflow: hidden;text-align: left;background-color: #f0f8ff;}#sk-container-id-2 div.sk-toggleable__content pre {margin: 0.2em;color: black;border-radius: 0.25em;background-color: #f0f8ff;}#sk-container-id-2 input.sk-toggleable__control:checked~div.sk-toggleable__content {max-height: 200px;max-width: 100%;overflow: auto;}#sk-container-id-2 input.sk-toggleable__control:checked~label.sk-toggleable__label-arrow:before {content: \"▾\";}#sk-container-id-2 div.sk-estimator input.sk-toggleable__control:checked~label.sk-toggleable__label {background-color: #d4ebff;}#sk-container-id-2 div.sk-label input.sk-toggleable__control:checked~label.sk-toggleable__label {background-color: #d4ebff;}#sk-container-id-2 input.sk-hidden--visually {border: 0;clip: rect(1px 1px 1px 1px);clip: rect(1px, 1px, 1px, 1px);height: 1px;margin: -1px;overflow: hidden;padding: 0;position: absolute;width: 1px;}#sk-container-id-2 div.sk-estimator {font-family: monospace;background-color: #f0f8ff;border: 1px dotted black;border-radius: 0.25em;box-sizing: border-box;margin-bottom: 0.5em;}#sk-container-id-2 div.sk-estimator:hover {background-color: #d4ebff;}#sk-container-id-2 div.sk-parallel-item::after {content: \"\";width: 100%;border-bottom: 1px solid gray;flex-grow: 1;}#sk-container-id-2 div.sk-label:hover label.sk-toggleable__label {background-color: #d4ebff;}#sk-container-id-2 div.sk-serial::before {content: \"\";position: absolute;border-left: 1px solid gray;box-sizing: border-box;top: 0;bottom: 0;left: 50%;z-index: 0;}#sk-container-id-2 div.sk-serial {display: flex;flex-direction: column;align-items: center;background-color: white;padding-right: 0.2em;padding-left: 0.2em;position: relative;}#sk-container-id-2 div.sk-item {position: relative;z-index: 1;}#sk-container-id-2 div.sk-parallel {display: flex;align-items: stretch;justify-content: center;background-color: white;position: relative;}#sk-container-id-2 div.sk-item::before, #sk-container-id-2 div.sk-parallel-item::before {content: \"\";position: absolute;border-left: 1px solid gray;box-sizing: border-box;top: 0;bottom: 0;left: 50%;z-index: -1;}#sk-container-id-2 div.sk-parallel-item {display: flex;flex-direction: column;z-index: 1;position: relative;background-color: white;}#sk-container-id-2 div.sk-parallel-item:first-child::after {align-self: flex-end;width: 50%;}#sk-container-id-2 div.sk-parallel-item:last-child::after {align-self: flex-start;width: 50%;}#sk-container-id-2 div.sk-parallel-item:only-child::after {width: 0;}#sk-container-id-2 div.sk-dashed-wrapped {border: 1px dashed gray;margin: 0 0.4em 0.5em 0.4em;box-sizing: border-box;padding-bottom: 0.4em;background-color: white;}#sk-container-id-2 div.sk-label label {font-family: monospace;font-weight: bold;display: inline-block;line-height: 1.2em;}#sk-container-id-2 div.sk-label-container {text-align: center;}#sk-container-id-2 div.sk-container {/* jupyter's `normalize.less` sets `[hidden] { display: none; }` but bootstrap.min.css set `[hidden] { display: none !important; }` so we also need the `!important` here to be able to override the default hidden behavior on the sphinx rendered scikit-learn.org. See: https://github.com/scikit-learn/scikit-learn/issues/21755 */display: inline-block !important;position: relative;}#sk-container-id-2 div.sk-text-repr-fallback {display: none;}</style><div id=\"sk-container-id-2\" class=\"sk-top-container\"><div class=\"sk-text-repr-fallback\"><pre>GaussianHMM(n_components=5, verbose=True)</pre><b>In a Jupyter environment, please rerun this cell to show the HTML representation or trust the notebook. <br />On GitHub, the HTML representation is unable to render, please try loading this page with nbviewer.org.</b></div><div class=\"sk-container\" hidden><div class=\"sk-item\"><div class=\"sk-estimator sk-toggleable\"><input class=\"sk-toggleable__control sk-hidden--visually\" id=\"sk-estimator-id-2\" type=\"checkbox\" checked><label for=\"sk-estimator-id-2\" class=\"sk-toggleable__label sk-toggleable__label-arrow\">GaussianHMM</label><div class=\"sk-toggleable__content\"><pre>GaussianHMM(n_components=5, verbose=True)</pre></div></div></div></div></div>"
      ],
      "text/plain": [
       "GaussianHMM(n_components=5, verbose=True)"
      ]
     },
     "execution_count": 15,
     "metadata": {},
     "output_type": "execute_result"
    }
   ],
   "source": [
    "%time w2vhmm.fit(X_c, l_c)"
   ]
  },
  {
   "cell_type": "code",
   "execution_count": 16,
   "metadata": {
    "collapsed": false,
    "execution": {
     "iopub.execute_input": "2023-06-20T13:57:29.139253Z",
     "iopub.status.busy": "2023-06-20T13:57:29.138783Z",
     "iopub.status.idle": "2023-06-20T13:57:29.280282Z",
     "shell.execute_reply": "2023-06-20T13:57:29.279527Z"
    },
    "is_executing": true
   },
   "outputs": [
    {
     "ename": "ValueError",
     "evalue": "transmat_ rows must sum to 1 (got [0. 0. 0. 0. 0.])",
     "output_type": "error",
     "traceback": [
      "\u001b[0;31m---------------------------------------------------------------------------\u001b[0m",
      "\u001b[0;31mValueError\u001b[0m                                Traceback (most recent call last)",
      "Cell \u001b[0;32mIn[16], line 1\u001b[0m\n\u001b[0;32m----> 1\u001b[0m l1c \u001b[38;5;241m=\u001b[39m \u001b[43mw2vhmm\u001b[49m\u001b[38;5;241;43m.\u001b[39;49m\u001b[43mscore\u001b[49m\u001b[43m(\u001b[49m\u001b[43mX_c\u001b[49m\u001b[43m,\u001b[49m\u001b[43m \u001b[49m\u001b[43ml_c\u001b[49m\u001b[43m)\u001b[49m\n\u001b[1;32m      2\u001b[0m l2c \u001b[38;5;241m=\u001b[39m w2vhmm\u001b[38;5;241m.\u001b[39mscore(np\u001b[38;5;241m.\u001b[39mconcatenate([get_vec(e) \u001b[38;5;28;01mfor\u001b[39;00m s \u001b[38;5;129;01min\u001b[39;00m cs\u001b[38;5;241m.\u001b[39msessions \u001b[38;5;28;01mfor\u001b[39;00m e \u001b[38;5;129;01min\u001b[39;00m s\u001b[38;5;241m.\u001b[39mevent_list]), np\u001b[38;5;241m.\u001b[39marray(l_c) \u001b[38;5;241m+\u001b[39m \u001b[38;5;241m1\u001b[39m)\n\u001b[1;32m      3\u001b[0m (l2c \u001b[38;5;241m-\u001b[39m l1c) \u001b[38;5;241m/\u001b[39m \u001b[38;5;28mlen\u001b[39m(l_c)\n",
      "File \u001b[0;32m/ziob/klaudia/miniconda3/envs/preproc/lib/python3.10/site-packages/hmmlearn/base.py:259\u001b[0m, in \u001b[0;36mBaseHMM.score\u001b[0;34m(self, X, lengths)\u001b[0m\n\u001b[1;32m    236\u001b[0m \u001b[38;5;28;01mdef\u001b[39;00m \u001b[38;5;21mscore\u001b[39m(\u001b[38;5;28mself\u001b[39m, X, lengths\u001b[38;5;241m=\u001b[39m\u001b[38;5;28;01mNone\u001b[39;00m):\n\u001b[1;32m    237\u001b[0m \u001b[38;5;250m    \u001b[39m\u001b[38;5;124;03m\"\"\"\u001b[39;00m\n\u001b[1;32m    238\u001b[0m \u001b[38;5;124;03m    Compute the log probability under the model.\u001b[39;00m\n\u001b[1;32m    239\u001b[0m \n\u001b[0;32m   (...)\u001b[0m\n\u001b[1;32m    257\u001b[0m \u001b[38;5;124;03m    decode : Find most likely state sequence corresponding to ``X``.\u001b[39;00m\n\u001b[1;32m    258\u001b[0m \u001b[38;5;124;03m    \"\"\"\u001b[39;00m\n\u001b[0;32m--> 259\u001b[0m     \u001b[38;5;28;01mreturn\u001b[39;00m \u001b[38;5;28;43mself\u001b[39;49m\u001b[38;5;241;43m.\u001b[39;49m\u001b[43m_score\u001b[49m\u001b[43m(\u001b[49m\u001b[43mX\u001b[49m\u001b[43m,\u001b[49m\u001b[43m \u001b[49m\u001b[43mlengths\u001b[49m\u001b[43m,\u001b[49m\u001b[43m \u001b[49m\u001b[43mcompute_posteriors\u001b[49m\u001b[38;5;241;43m=\u001b[39;49m\u001b[38;5;28;43;01mFalse\u001b[39;49;00m\u001b[43m)\u001b[49m[\u001b[38;5;241m0\u001b[39m]\n",
      "File \u001b[0;32m/ziob/klaudia/miniconda3/envs/preproc/lib/python3.10/site-packages/hmmlearn/base.py:270\u001b[0m, in \u001b[0;36mBaseHMM._score\u001b[0;34m(self, X, lengths, compute_posteriors)\u001b[0m\n\u001b[1;32m    262\u001b[0m \u001b[38;5;250m\u001b[39m\u001b[38;5;124;03m\"\"\"\u001b[39;00m\n\u001b[1;32m    263\u001b[0m \u001b[38;5;124;03mHelper for `score` and `score_samples`.\u001b[39;00m\n\u001b[1;32m    264\u001b[0m \n\u001b[0;32m   (...)\u001b[0m\n\u001b[1;32m    267\u001b[0m \u001b[38;5;124;03mfor the latter).\u001b[39;00m\n\u001b[1;32m    268\u001b[0m \u001b[38;5;124;03m\"\"\"\u001b[39;00m\n\u001b[1;32m    269\u001b[0m _utils\u001b[38;5;241m.\u001b[39mcheck_is_fitted(\u001b[38;5;28mself\u001b[39m, \u001b[38;5;124m\"\u001b[39m\u001b[38;5;124mstartprob_\u001b[39m\u001b[38;5;124m\"\u001b[39m)\n\u001b[0;32m--> 270\u001b[0m \u001b[38;5;28;43mself\u001b[39;49m\u001b[38;5;241;43m.\u001b[39;49m\u001b[43m_check\u001b[49m\u001b[43m(\u001b[49m\u001b[43m)\u001b[49m\n\u001b[1;32m    272\u001b[0m X \u001b[38;5;241m=\u001b[39m check_array(X)\n\u001b[1;32m    273\u001b[0m impl \u001b[38;5;241m=\u001b[39m {\n\u001b[1;32m    274\u001b[0m     \u001b[38;5;124m\"\u001b[39m\u001b[38;5;124mscaling\u001b[39m\u001b[38;5;124m\"\u001b[39m: \u001b[38;5;28mself\u001b[39m\u001b[38;5;241m.\u001b[39m_score_scaling,\n\u001b[1;32m    275\u001b[0m     \u001b[38;5;124m\"\u001b[39m\u001b[38;5;124mlog\u001b[39m\u001b[38;5;124m\"\u001b[39m: \u001b[38;5;28mself\u001b[39m\u001b[38;5;241m.\u001b[39m_score_log,\n\u001b[1;32m    276\u001b[0m }[\u001b[38;5;28mself\u001b[39m\u001b[38;5;241m.\u001b[39mimplementation]\n",
      "File \u001b[0;32m/ziob/klaudia/miniconda3/envs/preproc/lib/python3.10/site-packages/hmmlearn/hmm.py:217\u001b[0m, in \u001b[0;36mGaussianHMM._check\u001b[0;34m(self)\u001b[0m\n\u001b[1;32m    216\u001b[0m \u001b[38;5;28;01mdef\u001b[39;00m \u001b[38;5;21m_check\u001b[39m(\u001b[38;5;28mself\u001b[39m):\n\u001b[0;32m--> 217\u001b[0m     \u001b[38;5;28;43msuper\u001b[39;49m\u001b[43m(\u001b[49m\u001b[43m)\u001b[49m\u001b[38;5;241;43m.\u001b[39;49m\u001b[43m_check\u001b[49m\u001b[43m(\u001b[49m\u001b[43m)\u001b[49m\n\u001b[1;32m    219\u001b[0m     \u001b[38;5;28mself\u001b[39m\u001b[38;5;241m.\u001b[39mmeans_ \u001b[38;5;241m=\u001b[39m np\u001b[38;5;241m.\u001b[39masarray(\u001b[38;5;28mself\u001b[39m\u001b[38;5;241m.\u001b[39mmeans_)\n\u001b[1;32m    220\u001b[0m     \u001b[38;5;28mself\u001b[39m\u001b[38;5;241m.\u001b[39mn_features \u001b[38;5;241m=\u001b[39m \u001b[38;5;28mself\u001b[39m\u001b[38;5;241m.\u001b[39mmeans_\u001b[38;5;241m.\u001b[39mshape[\u001b[38;5;241m1\u001b[39m]\n",
      "File \u001b[0;32m/ziob/klaudia/miniconda3/envs/preproc/lib/python3.10/site-packages/hmmlearn/base.py:644\u001b[0m, in \u001b[0;36mBaseHMM._check\u001b[0;34m(self)\u001b[0m\n\u001b[1;32m    641\u001b[0m \u001b[38;5;28;01mif\u001b[39;00m \u001b[38;5;28mself\u001b[39m\u001b[38;5;241m.\u001b[39mtransmat_\u001b[38;5;241m.\u001b[39mshape \u001b[38;5;241m!=\u001b[39m (\u001b[38;5;28mself\u001b[39m\u001b[38;5;241m.\u001b[39mn_components, \u001b[38;5;28mself\u001b[39m\u001b[38;5;241m.\u001b[39mn_components):\n\u001b[1;32m    642\u001b[0m     \u001b[38;5;28;01mraise\u001b[39;00m \u001b[38;5;167;01mValueError\u001b[39;00m(\n\u001b[1;32m    643\u001b[0m         \u001b[38;5;124m\"\u001b[39m\u001b[38;5;124mtransmat_ must have shape (n_components, n_components)\u001b[39m\u001b[38;5;124m\"\u001b[39m)\n\u001b[0;32m--> 644\u001b[0m \u001b[38;5;28;43mself\u001b[39;49m\u001b[38;5;241;43m.\u001b[39;49m\u001b[43m_check_sum_1\u001b[49m\u001b[43m(\u001b[49m\u001b[38;5;124;43m\"\u001b[39;49m\u001b[38;5;124;43mtransmat_\u001b[39;49m\u001b[38;5;124;43m\"\u001b[39;49m\u001b[43m)\u001b[49m\n",
      "File \u001b[0;32m/ziob/klaudia/miniconda3/envs/preproc/lib/python3.10/site-packages/hmmlearn/base.py:620\u001b[0m, in \u001b[0;36mBaseHMM._check_sum_1\u001b[0;34m(self, name)\u001b[0m\n\u001b[1;32m    618\u001b[0m s \u001b[38;5;241m=\u001b[39m \u001b[38;5;28mgetattr\u001b[39m(\u001b[38;5;28mself\u001b[39m, name)\u001b[38;5;241m.\u001b[39msum(axis\u001b[38;5;241m=\u001b[39m\u001b[38;5;241m-\u001b[39m\u001b[38;5;241m1\u001b[39m)\n\u001b[1;32m    619\u001b[0m \u001b[38;5;28;01mif\u001b[39;00m \u001b[38;5;129;01mnot\u001b[39;00m np\u001b[38;5;241m.\u001b[39mallclose(s, \u001b[38;5;241m1\u001b[39m):\n\u001b[0;32m--> 620\u001b[0m     \u001b[38;5;28;01mraise\u001b[39;00m \u001b[38;5;167;01mValueError\u001b[39;00m(\n\u001b[1;32m    621\u001b[0m         \u001b[38;5;124mf\u001b[39m\u001b[38;5;124m\"\u001b[39m\u001b[38;5;132;01m{\u001b[39;00mname\u001b[38;5;132;01m}\u001b[39;00m\u001b[38;5;124m must sum to 1 (got \u001b[39m\u001b[38;5;132;01m{\u001b[39;00ms\u001b[38;5;132;01m:\u001b[39;00m\u001b[38;5;124m.4f\u001b[39m\u001b[38;5;132;01m}\u001b[39;00m\u001b[38;5;124m)\u001b[39m\u001b[38;5;124m\"\u001b[39m \u001b[38;5;28;01mif\u001b[39;00m s\u001b[38;5;241m.\u001b[39mndim \u001b[38;5;241m==\u001b[39m \u001b[38;5;241m0\u001b[39m \u001b[38;5;28;01melse\u001b[39;00m\n\u001b[1;32m    622\u001b[0m         \u001b[38;5;124mf\u001b[39m\u001b[38;5;124m\"\u001b[39m\u001b[38;5;132;01m{\u001b[39;00mname\u001b[38;5;132;01m}\u001b[39;00m\u001b[38;5;124m rows must sum to 1 (got \u001b[39m\u001b[38;5;132;01m{\u001b[39;00ms\u001b[38;5;132;01m}\u001b[39;00m\u001b[38;5;124m)\u001b[39m\u001b[38;5;124m\"\u001b[39m \u001b[38;5;28;01mif\u001b[39;00m s\u001b[38;5;241m.\u001b[39mndim \u001b[38;5;241m==\u001b[39m \u001b[38;5;241m1\u001b[39m \u001b[38;5;28;01melse\u001b[39;00m\n\u001b[1;32m    623\u001b[0m         \u001b[38;5;124m\"\u001b[39m\u001b[38;5;124mExpected 1D or 2D array\u001b[39m\u001b[38;5;124m\"\u001b[39m)\n",
      "\u001b[0;31mValueError\u001b[0m: transmat_ rows must sum to 1 (got [0. 0. 0. 0. 0.])"
     ]
    }
   ],
   "source": [
    "l1c = w2vhmm.score(X_c, l_c)\n",
    "l2c = w2vhmm.score(np.concatenate([get_vec(e) for s in cs.sessions for e in s.event_list]), np.array(l_c) + 1)\n",
    "(l2c - l1c) / len(l_c)"
   ]
  },
  {
   "cell_type": "code",
   "execution_count": 17,
   "metadata": {
    "collapsed": false,
    "execution": {
     "iopub.execute_input": "2023-06-20T13:57:29.286305Z",
     "iopub.status.busy": "2023-06-20T13:57:29.285896Z",
     "iopub.status.idle": "2023-06-20T13:57:29.289895Z",
     "shell.execute_reply": "2023-06-20T13:57:29.288711Z"
    }
   },
   "outputs": [],
   "source": [
    "w2v_dhmm = DiscreteHMM(n_components=5, no_nodes=512, l=100, optimizer=\"Adam\", verbose=True)"
   ]
  },
  {
   "cell_type": "code",
   "execution_count": 18,
   "metadata": {
    "collapsed": false,
    "execution": {
     "iopub.execute_input": "2023-06-20T13:57:29.293268Z",
     "iopub.status.busy": "2023-06-20T13:57:29.292833Z",
     "iopub.status.idle": "2023-06-20T13:57:35.942401Z",
     "shell.execute_reply": "2023-06-20T13:57:35.941788Z"
    }
   },
   "outputs": [
    {
     "name": "stderr",
     "output_type": "stream",
     "text": [
      "/ziob/klaudia/miniconda3/envs/preproc/lib/python3.10/site-packages/sklearn/cluster/_kmeans.py:870: FutureWarning: The default value of `n_init` will change from 10 to 'auto' in 1.4. Set the value of `n_init` explicitly to suppress the warning\n",
      "  warnings.warn(\n"
     ]
    },
    {
     "ename": "AttributeError",
     "evalue": "'list' object has no attribute 'cumsum'",
     "output_type": "error",
     "traceback": [
      "\u001b[0;31m---------------------------------------------------------------------------\u001b[0m",
      "\u001b[0;31mAttributeError\u001b[0m                            Traceback (most recent call last)",
      "File \u001b[0;32m<timed eval>:1\u001b[0m\n",
      "File \u001b[0;32m/ziob/klaudia/FlowHMM/torchHMM/model/discretized_HMM.py:534\u001b[0m, in \u001b[0;36mDiscreteHMM.fit\u001b[0;34m(self, X, lengths, Xd, lengths_d, update_nodes, early_stopping)\u001b[0m\n\u001b[1;32m    532\u001b[0m     \u001b[38;5;28mself\u001b[39m\u001b[38;5;241m.\u001b[39m_fit_em_dense(X, lengths_d)\n\u001b[1;32m    533\u001b[0m \u001b[38;5;28;01melif\u001b[39;00m \u001b[38;5;28mself\u001b[39m\u001b[38;5;241m.\u001b[39mlearning_alg \u001b[38;5;241m==\u001b[39m \u001b[38;5;124m\"\u001b[39m\u001b[38;5;124mcooc\u001b[39m\u001b[38;5;124m\"\u001b[39m:\n\u001b[0;32m--> 534\u001b[0m     \u001b[38;5;28;43mself\u001b[39;49m\u001b[38;5;241;43m.\u001b[39;49m\u001b[43m_fit_cooc\u001b[49m\u001b[43m(\u001b[49m\u001b[43mXd\u001b[49m\u001b[43m,\u001b[49m\u001b[43m \u001b[49m\u001b[43mX\u001b[49m\u001b[43m,\u001b[49m\u001b[43m \u001b[49m\u001b[43mlengths_d\u001b[49m\u001b[43m,\u001b[49m\u001b[43m \u001b[49m\u001b[43mlengths\u001b[49m\u001b[43m,\u001b[49m\u001b[43m \u001b[49m\u001b[43mearly_stopping\u001b[49m\u001b[43m)\u001b[49m\n\u001b[1;32m    535\u001b[0m \u001b[38;5;28;01melse\u001b[39;00m:\n\u001b[1;32m    536\u001b[0m     _log\u001b[38;5;241m.\u001b[39merror(\n\u001b[1;32m    537\u001b[0m         \u001b[38;5;124mf\u001b[39m\u001b[38;5;124m\"\u001b[39m\u001b[38;5;124mLearning algorithm \u001b[39m\u001b[38;5;132;01m{\u001b[39;00m\u001b[38;5;28mself\u001b[39m\u001b[38;5;241m.\u001b[39mlearning_alg\u001b[38;5;132;01m}\u001b[39;00m\u001b[38;5;124m is not implemented. Select one of: \u001b[39m\u001b[38;5;132;01m{\u001b[39;00mLEARNING_ALGORITHMS\u001b[38;5;132;01m}\u001b[39;00m\u001b[38;5;124m\"\u001b[39m\n\u001b[1;32m    538\u001b[0m     )\n",
      "File \u001b[0;32m/ziob/klaudia/FlowHMM/torchHMM/model/discretized_HMM.py:470\u001b[0m, in \u001b[0;36mDiscreteHMM._fit_cooc\u001b[0;34m(self, Xd, Xc, lengthsd, lengthsc, early_stopping)\u001b[0m\n\u001b[1;32m    465\u001b[0m \u001b[38;5;66;03m# TODO: iterate\u001b[39;00m\n\u001b[1;32m    466\u001b[0m \u001b[38;5;66;03m# TODO: loguj do convergence monitora raz na jakiś czas\u001b[39;00m\n\u001b[1;32m    467\u001b[0m \u001b[38;5;66;03m# TODO: parametrize\u001b[39;00m\n\u001b[1;32m    469\u001b[0m \u001b[38;5;28mself\u001b[39m\u001b[38;5;241m.\u001b[39mmodel\u001b[38;5;241m.\u001b[39mto(device)\n\u001b[0;32m--> 470\u001b[0m cooc_matrix \u001b[38;5;241m=\u001b[39m torch\u001b[38;5;241m.\u001b[39mtensor(\u001b[38;5;28;43mself\u001b[39;49m\u001b[38;5;241;43m.\u001b[39;49m\u001b[43m_cooccurence\u001b[49m\u001b[43m(\u001b[49m\u001b[43mXd\u001b[49m\u001b[43m,\u001b[49m\u001b[43m \u001b[49m\u001b[43mlengthsd\u001b[49m\u001b[43m)\u001b[49m)\u001b[38;5;241m.\u001b[39mto(device)\n\u001b[1;32m    471\u001b[0m optimizer \u001b[38;5;241m=\u001b[39m \u001b[38;5;28mself\u001b[39m\u001b[38;5;241m.\u001b[39moptimizer(\u001b[38;5;28mself\u001b[39m\u001b[38;5;241m.\u001b[39mmodel\u001b[38;5;241m.\u001b[39mparameters(), \u001b[38;5;241m*\u001b[39m\u001b[38;5;241m*\u001b[39m\u001b[38;5;28mself\u001b[39m\u001b[38;5;241m.\u001b[39moptim_params)\n\u001b[1;32m    472\u001b[0m nodes_tensor \u001b[38;5;241m=\u001b[39m torch\u001b[38;5;241m.\u001b[39mTensor(\u001b[38;5;28mself\u001b[39m\u001b[38;5;241m.\u001b[39mnodes\u001b[38;5;241m.\u001b[39mT)\u001b[38;5;241m.\u001b[39mto(device)\n",
      "File \u001b[0;32m/ziob/klaudia/FlowHMM/torchHMM/model/discretized_HMM.py:444\u001b[0m, in \u001b[0;36mDiscreteHMM._cooccurence\u001b[0;34m(self, Xd, lengths)\u001b[0m\n\u001b[1;32m    442\u001b[0m \u001b[38;5;28;01mif\u001b[39;00m lengths \u001b[38;5;129;01mis\u001b[39;00m \u001b[38;5;28;01mNone\u001b[39;00m:\n\u001b[1;32m    443\u001b[0m     lengths \u001b[38;5;241m=\u001b[39m np\u001b[38;5;241m.\u001b[39marray([Xd\u001b[38;5;241m.\u001b[39mshape[\u001b[38;5;241m0\u001b[39m]])\n\u001b[0;32m--> 444\u001b[0m cont_seq_ind[\u001b[43mlengths\u001b[49m\u001b[38;5;241;43m.\u001b[39;49m\u001b[43mcumsum\u001b[49m() \u001b[38;5;241m-\u001b[39m \u001b[38;5;241m1\u001b[39m] \u001b[38;5;241m*\u001b[39m\u001b[38;5;241m=\u001b[39m \u001b[38;5;241m0\u001b[39m\n\u001b[1;32m    445\u001b[0m \u001b[38;5;28;01mfor\u001b[39;00m i \u001b[38;5;129;01min\u001b[39;00m \u001b[38;5;28mrange\u001b[39m(Xd\u001b[38;5;241m.\u001b[39mshape[\u001b[38;5;241m0\u001b[39m] \u001b[38;5;241m-\u001b[39m \u001b[38;5;241m1\u001b[39m):\n\u001b[1;32m    446\u001b[0m     cooc_matrix[Xd[i], Xd[i \u001b[38;5;241m+\u001b[39m \u001b[38;5;241m1\u001b[39m]] \u001b[38;5;241m+\u001b[39m\u001b[38;5;241m=\u001b[39m cont_seq_ind[i]\n",
      "\u001b[0;31mAttributeError\u001b[0m: 'list' object has no attribute 'cumsum'"
     ]
    }
   ],
   "source": [
    "%time w2v_dhmm.fit(X_c, l_c)"
   ]
  },
  {
   "cell_type": "code",
   "execution_count": 19,
   "metadata": {
    "collapsed": false,
    "execution": {
     "iopub.execute_input": "2023-06-20T13:57:35.948289Z",
     "iopub.status.busy": "2023-06-20T13:57:35.947857Z",
     "iopub.status.idle": "2023-06-20T13:58:01.589204Z",
     "shell.execute_reply": "2023-06-20T13:58:01.588480Z"
    }
   },
   "outputs": [
    {
     "ename": "ValueError",
     "evalue": "more than 101294 samples in lengths array [2 2 2 ... 2 2 2]",
     "output_type": "error",
     "traceback": [
      "\u001b[0;31m---------------------------------------------------------------------------\u001b[0m",
      "\u001b[0;31mValueError\u001b[0m                                Traceback (most recent call last)",
      "Cell \u001b[0;32mIn[19], line 2\u001b[0m\n\u001b[1;32m      1\u001b[0m l1c_d \u001b[38;5;241m=\u001b[39m w2v_dhmm\u001b[38;5;241m.\u001b[39mscore(X_c, l_c)\n\u001b[0;32m----> 2\u001b[0m l2c_d \u001b[38;5;241m=\u001b[39m \u001b[43mw2v_dhmm\u001b[49m\u001b[38;5;241;43m.\u001b[39;49m\u001b[43mscore\u001b[49m\u001b[43m(\u001b[49m\u001b[43mnp\u001b[49m\u001b[38;5;241;43m.\u001b[39;49m\u001b[43mconcatenate\u001b[49m\u001b[43m(\u001b[49m\u001b[43m[\u001b[49m\u001b[43mget_vec\u001b[49m\u001b[43m(\u001b[49m\u001b[43me\u001b[49m\u001b[43m)\u001b[49m\u001b[43m \u001b[49m\u001b[38;5;28;43;01mfor\u001b[39;49;00m\u001b[43m \u001b[49m\u001b[43ms\u001b[49m\u001b[43m \u001b[49m\u001b[38;5;129;43;01min\u001b[39;49;00m\u001b[43m \u001b[49m\u001b[43mcs\u001b[49m\u001b[38;5;241;43m.\u001b[39;49m\u001b[43msessions\u001b[49m\u001b[43m \u001b[49m\u001b[38;5;28;43;01mfor\u001b[39;49;00m\u001b[43m \u001b[49m\u001b[43me\u001b[49m\u001b[43m \u001b[49m\u001b[38;5;129;43;01min\u001b[39;49;00m\u001b[43m \u001b[49m\u001b[43ms\u001b[49m\u001b[38;5;241;43m.\u001b[39;49m\u001b[43mevent_list\u001b[49m\u001b[43m]\u001b[49m\u001b[43m)\u001b[49m\u001b[43m,\u001b[49m\u001b[43m \u001b[49m\u001b[43mnp\u001b[49m\u001b[38;5;241;43m.\u001b[39;49m\u001b[43marray\u001b[49m\u001b[43m(\u001b[49m\u001b[43ml_c\u001b[49m\u001b[43m)\u001b[49m\u001b[43m \u001b[49m\u001b[38;5;241;43m+\u001b[39;49m\u001b[43m \u001b[49m\u001b[38;5;241;43m1\u001b[39;49m\u001b[43m)\u001b[49m\n\u001b[1;32m      3\u001b[0m (l2c_d \u001b[38;5;241m-\u001b[39m l1c_d) \u001b[38;5;241m/\u001b[39m \u001b[38;5;28mlen\u001b[39m(l_c)\n",
      "File \u001b[0;32m/ziob/klaudia/miniconda3/envs/preproc/lib/python3.10/site-packages/hmmlearn/base.py:259\u001b[0m, in \u001b[0;36mBaseHMM.score\u001b[0;34m(self, X, lengths)\u001b[0m\n\u001b[1;32m    236\u001b[0m \u001b[38;5;28;01mdef\u001b[39;00m \u001b[38;5;21mscore\u001b[39m(\u001b[38;5;28mself\u001b[39m, X, lengths\u001b[38;5;241m=\u001b[39m\u001b[38;5;28;01mNone\u001b[39;00m):\n\u001b[1;32m    237\u001b[0m \u001b[38;5;250m    \u001b[39m\u001b[38;5;124;03m\"\"\"\u001b[39;00m\n\u001b[1;32m    238\u001b[0m \u001b[38;5;124;03m    Compute the log probability under the model.\u001b[39;00m\n\u001b[1;32m    239\u001b[0m \n\u001b[0;32m   (...)\u001b[0m\n\u001b[1;32m    257\u001b[0m \u001b[38;5;124;03m    decode : Find most likely state sequence corresponding to ``X``.\u001b[39;00m\n\u001b[1;32m    258\u001b[0m \u001b[38;5;124;03m    \"\"\"\u001b[39;00m\n\u001b[0;32m--> 259\u001b[0m     \u001b[38;5;28;01mreturn\u001b[39;00m \u001b[38;5;28;43mself\u001b[39;49m\u001b[38;5;241;43m.\u001b[39;49m\u001b[43m_score\u001b[49m\u001b[43m(\u001b[49m\u001b[43mX\u001b[49m\u001b[43m,\u001b[49m\u001b[43m \u001b[49m\u001b[43mlengths\u001b[49m\u001b[43m,\u001b[49m\u001b[43m \u001b[49m\u001b[43mcompute_posteriors\u001b[49m\u001b[38;5;241;43m=\u001b[39;49m\u001b[38;5;28;43;01mFalse\u001b[39;49;00m\u001b[43m)\u001b[49m[\u001b[38;5;241m0\u001b[39m]\n",
      "File \u001b[0;32m/ziob/klaudia/miniconda3/envs/preproc/lib/python3.10/site-packages/hmmlearn/base.py:277\u001b[0m, in \u001b[0;36mBaseHMM._score\u001b[0;34m(self, X, lengths, compute_posteriors)\u001b[0m\n\u001b[1;32m    272\u001b[0m X \u001b[38;5;241m=\u001b[39m check_array(X)\n\u001b[1;32m    273\u001b[0m impl \u001b[38;5;241m=\u001b[39m {\n\u001b[1;32m    274\u001b[0m     \u001b[38;5;124m\"\u001b[39m\u001b[38;5;124mscaling\u001b[39m\u001b[38;5;124m\"\u001b[39m: \u001b[38;5;28mself\u001b[39m\u001b[38;5;241m.\u001b[39m_score_scaling,\n\u001b[1;32m    275\u001b[0m     \u001b[38;5;124m\"\u001b[39m\u001b[38;5;124mlog\u001b[39m\u001b[38;5;124m\"\u001b[39m: \u001b[38;5;28mself\u001b[39m\u001b[38;5;241m.\u001b[39m_score_log,\n\u001b[1;32m    276\u001b[0m }[\u001b[38;5;28mself\u001b[39m\u001b[38;5;241m.\u001b[39mimplementation]\n\u001b[0;32m--> 277\u001b[0m \u001b[38;5;28;01mreturn\u001b[39;00m \u001b[43mimpl\u001b[49m\u001b[43m(\u001b[49m\n\u001b[1;32m    278\u001b[0m \u001b[43m    \u001b[49m\u001b[43mX\u001b[49m\u001b[38;5;241;43m=\u001b[39;49m\u001b[43mX\u001b[49m\u001b[43m,\u001b[49m\u001b[43m \u001b[49m\u001b[43mlengths\u001b[49m\u001b[38;5;241;43m=\u001b[39;49m\u001b[43mlengths\u001b[49m\u001b[43m,\u001b[49m\u001b[43m \u001b[49m\u001b[43mcompute_posteriors\u001b[49m\u001b[38;5;241;43m=\u001b[39;49m\u001b[43mcompute_posteriors\u001b[49m\u001b[43m)\u001b[49m\n",
      "File \u001b[0;32m/ziob/klaudia/miniconda3/envs/preproc/lib/python3.10/site-packages/hmmlearn/base.py:288\u001b[0m, in \u001b[0;36mBaseHMM._score_log\u001b[0;34m(self, X, lengths, compute_posteriors)\u001b[0m\n\u001b[1;32m    286\u001b[0m log_prob \u001b[38;5;241m=\u001b[39m \u001b[38;5;241m0\u001b[39m\n\u001b[1;32m    287\u001b[0m sub_posteriors \u001b[38;5;241m=\u001b[39m [np\u001b[38;5;241m.\u001b[39mempty((\u001b[38;5;241m0\u001b[39m, \u001b[38;5;28mself\u001b[39m\u001b[38;5;241m.\u001b[39mn_components))]\n\u001b[0;32m--> 288\u001b[0m \u001b[38;5;28;01mfor\u001b[39;00m sub_X \u001b[38;5;129;01min\u001b[39;00m \u001b[43m_utils\u001b[49m\u001b[38;5;241;43m.\u001b[39;49m\u001b[43msplit_X_lengths\u001b[49m\u001b[43m(\u001b[49m\u001b[43mX\u001b[49m\u001b[43m,\u001b[49m\u001b[43m \u001b[49m\u001b[43mlengths\u001b[49m\u001b[43m)\u001b[49m:\n\u001b[1;32m    289\u001b[0m     log_frameprob \u001b[38;5;241m=\u001b[39m \u001b[38;5;28mself\u001b[39m\u001b[38;5;241m.\u001b[39m_compute_log_likelihood(sub_X)\n\u001b[1;32m    290\u001b[0m     log_probij, fwdlattice \u001b[38;5;241m=\u001b[39m _hmmc\u001b[38;5;241m.\u001b[39mforward_log(\n\u001b[1;32m    291\u001b[0m         \u001b[38;5;28mself\u001b[39m\u001b[38;5;241m.\u001b[39mstartprob_, \u001b[38;5;28mself\u001b[39m\u001b[38;5;241m.\u001b[39mtransmat_, log_frameprob)\n",
      "File \u001b[0;32m/ziob/klaudia/miniconda3/envs/preproc/lib/python3.10/site-packages/hmmlearn/_utils.py:16\u001b[0m, in \u001b[0;36msplit_X_lengths\u001b[0;34m(X, lengths)\u001b[0m\n\u001b[1;32m     14\u001b[0m n_samples \u001b[38;5;241m=\u001b[39m \u001b[38;5;28mlen\u001b[39m(X)\n\u001b[1;32m     15\u001b[0m \u001b[38;5;28;01mif\u001b[39;00m cs[\u001b[38;5;241m-\u001b[39m\u001b[38;5;241m1\u001b[39m] \u001b[38;5;241m>\u001b[39m n_samples:\n\u001b[0;32m---> 16\u001b[0m     \u001b[38;5;28;01mraise\u001b[39;00m \u001b[38;5;167;01mValueError\u001b[39;00m(\n\u001b[1;32m     17\u001b[0m         \u001b[38;5;124mf\u001b[39m\u001b[38;5;124m\"\u001b[39m\u001b[38;5;124mmore than \u001b[39m\u001b[38;5;132;01m{\u001b[39;00mn_samples\u001b[38;5;132;01m}\u001b[39;00m\u001b[38;5;124m samples in lengths array \u001b[39m\u001b[38;5;132;01m{\u001b[39;00mlengths\u001b[38;5;132;01m}\u001b[39;00m\u001b[38;5;124m\"\u001b[39m)\n\u001b[1;32m     18\u001b[0m \u001b[38;5;28;01melif\u001b[39;00m cs[\u001b[38;5;241m-\u001b[39m\u001b[38;5;241m1\u001b[39m] \u001b[38;5;241m!=\u001b[39m n_samples:\n\u001b[1;32m     19\u001b[0m     warnings\u001b[38;5;241m.\u001b[39mwarn(\n\u001b[1;32m     20\u001b[0m         \u001b[38;5;124mf\u001b[39m\u001b[38;5;124m\"\u001b[39m\u001b[38;5;124mless that \u001b[39m\u001b[38;5;132;01m{\u001b[39;00mn_samples\u001b[38;5;132;01m}\u001b[39;00m\u001b[38;5;124m samples in lengths array \u001b[39m\u001b[38;5;132;01m{\u001b[39;00mlengths\u001b[38;5;132;01m}\u001b[39;00m\u001b[38;5;124m; \u001b[39m\u001b[38;5;124m\"\u001b[39m\n\u001b[1;32m     21\u001b[0m         \u001b[38;5;124mf\u001b[39m\u001b[38;5;124m\"\u001b[39m\u001b[38;5;124msupport for silently dropping samples is deprecated and \u001b[39m\u001b[38;5;124m\"\u001b[39m\n\u001b[1;32m     22\u001b[0m         \u001b[38;5;124mf\u001b[39m\u001b[38;5;124m\"\u001b[39m\u001b[38;5;124mwill be removed\u001b[39m\u001b[38;5;124m\"\u001b[39m, \u001b[38;5;167;01mDeprecationWarning\u001b[39;00m, stacklevel\u001b[38;5;241m=\u001b[39m\u001b[38;5;241m3\u001b[39m)\n",
      "\u001b[0;31mValueError\u001b[0m: more than 101294 samples in lengths array [2 2 2 ... 2 2 2]"
     ]
    }
   ],
   "source": [
    "l1c_d = w2v_dhmm.score(X_c, l_c)\n",
    "l2c_d = w2v_dhmm.score(np.concatenate([get_vec(e) for s in cs.sessions for e in s.event_list]), np.array(l_c) + 1)\n",
    "(l2c_d - l1c_d) / len(l_c)"
   ]
  },
  {
   "cell_type": "code",
   "execution_count": 20,
   "metadata": {
    "collapsed": false,
    "execution": {
     "iopub.execute_input": "2023-06-20T13:58:01.595503Z",
     "iopub.status.busy": "2023-06-20T13:58:01.594994Z",
     "iopub.status.idle": "2023-06-20T13:58:07.172047Z",
     "shell.execute_reply": "2023-06-20T13:58:07.170468Z"
    }
   },
   "outputs": [
    {
     "ename": "AttributeError",
     "evalue": "'list' object has no attribute 'cumsum'",
     "output_type": "error",
     "traceback": [
      "\u001b[0;31m---------------------------------------------------------------------------\u001b[0m",
      "\u001b[0;31mAttributeError\u001b[0m                            Traceback (most recent call last)",
      "File \u001b[0;32m<timed eval>:1\u001b[0m\n",
      "File \u001b[0;32m/ziob/klaudia/FlowHMM/torchHMM/model/discretized_flow_HMM.py:516\u001b[0m, in \u001b[0;36mFlowHMM.fit\u001b[0;34m(self, X, lengths, Xd, lengths_d, update_nodes, early_stopping)\u001b[0m\n\u001b[1;32m    514\u001b[0m     \u001b[38;5;28mself\u001b[39m\u001b[38;5;241m.\u001b[39m_fit_em_dense(X, lengths_d)\n\u001b[1;32m    515\u001b[0m \u001b[38;5;28;01melif\u001b[39;00m \u001b[38;5;28mself\u001b[39m\u001b[38;5;241m.\u001b[39mlearning_alg \u001b[38;5;241m==\u001b[39m \u001b[38;5;124m\"\u001b[39m\u001b[38;5;124mcooc\u001b[39m\u001b[38;5;124m\"\u001b[39m:\n\u001b[0;32m--> 516\u001b[0m     \u001b[38;5;28;43mself\u001b[39;49m\u001b[38;5;241;43m.\u001b[39;49m\u001b[43m_fit_cooc\u001b[49m\u001b[43m(\u001b[49m\u001b[43mXd\u001b[49m\u001b[43m,\u001b[49m\u001b[43m \u001b[49m\u001b[43mX\u001b[49m\u001b[43m,\u001b[49m\u001b[43m \u001b[49m\u001b[43mlengths_d\u001b[49m\u001b[43m,\u001b[49m\u001b[43m \u001b[49m\u001b[43mlengths\u001b[49m\u001b[43m,\u001b[49m\u001b[43m \u001b[49m\u001b[43mearly_stopping\u001b[49m\u001b[43m)\u001b[49m\n\u001b[1;32m    517\u001b[0m \u001b[38;5;28;01melse\u001b[39;00m:\n\u001b[1;32m    518\u001b[0m     _log\u001b[38;5;241m.\u001b[39merror(\n\u001b[1;32m    519\u001b[0m         \u001b[38;5;124mf\u001b[39m\u001b[38;5;124m\"\u001b[39m\u001b[38;5;124mLearning algorithm \u001b[39m\u001b[38;5;132;01m{\u001b[39;00m\u001b[38;5;28mself\u001b[39m\u001b[38;5;241m.\u001b[39mlearning_alg\u001b[38;5;132;01m}\u001b[39;00m\u001b[38;5;124m is not implemented. Select one of: \u001b[39m\u001b[38;5;132;01m{\u001b[39;00mLEARNING_ALGORITHMS\u001b[38;5;132;01m}\u001b[39;00m\u001b[38;5;124m\"\u001b[39m\n\u001b[1;32m    520\u001b[0m     )\n",
      "File \u001b[0;32m/ziob/klaudia/FlowHMM/torchHMM/model/discretized_flow_HMM.py:441\u001b[0m, in \u001b[0;36mFlowHMM._fit_cooc\u001b[0;34m(self, Xd, Xc, lengthsd, lengthsc, early_stopping)\u001b[0m\n\u001b[1;32m    436\u001b[0m \u001b[38;5;66;03m# TODO: iterate\u001b[39;00m\n\u001b[1;32m    437\u001b[0m \u001b[38;5;66;03m# TODO: loguj do convergence monitora raz na jakiś czas\u001b[39;00m\n\u001b[1;32m    438\u001b[0m \u001b[38;5;66;03m# TODO: parametrize\u001b[39;00m\n\u001b[1;32m    440\u001b[0m \u001b[38;5;28mself\u001b[39m\u001b[38;5;241m.\u001b[39mmodel\u001b[38;5;241m.\u001b[39mto(device)\n\u001b[0;32m--> 441\u001b[0m cooc_matrix \u001b[38;5;241m=\u001b[39m torch\u001b[38;5;241m.\u001b[39mtensor(\u001b[38;5;28;43mself\u001b[39;49m\u001b[38;5;241;43m.\u001b[39;49m\u001b[43m_cooccurence\u001b[49m\u001b[43m(\u001b[49m\u001b[43mXd\u001b[49m\u001b[43m,\u001b[49m\u001b[43m \u001b[49m\u001b[43mlengthsd\u001b[49m\u001b[43m)\u001b[49m)\u001b[38;5;241m.\u001b[39mto(device)\n\u001b[1;32m    442\u001b[0m optimizer \u001b[38;5;241m=\u001b[39m \u001b[38;5;28mself\u001b[39m\u001b[38;5;241m.\u001b[39moptimizer(\u001b[38;5;28mself\u001b[39m\u001b[38;5;241m.\u001b[39mmodel\u001b[38;5;241m.\u001b[39mparameters(), \u001b[38;5;241m*\u001b[39m\u001b[38;5;241m*\u001b[39m\u001b[38;5;28mself\u001b[39m\u001b[38;5;241m.\u001b[39moptim_params)\n\u001b[1;32m    443\u001b[0m nodes_tensor \u001b[38;5;241m=\u001b[39m torch\u001b[38;5;241m.\u001b[39mTensor(\u001b[38;5;28mself\u001b[39m\u001b[38;5;241m.\u001b[39mnodes\u001b[38;5;241m.\u001b[39mT)\u001b[38;5;241m.\u001b[39mto(device)\n",
      "File \u001b[0;32m/ziob/klaudia/FlowHMM/torchHMM/model/discretized_flow_HMM.py:415\u001b[0m, in \u001b[0;36mFlowHMM._cooccurence\u001b[0;34m(self, Xd, lengths)\u001b[0m\n\u001b[1;32m    413\u001b[0m \u001b[38;5;28;01mif\u001b[39;00m lengths \u001b[38;5;129;01mis\u001b[39;00m \u001b[38;5;28;01mNone\u001b[39;00m:\n\u001b[1;32m    414\u001b[0m     lengths \u001b[38;5;241m=\u001b[39m np\u001b[38;5;241m.\u001b[39marray([Xd\u001b[38;5;241m.\u001b[39mshape[\u001b[38;5;241m0\u001b[39m]])\n\u001b[0;32m--> 415\u001b[0m cont_seq_ind[\u001b[43mlengths\u001b[49m\u001b[38;5;241;43m.\u001b[39;49m\u001b[43mcumsum\u001b[49m() \u001b[38;5;241m-\u001b[39m \u001b[38;5;241m1\u001b[39m] \u001b[38;5;241m*\u001b[39m\u001b[38;5;241m=\u001b[39m \u001b[38;5;241m0\u001b[39m\n\u001b[1;32m    416\u001b[0m \u001b[38;5;28;01mfor\u001b[39;00m i \u001b[38;5;129;01min\u001b[39;00m \u001b[38;5;28mrange\u001b[39m(Xd\u001b[38;5;241m.\u001b[39mshape[\u001b[38;5;241m0\u001b[39m] \u001b[38;5;241m-\u001b[39m \u001b[38;5;241m1\u001b[39m):\n\u001b[1;32m    417\u001b[0m     cooc_matrix[Xd[i], Xd[i \u001b[38;5;241m+\u001b[39m \u001b[38;5;241m1\u001b[39m]] \u001b[38;5;241m+\u001b[39m\u001b[38;5;241m=\u001b[39m cont_seq_ind[i]\n",
      "\u001b[0;31mAttributeError\u001b[0m: 'list' object has no attribute 'cumsum'"
     ]
    },
    {
     "ename": "IndexError",
     "evalue": "arrays used as indices must be of integer (or boolean) type",
     "output_type": "error",
     "traceback": [
      "\u001b[0;31m---------------------------------------------------------------------------\u001b[0m",
      "\u001b[0;31mIndexError\u001b[0m                                Traceback (most recent call last)",
      "Cell \u001b[0;32mIn[20], line 3\u001b[0m\n\u001b[1;32m      1\u001b[0m w2v_fhmm \u001b[38;5;241m=\u001b[39m FlowHMM(n_components\u001b[38;5;241m=\u001b[39m\u001b[38;5;241m5\u001b[39m, no_nodes\u001b[38;5;241m=\u001b[39m\u001b[38;5;241m512\u001b[39m, l\u001b[38;5;241m=\u001b[39m\u001b[38;5;241m100\u001b[39m, optimizer\u001b[38;5;241m=\u001b[39m\u001b[38;5;124m\"\u001b[39m\u001b[38;5;124mAdam\u001b[39m\u001b[38;5;124m\"\u001b[39m, verbose\u001b[38;5;241m=\u001b[39m\u001b[38;5;28;01mTrue\u001b[39;00m)\n\u001b[1;32m      2\u001b[0m get_ipython()\u001b[38;5;241m.\u001b[39mrun_line_magic(\u001b[38;5;124m'\u001b[39m\u001b[38;5;124mtime\u001b[39m\u001b[38;5;124m'\u001b[39m, \u001b[38;5;124m'\u001b[39m\u001b[38;5;124mw2v_fhmm.fit(X_c, l_c)\u001b[39m\u001b[38;5;124m'\u001b[39m)\n\u001b[0;32m----> 3\u001b[0m l1c_f \u001b[38;5;241m=\u001b[39m \u001b[43mw2v_fhmm\u001b[49m\u001b[38;5;241;43m.\u001b[39;49m\u001b[43mscore\u001b[49m\u001b[43m(\u001b[49m\u001b[43mX_c\u001b[49m\u001b[43m,\u001b[49m\u001b[43m \u001b[49m\u001b[43ml_c\u001b[49m\u001b[43m)\u001b[49m\n\u001b[1;32m      4\u001b[0m l2c_f \u001b[38;5;241m=\u001b[39m w2v_fhmm\u001b[38;5;241m.\u001b[39mscore(np\u001b[38;5;241m.\u001b[39mconcatenate([get_vec(e) \u001b[38;5;28;01mfor\u001b[39;00m s \u001b[38;5;129;01min\u001b[39;00m cs\u001b[38;5;241m.\u001b[39msessions \u001b[38;5;28;01mfor\u001b[39;00m e \u001b[38;5;129;01min\u001b[39;00m s\u001b[38;5;241m.\u001b[39mevent_list]), np\u001b[38;5;241m.\u001b[39marray(l_c) \u001b[38;5;241m+\u001b[39m \u001b[38;5;241m1\u001b[39m)\n\u001b[1;32m      5\u001b[0m (l2c_f \u001b[38;5;241m-\u001b[39m l1c_f) \u001b[38;5;241m/\u001b[39m \u001b[38;5;28mlen\u001b[39m(l_c)\n",
      "File \u001b[0;32m/ziob/klaudia/miniconda3/envs/preproc/lib/python3.10/site-packages/hmmlearn/hmm.py:517\u001b[0m, in \u001b[0;36m_categoricalhmm_fix_docstring_shape.<locals>.<lambda>\u001b[0;34m(*args, **kwargs)\u001b[0m\n\u001b[1;32m    514\u001b[0m     wrapper \u001b[38;5;241m=\u001b[39m func\n\u001b[1;32m    515\u001b[0m \u001b[38;5;28;01melse\u001b[39;00m:\n\u001b[1;32m    516\u001b[0m     wrapper \u001b[38;5;241m=\u001b[39m functools\u001b[38;5;241m.\u001b[39mwraps(func)(\n\u001b[0;32m--> 517\u001b[0m         \u001b[38;5;28;01mlambda\u001b[39;00m \u001b[38;5;241m*\u001b[39margs, \u001b[38;5;241m*\u001b[39m\u001b[38;5;241m*\u001b[39mkwargs: \u001b[43mfunc\u001b[49m\u001b[43m(\u001b[49m\u001b[38;5;241;43m*\u001b[39;49m\u001b[43margs\u001b[49m\u001b[43m,\u001b[49m\u001b[43m \u001b[49m\u001b[38;5;241;43m*\u001b[39;49m\u001b[38;5;241;43m*\u001b[39;49m\u001b[43mkwargs\u001b[49m\u001b[43m)\u001b[49m)\n\u001b[1;32m    518\u001b[0m     wrapper\u001b[38;5;241m.\u001b[39m\u001b[38;5;18m__doc__\u001b[39m \u001b[38;5;241m=\u001b[39m (\n\u001b[1;32m    519\u001b[0m         doc\u001b[38;5;241m.\u001b[39mreplace(\u001b[38;5;124m\"\u001b[39m\u001b[38;5;124m(n_samples, n_features)\u001b[39m\u001b[38;5;124m\"\u001b[39m, \u001b[38;5;124m\"\u001b[39m\u001b[38;5;124m(n_samples, 1)\u001b[39m\u001b[38;5;124m\"\u001b[39m)\n\u001b[1;32m    520\u001b[0m         \u001b[38;5;241m+\u001b[39m _CATEGORICALHMM_DOC_SUFFIX)\n\u001b[1;32m    521\u001b[0m \u001b[38;5;28;01mreturn\u001b[39;00m wrapper\n",
      "File \u001b[0;32m/ziob/klaudia/miniconda3/envs/preproc/lib/python3.10/site-packages/hmmlearn/base.py:259\u001b[0m, in \u001b[0;36mBaseHMM.score\u001b[0;34m(self, X, lengths)\u001b[0m\n\u001b[1;32m    236\u001b[0m \u001b[38;5;28;01mdef\u001b[39;00m \u001b[38;5;21mscore\u001b[39m(\u001b[38;5;28mself\u001b[39m, X, lengths\u001b[38;5;241m=\u001b[39m\u001b[38;5;28;01mNone\u001b[39;00m):\n\u001b[1;32m    237\u001b[0m \u001b[38;5;250m    \u001b[39m\u001b[38;5;124;03m\"\"\"\u001b[39;00m\n\u001b[1;32m    238\u001b[0m \u001b[38;5;124;03m    Compute the log probability under the model.\u001b[39;00m\n\u001b[1;32m    239\u001b[0m \n\u001b[0;32m   (...)\u001b[0m\n\u001b[1;32m    257\u001b[0m \u001b[38;5;124;03m    decode : Find most likely state sequence corresponding to ``X``.\u001b[39;00m\n\u001b[1;32m    258\u001b[0m \u001b[38;5;124;03m    \"\"\"\u001b[39;00m\n\u001b[0;32m--> 259\u001b[0m     \u001b[38;5;28;01mreturn\u001b[39;00m \u001b[38;5;28;43mself\u001b[39;49m\u001b[38;5;241;43m.\u001b[39;49m\u001b[43m_score\u001b[49m\u001b[43m(\u001b[49m\u001b[43mX\u001b[49m\u001b[43m,\u001b[49m\u001b[43m \u001b[49m\u001b[43mlengths\u001b[49m\u001b[43m,\u001b[49m\u001b[43m \u001b[49m\u001b[43mcompute_posteriors\u001b[49m\u001b[38;5;241;43m=\u001b[39;49m\u001b[38;5;28;43;01mFalse\u001b[39;49;00m\u001b[43m)\u001b[49m[\u001b[38;5;241m0\u001b[39m]\n",
      "File \u001b[0;32m/ziob/klaudia/miniconda3/envs/preproc/lib/python3.10/site-packages/hmmlearn/base.py:277\u001b[0m, in \u001b[0;36mBaseHMM._score\u001b[0;34m(self, X, lengths, compute_posteriors)\u001b[0m\n\u001b[1;32m    272\u001b[0m X \u001b[38;5;241m=\u001b[39m check_array(X)\n\u001b[1;32m    273\u001b[0m impl \u001b[38;5;241m=\u001b[39m {\n\u001b[1;32m    274\u001b[0m     \u001b[38;5;124m\"\u001b[39m\u001b[38;5;124mscaling\u001b[39m\u001b[38;5;124m\"\u001b[39m: \u001b[38;5;28mself\u001b[39m\u001b[38;5;241m.\u001b[39m_score_scaling,\n\u001b[1;32m    275\u001b[0m     \u001b[38;5;124m\"\u001b[39m\u001b[38;5;124mlog\u001b[39m\u001b[38;5;124m\"\u001b[39m: \u001b[38;5;28mself\u001b[39m\u001b[38;5;241m.\u001b[39m_score_log,\n\u001b[1;32m    276\u001b[0m }[\u001b[38;5;28mself\u001b[39m\u001b[38;5;241m.\u001b[39mimplementation]\n\u001b[0;32m--> 277\u001b[0m \u001b[38;5;28;01mreturn\u001b[39;00m \u001b[43mimpl\u001b[49m\u001b[43m(\u001b[49m\n\u001b[1;32m    278\u001b[0m \u001b[43m    \u001b[49m\u001b[43mX\u001b[49m\u001b[38;5;241;43m=\u001b[39;49m\u001b[43mX\u001b[49m\u001b[43m,\u001b[49m\u001b[43m \u001b[49m\u001b[43mlengths\u001b[49m\u001b[38;5;241;43m=\u001b[39;49m\u001b[43mlengths\u001b[49m\u001b[43m,\u001b[49m\u001b[43m \u001b[49m\u001b[43mcompute_posteriors\u001b[49m\u001b[38;5;241;43m=\u001b[39;49m\u001b[43mcompute_posteriors\u001b[49m\u001b[43m)\u001b[49m\n",
      "File \u001b[0;32m/ziob/klaudia/miniconda3/envs/preproc/lib/python3.10/site-packages/hmmlearn/base.py:289\u001b[0m, in \u001b[0;36mBaseHMM._score_log\u001b[0;34m(self, X, lengths, compute_posteriors)\u001b[0m\n\u001b[1;32m    287\u001b[0m sub_posteriors \u001b[38;5;241m=\u001b[39m [np\u001b[38;5;241m.\u001b[39mempty((\u001b[38;5;241m0\u001b[39m, \u001b[38;5;28mself\u001b[39m\u001b[38;5;241m.\u001b[39mn_components))]\n\u001b[1;32m    288\u001b[0m \u001b[38;5;28;01mfor\u001b[39;00m sub_X \u001b[38;5;129;01min\u001b[39;00m _utils\u001b[38;5;241m.\u001b[39msplit_X_lengths(X, lengths):\n\u001b[0;32m--> 289\u001b[0m     log_frameprob \u001b[38;5;241m=\u001b[39m \u001b[38;5;28;43mself\u001b[39;49m\u001b[38;5;241;43m.\u001b[39;49m\u001b[43m_compute_log_likelihood\u001b[49m\u001b[43m(\u001b[49m\u001b[43msub_X\u001b[49m\u001b[43m)\u001b[49m\n\u001b[1;32m    290\u001b[0m     log_probij, fwdlattice \u001b[38;5;241m=\u001b[39m _hmmc\u001b[38;5;241m.\u001b[39mforward_log(\n\u001b[1;32m    291\u001b[0m         \u001b[38;5;28mself\u001b[39m\u001b[38;5;241m.\u001b[39mstartprob_, \u001b[38;5;28mself\u001b[39m\u001b[38;5;241m.\u001b[39mtransmat_, log_frameprob)\n\u001b[1;32m    292\u001b[0m     log_prob \u001b[38;5;241m+\u001b[39m\u001b[38;5;241m=\u001b[39m log_probij\n",
      "File \u001b[0;32m/ziob/klaudia/miniconda3/envs/preproc/lib/python3.10/site-packages/hmmlearn/base.py:684\u001b[0m, in \u001b[0;36mBaseHMM._compute_log_likelihood\u001b[0;34m(self, X)\u001b[0m\n\u001b[1;32m    668\u001b[0m \u001b[38;5;250m\u001b[39m\u001b[38;5;124;03m\"\"\"\u001b[39;00m\n\u001b[1;32m    669\u001b[0m \u001b[38;5;124;03mCompute per-component emission log probability under the model.\u001b[39;00m\n\u001b[1;32m    670\u001b[0m \n\u001b[0;32m   (...)\u001b[0m\n\u001b[1;32m    680\u001b[0m \u001b[38;5;124;03m    model states, i.e., ``log(p(X|state))``.\u001b[39;00m\n\u001b[1;32m    681\u001b[0m \u001b[38;5;124;03m\"\"\"\u001b[39;00m\n\u001b[1;32m    682\u001b[0m \u001b[38;5;28;01mif\u001b[39;00m (\u001b[38;5;28mself\u001b[39m\u001b[38;5;241m.\u001b[39m_compute_likelihood  \u001b[38;5;66;03m# prevent recursion\u001b[39;00m\n\u001b[1;32m    683\u001b[0m         \u001b[38;5;241m!=\u001b[39m BaseHMM\u001b[38;5;241m.\u001b[39m_compute_likelihood\u001b[38;5;241m.\u001b[39m\u001b[38;5;21m__get__\u001b[39m(\u001b[38;5;28mself\u001b[39m)):\n\u001b[0;32m--> 684\u001b[0m     likelihood \u001b[38;5;241m=\u001b[39m \u001b[38;5;28;43mself\u001b[39;49m\u001b[38;5;241;43m.\u001b[39;49m\u001b[43m_compute_likelihood\u001b[49m\u001b[43m(\u001b[49m\u001b[43mX\u001b[49m\u001b[43m)\u001b[49m\n\u001b[1;32m    685\u001b[0m     \u001b[38;5;66;03m# Probabilities equal to zero do occur, and log(0) = -inf is OK.\u001b[39;00m\n\u001b[1;32m    686\u001b[0m     \u001b[38;5;28;01mwith\u001b[39;00m np\u001b[38;5;241m.\u001b[39merrstate(divide\u001b[38;5;241m=\u001b[39m\u001b[38;5;124m\"\u001b[39m\u001b[38;5;124mignore\u001b[39m\u001b[38;5;124m\"\u001b[39m):\n",
      "File \u001b[0;32m/ziob/klaudia/miniconda3/envs/preproc/lib/python3.10/site-packages/hmmlearn/hmm.py:657\u001b[0m, in \u001b[0;36mCategoricalHMM._compute_likelihood\u001b[0;34m(self, X)\u001b[0m\n\u001b[1;32m    656\u001b[0m \u001b[38;5;28;01mdef\u001b[39;00m \u001b[38;5;21m_compute_likelihood\u001b[39m(\u001b[38;5;28mself\u001b[39m, X):\n\u001b[0;32m--> 657\u001b[0m     \u001b[38;5;28;01mreturn\u001b[39;00m \u001b[38;5;28;43mself\u001b[39;49m\u001b[38;5;241;43m.\u001b[39;49m\u001b[43memissionprob_\u001b[49m\u001b[43m[\u001b[49m\u001b[43m:\u001b[49m\u001b[43m,\u001b[49m\u001b[43m \u001b[49m\u001b[43mnp\u001b[49m\u001b[38;5;241;43m.\u001b[39;49m\u001b[43mconcatenate\u001b[49m\u001b[43m(\u001b[49m\u001b[43mX\u001b[49m\u001b[43m)\u001b[49m\u001b[43m]\u001b[49m\u001b[38;5;241m.\u001b[39mT\n",
      "\u001b[0;31mIndexError\u001b[0m: arrays used as indices must be of integer (or boolean) type"
     ]
    }
   ],
   "source": [
    "w2v_fhmm = FlowHMM(n_components=5, no_nodes=512, l=100, optimizer=\"Adam\", verbose=True)\n",
    "%time w2v_fhmm.fit(X_c, l_c)\n",
    "l1c_f = w2v_fhmm.score(X_c, l_c)\n",
    "l2c_f = w2v_fhmm.score(np.concatenate([get_vec(e) for s in cs.sessions for e in s.event_list]), np.array(l_c) + 1)\n",
    "(l2c_f - l1c_f) / len(l_c)"
   ]
  }
 ],
 "metadata": {
  "kernelspec": {
   "display_name": "Python 3",
   "language": "python",
   "name": "python3"
  },
  "language_info": {
   "codemirror_mode": {
    "name": "ipython",
    "version": 3
   },
   "file_extension": ".py",
   "mimetype": "text/x-python",
   "name": "python",
   "nbconvert_exporter": "python",
   "pygments_lexer": "ipython3",
   "version": "3.10.9"
  }
 },
 "nbformat": 4,
 "nbformat_minor": 0
}
