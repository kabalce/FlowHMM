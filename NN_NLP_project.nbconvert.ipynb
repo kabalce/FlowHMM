{
 "cells": [
  {
   "cell_type": "code",
   "execution_count": 1,
   "metadata": {
    "collapsed": true,
    "execution": {
     "iopub.execute_input": "2023-06-20T17:14:08.573384Z",
     "iopub.status.busy": "2023-06-20T17:14:08.572718Z",
     "iopub.status.idle": "2023-06-20T17:14:40.963967Z",
     "shell.execute_reply": "2023-06-20T17:14:40.962083Z"
    },
    "is_executing": true
   },
   "outputs": [],
   "source": [
    "from torchHMM.model.discretized_HMM import DiscreteHMM, DISCRETIZATION_TECHNIQUES\n",
    "from torchHMM.model.discretized_flow_HMM import FlowHMM"
   ]
  },
  {
   "cell_type": "code",
   "execution_count": 2,
   "metadata": {
    "collapsed": false,
    "execution": {
     "iopub.execute_input": "2023-06-20T17:14:40.972185Z",
     "iopub.status.busy": "2023-06-20T17:14:40.970140Z",
     "iopub.status.idle": "2023-06-20T17:14:46.955487Z",
     "shell.execute_reply": "2023-06-20T17:14:46.953708Z"
    },
    "is_executing": true
   },
   "outputs": [],
   "source": [
    "import numpy as np\n",
    "import pandas as pd\n",
    "import pickle as pkl"
   ]
  },
  {
   "cell_type": "code",
   "execution_count": 3,
   "metadata": {
    "ExecuteTime": {
     "end_time": "2023-06-19T11:04:08.874277362Z",
     "start_time": "2023-06-19T11:04:08.453626622Z"
    },
    "collapsed": false,
    "execution": {
     "iopub.execute_input": "2023-06-20T17:14:46.963633Z",
     "iopub.status.busy": "2023-06-20T17:14:46.962771Z",
     "iopub.status.idle": "2023-06-20T17:14:48.824802Z",
     "shell.execute_reply": "2023-06-20T17:14:48.822201Z"
    }
   },
   "outputs": [],
   "source": [
    "from hmmlearn.hmm import CategoricalHMM, GaussianHMM\n",
    "from gensim.models import KeyedVectors\n"
   ]
  },
  {
   "cell_type": "code",
   "execution_count": 4,
   "metadata": {
    "ExecuteTime": {
     "end_time": "2023-06-19T11:04:48.077216177Z",
     "start_time": "2023-06-19T11:04:08.875073499Z"
    },
    "collapsed": false,
    "execution": {
     "iopub.execute_input": "2023-06-20T17:14:48.831706Z",
     "iopub.status.busy": "2023-06-20T17:14:48.831230Z",
     "iopub.status.idle": "2023-06-20T17:15:02.426311Z",
     "shell.execute_reply": "2023-06-20T17:15:02.425383Z"
    }
   },
   "outputs": [],
   "source": [
    "with open('clickstream_experiment/data/preprocessed_data/ClickStream_test_cleaned.pkl', 'rb') as f:\n",
    "    cs = pkl.load(f)\n",
    "session_train, sessions_test = cs.sessions[:100000], cs.sessions[100000:110000]"
   ]
  },
  {
   "cell_type": "code",
   "execution_count": 5,
   "metadata": {
    "ExecuteTime": {
     "end_time": "2023-06-19T11:06:02.360713765Z",
     "start_time": "2023-06-19T11:05:44.917029061Z"
    },
    "collapsed": false,
    "execution": {
     "iopub.execute_input": "2023-06-20T17:15:02.432229Z",
     "iopub.status.busy": "2023-06-20T17:15:02.431599Z",
     "iopub.status.idle": "2023-06-20T17:15:03.488456Z",
     "shell.execute_reply": "2023-06-20T17:15:03.487799Z"
    }
   },
   "outputs": [],
   "source": [
    "item_ids = np.unique([e.item_id for s in session_train for e in s.event_list])\n",
    "item_ids = {item_ids[i]: i for i in range(len(item_ids))}\n",
    "\n",
    "Xs = [[item_ids[e.item_id] for e in s.event_list] for s in session_train]\n",
    "l = [len(y) for y in Xs]\n",
    "\n",
    "X = np.concatenate(Xs).reshape(-1, 1)\n",
    "\n",
    "target =  [[item_ids[e.item_id] for e in s.event_list if e.item_id in item_ids.keys()] for s in sessions_test]\n",
    "lt = np.array([len(y) for y in target])\n",
    "target = np.concatenate(target).reshape(-1, 1)"
   ]
  },
  {
   "cell_type": "code",
   "execution_count": 6,
   "metadata": {
    "ExecuteTime": {
     "end_time": "2023-06-19T11:06:02.486832269Z",
     "start_time": "2023-06-19T11:06:02.417888350Z"
    },
    "collapsed": false,
    "execution": {
     "iopub.execute_input": "2023-06-20T17:15:03.494652Z",
     "iopub.status.busy": "2023-06-20T17:15:03.493923Z",
     "iopub.status.idle": "2023-06-20T17:15:03.497839Z",
     "shell.execute_reply": "2023-06-20T17:15:03.497244Z"
    }
   },
   "outputs": [],
   "source": [
    "chmm = CategoricalHMM(5, n_iter=10, verbose=True)\n"
   ]
  },
  {
   "cell_type": "code",
   "execution_count": 7,
   "metadata": {
    "ExecuteTime": {
     "end_time": "2023-06-19T11:14:36.294789566Z",
     "start_time": "2023-06-19T11:06:02.464244888Z"
    },
    "collapsed": false,
    "execution": {
     "iopub.execute_input": "2023-06-20T17:15:03.501511Z",
     "iopub.status.busy": "2023-06-20T17:15:03.500702Z",
     "iopub.status.idle": "2023-06-20T17:17:16.041704Z",
     "shell.execute_reply": "2023-06-20T17:17:16.040010Z"
    }
   },
   "outputs": [
    {
     "name": "stderr",
     "output_type": "stream",
     "text": [
      "         1   -10919453.8211             +nan\n",
      "         2    -9992095.9652     +927357.8560\n",
      "         3    -9896268.8141      +95827.1511\n",
      "         4    -9830764.7020      +65504.1121\n",
      "         5    -9781417.6486      +49347.0533\n",
      "         6    -9743646.9014      +37770.7473\n",
      "         7    -9716188.3315      +27458.5699\n",
      "         8    -9696714.5646      +19473.7669\n",
      "         9    -9682445.7468      +14268.8178\n"
     ]
    },
    {
     "name": "stdout",
     "output_type": "stream",
     "text": [
      "CPU times: user 2min 12s, sys: 31.8 ms, total: 2min 12s\n",
      "Wall time: 2min 12s\n"
     ]
    },
    {
     "name": "stderr",
     "output_type": "stream",
     "text": [
      "        10    -9671265.8355      +11179.9113\n"
     ]
    },
    {
     "data": {
      "text/html": [
       "<style>#sk-container-id-1 {color: black;background-color: white;}#sk-container-id-1 pre{padding: 0;}#sk-container-id-1 div.sk-toggleable {background-color: white;}#sk-container-id-1 label.sk-toggleable__label {cursor: pointer;display: block;width: 100%;margin-bottom: 0;padding: 0.3em;box-sizing: border-box;text-align: center;}#sk-container-id-1 label.sk-toggleable__label-arrow:before {content: \"▸\";float: left;margin-right: 0.25em;color: #696969;}#sk-container-id-1 label.sk-toggleable__label-arrow:hover:before {color: black;}#sk-container-id-1 div.sk-estimator:hover label.sk-toggleable__label-arrow:before {color: black;}#sk-container-id-1 div.sk-toggleable__content {max-height: 0;max-width: 0;overflow: hidden;text-align: left;background-color: #f0f8ff;}#sk-container-id-1 div.sk-toggleable__content pre {margin: 0.2em;color: black;border-radius: 0.25em;background-color: #f0f8ff;}#sk-container-id-1 input.sk-toggleable__control:checked~div.sk-toggleable__content {max-height: 200px;max-width: 100%;overflow: auto;}#sk-container-id-1 input.sk-toggleable__control:checked~label.sk-toggleable__label-arrow:before {content: \"▾\";}#sk-container-id-1 div.sk-estimator input.sk-toggleable__control:checked~label.sk-toggleable__label {background-color: #d4ebff;}#sk-container-id-1 div.sk-label input.sk-toggleable__control:checked~label.sk-toggleable__label {background-color: #d4ebff;}#sk-container-id-1 input.sk-hidden--visually {border: 0;clip: rect(1px 1px 1px 1px);clip: rect(1px, 1px, 1px, 1px);height: 1px;margin: -1px;overflow: hidden;padding: 0;position: absolute;width: 1px;}#sk-container-id-1 div.sk-estimator {font-family: monospace;background-color: #f0f8ff;border: 1px dotted black;border-radius: 0.25em;box-sizing: border-box;margin-bottom: 0.5em;}#sk-container-id-1 div.sk-estimator:hover {background-color: #d4ebff;}#sk-container-id-1 div.sk-parallel-item::after {content: \"\";width: 100%;border-bottom: 1px solid gray;flex-grow: 1;}#sk-container-id-1 div.sk-label:hover label.sk-toggleable__label {background-color: #d4ebff;}#sk-container-id-1 div.sk-serial::before {content: \"\";position: absolute;border-left: 1px solid gray;box-sizing: border-box;top: 0;bottom: 0;left: 50%;z-index: 0;}#sk-container-id-1 div.sk-serial {display: flex;flex-direction: column;align-items: center;background-color: white;padding-right: 0.2em;padding-left: 0.2em;position: relative;}#sk-container-id-1 div.sk-item {position: relative;z-index: 1;}#sk-container-id-1 div.sk-parallel {display: flex;align-items: stretch;justify-content: center;background-color: white;position: relative;}#sk-container-id-1 div.sk-item::before, #sk-container-id-1 div.sk-parallel-item::before {content: \"\";position: absolute;border-left: 1px solid gray;box-sizing: border-box;top: 0;bottom: 0;left: 50%;z-index: -1;}#sk-container-id-1 div.sk-parallel-item {display: flex;flex-direction: column;z-index: 1;position: relative;background-color: white;}#sk-container-id-1 div.sk-parallel-item:first-child::after {align-self: flex-end;width: 50%;}#sk-container-id-1 div.sk-parallel-item:last-child::after {align-self: flex-start;width: 50%;}#sk-container-id-1 div.sk-parallel-item:only-child::after {width: 0;}#sk-container-id-1 div.sk-dashed-wrapped {border: 1px dashed gray;margin: 0 0.4em 0.5em 0.4em;box-sizing: border-box;padding-bottom: 0.4em;background-color: white;}#sk-container-id-1 div.sk-label label {font-family: monospace;font-weight: bold;display: inline-block;line-height: 1.2em;}#sk-container-id-1 div.sk-label-container {text-align: center;}#sk-container-id-1 div.sk-container {/* jupyter's `normalize.less` sets `[hidden] { display: none; }` but bootstrap.min.css set `[hidden] { display: none !important; }` so we also need the `!important` here to be able to override the default hidden behavior on the sphinx rendered scikit-learn.org. See: https://github.com/scikit-learn/scikit-learn/issues/21755 */display: inline-block !important;position: relative;}#sk-container-id-1 div.sk-text-repr-fallback {display: none;}</style><div id=\"sk-container-id-1\" class=\"sk-top-container\"><div class=\"sk-text-repr-fallback\"><pre>CategoricalHMM(n_components=5,\n",
       "               random_state=RandomState(MT19937) at 0x7F2A17DF8A40,\n",
       "               verbose=True)</pre><b>In a Jupyter environment, please rerun this cell to show the HTML representation or trust the notebook. <br />On GitHub, the HTML representation is unable to render, please try loading this page with nbviewer.org.</b></div><div class=\"sk-container\" hidden><div class=\"sk-item\"><div class=\"sk-estimator sk-toggleable\"><input class=\"sk-toggleable__control sk-hidden--visually\" id=\"sk-estimator-id-1\" type=\"checkbox\" checked><label for=\"sk-estimator-id-1\" class=\"sk-toggleable__label sk-toggleable__label-arrow\">CategoricalHMM</label><div class=\"sk-toggleable__content\"><pre>CategoricalHMM(n_components=5,\n",
       "               random_state=RandomState(MT19937) at 0x7F2A17DF8A40,\n",
       "               verbose=True)</pre></div></div></div></div></div>"
      ],
      "text/plain": [
       "CategoricalHMM(n_components=5,\n",
       "               random_state=RandomState(MT19937) at 0x7F2A17DF8A40,\n",
       "               verbose=True)"
      ]
     },
     "execution_count": 7,
     "metadata": {},
     "output_type": "execute_result"
    }
   ],
   "source": [
    "%time chmm.fit(X, l)"
   ]
  },
  {
   "cell_type": "code",
   "execution_count": 8,
   "metadata": {
    "ExecuteTime": {
     "end_time": "2023-06-19T11:30:34.675827243Z",
     "start_time": "2023-06-19T11:28:44.228971808Z"
    },
    "collapsed": false,
    "execution": {
     "iopub.execute_input": "2023-06-20T17:17:16.046542Z",
     "iopub.status.busy": "2023-06-20T17:17:16.045570Z",
     "iopub.status.idle": "2023-06-20T17:17:22.823000Z",
     "shell.execute_reply": "2023-06-20T17:17:22.820933Z"
    }
   },
   "outputs": [
    {
     "ename": "IndexError",
     "evalue": "arrays used as indices must be of integer (or boolean) type",
     "output_type": "error",
     "traceback": [
      "\u001b[0;31m---------------------------------------------------------------------------\u001b[0m",
      "\u001b[0;31mIndexError\u001b[0m                                Traceback (most recent call last)",
      "Cell \u001b[0;32mIn[8], line 1\u001b[0m\n\u001b[0;32m----> 1\u001b[0m \u001b[38;5;28mprint\u001b[39m(\u001b[43mchmm\u001b[49m\u001b[38;5;241;43m.\u001b[39;49m\u001b[43mscore\u001b[49m\u001b[43m(\u001b[49m\u001b[43mtarget\u001b[49m\u001b[43m,\u001b[49m\u001b[43m \u001b[49m\u001b[43mlt\u001b[49m\u001b[43m)\u001b[49m)\n",
      "File \u001b[0;32m/ziob/klaudia/miniconda3/envs/preproc/lib/python3.10/site-packages/hmmlearn/hmm.py:517\u001b[0m, in \u001b[0;36m_categoricalhmm_fix_docstring_shape.<locals>.<lambda>\u001b[0;34m(*args, **kwargs)\u001b[0m\n\u001b[1;32m    514\u001b[0m     wrapper \u001b[38;5;241m=\u001b[39m func\n\u001b[1;32m    515\u001b[0m \u001b[38;5;28;01melse\u001b[39;00m:\n\u001b[1;32m    516\u001b[0m     wrapper \u001b[38;5;241m=\u001b[39m functools\u001b[38;5;241m.\u001b[39mwraps(func)(\n\u001b[0;32m--> 517\u001b[0m         \u001b[38;5;28;01mlambda\u001b[39;00m \u001b[38;5;241m*\u001b[39margs, \u001b[38;5;241m*\u001b[39m\u001b[38;5;241m*\u001b[39mkwargs: \u001b[43mfunc\u001b[49m\u001b[43m(\u001b[49m\u001b[38;5;241;43m*\u001b[39;49m\u001b[43margs\u001b[49m\u001b[43m,\u001b[49m\u001b[43m \u001b[49m\u001b[38;5;241;43m*\u001b[39;49m\u001b[38;5;241;43m*\u001b[39;49m\u001b[43mkwargs\u001b[49m\u001b[43m)\u001b[49m)\n\u001b[1;32m    518\u001b[0m     wrapper\u001b[38;5;241m.\u001b[39m\u001b[38;5;18m__doc__\u001b[39m \u001b[38;5;241m=\u001b[39m (\n\u001b[1;32m    519\u001b[0m         doc\u001b[38;5;241m.\u001b[39mreplace(\u001b[38;5;124m\"\u001b[39m\u001b[38;5;124m(n_samples, n_features)\u001b[39m\u001b[38;5;124m\"\u001b[39m, \u001b[38;5;124m\"\u001b[39m\u001b[38;5;124m(n_samples, 1)\u001b[39m\u001b[38;5;124m\"\u001b[39m)\n\u001b[1;32m    520\u001b[0m         \u001b[38;5;241m+\u001b[39m _CATEGORICALHMM_DOC_SUFFIX)\n\u001b[1;32m    521\u001b[0m \u001b[38;5;28;01mreturn\u001b[39;00m wrapper\n",
      "File \u001b[0;32m/ziob/klaudia/miniconda3/envs/preproc/lib/python3.10/site-packages/hmmlearn/base.py:259\u001b[0m, in \u001b[0;36mBaseHMM.score\u001b[0;34m(self, X, lengths)\u001b[0m\n\u001b[1;32m    236\u001b[0m \u001b[38;5;28;01mdef\u001b[39;00m \u001b[38;5;21mscore\u001b[39m(\u001b[38;5;28mself\u001b[39m, X, lengths\u001b[38;5;241m=\u001b[39m\u001b[38;5;28;01mNone\u001b[39;00m):\n\u001b[1;32m    237\u001b[0m \u001b[38;5;250m    \u001b[39m\u001b[38;5;124;03m\"\"\"\u001b[39;00m\n\u001b[1;32m    238\u001b[0m \u001b[38;5;124;03m    Compute the log probability under the model.\u001b[39;00m\n\u001b[1;32m    239\u001b[0m \n\u001b[0;32m   (...)\u001b[0m\n\u001b[1;32m    257\u001b[0m \u001b[38;5;124;03m    decode : Find most likely state sequence corresponding to ``X``.\u001b[39;00m\n\u001b[1;32m    258\u001b[0m \u001b[38;5;124;03m    \"\"\"\u001b[39;00m\n\u001b[0;32m--> 259\u001b[0m     \u001b[38;5;28;01mreturn\u001b[39;00m \u001b[38;5;28;43mself\u001b[39;49m\u001b[38;5;241;43m.\u001b[39;49m\u001b[43m_score\u001b[49m\u001b[43m(\u001b[49m\u001b[43mX\u001b[49m\u001b[43m,\u001b[49m\u001b[43m \u001b[49m\u001b[43mlengths\u001b[49m\u001b[43m,\u001b[49m\u001b[43m \u001b[49m\u001b[43mcompute_posteriors\u001b[49m\u001b[38;5;241;43m=\u001b[39;49m\u001b[38;5;28;43;01mFalse\u001b[39;49;00m\u001b[43m)\u001b[49m[\u001b[38;5;241m0\u001b[39m]\n",
      "File \u001b[0;32m/ziob/klaudia/miniconda3/envs/preproc/lib/python3.10/site-packages/hmmlearn/base.py:277\u001b[0m, in \u001b[0;36mBaseHMM._score\u001b[0;34m(self, X, lengths, compute_posteriors)\u001b[0m\n\u001b[1;32m    272\u001b[0m X \u001b[38;5;241m=\u001b[39m check_array(X)\n\u001b[1;32m    273\u001b[0m impl \u001b[38;5;241m=\u001b[39m {\n\u001b[1;32m    274\u001b[0m     \u001b[38;5;124m\"\u001b[39m\u001b[38;5;124mscaling\u001b[39m\u001b[38;5;124m\"\u001b[39m: \u001b[38;5;28mself\u001b[39m\u001b[38;5;241m.\u001b[39m_score_scaling,\n\u001b[1;32m    275\u001b[0m     \u001b[38;5;124m\"\u001b[39m\u001b[38;5;124mlog\u001b[39m\u001b[38;5;124m\"\u001b[39m: \u001b[38;5;28mself\u001b[39m\u001b[38;5;241m.\u001b[39m_score_log,\n\u001b[1;32m    276\u001b[0m }[\u001b[38;5;28mself\u001b[39m\u001b[38;5;241m.\u001b[39mimplementation]\n\u001b[0;32m--> 277\u001b[0m \u001b[38;5;28;01mreturn\u001b[39;00m \u001b[43mimpl\u001b[49m\u001b[43m(\u001b[49m\n\u001b[1;32m    278\u001b[0m \u001b[43m    \u001b[49m\u001b[43mX\u001b[49m\u001b[38;5;241;43m=\u001b[39;49m\u001b[43mX\u001b[49m\u001b[43m,\u001b[49m\u001b[43m \u001b[49m\u001b[43mlengths\u001b[49m\u001b[38;5;241;43m=\u001b[39;49m\u001b[43mlengths\u001b[49m\u001b[43m,\u001b[49m\u001b[43m \u001b[49m\u001b[43mcompute_posteriors\u001b[49m\u001b[38;5;241;43m=\u001b[39;49m\u001b[43mcompute_posteriors\u001b[49m\u001b[43m)\u001b[49m\n",
      "File \u001b[0;32m/ziob/klaudia/miniconda3/envs/preproc/lib/python3.10/site-packages/hmmlearn/base.py:289\u001b[0m, in \u001b[0;36mBaseHMM._score_log\u001b[0;34m(self, X, lengths, compute_posteriors)\u001b[0m\n\u001b[1;32m    287\u001b[0m sub_posteriors \u001b[38;5;241m=\u001b[39m [np\u001b[38;5;241m.\u001b[39mempty((\u001b[38;5;241m0\u001b[39m, \u001b[38;5;28mself\u001b[39m\u001b[38;5;241m.\u001b[39mn_components))]\n\u001b[1;32m    288\u001b[0m \u001b[38;5;28;01mfor\u001b[39;00m sub_X \u001b[38;5;129;01min\u001b[39;00m _utils\u001b[38;5;241m.\u001b[39msplit_X_lengths(X, lengths):\n\u001b[0;32m--> 289\u001b[0m     log_frameprob \u001b[38;5;241m=\u001b[39m \u001b[38;5;28;43mself\u001b[39;49m\u001b[38;5;241;43m.\u001b[39;49m\u001b[43m_compute_log_likelihood\u001b[49m\u001b[43m(\u001b[49m\u001b[43msub_X\u001b[49m\u001b[43m)\u001b[49m\n\u001b[1;32m    290\u001b[0m     log_probij, fwdlattice \u001b[38;5;241m=\u001b[39m _hmmc\u001b[38;5;241m.\u001b[39mforward_log(\n\u001b[1;32m    291\u001b[0m         \u001b[38;5;28mself\u001b[39m\u001b[38;5;241m.\u001b[39mstartprob_, \u001b[38;5;28mself\u001b[39m\u001b[38;5;241m.\u001b[39mtransmat_, log_frameprob)\n\u001b[1;32m    292\u001b[0m     log_prob \u001b[38;5;241m+\u001b[39m\u001b[38;5;241m=\u001b[39m log_probij\n",
      "File \u001b[0;32m/ziob/klaudia/miniconda3/envs/preproc/lib/python3.10/site-packages/hmmlearn/base.py:684\u001b[0m, in \u001b[0;36mBaseHMM._compute_log_likelihood\u001b[0;34m(self, X)\u001b[0m\n\u001b[1;32m    668\u001b[0m \u001b[38;5;250m\u001b[39m\u001b[38;5;124;03m\"\"\"\u001b[39;00m\n\u001b[1;32m    669\u001b[0m \u001b[38;5;124;03mCompute per-component emission log probability under the model.\u001b[39;00m\n\u001b[1;32m    670\u001b[0m \n\u001b[0;32m   (...)\u001b[0m\n\u001b[1;32m    680\u001b[0m \u001b[38;5;124;03m    model states, i.e., ``log(p(X|state))``.\u001b[39;00m\n\u001b[1;32m    681\u001b[0m \u001b[38;5;124;03m\"\"\"\u001b[39;00m\n\u001b[1;32m    682\u001b[0m \u001b[38;5;28;01mif\u001b[39;00m (\u001b[38;5;28mself\u001b[39m\u001b[38;5;241m.\u001b[39m_compute_likelihood  \u001b[38;5;66;03m# prevent recursion\u001b[39;00m\n\u001b[1;32m    683\u001b[0m         \u001b[38;5;241m!=\u001b[39m BaseHMM\u001b[38;5;241m.\u001b[39m_compute_likelihood\u001b[38;5;241m.\u001b[39m\u001b[38;5;21m__get__\u001b[39m(\u001b[38;5;28mself\u001b[39m)):\n\u001b[0;32m--> 684\u001b[0m     likelihood \u001b[38;5;241m=\u001b[39m \u001b[38;5;28;43mself\u001b[39;49m\u001b[38;5;241;43m.\u001b[39;49m\u001b[43m_compute_likelihood\u001b[49m\u001b[43m(\u001b[49m\u001b[43mX\u001b[49m\u001b[43m)\u001b[49m\n\u001b[1;32m    685\u001b[0m     \u001b[38;5;66;03m# Probabilities equal to zero do occur, and log(0) = -inf is OK.\u001b[39;00m\n\u001b[1;32m    686\u001b[0m     \u001b[38;5;28;01mwith\u001b[39;00m np\u001b[38;5;241m.\u001b[39merrstate(divide\u001b[38;5;241m=\u001b[39m\u001b[38;5;124m\"\u001b[39m\u001b[38;5;124mignore\u001b[39m\u001b[38;5;124m\"\u001b[39m):\n",
      "File \u001b[0;32m/ziob/klaudia/miniconda3/envs/preproc/lib/python3.10/site-packages/hmmlearn/hmm.py:657\u001b[0m, in \u001b[0;36mCategoricalHMM._compute_likelihood\u001b[0;34m(self, X)\u001b[0m\n\u001b[1;32m    656\u001b[0m \u001b[38;5;28;01mdef\u001b[39;00m \u001b[38;5;21m_compute_likelihood\u001b[39m(\u001b[38;5;28mself\u001b[39m, X):\n\u001b[0;32m--> 657\u001b[0m     \u001b[38;5;28;01mreturn\u001b[39;00m \u001b[38;5;28;43mself\u001b[39;49m\u001b[38;5;241;43m.\u001b[39;49m\u001b[43memissionprob_\u001b[49m\u001b[43m[\u001b[49m\u001b[43m:\u001b[49m\u001b[43m,\u001b[49m\u001b[43m \u001b[49m\u001b[43mnp\u001b[49m\u001b[38;5;241;43m.\u001b[39;49m\u001b[43mconcatenate\u001b[49m\u001b[43m(\u001b[49m\u001b[43mX\u001b[49m\u001b[43m)\u001b[49m\u001b[43m]\u001b[49m\u001b[38;5;241m.\u001b[39mT\n",
      "\u001b[0;31mIndexError\u001b[0m: arrays used as indices must be of integer (or boolean) type"
     ]
    }
   ],
   "source": [
    "print(chmm.score(target, lt))"
   ]
  },
  {
   "cell_type": "code",
   "execution_count": 9,
   "metadata": {
    "ExecuteTime": {
     "end_time": "2023-06-19T11:33:26.375948032Z",
     "start_time": "2023-06-19T11:33:25.429184415Z"
    },
    "collapsed": false,
    "execution": {
     "iopub.execute_input": "2023-06-20T17:17:22.828478Z",
     "iopub.status.busy": "2023-06-20T17:17:22.826978Z",
     "iopub.status.idle": "2023-06-20T17:17:23.167438Z",
     "shell.execute_reply": "2023-06-20T17:17:23.166697Z"
    }
   },
   "outputs": [],
   "source": [
    "vectors = KeyedVectors.load(\n",
    "    f\"clickstream_experiment/data/preprocessed_data/vectors_train_20_10_5_8_cleaned.kv\"\n",
    ")\n",
    "vecs = np.concatenate(\n",
    "    [\n",
    "        vectors.get_vector(k).reshape(1, -1)\n",
    "        for k in list(vectors.key_to_index.keys())\n",
    "    ]\n",
    ")"
   ]
  },
  {
   "cell_type": "code",
   "execution_count": 10,
   "metadata": {
    "ExecuteTime": {
     "end_time": "2023-06-19T11:33:27.547725958Z",
     "start_time": "2023-06-19T11:33:27.398466320Z"
    },
    "collapsed": false,
    "execution": {
     "iopub.execute_input": "2023-06-20T17:17:23.173497Z",
     "iopub.status.busy": "2023-06-20T17:17:23.172822Z",
     "iopub.status.idle": "2023-06-20T17:17:23.179746Z",
     "shell.execute_reply": "2023-06-20T17:17:23.178880Z"
    }
   },
   "outputs": [],
   "source": [
    "unknown = vecs.mean(axis=0).reshape(1, -1)\n",
    "\n",
    "def get_vec(e):\n",
    "    try:\n",
    "        return vectors.get_vector(e.item_id).reshape(1, -1)\n",
    "    except:\n",
    "        return unknown"
   ]
  },
  {
   "cell_type": "code",
   "execution_count": 11,
   "metadata": {
    "ExecuteTime": {
     "end_time": "2023-06-19T11:34:16.043842810Z",
     "start_time": "2023-06-19T11:33:29.818189116Z"
    },
    "collapsed": false,
    "execution": {
     "iopub.execute_input": "2023-06-20T17:17:23.184356Z",
     "iopub.status.busy": "2023-06-20T17:17:23.183607Z",
     "iopub.status.idle": "2023-06-20T17:17:25.130780Z",
     "shell.execute_reply": "2023-06-20T17:17:25.130072Z"
    }
   },
   "outputs": [],
   "source": [
    "Xs_c = [[get_vec(e) for e in s.event_list] for s in session_train]\n",
    "l_c = np.array([len(y) for y in X])\n",
    "\n",
    "X_c = np.concatenate([a for as_ in Xs_c for a in as_], axis=0)\n",
    "\n",
    "target_c =  [[get_vec(e) for e in s.event_list if e.item_id in item_ids.keys()] for s in sessions_test]\n",
    "target_c = np.concatenate([a for as_ in target_c for a in as_], axis=0)\n"
   ]
  },
  {
   "cell_type": "code",
   "execution_count": 12,
   "metadata": {
    "ExecuteTime": {
     "end_time": "2023-06-19T11:34:16.056338423Z",
     "start_time": "2023-06-19T11:34:16.045723486Z"
    },
    "collapsed": false,
    "execution": {
     "iopub.execute_input": "2023-06-20T17:17:25.136860Z",
     "iopub.status.busy": "2023-06-20T17:17:25.135973Z",
     "iopub.status.idle": "2023-06-20T17:17:25.139677Z",
     "shell.execute_reply": "2023-06-20T17:17:25.139167Z"
    }
   },
   "outputs": [],
   "source": [
    "w2vhmm = GaussianHMM(5, n_iter=10, verbose=True)"
   ]
  },
  {
   "cell_type": "code",
   "execution_count": 13,
   "metadata": {
    "ExecuteTime": {
     "start_time": "2023-06-19T11:47:33.983843020Z"
    },
    "collapsed": false,
    "execution": {
     "iopub.execute_input": "2023-06-20T17:17:25.145136Z",
     "iopub.status.busy": "2023-06-20T17:17:25.144030Z",
     "iopub.status.idle": "2023-06-20T17:35:52.312646Z",
     "shell.execute_reply": "2023-06-20T17:35:52.310984Z"
    },
    "is_executing": true
   },
   "outputs": [
    {
     "name": "stderr",
     "output_type": "stream",
     "text": [
      "/ziob/klaudia/miniconda3/envs/preproc/lib/python3.10/site-packages/sklearn/cluster/_kmeans.py:870: FutureWarning: The default value of `n_init` will change from 10 to 'auto' in 1.4. Set the value of `n_init` explicitly to suppress the warning\n",
      "  warnings.warn(\n",
      "         1    13671830.3651             +nan\n",
      "         2    40479413.7090   +26807583.3439\n",
      "         3    66813156.8904   +26333743.1813\n",
      "         4   142205733.2103   +75392576.3200\n",
      "         5   142311758.6624     +106025.4521\n",
      "         6   142345166.3955      +33407.7330\n",
      "         7   142353988.7753       +8822.3799\n",
      "         8   142357606.7115       +3617.9362\n",
      "         9   142358997.8106       +1391.0991\n",
      "        10   142359428.1960        +430.3853\n",
      "Some rows of transmat_ have zero sum because no transition from the state was ever observed.\n"
     ]
    },
    {
     "name": "stdout",
     "output_type": "stream",
     "text": [
      "CPU times: user 18min 30s, sys: 2.57 s, total: 18min 33s\n",
      "Wall time: 18min 27s\n"
     ]
    },
    {
     "data": {
      "text/html": [
       "<style>#sk-container-id-2 {color: black;background-color: white;}#sk-container-id-2 pre{padding: 0;}#sk-container-id-2 div.sk-toggleable {background-color: white;}#sk-container-id-2 label.sk-toggleable__label {cursor: pointer;display: block;width: 100%;margin-bottom: 0;padding: 0.3em;box-sizing: border-box;text-align: center;}#sk-container-id-2 label.sk-toggleable__label-arrow:before {content: \"▸\";float: left;margin-right: 0.25em;color: #696969;}#sk-container-id-2 label.sk-toggleable__label-arrow:hover:before {color: black;}#sk-container-id-2 div.sk-estimator:hover label.sk-toggleable__label-arrow:before {color: black;}#sk-container-id-2 div.sk-toggleable__content {max-height: 0;max-width: 0;overflow: hidden;text-align: left;background-color: #f0f8ff;}#sk-container-id-2 div.sk-toggleable__content pre {margin: 0.2em;color: black;border-radius: 0.25em;background-color: #f0f8ff;}#sk-container-id-2 input.sk-toggleable__control:checked~div.sk-toggleable__content {max-height: 200px;max-width: 100%;overflow: auto;}#sk-container-id-2 input.sk-toggleable__control:checked~label.sk-toggleable__label-arrow:before {content: \"▾\";}#sk-container-id-2 div.sk-estimator input.sk-toggleable__control:checked~label.sk-toggleable__label {background-color: #d4ebff;}#sk-container-id-2 div.sk-label input.sk-toggleable__control:checked~label.sk-toggleable__label {background-color: #d4ebff;}#sk-container-id-2 input.sk-hidden--visually {border: 0;clip: rect(1px 1px 1px 1px);clip: rect(1px, 1px, 1px, 1px);height: 1px;margin: -1px;overflow: hidden;padding: 0;position: absolute;width: 1px;}#sk-container-id-2 div.sk-estimator {font-family: monospace;background-color: #f0f8ff;border: 1px dotted black;border-radius: 0.25em;box-sizing: border-box;margin-bottom: 0.5em;}#sk-container-id-2 div.sk-estimator:hover {background-color: #d4ebff;}#sk-container-id-2 div.sk-parallel-item::after {content: \"\";width: 100%;border-bottom: 1px solid gray;flex-grow: 1;}#sk-container-id-2 div.sk-label:hover label.sk-toggleable__label {background-color: #d4ebff;}#sk-container-id-2 div.sk-serial::before {content: \"\";position: absolute;border-left: 1px solid gray;box-sizing: border-box;top: 0;bottom: 0;left: 50%;z-index: 0;}#sk-container-id-2 div.sk-serial {display: flex;flex-direction: column;align-items: center;background-color: white;padding-right: 0.2em;padding-left: 0.2em;position: relative;}#sk-container-id-2 div.sk-item {position: relative;z-index: 1;}#sk-container-id-2 div.sk-parallel {display: flex;align-items: stretch;justify-content: center;background-color: white;position: relative;}#sk-container-id-2 div.sk-item::before, #sk-container-id-2 div.sk-parallel-item::before {content: \"\";position: absolute;border-left: 1px solid gray;box-sizing: border-box;top: 0;bottom: 0;left: 50%;z-index: -1;}#sk-container-id-2 div.sk-parallel-item {display: flex;flex-direction: column;z-index: 1;position: relative;background-color: white;}#sk-container-id-2 div.sk-parallel-item:first-child::after {align-self: flex-end;width: 50%;}#sk-container-id-2 div.sk-parallel-item:last-child::after {align-self: flex-start;width: 50%;}#sk-container-id-2 div.sk-parallel-item:only-child::after {width: 0;}#sk-container-id-2 div.sk-dashed-wrapped {border: 1px dashed gray;margin: 0 0.4em 0.5em 0.4em;box-sizing: border-box;padding-bottom: 0.4em;background-color: white;}#sk-container-id-2 div.sk-label label {font-family: monospace;font-weight: bold;display: inline-block;line-height: 1.2em;}#sk-container-id-2 div.sk-label-container {text-align: center;}#sk-container-id-2 div.sk-container {/* jupyter's `normalize.less` sets `[hidden] { display: none; }` but bootstrap.min.css set `[hidden] { display: none !important; }` so we also need the `!important` here to be able to override the default hidden behavior on the sphinx rendered scikit-learn.org. See: https://github.com/scikit-learn/scikit-learn/issues/21755 */display: inline-block !important;position: relative;}#sk-container-id-2 div.sk-text-repr-fallback {display: none;}</style><div id=\"sk-container-id-2\" class=\"sk-top-container\"><div class=\"sk-text-repr-fallback\"><pre>GaussianHMM(n_components=5, verbose=True)</pre><b>In a Jupyter environment, please rerun this cell to show the HTML representation or trust the notebook. <br />On GitHub, the HTML representation is unable to render, please try loading this page with nbviewer.org.</b></div><div class=\"sk-container\" hidden><div class=\"sk-item\"><div class=\"sk-estimator sk-toggleable\"><input class=\"sk-toggleable__control sk-hidden--visually\" id=\"sk-estimator-id-2\" type=\"checkbox\" checked><label for=\"sk-estimator-id-2\" class=\"sk-toggleable__label sk-toggleable__label-arrow\">GaussianHMM</label><div class=\"sk-toggleable__content\"><pre>GaussianHMM(n_components=5, verbose=True)</pre></div></div></div></div></div>"
      ],
      "text/plain": [
       "GaussianHMM(n_components=5, verbose=True)"
      ]
     },
     "execution_count": 13,
     "metadata": {},
     "output_type": "execute_result"
    }
   ],
   "source": [
    "%time w2vhmm.fit(X_c, l_c)"
   ]
  },
  {
   "cell_type": "code",
   "execution_count": 14,
   "metadata": {
    "collapsed": false,
    "execution": {
     "iopub.execute_input": "2023-06-20T17:35:52.316589Z",
     "iopub.status.busy": "2023-06-20T17:35:52.315743Z",
     "iopub.status.idle": "2023-06-20T17:35:52.465941Z",
     "shell.execute_reply": "2023-06-20T17:35:52.463994Z"
    },
    "is_executing": true
   },
   "outputs": [
    {
     "ename": "ValueError",
     "evalue": "transmat_ rows must sum to 1 (got [0. 0. 0. 0. 0.])",
     "output_type": "error",
     "traceback": [
      "\u001b[0;31m---------------------------------------------------------------------------\u001b[0m",
      "\u001b[0;31mValueError\u001b[0m                                Traceback (most recent call last)",
      "Cell \u001b[0;32mIn[14], line 1\u001b[0m\n\u001b[0;32m----> 1\u001b[0m \u001b[38;5;28mprint\u001b[39m(\u001b[43mw2vhmm\u001b[49m\u001b[38;5;241;43m.\u001b[39;49m\u001b[43mscore\u001b[49m\u001b[43m(\u001b[49m\u001b[43mtarget_c\u001b[49m\u001b[43m,\u001b[49m\u001b[43m \u001b[49m\u001b[43mlt\u001b[49m\u001b[43m)\u001b[49m)\n",
      "File \u001b[0;32m/ziob/klaudia/miniconda3/envs/preproc/lib/python3.10/site-packages/hmmlearn/base.py:259\u001b[0m, in \u001b[0;36mBaseHMM.score\u001b[0;34m(self, X, lengths)\u001b[0m\n\u001b[1;32m    236\u001b[0m \u001b[38;5;28;01mdef\u001b[39;00m \u001b[38;5;21mscore\u001b[39m(\u001b[38;5;28mself\u001b[39m, X, lengths\u001b[38;5;241m=\u001b[39m\u001b[38;5;28;01mNone\u001b[39;00m):\n\u001b[1;32m    237\u001b[0m \u001b[38;5;250m    \u001b[39m\u001b[38;5;124;03m\"\"\"\u001b[39;00m\n\u001b[1;32m    238\u001b[0m \u001b[38;5;124;03m    Compute the log probability under the model.\u001b[39;00m\n\u001b[1;32m    239\u001b[0m \n\u001b[0;32m   (...)\u001b[0m\n\u001b[1;32m    257\u001b[0m \u001b[38;5;124;03m    decode : Find most likely state sequence corresponding to ``X``.\u001b[39;00m\n\u001b[1;32m    258\u001b[0m \u001b[38;5;124;03m    \"\"\"\u001b[39;00m\n\u001b[0;32m--> 259\u001b[0m     \u001b[38;5;28;01mreturn\u001b[39;00m \u001b[38;5;28;43mself\u001b[39;49m\u001b[38;5;241;43m.\u001b[39;49m\u001b[43m_score\u001b[49m\u001b[43m(\u001b[49m\u001b[43mX\u001b[49m\u001b[43m,\u001b[49m\u001b[43m \u001b[49m\u001b[43mlengths\u001b[49m\u001b[43m,\u001b[49m\u001b[43m \u001b[49m\u001b[43mcompute_posteriors\u001b[49m\u001b[38;5;241;43m=\u001b[39;49m\u001b[38;5;28;43;01mFalse\u001b[39;49;00m\u001b[43m)\u001b[49m[\u001b[38;5;241m0\u001b[39m]\n",
      "File \u001b[0;32m/ziob/klaudia/miniconda3/envs/preproc/lib/python3.10/site-packages/hmmlearn/base.py:270\u001b[0m, in \u001b[0;36mBaseHMM._score\u001b[0;34m(self, X, lengths, compute_posteriors)\u001b[0m\n\u001b[1;32m    262\u001b[0m \u001b[38;5;250m\u001b[39m\u001b[38;5;124;03m\"\"\"\u001b[39;00m\n\u001b[1;32m    263\u001b[0m \u001b[38;5;124;03mHelper for `score` and `score_samples`.\u001b[39;00m\n\u001b[1;32m    264\u001b[0m \n\u001b[0;32m   (...)\u001b[0m\n\u001b[1;32m    267\u001b[0m \u001b[38;5;124;03mfor the latter).\u001b[39;00m\n\u001b[1;32m    268\u001b[0m \u001b[38;5;124;03m\"\"\"\u001b[39;00m\n\u001b[1;32m    269\u001b[0m _utils\u001b[38;5;241m.\u001b[39mcheck_is_fitted(\u001b[38;5;28mself\u001b[39m, \u001b[38;5;124m\"\u001b[39m\u001b[38;5;124mstartprob_\u001b[39m\u001b[38;5;124m\"\u001b[39m)\n\u001b[0;32m--> 270\u001b[0m \u001b[38;5;28;43mself\u001b[39;49m\u001b[38;5;241;43m.\u001b[39;49m\u001b[43m_check\u001b[49m\u001b[43m(\u001b[49m\u001b[43m)\u001b[49m\n\u001b[1;32m    272\u001b[0m X \u001b[38;5;241m=\u001b[39m check_array(X)\n\u001b[1;32m    273\u001b[0m impl \u001b[38;5;241m=\u001b[39m {\n\u001b[1;32m    274\u001b[0m     \u001b[38;5;124m\"\u001b[39m\u001b[38;5;124mscaling\u001b[39m\u001b[38;5;124m\"\u001b[39m: \u001b[38;5;28mself\u001b[39m\u001b[38;5;241m.\u001b[39m_score_scaling,\n\u001b[1;32m    275\u001b[0m     \u001b[38;5;124m\"\u001b[39m\u001b[38;5;124mlog\u001b[39m\u001b[38;5;124m\"\u001b[39m: \u001b[38;5;28mself\u001b[39m\u001b[38;5;241m.\u001b[39m_score_log,\n\u001b[1;32m    276\u001b[0m }[\u001b[38;5;28mself\u001b[39m\u001b[38;5;241m.\u001b[39mimplementation]\n",
      "File \u001b[0;32m/ziob/klaudia/miniconda3/envs/preproc/lib/python3.10/site-packages/hmmlearn/hmm.py:217\u001b[0m, in \u001b[0;36mGaussianHMM._check\u001b[0;34m(self)\u001b[0m\n\u001b[1;32m    216\u001b[0m \u001b[38;5;28;01mdef\u001b[39;00m \u001b[38;5;21m_check\u001b[39m(\u001b[38;5;28mself\u001b[39m):\n\u001b[0;32m--> 217\u001b[0m     \u001b[38;5;28;43msuper\u001b[39;49m\u001b[43m(\u001b[49m\u001b[43m)\u001b[49m\u001b[38;5;241;43m.\u001b[39;49m\u001b[43m_check\u001b[49m\u001b[43m(\u001b[49m\u001b[43m)\u001b[49m\n\u001b[1;32m    219\u001b[0m     \u001b[38;5;28mself\u001b[39m\u001b[38;5;241m.\u001b[39mmeans_ \u001b[38;5;241m=\u001b[39m np\u001b[38;5;241m.\u001b[39masarray(\u001b[38;5;28mself\u001b[39m\u001b[38;5;241m.\u001b[39mmeans_)\n\u001b[1;32m    220\u001b[0m     \u001b[38;5;28mself\u001b[39m\u001b[38;5;241m.\u001b[39mn_features \u001b[38;5;241m=\u001b[39m \u001b[38;5;28mself\u001b[39m\u001b[38;5;241m.\u001b[39mmeans_\u001b[38;5;241m.\u001b[39mshape[\u001b[38;5;241m1\u001b[39m]\n",
      "File \u001b[0;32m/ziob/klaudia/miniconda3/envs/preproc/lib/python3.10/site-packages/hmmlearn/base.py:644\u001b[0m, in \u001b[0;36mBaseHMM._check\u001b[0;34m(self)\u001b[0m\n\u001b[1;32m    641\u001b[0m \u001b[38;5;28;01mif\u001b[39;00m \u001b[38;5;28mself\u001b[39m\u001b[38;5;241m.\u001b[39mtransmat_\u001b[38;5;241m.\u001b[39mshape \u001b[38;5;241m!=\u001b[39m (\u001b[38;5;28mself\u001b[39m\u001b[38;5;241m.\u001b[39mn_components, \u001b[38;5;28mself\u001b[39m\u001b[38;5;241m.\u001b[39mn_components):\n\u001b[1;32m    642\u001b[0m     \u001b[38;5;28;01mraise\u001b[39;00m \u001b[38;5;167;01mValueError\u001b[39;00m(\n\u001b[1;32m    643\u001b[0m         \u001b[38;5;124m\"\u001b[39m\u001b[38;5;124mtransmat_ must have shape (n_components, n_components)\u001b[39m\u001b[38;5;124m\"\u001b[39m)\n\u001b[0;32m--> 644\u001b[0m \u001b[38;5;28;43mself\u001b[39;49m\u001b[38;5;241;43m.\u001b[39;49m\u001b[43m_check_sum_1\u001b[49m\u001b[43m(\u001b[49m\u001b[38;5;124;43m\"\u001b[39;49m\u001b[38;5;124;43mtransmat_\u001b[39;49m\u001b[38;5;124;43m\"\u001b[39;49m\u001b[43m)\u001b[49m\n",
      "File \u001b[0;32m/ziob/klaudia/miniconda3/envs/preproc/lib/python3.10/site-packages/hmmlearn/base.py:620\u001b[0m, in \u001b[0;36mBaseHMM._check_sum_1\u001b[0;34m(self, name)\u001b[0m\n\u001b[1;32m    618\u001b[0m s \u001b[38;5;241m=\u001b[39m \u001b[38;5;28mgetattr\u001b[39m(\u001b[38;5;28mself\u001b[39m, name)\u001b[38;5;241m.\u001b[39msum(axis\u001b[38;5;241m=\u001b[39m\u001b[38;5;241m-\u001b[39m\u001b[38;5;241m1\u001b[39m)\n\u001b[1;32m    619\u001b[0m \u001b[38;5;28;01mif\u001b[39;00m \u001b[38;5;129;01mnot\u001b[39;00m np\u001b[38;5;241m.\u001b[39mallclose(s, \u001b[38;5;241m1\u001b[39m):\n\u001b[0;32m--> 620\u001b[0m     \u001b[38;5;28;01mraise\u001b[39;00m \u001b[38;5;167;01mValueError\u001b[39;00m(\n\u001b[1;32m    621\u001b[0m         \u001b[38;5;124mf\u001b[39m\u001b[38;5;124m\"\u001b[39m\u001b[38;5;132;01m{\u001b[39;00mname\u001b[38;5;132;01m}\u001b[39;00m\u001b[38;5;124m must sum to 1 (got \u001b[39m\u001b[38;5;132;01m{\u001b[39;00ms\u001b[38;5;132;01m:\u001b[39;00m\u001b[38;5;124m.4f\u001b[39m\u001b[38;5;132;01m}\u001b[39;00m\u001b[38;5;124m)\u001b[39m\u001b[38;5;124m\"\u001b[39m \u001b[38;5;28;01mif\u001b[39;00m s\u001b[38;5;241m.\u001b[39mndim \u001b[38;5;241m==\u001b[39m \u001b[38;5;241m0\u001b[39m \u001b[38;5;28;01melse\u001b[39;00m\n\u001b[1;32m    622\u001b[0m         \u001b[38;5;124mf\u001b[39m\u001b[38;5;124m\"\u001b[39m\u001b[38;5;132;01m{\u001b[39;00mname\u001b[38;5;132;01m}\u001b[39;00m\u001b[38;5;124m rows must sum to 1 (got \u001b[39m\u001b[38;5;132;01m{\u001b[39;00ms\u001b[38;5;132;01m}\u001b[39;00m\u001b[38;5;124m)\u001b[39m\u001b[38;5;124m\"\u001b[39m \u001b[38;5;28;01mif\u001b[39;00m s\u001b[38;5;241m.\u001b[39mndim \u001b[38;5;241m==\u001b[39m \u001b[38;5;241m1\u001b[39m \u001b[38;5;28;01melse\u001b[39;00m\n\u001b[1;32m    623\u001b[0m         \u001b[38;5;124m\"\u001b[39m\u001b[38;5;124mExpected 1D or 2D array\u001b[39m\u001b[38;5;124m\"\u001b[39m)\n",
      "\u001b[0;31mValueError\u001b[0m: transmat_ rows must sum to 1 (got [0. 0. 0. 0. 0.])"
     ]
    }
   ],
   "source": [
    "print(w2vhmm.score(target_c, lt))"
   ]
  },
  {
   "cell_type": "code",
   "execution_count": 15,
   "metadata": {
    "collapsed": false,
    "execution": {
     "iopub.execute_input": "2023-06-20T17:35:52.471097Z",
     "iopub.status.busy": "2023-06-20T17:35:52.469656Z",
     "iopub.status.idle": "2023-06-20T17:35:52.477194Z",
     "shell.execute_reply": "2023-06-20T17:35:52.476454Z"
    }
   },
   "outputs": [],
   "source": [
    "w2v_dhmm = DiscreteHMM(n_components=5, no_nodes=512, l=100, optimizer=\"Adam\", verbose=True)"
   ]
  },
  {
   "cell_type": "code",
   "execution_count": 16,
   "metadata": {
    "collapsed": false,
    "execution": {
     "iopub.execute_input": "2023-06-20T17:35:52.480327Z",
     "iopub.status.busy": "2023-06-20T17:35:52.479569Z",
     "iopub.status.idle": "2023-06-20T17:36:49.393132Z",
     "shell.execute_reply": "2023-06-20T17:36:49.392591Z"
    }
   },
   "outputs": [
    {
     "name": "stderr",
     "output_type": "stream",
     "text": [
      "/ziob/klaudia/miniconda3/envs/preproc/lib/python3.10/site-packages/sklearn/cluster/_kmeans.py:870: FutureWarning: The default value of `n_init` will change from 10 to 'auto' in 1.4. Set the value of `n_init` explicitly to suppress the warning\n",
      "  warnings.warn(\n",
      "/ziob/klaudia/FlowHMM/torchHMM/model/discretized_HMM.py:447: RuntimeWarning: invalid value encountered in divide\n",
      "  cooc_matrix /= cooc_matrix.sum()\n"
     ]
    },
    {
     "ename": "ValueError",
     "evalue": "component 0 of 'full' covars must be symmetric, positive-definite",
     "output_type": "error",
     "traceback": [
      "\u001b[0;31m---------------------------------------------------------------------------\u001b[0m",
      "\u001b[0;31mValueError\u001b[0m                                Traceback (most recent call last)",
      "File \u001b[0;32m<timed eval>:1\u001b[0m\n",
      "File \u001b[0;32m/ziob/klaudia/FlowHMM/torchHMM/model/discretized_HMM.py:534\u001b[0m, in \u001b[0;36mDiscreteHMM.fit\u001b[0;34m(self, X, lengths, Xd, lengths_d, update_nodes, early_stopping)\u001b[0m\n\u001b[1;32m    532\u001b[0m     \u001b[38;5;28mself\u001b[39m\u001b[38;5;241m.\u001b[39m_fit_em_dense(X, lengths_d)\n\u001b[1;32m    533\u001b[0m \u001b[38;5;28;01melif\u001b[39;00m \u001b[38;5;28mself\u001b[39m\u001b[38;5;241m.\u001b[39mlearning_alg \u001b[38;5;241m==\u001b[39m \u001b[38;5;124m\"\u001b[39m\u001b[38;5;124mcooc\u001b[39m\u001b[38;5;124m\"\u001b[39m:\n\u001b[0;32m--> 534\u001b[0m     \u001b[38;5;28;43mself\u001b[39;49m\u001b[38;5;241;43m.\u001b[39;49m\u001b[43m_fit_cooc\u001b[49m\u001b[43m(\u001b[49m\u001b[43mXd\u001b[49m\u001b[43m,\u001b[49m\u001b[43m \u001b[49m\u001b[43mX\u001b[49m\u001b[43m,\u001b[49m\u001b[43m \u001b[49m\u001b[43mlengths_d\u001b[49m\u001b[43m,\u001b[49m\u001b[43m \u001b[49m\u001b[43mlengths\u001b[49m\u001b[43m,\u001b[49m\u001b[43m \u001b[49m\u001b[43mearly_stopping\u001b[49m\u001b[43m)\u001b[49m\n\u001b[1;32m    535\u001b[0m \u001b[38;5;28;01melse\u001b[39;00m:\n\u001b[1;32m    536\u001b[0m     _log\u001b[38;5;241m.\u001b[39merror(\n\u001b[1;32m    537\u001b[0m         \u001b[38;5;124mf\u001b[39m\u001b[38;5;124m\"\u001b[39m\u001b[38;5;124mLearning algorithm \u001b[39m\u001b[38;5;132;01m{\u001b[39;00m\u001b[38;5;28mself\u001b[39m\u001b[38;5;241m.\u001b[39mlearning_alg\u001b[38;5;132;01m}\u001b[39;00m\u001b[38;5;124m is not implemented. Select one of: \u001b[39m\u001b[38;5;132;01m{\u001b[39;00mLEARNING_ALGORITHMS\u001b[38;5;132;01m}\u001b[39;00m\u001b[38;5;124m\"\u001b[39m\n\u001b[1;32m    538\u001b[0m     )\n",
      "File \u001b[0;32m/ziob/klaudia/FlowHMM/torchHMM/model/discretized_HMM.py:482\u001b[0m, in \u001b[0;36mDiscreteHMM._fit_cooc\u001b[0;34m(self, Xd, Xc, lengthsd, lengthsc, early_stopping)\u001b[0m\n\u001b[1;32m    478\u001b[0m optimizer\u001b[38;5;241m.\u001b[39mstep()\n\u001b[1;32m    479\u001b[0m \u001b[38;5;28;01mif\u001b[39;00m i \u001b[38;5;241m%\u001b[39m \u001b[38;5;241m1000\u001b[39m \u001b[38;5;241m==\u001b[39m \u001b[38;5;241m0\u001b[39m:  \u001b[38;5;66;03m# TODO: select properly\u001b[39;00m\n\u001b[1;32m    480\u001b[0m     (\n\u001b[1;32m    481\u001b[0m         \u001b[38;5;28mself\u001b[39m\u001b[38;5;241m.\u001b[39mmeans_,\n\u001b[0;32m--> 482\u001b[0m         \u001b[38;5;28;43mself\u001b[39;49m\u001b[38;5;241;43m.\u001b[39;49m\u001b[43mcovars_\u001b[49m,\n\u001b[1;32m    483\u001b[0m         \u001b[38;5;28mself\u001b[39m\u001b[38;5;241m.\u001b[39mtransmat_,\n\u001b[1;32m    484\u001b[0m         \u001b[38;5;28mself\u001b[39m\u001b[38;5;241m.\u001b[39mstartprob_,\n\u001b[1;32m    485\u001b[0m     ) \u001b[38;5;241m=\u001b[39m \u001b[38;5;28mself\u001b[39m\u001b[38;5;241m.\u001b[39mmodel\u001b[38;5;241m.\u001b[39mget_model_params()\n\u001b[1;32m    487\u001b[0m     \u001b[38;5;28mself\u001b[39m\u001b[38;5;241m.\u001b[39moptim_params[\u001b[38;5;124m'\u001b[39m\u001b[38;5;124mlr\u001b[39m\u001b[38;5;124m'\u001b[39m] \u001b[38;5;241m=\u001b[39m \u001b[38;5;28mself\u001b[39m\u001b[38;5;241m.\u001b[39moptim_params[\u001b[38;5;124m'\u001b[39m\u001b[38;5;124mlr\u001b[39m\u001b[38;5;124m'\u001b[39m] \u001b[38;5;241m*\u001b[39m \u001b[38;5;241m.9\u001b[39m\n\u001b[1;32m    488\u001b[0m     optimizer \u001b[38;5;241m=\u001b[39m \u001b[38;5;28mself\u001b[39m\u001b[38;5;241m.\u001b[39moptimizer(\u001b[38;5;28mself\u001b[39m\u001b[38;5;241m.\u001b[39mmodel\u001b[38;5;241m.\u001b[39mparameters(), \u001b[38;5;241m*\u001b[39m\u001b[38;5;241m*\u001b[39m\u001b[38;5;28mself\u001b[39m\u001b[38;5;241m.\u001b[39moptim_params)\n",
      "File \u001b[0;32m/ziob/klaudia/miniconda3/envs/preproc/lib/python3.10/site-packages/hmmlearn/hmm.py:180\u001b[0m, in \u001b[0;36mGaussianHMM.covars_\u001b[0;34m(self, covars)\u001b[0m\n\u001b[1;32m    177\u001b[0m \u001b[38;5;129m@covars_\u001b[39m\u001b[38;5;241m.\u001b[39msetter\n\u001b[1;32m    178\u001b[0m \u001b[38;5;28;01mdef\u001b[39;00m \u001b[38;5;21mcovars_\u001b[39m(\u001b[38;5;28mself\u001b[39m, covars):\n\u001b[1;32m    179\u001b[0m     covars \u001b[38;5;241m=\u001b[39m np\u001b[38;5;241m.\u001b[39marray(covars, copy\u001b[38;5;241m=\u001b[39m\u001b[38;5;28;01mTrue\u001b[39;00m)\n\u001b[0;32m--> 180\u001b[0m     \u001b[43m_utils\u001b[49m\u001b[38;5;241;43m.\u001b[39;49m\u001b[43m_validate_covars\u001b[49m\u001b[43m(\u001b[49m\u001b[43mcovars\u001b[49m\u001b[43m,\u001b[49m\u001b[43m \u001b[49m\u001b[38;5;28;43mself\u001b[39;49m\u001b[38;5;241;43m.\u001b[39;49m\u001b[43mcovariance_type\u001b[49m\u001b[43m,\u001b[49m\n\u001b[1;32m    181\u001b[0m \u001b[43m                            \u001b[49m\u001b[38;5;28;43mself\u001b[39;49m\u001b[38;5;241;43m.\u001b[39;49m\u001b[43mn_components\u001b[49m\u001b[43m)\u001b[49m\n\u001b[1;32m    182\u001b[0m     \u001b[38;5;28mself\u001b[39m\u001b[38;5;241m.\u001b[39m_covars_ \u001b[38;5;241m=\u001b[39m covars\n",
      "File \u001b[0;32m/ziob/klaudia/miniconda3/envs/preproc/lib/python3.10/site-packages/hmmlearn/_utils.py:58\u001b[0m, in \u001b[0;36m_validate_covars\u001b[0;34m(covars, covariance_type, n_components)\u001b[0m\n\u001b[1;32m     55\u001b[0m     \u001b[38;5;28;01mfor\u001b[39;00m n, cv \u001b[38;5;129;01min\u001b[39;00m \u001b[38;5;28menumerate\u001b[39m(covars):\n\u001b[1;32m     56\u001b[0m         \u001b[38;5;28;01mif\u001b[39;00m (\u001b[38;5;129;01mnot\u001b[39;00m np\u001b[38;5;241m.\u001b[39mallclose(cv, cv\u001b[38;5;241m.\u001b[39mT)\n\u001b[1;32m     57\u001b[0m                 \u001b[38;5;129;01mor\u001b[39;00m np\u001b[38;5;241m.\u001b[39many(linalg\u001b[38;5;241m.\u001b[39meigvalsh(cv) \u001b[38;5;241m<\u001b[39m\u001b[38;5;241m=\u001b[39m \u001b[38;5;241m0\u001b[39m)):\n\u001b[0;32m---> 58\u001b[0m             \u001b[38;5;28;01mraise\u001b[39;00m \u001b[38;5;167;01mValueError\u001b[39;00m(\u001b[38;5;124m\"\u001b[39m\u001b[38;5;124mcomponent \u001b[39m\u001b[38;5;132;01m%d\u001b[39;00m\u001b[38;5;124m of \u001b[39m\u001b[38;5;124m'\u001b[39m\u001b[38;5;124mfull\u001b[39m\u001b[38;5;124m'\u001b[39m\u001b[38;5;124m covars must be \u001b[39m\u001b[38;5;124m\"\u001b[39m\n\u001b[1;32m     59\u001b[0m                              \u001b[38;5;124m\"\u001b[39m\u001b[38;5;124msymmetric, positive-definite\u001b[39m\u001b[38;5;124m\"\u001b[39m \u001b[38;5;241m%\u001b[39m n)\n\u001b[1;32m     60\u001b[0m \u001b[38;5;28;01melse\u001b[39;00m:\n\u001b[1;32m     61\u001b[0m     \u001b[38;5;28;01mraise\u001b[39;00m \u001b[38;5;167;01mValueError\u001b[39;00m(\u001b[38;5;124m\"\u001b[39m\u001b[38;5;124mcovariance_type must be one of \u001b[39m\u001b[38;5;124m\"\u001b[39m \u001b[38;5;241m+\u001b[39m\n\u001b[1;32m     62\u001b[0m                      \u001b[38;5;124m\"\u001b[39m\u001b[38;5;124m'\u001b[39m\u001b[38;5;124mspherical\u001b[39m\u001b[38;5;124m'\u001b[39m\u001b[38;5;124m, \u001b[39m\u001b[38;5;124m'\u001b[39m\u001b[38;5;124mtied\u001b[39m\u001b[38;5;124m'\u001b[39m\u001b[38;5;124m, \u001b[39m\u001b[38;5;124m'\u001b[39m\u001b[38;5;124mdiag\u001b[39m\u001b[38;5;124m'\u001b[39m\u001b[38;5;124m, \u001b[39m\u001b[38;5;124m'\u001b[39m\u001b[38;5;124mfull\u001b[39m\u001b[38;5;124m'\u001b[39m\u001b[38;5;124m\"\u001b[39m)\n",
      "\u001b[0;31mValueError\u001b[0m: component 0 of 'full' covars must be symmetric, positive-definite"
     ]
    }
   ],
   "source": [
    "%time w2v_dhmm.fit(X_c, l_c)"
   ]
  },
  {
   "cell_type": "code",
   "execution_count": 17,
   "metadata": {
    "collapsed": false,
    "execution": {
     "iopub.execute_input": "2023-06-20T17:36:49.399071Z",
     "iopub.status.busy": "2023-06-20T17:36:49.398382Z",
     "iopub.status.idle": "2023-06-20T17:36:52.253029Z",
     "shell.execute_reply": "2023-06-20T17:36:52.251118Z"
    }
   },
   "outputs": [
    {
     "ename": "ValueError",
     "evalue": "array must not contain infs or NaNs",
     "output_type": "error",
     "traceback": [
      "\u001b[0;31m---------------------------------------------------------------------------\u001b[0m",
      "\u001b[0;31mValueError\u001b[0m                                Traceback (most recent call last)",
      "Cell \u001b[0;32mIn[17], line 1\u001b[0m\n\u001b[0;32m----> 1\u001b[0m \u001b[38;5;28mprint\u001b[39m(\u001b[43mw2v_dhmm\u001b[49m\u001b[38;5;241;43m.\u001b[39;49m\u001b[43mscore\u001b[49m\u001b[43m(\u001b[49m\u001b[43mtarget_c\u001b[49m\u001b[43m,\u001b[49m\u001b[43m \u001b[49m\u001b[43mlt\u001b[49m\u001b[43m)\u001b[49m)\n",
      "File \u001b[0;32m/ziob/klaudia/miniconda3/envs/preproc/lib/python3.10/site-packages/hmmlearn/base.py:259\u001b[0m, in \u001b[0;36mBaseHMM.score\u001b[0;34m(self, X, lengths)\u001b[0m\n\u001b[1;32m    236\u001b[0m \u001b[38;5;28;01mdef\u001b[39;00m \u001b[38;5;21mscore\u001b[39m(\u001b[38;5;28mself\u001b[39m, X, lengths\u001b[38;5;241m=\u001b[39m\u001b[38;5;28;01mNone\u001b[39;00m):\n\u001b[1;32m    237\u001b[0m \u001b[38;5;250m    \u001b[39m\u001b[38;5;124;03m\"\"\"\u001b[39;00m\n\u001b[1;32m    238\u001b[0m \u001b[38;5;124;03m    Compute the log probability under the model.\u001b[39;00m\n\u001b[1;32m    239\u001b[0m \n\u001b[0;32m   (...)\u001b[0m\n\u001b[1;32m    257\u001b[0m \u001b[38;5;124;03m    decode : Find most likely state sequence corresponding to ``X``.\u001b[39;00m\n\u001b[1;32m    258\u001b[0m \u001b[38;5;124;03m    \"\"\"\u001b[39;00m\n\u001b[0;32m--> 259\u001b[0m     \u001b[38;5;28;01mreturn\u001b[39;00m \u001b[38;5;28;43mself\u001b[39;49m\u001b[38;5;241;43m.\u001b[39;49m\u001b[43m_score\u001b[49m\u001b[43m(\u001b[49m\u001b[43mX\u001b[49m\u001b[43m,\u001b[49m\u001b[43m \u001b[49m\u001b[43mlengths\u001b[49m\u001b[43m,\u001b[49m\u001b[43m \u001b[49m\u001b[43mcompute_posteriors\u001b[49m\u001b[38;5;241;43m=\u001b[39;49m\u001b[38;5;28;43;01mFalse\u001b[39;49;00m\u001b[43m)\u001b[49m[\u001b[38;5;241m0\u001b[39m]\n",
      "File \u001b[0;32m/ziob/klaudia/miniconda3/envs/preproc/lib/python3.10/site-packages/hmmlearn/base.py:277\u001b[0m, in \u001b[0;36mBaseHMM._score\u001b[0;34m(self, X, lengths, compute_posteriors)\u001b[0m\n\u001b[1;32m    272\u001b[0m X \u001b[38;5;241m=\u001b[39m check_array(X)\n\u001b[1;32m    273\u001b[0m impl \u001b[38;5;241m=\u001b[39m {\n\u001b[1;32m    274\u001b[0m     \u001b[38;5;124m\"\u001b[39m\u001b[38;5;124mscaling\u001b[39m\u001b[38;5;124m\"\u001b[39m: \u001b[38;5;28mself\u001b[39m\u001b[38;5;241m.\u001b[39m_score_scaling,\n\u001b[1;32m    275\u001b[0m     \u001b[38;5;124m\"\u001b[39m\u001b[38;5;124mlog\u001b[39m\u001b[38;5;124m\"\u001b[39m: \u001b[38;5;28mself\u001b[39m\u001b[38;5;241m.\u001b[39m_score_log,\n\u001b[1;32m    276\u001b[0m }[\u001b[38;5;28mself\u001b[39m\u001b[38;5;241m.\u001b[39mimplementation]\n\u001b[0;32m--> 277\u001b[0m \u001b[38;5;28;01mreturn\u001b[39;00m \u001b[43mimpl\u001b[49m\u001b[43m(\u001b[49m\n\u001b[1;32m    278\u001b[0m \u001b[43m    \u001b[49m\u001b[43mX\u001b[49m\u001b[38;5;241;43m=\u001b[39;49m\u001b[43mX\u001b[49m\u001b[43m,\u001b[49m\u001b[43m \u001b[49m\u001b[43mlengths\u001b[49m\u001b[38;5;241;43m=\u001b[39;49m\u001b[43mlengths\u001b[49m\u001b[43m,\u001b[49m\u001b[43m \u001b[49m\u001b[43mcompute_posteriors\u001b[49m\u001b[38;5;241;43m=\u001b[39;49m\u001b[43mcompute_posteriors\u001b[49m\u001b[43m)\u001b[49m\n",
      "File \u001b[0;32m/ziob/klaudia/miniconda3/envs/preproc/lib/python3.10/site-packages/hmmlearn/base.py:289\u001b[0m, in \u001b[0;36mBaseHMM._score_log\u001b[0;34m(self, X, lengths, compute_posteriors)\u001b[0m\n\u001b[1;32m    287\u001b[0m sub_posteriors \u001b[38;5;241m=\u001b[39m [np\u001b[38;5;241m.\u001b[39mempty((\u001b[38;5;241m0\u001b[39m, \u001b[38;5;28mself\u001b[39m\u001b[38;5;241m.\u001b[39mn_components))]\n\u001b[1;32m    288\u001b[0m \u001b[38;5;28;01mfor\u001b[39;00m sub_X \u001b[38;5;129;01min\u001b[39;00m _utils\u001b[38;5;241m.\u001b[39msplit_X_lengths(X, lengths):\n\u001b[0;32m--> 289\u001b[0m     log_frameprob \u001b[38;5;241m=\u001b[39m \u001b[38;5;28;43mself\u001b[39;49m\u001b[38;5;241;43m.\u001b[39;49m\u001b[43m_compute_log_likelihood\u001b[49m\u001b[43m(\u001b[49m\u001b[43msub_X\u001b[49m\u001b[43m)\u001b[49m\n\u001b[1;32m    290\u001b[0m     log_probij, fwdlattice \u001b[38;5;241m=\u001b[39m _hmmc\u001b[38;5;241m.\u001b[39mforward_log(\n\u001b[1;32m    291\u001b[0m         \u001b[38;5;28mself\u001b[39m\u001b[38;5;241m.\u001b[39mstartprob_, \u001b[38;5;28mself\u001b[39m\u001b[38;5;241m.\u001b[39mtransmat_, log_frameprob)\n\u001b[1;32m    292\u001b[0m     log_prob \u001b[38;5;241m+\u001b[39m\u001b[38;5;241m=\u001b[39m log_probij\n",
      "File \u001b[0;32m/ziob/klaudia/miniconda3/envs/preproc/lib/python3.10/site-packages/hmmlearn/hmm.py:227\u001b[0m, in \u001b[0;36mGaussianHMM._compute_log_likelihood\u001b[0;34m(self, X)\u001b[0m\n\u001b[1;32m    226\u001b[0m \u001b[38;5;28;01mdef\u001b[39;00m \u001b[38;5;21m_compute_log_likelihood\u001b[39m(\u001b[38;5;28mself\u001b[39m, X):\n\u001b[0;32m--> 227\u001b[0m     \u001b[38;5;28;01mreturn\u001b[39;00m \u001b[43mlog_multivariate_normal_density\u001b[49m\u001b[43m(\u001b[49m\n\u001b[1;32m    228\u001b[0m \u001b[43m        \u001b[49m\u001b[43mX\u001b[49m\u001b[43m,\u001b[49m\u001b[43m \u001b[49m\u001b[38;5;28;43mself\u001b[39;49m\u001b[38;5;241;43m.\u001b[39;49m\u001b[43mmeans_\u001b[49m\u001b[43m,\u001b[49m\u001b[43m \u001b[49m\u001b[38;5;28;43mself\u001b[39;49m\u001b[38;5;241;43m.\u001b[39;49m\u001b[43m_covars_\u001b[49m\u001b[43m,\u001b[49m\u001b[43m \u001b[49m\u001b[38;5;28;43mself\u001b[39;49m\u001b[38;5;241;43m.\u001b[39;49m\u001b[43mcovariance_type\u001b[49m\u001b[43m)\u001b[49m\n",
      "File \u001b[0;32m/ziob/klaudia/miniconda3/envs/preproc/lib/python3.10/site-packages/hmmlearn/stats.py:42\u001b[0m, in \u001b[0;36mlog_multivariate_normal_density\u001b[0;34m(X, means, covars, covariance_type)\u001b[0m\n\u001b[1;32m      6\u001b[0m \u001b[38;5;250m\u001b[39m\u001b[38;5;124;03m\"\"\"\u001b[39;00m\n\u001b[1;32m      7\u001b[0m \u001b[38;5;124;03mCompute the log probability under a multivariate Gaussian distribution.\u001b[39;00m\n\u001b[1;32m      8\u001b[0m \n\u001b[0;32m   (...)\u001b[0m\n\u001b[1;32m     35\u001b[0m \u001b[38;5;124;03m    X under each of the n_components multivariate Gaussian distributions.\u001b[39;00m\n\u001b[1;32m     36\u001b[0m \u001b[38;5;124;03m\"\"\"\u001b[39;00m\n\u001b[1;32m     37\u001b[0m log_multivariate_normal_density_dict \u001b[38;5;241m=\u001b[39m {\n\u001b[1;32m     38\u001b[0m     \u001b[38;5;124m'\u001b[39m\u001b[38;5;124mspherical\u001b[39m\u001b[38;5;124m'\u001b[39m: _log_multivariate_normal_density_spherical,\n\u001b[1;32m     39\u001b[0m     \u001b[38;5;124m'\u001b[39m\u001b[38;5;124mtied\u001b[39m\u001b[38;5;124m'\u001b[39m: _log_multivariate_normal_density_tied,\n\u001b[1;32m     40\u001b[0m     \u001b[38;5;124m'\u001b[39m\u001b[38;5;124mdiag\u001b[39m\u001b[38;5;124m'\u001b[39m: _log_multivariate_normal_density_diag,\n\u001b[1;32m     41\u001b[0m     \u001b[38;5;124m'\u001b[39m\u001b[38;5;124mfull\u001b[39m\u001b[38;5;124m'\u001b[39m: _log_multivariate_normal_density_full}\n\u001b[0;32m---> 42\u001b[0m \u001b[38;5;28;01mreturn\u001b[39;00m \u001b[43mlog_multivariate_normal_density_dict\u001b[49m\u001b[43m[\u001b[49m\u001b[43mcovariance_type\u001b[49m\u001b[43m]\u001b[49m\u001b[43m(\u001b[49m\n\u001b[1;32m     43\u001b[0m \u001b[43m    \u001b[49m\u001b[43mX\u001b[49m\u001b[43m,\u001b[49m\u001b[43m \u001b[49m\u001b[43mmeans\u001b[49m\u001b[43m,\u001b[49m\u001b[43m \u001b[49m\u001b[43mcovars\u001b[49m\n\u001b[1;32m     44\u001b[0m \u001b[43m\u001b[49m\u001b[43m)\u001b[49m\n",
      "File \u001b[0;32m/ziob/klaudia/miniconda3/envs/preproc/lib/python3.10/site-packages/hmmlearn/stats.py:93\u001b[0m, in \u001b[0;36m_log_multivariate_normal_density_full\u001b[0;34m(X, means, covars, min_covar)\u001b[0m\n\u001b[1;32m     89\u001b[0m             \u001b[38;5;28;01mraise\u001b[39;00m \u001b[38;5;167;01mValueError\u001b[39;00m(\u001b[38;5;124m\"\u001b[39m\u001b[38;5;124m'\u001b[39m\u001b[38;5;124mcovars\u001b[39m\u001b[38;5;124m'\u001b[39m\u001b[38;5;124m must be symmetric, \u001b[39m\u001b[38;5;124m\"\u001b[39m\n\u001b[1;32m     90\u001b[0m                              \u001b[38;5;124m\"\u001b[39m\u001b[38;5;124mpositive-definite\u001b[39m\u001b[38;5;124m\"\u001b[39m)\n\u001b[1;32m     92\u001b[0m     cv_log_det \u001b[38;5;241m=\u001b[39m \u001b[38;5;241m2\u001b[39m \u001b[38;5;241m*\u001b[39m np\u001b[38;5;241m.\u001b[39msum(np\u001b[38;5;241m.\u001b[39mlog(np\u001b[38;5;241m.\u001b[39mdiagonal(cv_chol)))\n\u001b[0;32m---> 93\u001b[0m     cv_sol \u001b[38;5;241m=\u001b[39m \u001b[43mlinalg\u001b[49m\u001b[38;5;241;43m.\u001b[39;49m\u001b[43msolve_triangular\u001b[49m\u001b[43m(\u001b[49m\u001b[43mcv_chol\u001b[49m\u001b[43m,\u001b[49m\u001b[43m \u001b[49m\u001b[43m(\u001b[49m\u001b[43mX\u001b[49m\u001b[43m \u001b[49m\u001b[38;5;241;43m-\u001b[39;49m\u001b[43m \u001b[49m\u001b[43mmu\u001b[49m\u001b[43m)\u001b[49m\u001b[38;5;241;43m.\u001b[39;49m\u001b[43mT\u001b[49m\u001b[43m,\u001b[49m\u001b[43m \u001b[49m\u001b[43mlower\u001b[49m\u001b[38;5;241;43m=\u001b[39;49m\u001b[38;5;28;43;01mTrue\u001b[39;49;00m\u001b[43m)\u001b[49m\u001b[38;5;241m.\u001b[39mT\n\u001b[1;32m     94\u001b[0m     log_prob\u001b[38;5;241m.\u001b[39mappend(\u001b[38;5;241m-\u001b[39m\u001b[38;5;241m.5\u001b[39m \u001b[38;5;241m*\u001b[39m (nf \u001b[38;5;241m*\u001b[39m np\u001b[38;5;241m.\u001b[39mlog(\u001b[38;5;241m2\u001b[39m \u001b[38;5;241m*\u001b[39m np\u001b[38;5;241m.\u001b[39mpi)\n\u001b[1;32m     95\u001b[0m                            \u001b[38;5;241m+\u001b[39m (cv_sol \u001b[38;5;241m*\u001b[39m\u001b[38;5;241m*\u001b[39m \u001b[38;5;241m2\u001b[39m)\u001b[38;5;241m.\u001b[39msum(axis\u001b[38;5;241m=\u001b[39m\u001b[38;5;241m1\u001b[39m)\n\u001b[1;32m     96\u001b[0m                            \u001b[38;5;241m+\u001b[39m cv_log_det))\n\u001b[1;32m     98\u001b[0m \u001b[38;5;28;01mreturn\u001b[39;00m np\u001b[38;5;241m.\u001b[39mtranspose(log_prob)\n",
      "File \u001b[0;32m/ziob/klaudia/miniconda3/envs/preproc/lib/python3.10/site-packages/scipy/linalg/_basic.py:338\u001b[0m, in \u001b[0;36msolve_triangular\u001b[0;34m(a, b, trans, lower, unit_diagonal, overwrite_b, check_finite)\u001b[0m\n\u001b[1;32m    270\u001b[0m \u001b[38;5;250m\u001b[39m\u001b[38;5;124;03m\"\"\"\u001b[39;00m\n\u001b[1;32m    271\u001b[0m \u001b[38;5;124;03mSolve the equation `a x = b` for `x`, assuming a is a triangular matrix.\u001b[39;00m\n\u001b[1;32m    272\u001b[0m \n\u001b[0;32m   (...)\u001b[0m\n\u001b[1;32m    334\u001b[0m \n\u001b[1;32m    335\u001b[0m \u001b[38;5;124;03m\"\"\"\u001b[39;00m\n\u001b[1;32m    337\u001b[0m a1 \u001b[38;5;241m=\u001b[39m _asarray_validated(a, check_finite\u001b[38;5;241m=\u001b[39mcheck_finite)\n\u001b[0;32m--> 338\u001b[0m b1 \u001b[38;5;241m=\u001b[39m \u001b[43m_asarray_validated\u001b[49m\u001b[43m(\u001b[49m\u001b[43mb\u001b[49m\u001b[43m,\u001b[49m\u001b[43m \u001b[49m\u001b[43mcheck_finite\u001b[49m\u001b[38;5;241;43m=\u001b[39;49m\u001b[43mcheck_finite\u001b[49m\u001b[43m)\u001b[49m\n\u001b[1;32m    339\u001b[0m \u001b[38;5;28;01mif\u001b[39;00m \u001b[38;5;28mlen\u001b[39m(a1\u001b[38;5;241m.\u001b[39mshape) \u001b[38;5;241m!=\u001b[39m \u001b[38;5;241m2\u001b[39m \u001b[38;5;129;01mor\u001b[39;00m a1\u001b[38;5;241m.\u001b[39mshape[\u001b[38;5;241m0\u001b[39m] \u001b[38;5;241m!=\u001b[39m a1\u001b[38;5;241m.\u001b[39mshape[\u001b[38;5;241m1\u001b[39m]:\n\u001b[1;32m    340\u001b[0m     \u001b[38;5;28;01mraise\u001b[39;00m \u001b[38;5;167;01mValueError\u001b[39;00m(\u001b[38;5;124m'\u001b[39m\u001b[38;5;124mexpected square matrix\u001b[39m\u001b[38;5;124m'\u001b[39m)\n",
      "File \u001b[0;32m/ziob/klaudia/miniconda3/envs/preproc/lib/python3.10/site-packages/scipy/_lib/_util.py:252\u001b[0m, in \u001b[0;36m_asarray_validated\u001b[0;34m(a, check_finite, sparse_ok, objects_ok, mask_ok, as_inexact)\u001b[0m\n\u001b[1;32m    250\u001b[0m         \u001b[38;5;28;01mraise\u001b[39;00m \u001b[38;5;167;01mValueError\u001b[39;00m(\u001b[38;5;124m'\u001b[39m\u001b[38;5;124mmasked arrays are not supported\u001b[39m\u001b[38;5;124m'\u001b[39m)\n\u001b[1;32m    251\u001b[0m toarray \u001b[38;5;241m=\u001b[39m np\u001b[38;5;241m.\u001b[39masarray_chkfinite \u001b[38;5;28;01mif\u001b[39;00m check_finite \u001b[38;5;28;01melse\u001b[39;00m np\u001b[38;5;241m.\u001b[39masarray\n\u001b[0;32m--> 252\u001b[0m a \u001b[38;5;241m=\u001b[39m \u001b[43mtoarray\u001b[49m\u001b[43m(\u001b[49m\u001b[43ma\u001b[49m\u001b[43m)\u001b[49m\n\u001b[1;32m    253\u001b[0m \u001b[38;5;28;01mif\u001b[39;00m \u001b[38;5;129;01mnot\u001b[39;00m objects_ok:\n\u001b[1;32m    254\u001b[0m     \u001b[38;5;28;01mif\u001b[39;00m a\u001b[38;5;241m.\u001b[39mdtype \u001b[38;5;129;01mis\u001b[39;00m np\u001b[38;5;241m.\u001b[39mdtype(\u001b[38;5;124m'\u001b[39m\u001b[38;5;124mO\u001b[39m\u001b[38;5;124m'\u001b[39m):\n",
      "File \u001b[0;32m/ziob/klaudia/miniconda3/envs/preproc/lib/python3.10/site-packages/numpy/lib/function_base.py:627\u001b[0m, in \u001b[0;36masarray_chkfinite\u001b[0;34m(a, dtype, order)\u001b[0m\n\u001b[1;32m    625\u001b[0m a \u001b[38;5;241m=\u001b[39m asarray(a, dtype\u001b[38;5;241m=\u001b[39mdtype, order\u001b[38;5;241m=\u001b[39morder)\n\u001b[1;32m    626\u001b[0m \u001b[38;5;28;01mif\u001b[39;00m a\u001b[38;5;241m.\u001b[39mdtype\u001b[38;5;241m.\u001b[39mchar \u001b[38;5;129;01min\u001b[39;00m typecodes[\u001b[38;5;124m'\u001b[39m\u001b[38;5;124mAllFloat\u001b[39m\u001b[38;5;124m'\u001b[39m] \u001b[38;5;129;01mand\u001b[39;00m \u001b[38;5;129;01mnot\u001b[39;00m np\u001b[38;5;241m.\u001b[39misfinite(a)\u001b[38;5;241m.\u001b[39mall():\n\u001b[0;32m--> 627\u001b[0m     \u001b[38;5;28;01mraise\u001b[39;00m \u001b[38;5;167;01mValueError\u001b[39;00m(\n\u001b[1;32m    628\u001b[0m         \u001b[38;5;124m\"\u001b[39m\u001b[38;5;124marray must not contain infs or NaNs\u001b[39m\u001b[38;5;124m\"\u001b[39m)\n\u001b[1;32m    629\u001b[0m \u001b[38;5;28;01mreturn\u001b[39;00m a\n",
      "\u001b[0;31mValueError\u001b[0m: array must not contain infs or NaNs"
     ]
    }
   ],
   "source": [
    "print(w2v_dhmm.score(target_c, lt))"
   ]
  },
  {
   "cell_type": "code",
   "execution_count": 18,
   "metadata": {
    "collapsed": false,
    "execution": {
     "iopub.execute_input": "2023-06-20T17:36:52.258905Z",
     "iopub.status.busy": "2023-06-20T17:36:52.257384Z",
     "iopub.status.idle": "2023-06-20T17:37:41.613655Z",
     "shell.execute_reply": "2023-06-20T17:37:41.613047Z"
    }
   },
   "outputs": [
    {
     "name": "stderr",
     "output_type": "stream",
     "text": [
      "/ziob/klaudia/FlowHMM/torchHMM/model/discretized_flow_HMM.py:417: RuntimeWarning: invalid value encountered in divide\n",
      "  cooc_matrix /= cooc_matrix.sum()\n"
     ]
    },
    {
     "ename": "RuntimeError",
     "evalue": "Index put requires the source and destination dtypes match, got Double for the destination and Float for the source.",
     "output_type": "error",
     "traceback": [
      "\u001b[0;31m---------------------------------------------------------------------------\u001b[0m",
      "\u001b[0;31mRuntimeError\u001b[0m                              Traceback (most recent call last)",
      "File \u001b[0;32m<timed eval>:1\u001b[0m\n",
      "File \u001b[0;32m/ziob/klaudia/FlowHMM/torchHMM/model/discretized_flow_HMM.py:515\u001b[0m, in \u001b[0;36mFlowHMM.fit\u001b[0;34m(self, X, lengths, Xd, lengths_d, update_nodes, early_stopping)\u001b[0m\n\u001b[1;32m    513\u001b[0m     \u001b[38;5;28mself\u001b[39m\u001b[38;5;241m.\u001b[39m_fit_em_dense(X, lengths_d)\n\u001b[1;32m    514\u001b[0m \u001b[38;5;28;01melif\u001b[39;00m \u001b[38;5;28mself\u001b[39m\u001b[38;5;241m.\u001b[39mlearning_alg \u001b[38;5;241m==\u001b[39m \u001b[38;5;124m\"\u001b[39m\u001b[38;5;124mcooc\u001b[39m\u001b[38;5;124m\"\u001b[39m:\n\u001b[0;32m--> 515\u001b[0m     \u001b[38;5;28;43mself\u001b[39;49m\u001b[38;5;241;43m.\u001b[39;49m\u001b[43m_fit_cooc\u001b[49m\u001b[43m(\u001b[49m\u001b[43mXd\u001b[49m\u001b[43m,\u001b[49m\u001b[43m \u001b[49m\u001b[43mX\u001b[49m\u001b[43m,\u001b[49m\u001b[43m \u001b[49m\u001b[43mlengths_d\u001b[49m\u001b[43m,\u001b[49m\u001b[43m \u001b[49m\u001b[43mlengths\u001b[49m\u001b[43m,\u001b[49m\u001b[43m \u001b[49m\u001b[43mearly_stopping\u001b[49m\u001b[43m)\u001b[49m\n\u001b[1;32m    516\u001b[0m \u001b[38;5;28;01melse\u001b[39;00m:\n\u001b[1;32m    517\u001b[0m     _log\u001b[38;5;241m.\u001b[39merror(\n\u001b[1;32m    518\u001b[0m         \u001b[38;5;124mf\u001b[39m\u001b[38;5;124m\"\u001b[39m\u001b[38;5;124mLearning algorithm \u001b[39m\u001b[38;5;132;01m{\u001b[39;00m\u001b[38;5;28mself\u001b[39m\u001b[38;5;241m.\u001b[39mlearning_alg\u001b[38;5;132;01m}\u001b[39;00m\u001b[38;5;124m is not implemented. Select one of: \u001b[39m\u001b[38;5;132;01m{\u001b[39;00mLEARNING_ALGORITHMS\u001b[38;5;132;01m}\u001b[39;00m\u001b[38;5;124m\"\u001b[39m\n\u001b[1;32m    519\u001b[0m     )\n",
      "File \u001b[0;32m/ziob/klaudia/FlowHMM/torchHMM/model/discretized_flow_HMM.py:454\u001b[0m, in \u001b[0;36mFlowHMM._fit_cooc\u001b[0;34m(self, Xd, Xc, lengthsd, lengthsc, early_stopping)\u001b[0m\n\u001b[1;32m    448\u001b[0m optimizer\u001b[38;5;241m.\u001b[39mstep()\n\u001b[1;32m    449\u001b[0m \u001b[38;5;28;01mif\u001b[39;00m i \u001b[38;5;241m%\u001b[39m \u001b[38;5;241m1000\u001b[39m \u001b[38;5;241m==\u001b[39m \u001b[38;5;241m0\u001b[39m:  \u001b[38;5;66;03m# TODO: select properly\u001b[39;00m\n\u001b[1;32m    450\u001b[0m     (\n\u001b[1;32m    451\u001b[0m         \u001b[38;5;28mself\u001b[39m\u001b[38;5;241m.\u001b[39mNFs,\n\u001b[1;32m    452\u001b[0m         \u001b[38;5;28mself\u001b[39m\u001b[38;5;241m.\u001b[39mtransmat_,\n\u001b[1;32m    453\u001b[0m         \u001b[38;5;28mself\u001b[39m\u001b[38;5;241m.\u001b[39mstartprob_,\n\u001b[0;32m--> 454\u001b[0m     ) \u001b[38;5;241m=\u001b[39m \u001b[38;5;28;43mself\u001b[39;49m\u001b[38;5;241;43m.\u001b[39;49m\u001b[43mmodel\u001b[49m\u001b[38;5;241;43m.\u001b[39;49m\u001b[43mget_model_params\u001b[49m\u001b[43m(\u001b[49m\u001b[43m)\u001b[49m\n\u001b[1;32m    456\u001b[0m     \u001b[38;5;28mself\u001b[39m\u001b[38;5;241m.\u001b[39moptim_params[\u001b[38;5;124m'\u001b[39m\u001b[38;5;124mlr\u001b[39m\u001b[38;5;124m'\u001b[39m] \u001b[38;5;241m=\u001b[39m \u001b[38;5;28mself\u001b[39m\u001b[38;5;241m.\u001b[39moptim_params[\u001b[38;5;124m'\u001b[39m\u001b[38;5;124mlr\u001b[39m\u001b[38;5;124m'\u001b[39m] \u001b[38;5;241m*\u001b[39m \u001b[38;5;241m.9\u001b[39m\n\u001b[1;32m    457\u001b[0m     optimizer \u001b[38;5;241m=\u001b[39m \u001b[38;5;28mself\u001b[39m\u001b[38;5;241m.\u001b[39moptimizer(\u001b[38;5;28mself\u001b[39m\u001b[38;5;241m.\u001b[39mmodel\u001b[38;5;241m.\u001b[39mparameters(), \u001b[38;5;241m*\u001b[39m\u001b[38;5;241m*\u001b[39m\u001b[38;5;28mself\u001b[39m\u001b[38;5;241m.\u001b[39moptim_params)\n",
      "File \u001b[0;32m/ziob/klaudia/FlowHMM/torchHMM/model/discretized_flow_HMM.py:138\u001b[0m, in \u001b[0;36mFlowHmmOptim.get_model_params\u001b[0;34m(self)\u001b[0m\n\u001b[1;32m    136\u001b[0m S_ \u001b[38;5;241m=\u001b[39m torch\u001b[38;5;241m.\u001b[39mexp(\u001b[38;5;28mself\u001b[39m\u001b[38;5;241m.\u001b[39m_S_unconstrained)\n\u001b[1;32m    137\u001b[0m zero_rows \u001b[38;5;241m=\u001b[39m  S_\u001b[38;5;241m.\u001b[39msum(axis\u001b[38;5;241m=\u001b[39m\u001b[38;5;241m0\u001b[39m) \u001b[38;5;241m==\u001b[39m \u001b[38;5;241m0\u001b[39m\n\u001b[0;32m--> 138\u001b[0m \u001b[43mS_\u001b[49m\u001b[43m[\u001b[49m\u001b[43mzero_rows\u001b[49m\u001b[43m]\u001b[49m \u001b[38;5;241m=\u001b[39m torch\u001b[38;5;241m.\u001b[39mones(S_\u001b[38;5;241m.\u001b[39mshape)[zero_rows]\n\u001b[1;32m    139\u001b[0m S \u001b[38;5;241m=\u001b[39m S_ \u001b[38;5;241m/\u001b[39m S_\u001b[38;5;241m.\u001b[39msum()\n\u001b[1;32m    140\u001b[0m startprob \u001b[38;5;241m=\u001b[39m torch\u001b[38;5;241m.\u001b[39msum(S, dim\u001b[38;5;241m=\u001b[39m\u001b[38;5;241m1\u001b[39m)\n",
      "\u001b[0;31mRuntimeError\u001b[0m: Index put requires the source and destination dtypes match, got Double for the destination and Float for the source."
     ]
    },
    {
     "ename": "TypeError",
     "evalue": "FlowHMM.score() takes 2 positional arguments but 3 were given",
     "output_type": "error",
     "traceback": [
      "\u001b[0;31m---------------------------------------------------------------------------\u001b[0m",
      "\u001b[0;31mTypeError\u001b[0m                                 Traceback (most recent call last)",
      "Cell \u001b[0;32mIn[18], line 5\u001b[0m\n\u001b[1;32m      1\u001b[0m w2v_fhmm \u001b[38;5;241m=\u001b[39m FlowHMM(n_components\u001b[38;5;241m=\u001b[39m\u001b[38;5;241m5\u001b[39m, no_nodes\u001b[38;5;241m=\u001b[39m\u001b[38;5;241m512\u001b[39m, l\u001b[38;5;241m=\u001b[39m\u001b[38;5;241m100\u001b[39m, optimizer\u001b[38;5;241m=\u001b[39m\u001b[38;5;124m\"\u001b[39m\u001b[38;5;124mAdam\u001b[39m\u001b[38;5;124m\"\u001b[39m, verbose\u001b[38;5;241m=\u001b[39m\u001b[38;5;28;01mTrue\u001b[39;00m)\n\u001b[1;32m      3\u001b[0m get_ipython()\u001b[38;5;241m.\u001b[39mrun_line_magic(\u001b[38;5;124m'\u001b[39m\u001b[38;5;124mtime\u001b[39m\u001b[38;5;124m'\u001b[39m, \u001b[38;5;124m'\u001b[39m\u001b[38;5;124mw2v_fhmm.fit(X_c, l_c)\u001b[39m\u001b[38;5;124m'\u001b[39m)\n\u001b[0;32m----> 5\u001b[0m \u001b[38;5;28mprint\u001b[39m(\u001b[43mw2v_fhmm\u001b[49m\u001b[38;5;241;43m.\u001b[39;49m\u001b[43mscore\u001b[49m\u001b[43m(\u001b[49m\u001b[43mtarget_c\u001b[49m\u001b[43m,\u001b[49m\u001b[43m \u001b[49m\u001b[43mlt\u001b[49m\u001b[43m)\u001b[49m)\n",
      "\u001b[0;31mTypeError\u001b[0m: FlowHMM.score() takes 2 positional arguments but 3 were given"
     ]
    }
   ],
   "source": [
    "w2v_fhmm = FlowHMM(n_components=5, no_nodes=512, l=100, optimizer=\"Adam\", verbose=True)\n",
    "\n",
    "%time w2v_fhmm.fit(X_c, l_c)\n",
    "\n",
    "print(w2v_fhmm.score(target_c, lt))\n"
   ]
  }
 ],
 "metadata": {
  "kernelspec": {
   "display_name": "Python 3",
   "language": "python",
   "name": "python3"
  },
  "language_info": {
   "codemirror_mode": {
    "name": "ipython",
    "version": 3
   },
   "file_extension": ".py",
   "mimetype": "text/x-python",
   "name": "python",
   "nbconvert_exporter": "python",
   "pygments_lexer": "ipython3",
   "version": "3.10.9"
  }
 },
 "nbformat": 4,
 "nbformat_minor": 0
}
