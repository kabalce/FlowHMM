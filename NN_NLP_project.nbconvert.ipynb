{
 "cells": [
  {
   "cell_type": "code",
   "execution_count": 1,
   "metadata": {
    "ExecuteTime": {
     "end_time": "2023-06-20T18:21:24.917388994Z",
     "start_time": "2023-06-20T18:21:21.816549855Z"
    },
    "collapsed": true,
    "execution": {
     "iopub.execute_input": "2023-06-20T18:35:07.283973Z",
     "iopub.status.busy": "2023-06-20T18:35:07.282781Z",
     "iopub.status.idle": "2023-06-20T18:35:35.404719Z",
     "shell.execute_reply": "2023-06-20T18:35:35.403006Z"
    }
   },
   "outputs": [],
   "source": [
    "from torchHMM.model.discretized_HMM import DiscreteHMM, DISCRETIZATION_TECHNIQUES\n",
    "from torchHMM.model.discretized_flow_HMM import FlowHMM"
   ]
  },
  {
   "cell_type": "code",
   "execution_count": 2,
   "metadata": {
    "ExecuteTime": {
     "end_time": "2023-06-20T18:21:25.426880898Z",
     "start_time": "2023-06-20T18:21:24.919406164Z"
    },
    "collapsed": false,
    "execution": {
     "iopub.execute_input": "2023-06-20T18:35:35.412572Z",
     "iopub.status.busy": "2023-06-20T18:35:35.411446Z",
     "iopub.status.idle": "2023-06-20T18:35:41.661406Z",
     "shell.execute_reply": "2023-06-20T18:35:41.659546Z"
    }
   },
   "outputs": [],
   "source": [
    "import numpy as np\n",
    "import pandas as pd\n",
    "import pickle as pkl"
   ]
  },
  {
   "cell_type": "code",
   "execution_count": 3,
   "metadata": {
    "ExecuteTime": {
     "end_time": "2023-06-20T18:21:25.585738439Z",
     "start_time": "2023-06-20T18:21:25.430620644Z"
    },
    "collapsed": false,
    "execution": {
     "iopub.execute_input": "2023-06-20T18:35:41.669921Z",
     "iopub.status.busy": "2023-06-20T18:35:41.667921Z",
     "iopub.status.idle": "2023-06-20T18:35:43.503820Z",
     "shell.execute_reply": "2023-06-20T18:35:43.501927Z"
    }
   },
   "outputs": [],
   "source": [
    "from hmmlearn.hmm import CategoricalHMM, GaussianHMM\n",
    "from gensim.models import KeyedVectors\n"
   ]
  },
  {
   "cell_type": "code",
   "execution_count": 4,
   "metadata": {
    "ExecuteTime": {
     "end_time": "2023-06-20T18:22:25.677005789Z",
     "start_time": "2023-06-20T18:22:10.988230672Z"
    },
    "collapsed": false,
    "execution": {
     "iopub.execute_input": "2023-06-20T18:35:43.513641Z",
     "iopub.status.busy": "2023-06-20T18:35:43.511384Z",
     "iopub.status.idle": "2023-06-20T18:35:57.096848Z",
     "shell.execute_reply": "2023-06-20T18:35:57.095855Z"
    }
   },
   "outputs": [],
   "source": [
    "with open('clickstream_experiment/data/preprocessed_data/ClickStream_test_cleaned.pkl', 'rb') as f:\n",
    "    cs = pkl.load(f)"
   ]
  },
  {
   "cell_type": "code",
   "execution_count": 5,
   "metadata": {
    "ExecuteTime": {
     "end_time": "2023-06-20T18:22:57.662225691Z",
     "start_time": "2023-06-20T18:22:57.635218463Z"
    },
    "collapsed": false,
    "execution": {
     "iopub.execute_input": "2023-06-20T18:35:57.101587Z",
     "iopub.status.busy": "2023-06-20T18:35:57.100608Z",
     "iopub.status.idle": "2023-06-20T18:35:57.108973Z",
     "shell.execute_reply": "2023-06-20T18:35:57.107786Z"
    }
   },
   "outputs": [],
   "source": [
    "session_train, sessions_test = cs.sessions[:10000], cs.sessions[10000:11000]\n"
   ]
  },
  {
   "cell_type": "code",
   "execution_count": 6,
   "metadata": {
    "ExecuteTime": {
     "end_time": "2023-06-20T18:22:58.837276197Z",
     "start_time": "2023-06-20T18:22:58.476808811Z"
    },
    "collapsed": false,
    "execution": {
     "iopub.execute_input": "2023-06-20T18:35:57.114909Z",
     "iopub.status.busy": "2023-06-20T18:35:57.114134Z",
     "iopub.status.idle": "2023-06-20T18:35:57.268781Z",
     "shell.execute_reply": "2023-06-20T18:35:57.268068Z"
    }
   },
   "outputs": [],
   "source": [
    "item_ids = np.unique([e.item_id for s in session_train for e in s.event_list])\n",
    "item_ids = {item_ids[i]: i for i in range(len(item_ids))}\n",
    "\n",
    "Xs = [[item_ids[e.item_id] for e in s.event_list] for s in session_train]\n",
    "l = [len(y) for y in Xs]\n",
    "\n",
    "X = np.concatenate(Xs).reshape(-1, 1)\n",
    "\n",
    "target =  [[item_ids[e.item_id] for e in s.event_list if e.item_id in item_ids.keys()] for s in sessions_test]\n",
    "target = [l for l in target if len(l)]\n",
    "lt = np.array([len(y) for y in target])\n",
    "target = np.concatenate(target).reshape(-1, 1)"
   ]
  },
  {
   "cell_type": "code",
   "execution_count": 7,
   "metadata": {
    "ExecuteTime": {
     "end_time": "2023-06-20T18:22:59.599689404Z",
     "start_time": "2023-06-20T18:22:59.575620931Z"
    },
    "collapsed": false,
    "execution": {
     "iopub.execute_input": "2023-06-20T18:35:57.272290Z",
     "iopub.status.busy": "2023-06-20T18:35:57.271640Z",
     "iopub.status.idle": "2023-06-20T18:35:57.278441Z",
     "shell.execute_reply": "2023-06-20T18:35:57.277941Z"
    }
   },
   "outputs": [
    {
     "data": {
      "text/plain": [
       "40682"
      ]
     },
     "execution_count": 7,
     "metadata": {},
     "output_type": "execute_result"
    }
   ],
   "source": [
    "len(item_ids.keys())"
   ]
  },
  {
   "cell_type": "code",
   "execution_count": 8,
   "metadata": {
    "ExecuteTime": {
     "end_time": "2023-06-20T18:23:00.404040610Z",
     "start_time": "2023-06-20T18:23:00.384300755Z"
    },
    "collapsed": false,
    "execution": {
     "iopub.execute_input": "2023-06-20T18:35:57.346610Z",
     "iopub.status.busy": "2023-06-20T18:35:57.345566Z",
     "iopub.status.idle": "2023-06-20T18:35:57.353778Z",
     "shell.execute_reply": "2023-06-20T18:35:57.352214Z"
    }
   },
   "outputs": [],
   "source": [
    "chmm = CategoricalHMM(5, n_iter=10, verbose=True)\n"
   ]
  },
  {
   "cell_type": "code",
   "execution_count": 9,
   "metadata": {
    "ExecuteTime": {
     "end_time": "2023-06-20T18:23:21.780253107Z",
     "start_time": "2023-06-20T18:23:02.438883287Z"
    },
    "collapsed": false,
    "execution": {
     "iopub.execute_input": "2023-06-20T18:35:57.358469Z",
     "iopub.status.busy": "2023-06-20T18:35:57.357140Z",
     "iopub.status.idle": "2023-06-20T18:36:11.873858Z",
     "shell.execute_reply": "2023-06-20T18:36:11.872802Z"
    }
   },
   "outputs": [
    {
     "name": "stderr",
     "output_type": "stream",
     "text": [
      "Fitting a model with 203429 free scalar parameters with only 101294 data points will result in a degenerate solution.\n",
      "         1    -1086149.4128             +nan\n",
      "         2    -1017010.9627      +69138.4501\n",
      "         3    -1006078.0874      +10932.8753\n",
      "         4     -997579.3790       +8498.7084\n",
      "         5     -991854.2349       +5725.1441\n",
      "         6     -988110.1798       +3744.0551\n",
      "         7     -985622.8717       +2487.3081\n",
      "         8     -983949.0090       +1673.8628\n",
      "         9     -982787.7529       +1161.2561\n"
     ]
    },
    {
     "name": "stdout",
     "output_type": "stream",
     "text": [
      "CPU times: user 14.4 s, sys: 3.66 ms, total: 14.4 s\n",
      "Wall time: 14.5 s\n"
     ]
    },
    {
     "name": "stderr",
     "output_type": "stream",
     "text": [
      "        10     -981980.0398        +807.7131\n"
     ]
    },
    {
     "data": {
      "text/html": [
       "<style>#sk-container-id-1 {color: black;background-color: white;}#sk-container-id-1 pre{padding: 0;}#sk-container-id-1 div.sk-toggleable {background-color: white;}#sk-container-id-1 label.sk-toggleable__label {cursor: pointer;display: block;width: 100%;margin-bottom: 0;padding: 0.3em;box-sizing: border-box;text-align: center;}#sk-container-id-1 label.sk-toggleable__label-arrow:before {content: \"▸\";float: left;margin-right: 0.25em;color: #696969;}#sk-container-id-1 label.sk-toggleable__label-arrow:hover:before {color: black;}#sk-container-id-1 div.sk-estimator:hover label.sk-toggleable__label-arrow:before {color: black;}#sk-container-id-1 div.sk-toggleable__content {max-height: 0;max-width: 0;overflow: hidden;text-align: left;background-color: #f0f8ff;}#sk-container-id-1 div.sk-toggleable__content pre {margin: 0.2em;color: black;border-radius: 0.25em;background-color: #f0f8ff;}#sk-container-id-1 input.sk-toggleable__control:checked~div.sk-toggleable__content {max-height: 200px;max-width: 100%;overflow: auto;}#sk-container-id-1 input.sk-toggleable__control:checked~label.sk-toggleable__label-arrow:before {content: \"▾\";}#sk-container-id-1 div.sk-estimator input.sk-toggleable__control:checked~label.sk-toggleable__label {background-color: #d4ebff;}#sk-container-id-1 div.sk-label input.sk-toggleable__control:checked~label.sk-toggleable__label {background-color: #d4ebff;}#sk-container-id-1 input.sk-hidden--visually {border: 0;clip: rect(1px 1px 1px 1px);clip: rect(1px, 1px, 1px, 1px);height: 1px;margin: -1px;overflow: hidden;padding: 0;position: absolute;width: 1px;}#sk-container-id-1 div.sk-estimator {font-family: monospace;background-color: #f0f8ff;border: 1px dotted black;border-radius: 0.25em;box-sizing: border-box;margin-bottom: 0.5em;}#sk-container-id-1 div.sk-estimator:hover {background-color: #d4ebff;}#sk-container-id-1 div.sk-parallel-item::after {content: \"\";width: 100%;border-bottom: 1px solid gray;flex-grow: 1;}#sk-container-id-1 div.sk-label:hover label.sk-toggleable__label {background-color: #d4ebff;}#sk-container-id-1 div.sk-serial::before {content: \"\";position: absolute;border-left: 1px solid gray;box-sizing: border-box;top: 0;bottom: 0;left: 50%;z-index: 0;}#sk-container-id-1 div.sk-serial {display: flex;flex-direction: column;align-items: center;background-color: white;padding-right: 0.2em;padding-left: 0.2em;position: relative;}#sk-container-id-1 div.sk-item {position: relative;z-index: 1;}#sk-container-id-1 div.sk-parallel {display: flex;align-items: stretch;justify-content: center;background-color: white;position: relative;}#sk-container-id-1 div.sk-item::before, #sk-container-id-1 div.sk-parallel-item::before {content: \"\";position: absolute;border-left: 1px solid gray;box-sizing: border-box;top: 0;bottom: 0;left: 50%;z-index: -1;}#sk-container-id-1 div.sk-parallel-item {display: flex;flex-direction: column;z-index: 1;position: relative;background-color: white;}#sk-container-id-1 div.sk-parallel-item:first-child::after {align-self: flex-end;width: 50%;}#sk-container-id-1 div.sk-parallel-item:last-child::after {align-self: flex-start;width: 50%;}#sk-container-id-1 div.sk-parallel-item:only-child::after {width: 0;}#sk-container-id-1 div.sk-dashed-wrapped {border: 1px dashed gray;margin: 0 0.4em 0.5em 0.4em;box-sizing: border-box;padding-bottom: 0.4em;background-color: white;}#sk-container-id-1 div.sk-label label {font-family: monospace;font-weight: bold;display: inline-block;line-height: 1.2em;}#sk-container-id-1 div.sk-label-container {text-align: center;}#sk-container-id-1 div.sk-container {/* jupyter's `normalize.less` sets `[hidden] { display: none; }` but bootstrap.min.css set `[hidden] { display: none !important; }` so we also need the `!important` here to be able to override the default hidden behavior on the sphinx rendered scikit-learn.org. See: https://github.com/scikit-learn/scikit-learn/issues/21755 */display: inline-block !important;position: relative;}#sk-container-id-1 div.sk-text-repr-fallback {display: none;}</style><div id=\"sk-container-id-1\" class=\"sk-top-container\"><div class=\"sk-text-repr-fallback\"><pre>CategoricalHMM(n_components=5,\n",
       "               random_state=RandomState(MT19937) at 0x7FE9D7CB4A40,\n",
       "               verbose=True)</pre><b>In a Jupyter environment, please rerun this cell to show the HTML representation or trust the notebook. <br />On GitHub, the HTML representation is unable to render, please try loading this page with nbviewer.org.</b></div><div class=\"sk-container\" hidden><div class=\"sk-item\"><div class=\"sk-estimator sk-toggleable\"><input class=\"sk-toggleable__control sk-hidden--visually\" id=\"sk-estimator-id-1\" type=\"checkbox\" checked><label for=\"sk-estimator-id-1\" class=\"sk-toggleable__label sk-toggleable__label-arrow\">CategoricalHMM</label><div class=\"sk-toggleable__content\"><pre>CategoricalHMM(n_components=5,\n",
       "               random_state=RandomState(MT19937) at 0x7FE9D7CB4A40,\n",
       "               verbose=True)</pre></div></div></div></div></div>"
      ],
      "text/plain": [
       "CategoricalHMM(n_components=5,\n",
       "               random_state=RandomState(MT19937) at 0x7FE9D7CB4A40,\n",
       "               verbose=True)"
      ]
     },
     "execution_count": 9,
     "metadata": {},
     "output_type": "execute_result"
    }
   ],
   "source": [
    "%time chmm.fit(X, l)"
   ]
  },
  {
   "cell_type": "code",
   "execution_count": 10,
   "metadata": {
    "ExecuteTime": {
     "end_time": "2023-06-20T18:23:23.444223864Z",
     "start_time": "2023-06-20T18:23:23.401973189Z"
    },
    "collapsed": false,
    "execution": {
     "iopub.execute_input": "2023-06-20T18:36:11.879215Z",
     "iopub.status.busy": "2023-06-20T18:36:11.878386Z",
     "iopub.status.idle": "2023-06-20T18:36:11.904798Z",
     "shell.execute_reply": "2023-06-20T18:36:11.904236Z"
    }
   },
   "outputs": [
    {
     "name": "stdout",
     "output_type": "stream",
     "text": [
      "-60913.77072549441\n"
     ]
    }
   ],
   "source": [
    "print(chmm.score(target, lt))"
   ]
  },
  {
   "cell_type": "code",
   "execution_count": 11,
   "metadata": {
    "ExecuteTime": {
     "end_time": "2023-06-20T18:24:42.032483840Z",
     "start_time": "2023-06-20T18:24:41.704801762Z"
    },
    "collapsed": false,
    "execution": {
     "iopub.execute_input": "2023-06-20T18:36:11.908534Z",
     "iopub.status.busy": "2023-06-20T18:36:11.908078Z",
     "iopub.status.idle": "2023-06-20T18:36:12.213292Z",
     "shell.execute_reply": "2023-06-20T18:36:12.212092Z"
    }
   },
   "outputs": [],
   "source": [
    "vectors = KeyedVectors.load(\n",
    "    f\"clickstream_experiment/data/preprocessed_data/vectors_train_20_10_5_8_cleaned.kv\"\n",
    ")\n",
    "vecs = np.concatenate(\n",
    "    [\n",
    "        vectors.get_vector(k).reshape(1, -1)\n",
    "        for k in list(vectors.key_to_index.keys())\n",
    "    ]\n",
    ")"
   ]
  },
  {
   "cell_type": "code",
   "execution_count": 12,
   "metadata": {
    "ExecuteTime": {
     "end_time": "2023-06-20T18:24:42.776322886Z",
     "start_time": "2023-06-20T18:24:42.757777606Z"
    },
    "collapsed": false,
    "execution": {
     "iopub.execute_input": "2023-06-20T18:36:12.219117Z",
     "iopub.status.busy": "2023-06-20T18:36:12.217324Z",
     "iopub.status.idle": "2023-06-20T18:36:12.233808Z",
     "shell.execute_reply": "2023-06-20T18:36:12.233114Z"
    }
   },
   "outputs": [],
   "source": [
    "unknown = vecs.mean(axis=0).reshape(1, -1)\n",
    "\n",
    "def get_vec(e):\n",
    "    try:\n",
    "        return vectors.get_vector(e.item_id).reshape(1, -1)\n",
    "    except:\n",
    "        return unknown"
   ]
  },
  {
   "cell_type": "code",
   "execution_count": 13,
   "metadata": {
    "ExecuteTime": {
     "end_time": "2023-06-20T18:24:44.297892693Z",
     "start_time": "2023-06-20T18:24:43.848615414Z"
    },
    "collapsed": false,
    "execution": {
     "iopub.execute_input": "2023-06-20T18:36:12.237220Z",
     "iopub.status.busy": "2023-06-20T18:36:12.236669Z",
     "iopub.status.idle": "2023-06-20T18:36:12.467476Z",
     "shell.execute_reply": "2023-06-20T18:36:12.466755Z"
    }
   },
   "outputs": [],
   "source": [
    "Xs_c = [[get_vec(e) for e in s.event_list] for s in session_train]\n",
    "l_c = np.array([len(y) for y in X])\n",
    "\n",
    "X_c = np.concatenate([a for as_ in Xs_c for a in as_], axis=0)\n",
    "\n",
    "target_c =  [[get_vec(e) for e in s.event_list if e.item_id in item_ids.keys()] for s in sessions_test]\n",
    "target_c = np.concatenate([a for as_ in target_c for a in as_], axis=0)\n"
   ]
  },
  {
   "cell_type": "code",
   "execution_count": 14,
   "metadata": {
    "ExecuteTime": {
     "end_time": "2023-06-20T18:24:45.197173861Z",
     "start_time": "2023-06-20T18:24:45.170177665Z"
    },
    "collapsed": false,
    "execution": {
     "iopub.execute_input": "2023-06-20T18:36:12.471099Z",
     "iopub.status.busy": "2023-06-20T18:36:12.470611Z",
     "iopub.status.idle": "2023-06-20T18:36:12.474655Z",
     "shell.execute_reply": "2023-06-20T18:36:12.474157Z"
    }
   },
   "outputs": [],
   "source": [
    "w2vhmm = GaussianHMM(5, n_iter=10, verbose=True)"
   ]
  },
  {
   "cell_type": "code",
   "execution_count": 15,
   "metadata": {
    "ExecuteTime": {
     "end_time": "2023-06-20T18:27:43.779847169Z",
     "start_time": "2023-06-20T18:24:46.236338741Z"
    },
    "collapsed": false,
    "execution": {
     "iopub.execute_input": "2023-06-20T18:36:12.479948Z",
     "iopub.status.busy": "2023-06-20T18:36:12.479460Z",
     "iopub.status.idle": "2023-06-20T18:38:18.690159Z",
     "shell.execute_reply": "2023-06-20T18:38:18.689607Z"
    }
   },
   "outputs": [
    {
     "name": "stderr",
     "output_type": "stream",
     "text": [
      "/ziob/klaudia/miniconda3/envs/preproc/lib/python3.10/site-packages/sklearn/cluster/_kmeans.py:870: FutureWarning: The default value of `n_init` will change from 10 to 'auto' in 1.4. Set the value of `n_init` explicitly to suppress the warning\n",
      "  warnings.warn(\n",
      "         1     2380636.8370             +nan\n",
      "         2     4816711.6964    +2436074.8594\n",
      "         3     8651356.4184    +3834644.7220\n",
      "         4    13754777.6574    +5103421.2390\n",
      "         5    13755287.9813        +510.3239\n",
      "         6    13755967.3509        +679.3696\n",
      "         7    13756602.2661        +634.9152\n",
      "         8    13757452.8608        +850.5947\n",
      "         9    13758106.8537        +653.9929\n",
      "        10    13759075.1177        +968.2640\n",
      "Some rows of transmat_ have zero sum because no transition from the state was ever observed.\n"
     ]
    },
    {
     "name": "stdout",
     "output_type": "stream",
     "text": [
      "CPU times: user 2min 5s, sys: 741 ms, total: 2min 6s\n",
      "Wall time: 2min 6s\n"
     ]
    },
    {
     "data": {
      "text/html": [
       "<style>#sk-container-id-2 {color: black;background-color: white;}#sk-container-id-2 pre{padding: 0;}#sk-container-id-2 div.sk-toggleable {background-color: white;}#sk-container-id-2 label.sk-toggleable__label {cursor: pointer;display: block;width: 100%;margin-bottom: 0;padding: 0.3em;box-sizing: border-box;text-align: center;}#sk-container-id-2 label.sk-toggleable__label-arrow:before {content: \"▸\";float: left;margin-right: 0.25em;color: #696969;}#sk-container-id-2 label.sk-toggleable__label-arrow:hover:before {color: black;}#sk-container-id-2 div.sk-estimator:hover label.sk-toggleable__label-arrow:before {color: black;}#sk-container-id-2 div.sk-toggleable__content {max-height: 0;max-width: 0;overflow: hidden;text-align: left;background-color: #f0f8ff;}#sk-container-id-2 div.sk-toggleable__content pre {margin: 0.2em;color: black;border-radius: 0.25em;background-color: #f0f8ff;}#sk-container-id-2 input.sk-toggleable__control:checked~div.sk-toggleable__content {max-height: 200px;max-width: 100%;overflow: auto;}#sk-container-id-2 input.sk-toggleable__control:checked~label.sk-toggleable__label-arrow:before {content: \"▾\";}#sk-container-id-2 div.sk-estimator input.sk-toggleable__control:checked~label.sk-toggleable__label {background-color: #d4ebff;}#sk-container-id-2 div.sk-label input.sk-toggleable__control:checked~label.sk-toggleable__label {background-color: #d4ebff;}#sk-container-id-2 input.sk-hidden--visually {border: 0;clip: rect(1px 1px 1px 1px);clip: rect(1px, 1px, 1px, 1px);height: 1px;margin: -1px;overflow: hidden;padding: 0;position: absolute;width: 1px;}#sk-container-id-2 div.sk-estimator {font-family: monospace;background-color: #f0f8ff;border: 1px dotted black;border-radius: 0.25em;box-sizing: border-box;margin-bottom: 0.5em;}#sk-container-id-2 div.sk-estimator:hover {background-color: #d4ebff;}#sk-container-id-2 div.sk-parallel-item::after {content: \"\";width: 100%;border-bottom: 1px solid gray;flex-grow: 1;}#sk-container-id-2 div.sk-label:hover label.sk-toggleable__label {background-color: #d4ebff;}#sk-container-id-2 div.sk-serial::before {content: \"\";position: absolute;border-left: 1px solid gray;box-sizing: border-box;top: 0;bottom: 0;left: 50%;z-index: 0;}#sk-container-id-2 div.sk-serial {display: flex;flex-direction: column;align-items: center;background-color: white;padding-right: 0.2em;padding-left: 0.2em;position: relative;}#sk-container-id-2 div.sk-item {position: relative;z-index: 1;}#sk-container-id-2 div.sk-parallel {display: flex;align-items: stretch;justify-content: center;background-color: white;position: relative;}#sk-container-id-2 div.sk-item::before, #sk-container-id-2 div.sk-parallel-item::before {content: \"\";position: absolute;border-left: 1px solid gray;box-sizing: border-box;top: 0;bottom: 0;left: 50%;z-index: -1;}#sk-container-id-2 div.sk-parallel-item {display: flex;flex-direction: column;z-index: 1;position: relative;background-color: white;}#sk-container-id-2 div.sk-parallel-item:first-child::after {align-self: flex-end;width: 50%;}#sk-container-id-2 div.sk-parallel-item:last-child::after {align-self: flex-start;width: 50%;}#sk-container-id-2 div.sk-parallel-item:only-child::after {width: 0;}#sk-container-id-2 div.sk-dashed-wrapped {border: 1px dashed gray;margin: 0 0.4em 0.5em 0.4em;box-sizing: border-box;padding-bottom: 0.4em;background-color: white;}#sk-container-id-2 div.sk-label label {font-family: monospace;font-weight: bold;display: inline-block;line-height: 1.2em;}#sk-container-id-2 div.sk-label-container {text-align: center;}#sk-container-id-2 div.sk-container {/* jupyter's `normalize.less` sets `[hidden] { display: none; }` but bootstrap.min.css set `[hidden] { display: none !important; }` so we also need the `!important` here to be able to override the default hidden behavior on the sphinx rendered scikit-learn.org. See: https://github.com/scikit-learn/scikit-learn/issues/21755 */display: inline-block !important;position: relative;}#sk-container-id-2 div.sk-text-repr-fallback {display: none;}</style><div id=\"sk-container-id-2\" class=\"sk-top-container\"><div class=\"sk-text-repr-fallback\"><pre>GaussianHMM(n_components=5, verbose=True)</pre><b>In a Jupyter environment, please rerun this cell to show the HTML representation or trust the notebook. <br />On GitHub, the HTML representation is unable to render, please try loading this page with nbviewer.org.</b></div><div class=\"sk-container\" hidden><div class=\"sk-item\"><div class=\"sk-estimator sk-toggleable\"><input class=\"sk-toggleable__control sk-hidden--visually\" id=\"sk-estimator-id-2\" type=\"checkbox\" checked><label for=\"sk-estimator-id-2\" class=\"sk-toggleable__label sk-toggleable__label-arrow\">GaussianHMM</label><div class=\"sk-toggleable__content\"><pre>GaussianHMM(n_components=5, verbose=True)</pre></div></div></div></div></div>"
      ],
      "text/plain": [
       "GaussianHMM(n_components=5, verbose=True)"
      ]
     },
     "execution_count": 15,
     "metadata": {},
     "output_type": "execute_result"
    }
   ],
   "source": [
    "%time w2vhmm.fit(X_c, l_c)"
   ]
  },
  {
   "cell_type": "code",
   "execution_count": 16,
   "metadata": {
    "ExecuteTime": {
     "end_time": "2023-06-20T18:27:57.592832222Z",
     "start_time": "2023-06-20T18:27:57.564246280Z"
    },
    "collapsed": false,
    "execution": {
     "iopub.execute_input": "2023-06-20T18:38:18.698235Z",
     "iopub.status.busy": "2023-06-20T18:38:18.697485Z",
     "iopub.status.idle": "2023-06-20T18:38:18.702332Z",
     "shell.execute_reply": "2023-06-20T18:38:18.701778Z"
    }
   },
   "outputs": [
    {
     "data": {
      "text/plain": [
       "array([[0., 0., 0., 0., 0.],\n",
       "       [0., 0., 0., 0., 0.],\n",
       "       [0., 0., 0., 0., 0.],\n",
       "       [0., 0., 0., 0., 0.],\n",
       "       [0., 0., 0., 0., 0.]])"
      ]
     },
     "execution_count": 16,
     "metadata": {},
     "output_type": "execute_result"
    }
   ],
   "source": [
    "w2vhmm.transmat_"
   ]
  },
  {
   "cell_type": "code",
   "execution_count": 17,
   "metadata": {
    "ExecuteTime": {
     "end_time": "2023-06-20T18:28:12.774030248Z",
     "start_time": "2023-06-20T18:28:12.752353371Z"
    },
    "collapsed": false,
    "execution": {
     "iopub.execute_input": "2023-06-20T18:38:18.705365Z",
     "iopub.status.busy": "2023-06-20T18:38:18.704667Z",
     "iopub.status.idle": "2023-06-20T18:38:18.708959Z",
     "shell.execute_reply": "2023-06-20T18:38:18.708036Z"
    }
   },
   "outputs": [],
   "source": [
    "zeros = w2vhmm.transmat_.sum(axis=1) == 0\n",
    "w2vhmm.transmat_[zeros] = np.ones(w2vhmm.transmat_.shape)[zeros] / w2vhmm.n_components\n"
   ]
  },
  {
   "cell_type": "code",
   "execution_count": 18,
   "metadata": {
    "ExecuteTime": {
     "end_time": "2023-06-20T18:28:14.694769457Z",
     "start_time": "2023-06-20T18:28:14.583110632Z"
    },
    "collapsed": false,
    "execution": {
     "iopub.execute_input": "2023-06-20T18:38:18.711445Z",
     "iopub.status.busy": "2023-06-20T18:38:18.710884Z",
     "iopub.status.idle": "2023-06-20T18:38:18.755692Z",
     "shell.execute_reply": "2023-06-20T18:38:18.755127Z"
    }
   },
   "outputs": [
    {
     "name": "stdout",
     "output_type": "stream",
     "text": [
      "625033.6468025462\n"
     ]
    }
   ],
   "source": [
    "print(w2vhmm.score(target_c, lt))"
   ]
  },
  {
   "cell_type": "code",
   "execution_count": 19,
   "metadata": {
    "ExecuteTime": {
     "end_time": "2023-06-20T18:28:25.818432661Z",
     "start_time": "2023-06-20T18:28:25.809965693Z"
    },
    "collapsed": false,
    "execution": {
     "iopub.execute_input": "2023-06-20T18:38:18.761178Z",
     "iopub.status.busy": "2023-06-20T18:38:18.760661Z",
     "iopub.status.idle": "2023-06-20T18:38:18.764073Z",
     "shell.execute_reply": "2023-06-20T18:38:18.763479Z"
    }
   },
   "outputs": [],
   "source": [
    "w2v_dhmm = DiscreteHMM(n_components=5, no_nodes=64, optimizer=\"Adam\", verbose=True, covariance_type='diag')"
   ]
  },
  {
   "cell_type": "code",
   "execution_count": 20,
   "metadata": {
    "ExecuteTime": {
     "start_time": "2023-06-20T18:28:27.160186017Z"
    },
    "collapsed": false,
    "execution": {
     "iopub.execute_input": "2023-06-20T18:38:18.769644Z",
     "iopub.status.busy": "2023-06-20T18:38:18.769162Z",
     "iopub.status.idle": "2023-06-20T18:38:29.117894Z",
     "shell.execute_reply": "2023-06-20T18:38:29.116233Z"
    },
    "is_executing": true
   },
   "outputs": [
    {
     "name": "stderr",
     "output_type": "stream",
     "text": [
      "/ziob/klaudia/miniconda3/envs/preproc/lib/python3.10/site-packages/sklearn/cluster/_kmeans.py:870: FutureWarning: The default value of `n_init` will change from 10 to 'auto' in 1.4. Set the value of `n_init` explicitly to suppress the warning\n",
      "  warnings.warn(\n",
      "/ziob/klaudia/FlowHMM/torchHMM/model/discretized_HMM.py:447: RuntimeWarning: invalid value encountered in divide\n",
      "  cooc_matrix /= cooc_matrix.sum()\n"
     ]
    },
    {
     "ename": "ValueError",
     "evalue": "'diag' covars must have shape (n_components, n_dim)",
     "output_type": "error",
     "traceback": [
      "\u001b[0;31m---------------------------------------------------------------------------\u001b[0m",
      "\u001b[0;31mValueError\u001b[0m                                Traceback (most recent call last)",
      "File \u001b[0;32m<timed eval>:1\u001b[0m\n",
      "File \u001b[0;32m/ziob/klaudia/FlowHMM/torchHMM/model/discretized_HMM.py:534\u001b[0m, in \u001b[0;36mDiscreteHMM.fit\u001b[0;34m(self, X, lengths, Xd, lengths_d, update_nodes, early_stopping)\u001b[0m\n\u001b[1;32m    532\u001b[0m     \u001b[38;5;28mself\u001b[39m\u001b[38;5;241m.\u001b[39m_fit_em_dense(X, lengths_d)\n\u001b[1;32m    533\u001b[0m \u001b[38;5;28;01melif\u001b[39;00m \u001b[38;5;28mself\u001b[39m\u001b[38;5;241m.\u001b[39mlearning_alg \u001b[38;5;241m==\u001b[39m \u001b[38;5;124m\"\u001b[39m\u001b[38;5;124mcooc\u001b[39m\u001b[38;5;124m\"\u001b[39m:\n\u001b[0;32m--> 534\u001b[0m     \u001b[38;5;28;43mself\u001b[39;49m\u001b[38;5;241;43m.\u001b[39;49m\u001b[43m_fit_cooc\u001b[49m\u001b[43m(\u001b[49m\u001b[43mXd\u001b[49m\u001b[43m,\u001b[49m\u001b[43m \u001b[49m\u001b[43mX\u001b[49m\u001b[43m,\u001b[49m\u001b[43m \u001b[49m\u001b[43mlengths_d\u001b[49m\u001b[43m,\u001b[49m\u001b[43m \u001b[49m\u001b[43mlengths\u001b[49m\u001b[43m,\u001b[49m\u001b[43m \u001b[49m\u001b[43mearly_stopping\u001b[49m\u001b[43m)\u001b[49m\n\u001b[1;32m    535\u001b[0m \u001b[38;5;28;01melse\u001b[39;00m:\n\u001b[1;32m    536\u001b[0m     _log\u001b[38;5;241m.\u001b[39merror(\n\u001b[1;32m    537\u001b[0m         \u001b[38;5;124mf\u001b[39m\u001b[38;5;124m\"\u001b[39m\u001b[38;5;124mLearning algorithm \u001b[39m\u001b[38;5;132;01m{\u001b[39;00m\u001b[38;5;28mself\u001b[39m\u001b[38;5;241m.\u001b[39mlearning_alg\u001b[38;5;132;01m}\u001b[39;00m\u001b[38;5;124m is not implemented. Select one of: \u001b[39m\u001b[38;5;132;01m{\u001b[39;00mLEARNING_ALGORITHMS\u001b[38;5;132;01m}\u001b[39;00m\u001b[38;5;124m\"\u001b[39m\n\u001b[1;32m    538\u001b[0m     )\n",
      "File \u001b[0;32m/ziob/klaudia/FlowHMM/torchHMM/model/discretized_HMM.py:482\u001b[0m, in \u001b[0;36mDiscreteHMM._fit_cooc\u001b[0;34m(self, Xd, Xc, lengthsd, lengthsc, early_stopping)\u001b[0m\n\u001b[1;32m    478\u001b[0m optimizer\u001b[38;5;241m.\u001b[39mstep()\n\u001b[1;32m    479\u001b[0m \u001b[38;5;28;01mif\u001b[39;00m i \u001b[38;5;241m%\u001b[39m \u001b[38;5;241m1000\u001b[39m \u001b[38;5;241m==\u001b[39m \u001b[38;5;241m0\u001b[39m:  \u001b[38;5;66;03m# TODO: select properly\u001b[39;00m\n\u001b[1;32m    480\u001b[0m     (\n\u001b[1;32m    481\u001b[0m         \u001b[38;5;28mself\u001b[39m\u001b[38;5;241m.\u001b[39mmeans_,\n\u001b[0;32m--> 482\u001b[0m         \u001b[38;5;28;43mself\u001b[39;49m\u001b[38;5;241;43m.\u001b[39;49m\u001b[43mcovars_\u001b[49m,\n\u001b[1;32m    483\u001b[0m         \u001b[38;5;28mself\u001b[39m\u001b[38;5;241m.\u001b[39mtransmat_,\n\u001b[1;32m    484\u001b[0m         \u001b[38;5;28mself\u001b[39m\u001b[38;5;241m.\u001b[39mstartprob_,\n\u001b[1;32m    485\u001b[0m     ) \u001b[38;5;241m=\u001b[39m \u001b[38;5;28mself\u001b[39m\u001b[38;5;241m.\u001b[39mmodel\u001b[38;5;241m.\u001b[39mget_model_params()\n\u001b[1;32m    487\u001b[0m     \u001b[38;5;28mself\u001b[39m\u001b[38;5;241m.\u001b[39moptim_params[\u001b[38;5;124m'\u001b[39m\u001b[38;5;124mlr\u001b[39m\u001b[38;5;124m'\u001b[39m] \u001b[38;5;241m=\u001b[39m \u001b[38;5;28mself\u001b[39m\u001b[38;5;241m.\u001b[39moptim_params[\u001b[38;5;124m'\u001b[39m\u001b[38;5;124mlr\u001b[39m\u001b[38;5;124m'\u001b[39m] \u001b[38;5;241m*\u001b[39m \u001b[38;5;241m.9\u001b[39m\n\u001b[1;32m    488\u001b[0m     optimizer \u001b[38;5;241m=\u001b[39m \u001b[38;5;28mself\u001b[39m\u001b[38;5;241m.\u001b[39moptimizer(\u001b[38;5;28mself\u001b[39m\u001b[38;5;241m.\u001b[39mmodel\u001b[38;5;241m.\u001b[39mparameters(), \u001b[38;5;241m*\u001b[39m\u001b[38;5;241m*\u001b[39m\u001b[38;5;28mself\u001b[39m\u001b[38;5;241m.\u001b[39moptim_params)\n",
      "File \u001b[0;32m/ziob/klaudia/miniconda3/envs/preproc/lib/python3.10/site-packages/hmmlearn/hmm.py:180\u001b[0m, in \u001b[0;36mGaussianHMM.covars_\u001b[0;34m(self, covars)\u001b[0m\n\u001b[1;32m    177\u001b[0m \u001b[38;5;129m@covars_\u001b[39m\u001b[38;5;241m.\u001b[39msetter\n\u001b[1;32m    178\u001b[0m \u001b[38;5;28;01mdef\u001b[39;00m \u001b[38;5;21mcovars_\u001b[39m(\u001b[38;5;28mself\u001b[39m, covars):\n\u001b[1;32m    179\u001b[0m     covars \u001b[38;5;241m=\u001b[39m np\u001b[38;5;241m.\u001b[39marray(covars, copy\u001b[38;5;241m=\u001b[39m\u001b[38;5;28;01mTrue\u001b[39;00m)\n\u001b[0;32m--> 180\u001b[0m     \u001b[43m_utils\u001b[49m\u001b[38;5;241;43m.\u001b[39;49m\u001b[43m_validate_covars\u001b[49m\u001b[43m(\u001b[49m\u001b[43mcovars\u001b[49m\u001b[43m,\u001b[49m\u001b[43m \u001b[49m\u001b[38;5;28;43mself\u001b[39;49m\u001b[38;5;241;43m.\u001b[39;49m\u001b[43mcovariance_type\u001b[49m\u001b[43m,\u001b[49m\n\u001b[1;32m    181\u001b[0m \u001b[43m                            \u001b[49m\u001b[38;5;28;43mself\u001b[39;49m\u001b[38;5;241;43m.\u001b[39;49m\u001b[43mn_components\u001b[49m\u001b[43m)\u001b[49m\n\u001b[1;32m    182\u001b[0m     \u001b[38;5;28mself\u001b[39m\u001b[38;5;241m.\u001b[39m_covars_ \u001b[38;5;241m=\u001b[39m covars\n",
      "File \u001b[0;32m/ziob/klaudia/miniconda3/envs/preproc/lib/python3.10/site-packages/hmmlearn/_utils.py:44\u001b[0m, in \u001b[0;36m_validate_covars\u001b[0;34m(covars, covariance_type, n_components)\u001b[0m\n\u001b[1;32m     42\u001b[0m \u001b[38;5;28;01melif\u001b[39;00m covariance_type \u001b[38;5;241m==\u001b[39m \u001b[38;5;124m'\u001b[39m\u001b[38;5;124mdiag\u001b[39m\u001b[38;5;124m'\u001b[39m:\n\u001b[1;32m     43\u001b[0m     \u001b[38;5;28;01mif\u001b[39;00m \u001b[38;5;28mlen\u001b[39m(covars\u001b[38;5;241m.\u001b[39mshape) \u001b[38;5;241m!=\u001b[39m \u001b[38;5;241m2\u001b[39m:\n\u001b[0;32m---> 44\u001b[0m         \u001b[38;5;28;01mraise\u001b[39;00m \u001b[38;5;167;01mValueError\u001b[39;00m(\u001b[38;5;124m\"\u001b[39m\u001b[38;5;124m'\u001b[39m\u001b[38;5;124mdiag\u001b[39m\u001b[38;5;124m'\u001b[39m\u001b[38;5;124m covars must have shape \u001b[39m\u001b[38;5;124m\"\u001b[39m\n\u001b[1;32m     45\u001b[0m                          \u001b[38;5;124m\"\u001b[39m\u001b[38;5;124m(n_components, n_dim)\u001b[39m\u001b[38;5;124m\"\u001b[39m)\n\u001b[1;32m     46\u001b[0m     \u001b[38;5;28;01melif\u001b[39;00m np\u001b[38;5;241m.\u001b[39many(covars \u001b[38;5;241m<\u001b[39m\u001b[38;5;241m=\u001b[39m \u001b[38;5;241m0\u001b[39m):\n\u001b[1;32m     47\u001b[0m         \u001b[38;5;28;01mraise\u001b[39;00m \u001b[38;5;167;01mValueError\u001b[39;00m(\u001b[38;5;124m\"\u001b[39m\u001b[38;5;124m'\u001b[39m\u001b[38;5;124mdiag\u001b[39m\u001b[38;5;124m'\u001b[39m\u001b[38;5;124m covars must be positive\u001b[39m\u001b[38;5;124m\"\u001b[39m)\n",
      "\u001b[0;31mValueError\u001b[0m: 'diag' covars must have shape (n_components, n_dim)"
     ]
    }
   ],
   "source": [
    "%time w2v_dhmm.fit(X_c, l_c)"
   ]
  },
  {
   "cell_type": "code",
   "execution_count": 21,
   "metadata": {
    "collapsed": false,
    "execution": {
     "iopub.execute_input": "2023-06-20T18:38:29.122857Z",
     "iopub.status.busy": "2023-06-20T18:38:29.121434Z",
     "iopub.status.idle": "2023-06-20T18:38:29.169787Z",
     "shell.execute_reply": "2023-06-20T18:38:29.169210Z"
    }
   },
   "outputs": [
    {
     "name": "stdout",
     "output_type": "stream",
     "text": [
      "nan\n"
     ]
    }
   ],
   "source": [
    "print(w2v_dhmm.score(target_c, lt))"
   ]
  },
  {
   "cell_type": "code",
   "execution_count": 22,
   "metadata": {
    "collapsed": false,
    "execution": {
     "iopub.execute_input": "2023-06-20T18:38:29.175962Z",
     "iopub.status.busy": "2023-06-20T18:38:29.175222Z",
     "iopub.status.idle": "2023-06-20T18:38:36.358278Z",
     "shell.execute_reply": "2023-06-20T18:38:36.357640Z"
    }
   },
   "outputs": [
    {
     "name": "stderr",
     "output_type": "stream",
     "text": [
      "/ziob/klaudia/FlowHMM/torchHMM/model/discretized_flow_HMM.py:417: RuntimeWarning: invalid value encountered in divide\n",
      "  cooc_matrix /= cooc_matrix.sum()\n"
     ]
    },
    {
     "ename": "RuntimeError",
     "evalue": "Index put requires the source and destination dtypes match, got Double for the destination and Float for the source.",
     "output_type": "error",
     "traceback": [
      "\u001b[0;31m---------------------------------------------------------------------------\u001b[0m",
      "\u001b[0;31mRuntimeError\u001b[0m                              Traceback (most recent call last)",
      "File \u001b[0;32m<timed eval>:1\u001b[0m\n",
      "File \u001b[0;32m/ziob/klaudia/FlowHMM/torchHMM/model/discretized_flow_HMM.py:515\u001b[0m, in \u001b[0;36mFlowHMM.fit\u001b[0;34m(self, X, lengths, Xd, lengths_d, update_nodes, early_stopping)\u001b[0m\n\u001b[1;32m    513\u001b[0m     \u001b[38;5;28mself\u001b[39m\u001b[38;5;241m.\u001b[39m_fit_em_dense(X, lengths_d)\n\u001b[1;32m    514\u001b[0m \u001b[38;5;28;01melif\u001b[39;00m \u001b[38;5;28mself\u001b[39m\u001b[38;5;241m.\u001b[39mlearning_alg \u001b[38;5;241m==\u001b[39m \u001b[38;5;124m\"\u001b[39m\u001b[38;5;124mcooc\u001b[39m\u001b[38;5;124m\"\u001b[39m:\n\u001b[0;32m--> 515\u001b[0m     \u001b[38;5;28;43mself\u001b[39;49m\u001b[38;5;241;43m.\u001b[39;49m\u001b[43m_fit_cooc\u001b[49m\u001b[43m(\u001b[49m\u001b[43mXd\u001b[49m\u001b[43m,\u001b[49m\u001b[43m \u001b[49m\u001b[43mX\u001b[49m\u001b[43m,\u001b[49m\u001b[43m \u001b[49m\u001b[43mlengths_d\u001b[49m\u001b[43m,\u001b[49m\u001b[43m \u001b[49m\u001b[43mlengths\u001b[49m\u001b[43m,\u001b[49m\u001b[43m \u001b[49m\u001b[43mearly_stopping\u001b[49m\u001b[43m)\u001b[49m\n\u001b[1;32m    516\u001b[0m \u001b[38;5;28;01melse\u001b[39;00m:\n\u001b[1;32m    517\u001b[0m     _log\u001b[38;5;241m.\u001b[39merror(\n\u001b[1;32m    518\u001b[0m         \u001b[38;5;124mf\u001b[39m\u001b[38;5;124m\"\u001b[39m\u001b[38;5;124mLearning algorithm \u001b[39m\u001b[38;5;132;01m{\u001b[39;00m\u001b[38;5;28mself\u001b[39m\u001b[38;5;241m.\u001b[39mlearning_alg\u001b[38;5;132;01m}\u001b[39;00m\u001b[38;5;124m is not implemented. Select one of: \u001b[39m\u001b[38;5;132;01m{\u001b[39;00mLEARNING_ALGORITHMS\u001b[38;5;132;01m}\u001b[39;00m\u001b[38;5;124m\"\u001b[39m\n\u001b[1;32m    519\u001b[0m     )\n",
      "File \u001b[0;32m/ziob/klaudia/FlowHMM/torchHMM/model/discretized_flow_HMM.py:454\u001b[0m, in \u001b[0;36mFlowHMM._fit_cooc\u001b[0;34m(self, Xd, Xc, lengthsd, lengthsc, early_stopping)\u001b[0m\n\u001b[1;32m    448\u001b[0m optimizer\u001b[38;5;241m.\u001b[39mstep()\n\u001b[1;32m    449\u001b[0m \u001b[38;5;28;01mif\u001b[39;00m i \u001b[38;5;241m%\u001b[39m \u001b[38;5;241m1000\u001b[39m \u001b[38;5;241m==\u001b[39m \u001b[38;5;241m0\u001b[39m:  \u001b[38;5;66;03m# TODO: select properly\u001b[39;00m\n\u001b[1;32m    450\u001b[0m     (\n\u001b[1;32m    451\u001b[0m         \u001b[38;5;28mself\u001b[39m\u001b[38;5;241m.\u001b[39mNFs,\n\u001b[1;32m    452\u001b[0m         \u001b[38;5;28mself\u001b[39m\u001b[38;5;241m.\u001b[39mtransmat_,\n\u001b[1;32m    453\u001b[0m         \u001b[38;5;28mself\u001b[39m\u001b[38;5;241m.\u001b[39mstartprob_,\n\u001b[0;32m--> 454\u001b[0m     ) \u001b[38;5;241m=\u001b[39m \u001b[38;5;28;43mself\u001b[39;49m\u001b[38;5;241;43m.\u001b[39;49m\u001b[43mmodel\u001b[49m\u001b[38;5;241;43m.\u001b[39;49m\u001b[43mget_model_params\u001b[49m\u001b[43m(\u001b[49m\u001b[43m)\u001b[49m\n\u001b[1;32m    456\u001b[0m     \u001b[38;5;28mself\u001b[39m\u001b[38;5;241m.\u001b[39moptim_params[\u001b[38;5;124m'\u001b[39m\u001b[38;5;124mlr\u001b[39m\u001b[38;5;124m'\u001b[39m] \u001b[38;5;241m=\u001b[39m \u001b[38;5;28mself\u001b[39m\u001b[38;5;241m.\u001b[39moptim_params[\u001b[38;5;124m'\u001b[39m\u001b[38;5;124mlr\u001b[39m\u001b[38;5;124m'\u001b[39m] \u001b[38;5;241m*\u001b[39m \u001b[38;5;241m.9\u001b[39m\n\u001b[1;32m    457\u001b[0m     optimizer \u001b[38;5;241m=\u001b[39m \u001b[38;5;28mself\u001b[39m\u001b[38;5;241m.\u001b[39moptimizer(\u001b[38;5;28mself\u001b[39m\u001b[38;5;241m.\u001b[39mmodel\u001b[38;5;241m.\u001b[39mparameters(), \u001b[38;5;241m*\u001b[39m\u001b[38;5;241m*\u001b[39m\u001b[38;5;28mself\u001b[39m\u001b[38;5;241m.\u001b[39moptim_params)\n",
      "File \u001b[0;32m/ziob/klaudia/FlowHMM/torchHMM/model/discretized_flow_HMM.py:138\u001b[0m, in \u001b[0;36mFlowHmmOptim.get_model_params\u001b[0;34m(self)\u001b[0m\n\u001b[1;32m    136\u001b[0m S_ \u001b[38;5;241m=\u001b[39m torch\u001b[38;5;241m.\u001b[39mexp(\u001b[38;5;28mself\u001b[39m\u001b[38;5;241m.\u001b[39m_S_unconstrained)\n\u001b[1;32m    137\u001b[0m zero_rows \u001b[38;5;241m=\u001b[39m S_\u001b[38;5;241m.\u001b[39msum(axis\u001b[38;5;241m=\u001b[39m\u001b[38;5;241m1\u001b[39m) \u001b[38;5;241m==\u001b[39m \u001b[38;5;241m0\u001b[39m\n\u001b[0;32m--> 138\u001b[0m \u001b[43mS_\u001b[49m\u001b[43m[\u001b[49m\u001b[43mzero_rows\u001b[49m\u001b[43m]\u001b[49m \u001b[38;5;241m=\u001b[39m torch\u001b[38;5;241m.\u001b[39mones(S_\u001b[38;5;241m.\u001b[39mshape)[zero_rows]\n\u001b[1;32m    139\u001b[0m S \u001b[38;5;241m=\u001b[39m S_ \u001b[38;5;241m/\u001b[39m S_\u001b[38;5;241m.\u001b[39msum()\n\u001b[1;32m    140\u001b[0m startprob \u001b[38;5;241m=\u001b[39m torch\u001b[38;5;241m.\u001b[39msum(S, dim\u001b[38;5;241m=\u001b[39m\u001b[38;5;241m1\u001b[39m)\n",
      "\u001b[0;31mRuntimeError\u001b[0m: Index put requires the source and destination dtypes match, got Double for the destination and Float for the source."
     ]
    },
    {
     "ename": "TypeError",
     "evalue": "FlowHMM.discretize() missing 1 required positional argument: 'force'",
     "output_type": "error",
     "traceback": [
      "\u001b[0;31m---------------------------------------------------------------------------\u001b[0m",
      "\u001b[0;31mTypeError\u001b[0m                                 Traceback (most recent call last)",
      "Cell \u001b[0;32mIn[22], line 5\u001b[0m\n\u001b[1;32m      1\u001b[0m w2v_fhmm \u001b[38;5;241m=\u001b[39m FlowHMM(n_components\u001b[38;5;241m=\u001b[39m\u001b[38;5;241m5\u001b[39m, no_nodes\u001b[38;5;241m=\u001b[39m\u001b[38;5;241m512\u001b[39m, l\u001b[38;5;241m=\u001b[39m\u001b[38;5;241m100\u001b[39m, optimizer\u001b[38;5;241m=\u001b[39m\u001b[38;5;124m\"\u001b[39m\u001b[38;5;124mAdam\u001b[39m\u001b[38;5;124m\"\u001b[39m, verbose\u001b[38;5;241m=\u001b[39m\u001b[38;5;28;01mTrue\u001b[39;00m)\n\u001b[1;32m      3\u001b[0m get_ipython()\u001b[38;5;241m.\u001b[39mrun_line_magic(\u001b[38;5;124m'\u001b[39m\u001b[38;5;124mtime\u001b[39m\u001b[38;5;124m'\u001b[39m, \u001b[38;5;124m'\u001b[39m\u001b[38;5;124mw2v_fhmm.fit(X_c, l_c)\u001b[39m\u001b[38;5;124m'\u001b[39m)\n\u001b[0;32m----> 5\u001b[0m \u001b[38;5;28mprint\u001b[39m(\u001b[43mw2v_fhmm\u001b[49m\u001b[38;5;241;43m.\u001b[39;49m\u001b[43mscore\u001b[49m\u001b[43m(\u001b[49m\u001b[43mtarget_c\u001b[49m\u001b[43m,\u001b[49m\u001b[43m \u001b[49m\u001b[43mlt\u001b[49m\u001b[43m)\u001b[49m)\n",
      "File \u001b[0;32m/ziob/klaudia/FlowHMM/torchHMM/model/discretized_flow_HMM.py:522\u001b[0m, in \u001b[0;36mFlowHMM.score\u001b[0;34m(self, X, lengths)\u001b[0m\n\u001b[1;32m    521\u001b[0m \u001b[38;5;28;01mdef\u001b[39;00m \u001b[38;5;21mscore\u001b[39m(\u001b[38;5;28mself\u001b[39m, X, lengths):\n\u001b[0;32m--> 522\u001b[0m     Xd \u001b[38;5;241m=\u001b[39m \u001b[38;5;28;43mself\u001b[39;49m\u001b[38;5;241;43m.\u001b[39;49m\u001b[43mdiscretize\u001b[49m\u001b[43m(\u001b[49m\u001b[43mX\u001b[49m\u001b[43m)\u001b[49m\n\u001b[1;32m    523\u001b[0m     \u001b[38;5;28;01mreturn\u001b[39;00m \u001b[38;5;28msuper\u001b[39m()\u001b[38;5;241m.\u001b[39mscore(Xd, lengths)\n",
      "\u001b[0;31mTypeError\u001b[0m: FlowHMM.discretize() missing 1 required positional argument: 'force'"
     ]
    }
   ],
   "source": [
    "w2v_fhmm = FlowHMM(n_components=5, no_nodes=512, l=100, optimizer=\"Adam\", verbose=True)\n",
    "\n",
    "%time w2v_fhmm.fit(X_c, l_c)\n",
    "\n",
    "print(w2v_fhmm.score(target_c, lt))\n"
   ]
  }
 ],
 "metadata": {
  "kernelspec": {
   "display_name": "Python 3",
   "language": "python",
   "name": "python3"
  },
  "language_info": {
   "codemirror_mode": {
    "name": "ipython",
    "version": 3
   },
   "file_extension": ".py",
   "mimetype": "text/x-python",
   "name": "python",
   "nbconvert_exporter": "python",
   "pygments_lexer": "ipython3",
   "version": "3.10.9"
  }
 },
 "nbformat": 4,
 "nbformat_minor": 0
}
