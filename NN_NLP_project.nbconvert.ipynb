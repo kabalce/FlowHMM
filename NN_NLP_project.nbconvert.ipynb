{
 "cells": [
  {
   "cell_type": "code",
   "execution_count": 1,
   "metadata": {
    "collapsed": true,
    "execution": {
     "iopub.execute_input": "2023-06-20T16:42:34.388318Z",
     "iopub.status.busy": "2023-06-20T16:42:34.386609Z",
     "iopub.status.idle": "2023-06-20T16:43:09.464293Z",
     "shell.execute_reply": "2023-06-20T16:43:09.462429Z"
    },
    "is_executing": true
   },
   "outputs": [],
   "source": [
    "from torchHMM.model.discretized_HMM import DiscreteHMM, DISCRETIZATION_TECHNIQUES\n",
    "from torchHMM.model.discretized_flow_HMM import FlowHMM"
   ]
  },
  {
   "cell_type": "code",
   "execution_count": 2,
   "metadata": {
    "collapsed": false,
    "execution": {
     "iopub.execute_input": "2023-06-20T16:43:09.471978Z",
     "iopub.status.busy": "2023-06-20T16:43:09.470831Z",
     "iopub.status.idle": "2023-06-20T16:43:15.027686Z",
     "shell.execute_reply": "2023-06-20T16:43:15.025541Z"
    },
    "is_executing": true
   },
   "outputs": [],
   "source": [
    "import numpy as np\n",
    "import pandas as pd\n",
    "import pickle as pkl"
   ]
  },
  {
   "cell_type": "code",
   "execution_count": 3,
   "metadata": {
    "ExecuteTime": {
     "end_time": "2023-06-19T11:04:08.874277362Z",
     "start_time": "2023-06-19T11:04:08.453626622Z"
    },
    "collapsed": false,
    "execution": {
     "iopub.execute_input": "2023-06-20T16:43:15.035690Z",
     "iopub.status.busy": "2023-06-20T16:43:15.034850Z",
     "iopub.status.idle": "2023-06-20T16:43:17.102254Z",
     "shell.execute_reply": "2023-06-20T16:43:17.100681Z"
    }
   },
   "outputs": [],
   "source": [
    "from hmmlearn.hmm import CategoricalHMM, GaussianHMM\n",
    "from gensim.models import KeyedVectors\n"
   ]
  },
  {
   "cell_type": "code",
   "execution_count": 4,
   "metadata": {
    "ExecuteTime": {
     "end_time": "2023-06-19T11:04:48.077216177Z",
     "start_time": "2023-06-19T11:04:08.875073499Z"
    },
    "collapsed": false,
    "execution": {
     "iopub.execute_input": "2023-06-20T16:43:17.110376Z",
     "iopub.status.busy": "2023-06-20T16:43:17.109134Z",
     "iopub.status.idle": "2023-06-20T16:43:31.020290Z",
     "shell.execute_reply": "2023-06-20T16:43:31.019629Z"
    }
   },
   "outputs": [],
   "source": [
    "with open('clickstream_experiment/data/preprocessed_data/ClickStream_test_cleaned.pkl', 'rb') as f:\n",
    "    cs = pkl.load(f)\n",
    "cs.sessions = cs.sessions[:10000]"
   ]
  },
  {
   "cell_type": "code",
   "execution_count": 5,
   "metadata": {
    "ExecuteTime": {
     "end_time": "2023-06-19T11:06:02.360713765Z",
     "start_time": "2023-06-19T11:05:44.917029061Z"
    },
    "collapsed": false,
    "execution": {
     "iopub.execute_input": "2023-06-20T16:43:31.024342Z",
     "iopub.status.busy": "2023-06-20T16:43:31.023304Z",
     "iopub.status.idle": "2023-06-20T16:43:37.226763Z",
     "shell.execute_reply": "2023-06-20T16:43:37.225714Z"
    }
   },
   "outputs": [
    {
     "ename": "KeyError",
     "evalue": "985572",
     "output_type": "error",
     "traceback": [
      "\u001b[0;31m---------------------------------------------------------------------------\u001b[0m",
      "\u001b[0;31mKeyError\u001b[0m                                  Traceback (most recent call last)",
      "Cell \u001b[0;32mIn[5], line 4\u001b[0m\n\u001b[1;32m      1\u001b[0m item_ids \u001b[38;5;241m=\u001b[39m np\u001b[38;5;241m.\u001b[39munique([e\u001b[38;5;241m.\u001b[39mitem_id \u001b[38;5;28;01mfor\u001b[39;00m s \u001b[38;5;129;01min\u001b[39;00m cs\u001b[38;5;241m.\u001b[39msessions[:\u001b[38;5;241m-\u001b[39m\u001b[38;5;241m1\u001b[39m] \u001b[38;5;28;01mfor\u001b[39;00m e \u001b[38;5;129;01min\u001b[39;00m s\u001b[38;5;241m.\u001b[39mevent_list])\n\u001b[1;32m      2\u001b[0m item_ids \u001b[38;5;241m=\u001b[39m {item_ids[i]: i \u001b[38;5;28;01mfor\u001b[39;00m i \u001b[38;5;129;01min\u001b[39;00m \u001b[38;5;28mrange\u001b[39m(\u001b[38;5;28mlen\u001b[39m(item_ids))}\n\u001b[0;32m----> 4\u001b[0m Xs \u001b[38;5;241m=\u001b[39m [[item_ids[e\u001b[38;5;241m.\u001b[39mitem_id] \u001b[38;5;28;01mfor\u001b[39;00m e \u001b[38;5;129;01min\u001b[39;00m s\u001b[38;5;241m.\u001b[39mevent_list[:\u001b[38;5;241m-\u001b[39m\u001b[38;5;241m1\u001b[39m]] \u001b[38;5;28;01mfor\u001b[39;00m s \u001b[38;5;129;01min\u001b[39;00m cs\u001b[38;5;241m.\u001b[39msessions]\n\u001b[1;32m      5\u001b[0m l \u001b[38;5;241m=\u001b[39m [\u001b[38;5;28mlen\u001b[39m(y) \u001b[38;5;28;01mfor\u001b[39;00m y \u001b[38;5;129;01min\u001b[39;00m Xs]\n\u001b[1;32m      7\u001b[0m X \u001b[38;5;241m=\u001b[39m np\u001b[38;5;241m.\u001b[39mconcatenate(Xs)\u001b[38;5;241m.\u001b[39mreshape(\u001b[38;5;241m-\u001b[39m\u001b[38;5;241m1\u001b[39m, \u001b[38;5;241m1\u001b[39m)\n",
      "Cell \u001b[0;32mIn[5], line 4\u001b[0m, in \u001b[0;36m<listcomp>\u001b[0;34m(.0)\u001b[0m\n\u001b[1;32m      1\u001b[0m item_ids \u001b[38;5;241m=\u001b[39m np\u001b[38;5;241m.\u001b[39munique([e\u001b[38;5;241m.\u001b[39mitem_id \u001b[38;5;28;01mfor\u001b[39;00m s \u001b[38;5;129;01min\u001b[39;00m cs\u001b[38;5;241m.\u001b[39msessions[:\u001b[38;5;241m-\u001b[39m\u001b[38;5;241m1\u001b[39m] \u001b[38;5;28;01mfor\u001b[39;00m e \u001b[38;5;129;01min\u001b[39;00m s\u001b[38;5;241m.\u001b[39mevent_list])\n\u001b[1;32m      2\u001b[0m item_ids \u001b[38;5;241m=\u001b[39m {item_ids[i]: i \u001b[38;5;28;01mfor\u001b[39;00m i \u001b[38;5;129;01min\u001b[39;00m \u001b[38;5;28mrange\u001b[39m(\u001b[38;5;28mlen\u001b[39m(item_ids))}\n\u001b[0;32m----> 4\u001b[0m Xs \u001b[38;5;241m=\u001b[39m [[item_ids[e\u001b[38;5;241m.\u001b[39mitem_id] \u001b[38;5;28;01mfor\u001b[39;00m e \u001b[38;5;129;01min\u001b[39;00m s\u001b[38;5;241m.\u001b[39mevent_list[:\u001b[38;5;241m-\u001b[39m\u001b[38;5;241m1\u001b[39m]] \u001b[38;5;28;01mfor\u001b[39;00m s \u001b[38;5;129;01min\u001b[39;00m cs\u001b[38;5;241m.\u001b[39msessions]\n\u001b[1;32m      5\u001b[0m l \u001b[38;5;241m=\u001b[39m [\u001b[38;5;28mlen\u001b[39m(y) \u001b[38;5;28;01mfor\u001b[39;00m y \u001b[38;5;129;01min\u001b[39;00m Xs]\n\u001b[1;32m      7\u001b[0m X \u001b[38;5;241m=\u001b[39m np\u001b[38;5;241m.\u001b[39mconcatenate(Xs)\u001b[38;5;241m.\u001b[39mreshape(\u001b[38;5;241m-\u001b[39m\u001b[38;5;241m1\u001b[39m, \u001b[38;5;241m1\u001b[39m)\n",
      "Cell \u001b[0;32mIn[5], line 4\u001b[0m, in \u001b[0;36m<listcomp>\u001b[0;34m(.0)\u001b[0m\n\u001b[1;32m      1\u001b[0m item_ids \u001b[38;5;241m=\u001b[39m np\u001b[38;5;241m.\u001b[39munique([e\u001b[38;5;241m.\u001b[39mitem_id \u001b[38;5;28;01mfor\u001b[39;00m s \u001b[38;5;129;01min\u001b[39;00m cs\u001b[38;5;241m.\u001b[39msessions[:\u001b[38;5;241m-\u001b[39m\u001b[38;5;241m1\u001b[39m] \u001b[38;5;28;01mfor\u001b[39;00m e \u001b[38;5;129;01min\u001b[39;00m s\u001b[38;5;241m.\u001b[39mevent_list])\n\u001b[1;32m      2\u001b[0m item_ids \u001b[38;5;241m=\u001b[39m {item_ids[i]: i \u001b[38;5;28;01mfor\u001b[39;00m i \u001b[38;5;129;01min\u001b[39;00m \u001b[38;5;28mrange\u001b[39m(\u001b[38;5;28mlen\u001b[39m(item_ids))}\n\u001b[0;32m----> 4\u001b[0m Xs \u001b[38;5;241m=\u001b[39m [[\u001b[43mitem_ids\u001b[49m\u001b[43m[\u001b[49m\u001b[43me\u001b[49m\u001b[38;5;241;43m.\u001b[39;49m\u001b[43mitem_id\u001b[49m\u001b[43m]\u001b[49m \u001b[38;5;28;01mfor\u001b[39;00m e \u001b[38;5;129;01min\u001b[39;00m s\u001b[38;5;241m.\u001b[39mevent_list[:\u001b[38;5;241m-\u001b[39m\u001b[38;5;241m1\u001b[39m]] \u001b[38;5;28;01mfor\u001b[39;00m s \u001b[38;5;129;01min\u001b[39;00m cs\u001b[38;5;241m.\u001b[39msessions]\n\u001b[1;32m      5\u001b[0m l \u001b[38;5;241m=\u001b[39m [\u001b[38;5;28mlen\u001b[39m(y) \u001b[38;5;28;01mfor\u001b[39;00m y \u001b[38;5;129;01min\u001b[39;00m Xs]\n\u001b[1;32m      7\u001b[0m X \u001b[38;5;241m=\u001b[39m np\u001b[38;5;241m.\u001b[39mconcatenate(Xs)\u001b[38;5;241m.\u001b[39mreshape(\u001b[38;5;241m-\u001b[39m\u001b[38;5;241m1\u001b[39m, \u001b[38;5;241m1\u001b[39m)\n",
      "\u001b[0;31mKeyError\u001b[0m: 985572"
     ]
    }
   ],
   "source": [
    "item_ids = np.unique([e.item_id for s in cs.sessions[:-1] for e in s.event_list])\n",
    "item_ids = {item_ids[i]: i for i in range(len(item_ids))}\n",
    "\n",
    "Xs = [[item_ids[e.item_id] for e in s.event_list[:-1]] for s in cs.sessions]\n",
    "l = [len(y) for y in Xs]\n",
    "\n",
    "X = np.concatenate(Xs).reshape(-1, 1)\n",
    "\n",
    "target = [item_ids[s.event_list[-1].item_id] for s in cs.sessions]"
   ]
  },
  {
   "cell_type": "code",
   "execution_count": 6,
   "metadata": {
    "ExecuteTime": {
     "end_time": "2023-06-19T11:06:02.436207376Z",
     "start_time": "2023-06-19T11:06:02.399812064Z"
    },
    "collapsed": false,
    "execution": {
     "iopub.execute_input": "2023-06-20T16:43:37.293754Z",
     "iopub.status.busy": "2023-06-20T16:43:37.293470Z",
     "iopub.status.idle": "2023-06-20T16:43:37.309414Z",
     "shell.execute_reply": "2023-06-20T16:43:37.308916Z"
    }
   },
   "outputs": [
    {
     "ename": "NameError",
     "evalue": "name 'X' is not defined",
     "output_type": "error",
     "traceback": [
      "\u001b[0;31m---------------------------------------------------------------------------\u001b[0m",
      "\u001b[0;31mNameError\u001b[0m                                 Traceback (most recent call last)",
      "Cell \u001b[0;32mIn[6], line 1\u001b[0m\n\u001b[0;32m----> 1\u001b[0m \u001b[43mX\u001b[49m\n",
      "\u001b[0;31mNameError\u001b[0m: name 'X' is not defined"
     ]
    }
   ],
   "source": [
    "X"
   ]
  },
  {
   "cell_type": "code",
   "execution_count": 7,
   "metadata": {
    "ExecuteTime": {
     "end_time": "2023-06-19T11:06:02.486832269Z",
     "start_time": "2023-06-19T11:06:02.417888350Z"
    },
    "collapsed": false,
    "execution": {
     "iopub.execute_input": "2023-06-20T16:43:37.315708Z",
     "iopub.status.busy": "2023-06-20T16:43:37.315071Z",
     "iopub.status.idle": "2023-06-20T16:43:37.318577Z",
     "shell.execute_reply": "2023-06-20T16:43:37.318022Z"
    }
   },
   "outputs": [],
   "source": [
    "chmm = CategoricalHMM(5, n_iter=10, verbose=True)\n"
   ]
  },
  {
   "cell_type": "code",
   "execution_count": 8,
   "metadata": {
    "ExecuteTime": {
     "end_time": "2023-06-19T11:14:36.294789566Z",
     "start_time": "2023-06-19T11:06:02.464244888Z"
    },
    "collapsed": false,
    "execution": {
     "iopub.execute_input": "2023-06-20T16:43:37.321412Z",
     "iopub.status.busy": "2023-06-20T16:43:37.321052Z",
     "iopub.status.idle": "2023-06-20T16:43:37.403624Z",
     "shell.execute_reply": "2023-06-20T16:43:37.403102Z"
    }
   },
   "outputs": [
    {
     "ename": "NameError",
     "evalue": "name 'X' is not defined",
     "output_type": "error",
     "traceback": [
      "\u001b[0;31m---------------------------------------------------------------------------\u001b[0m",
      "\u001b[0;31mNameError\u001b[0m                                 Traceback (most recent call last)",
      "File \u001b[0;32m<timed eval>:1\u001b[0m\n",
      "\u001b[0;31mNameError\u001b[0m: name 'X' is not defined"
     ]
    }
   ],
   "source": [
    "%time chmm.fit(X, l)"
   ]
  },
  {
   "cell_type": "code",
   "execution_count": 9,
   "metadata": {
    "ExecuteTime": {
     "end_time": "2023-06-19T11:30:34.675827243Z",
     "start_time": "2023-06-19T11:28:44.228971808Z"
    },
    "collapsed": false,
    "execution": {
     "iopub.execute_input": "2023-06-20T16:43:37.409382Z",
     "iopub.status.busy": "2023-06-20T16:43:37.408637Z",
     "iopub.status.idle": "2023-06-20T16:43:37.428890Z",
     "shell.execute_reply": "2023-06-20T16:43:37.428311Z"
    }
   },
   "outputs": [
    {
     "ename": "NameError",
     "evalue": "name 'X' is not defined",
     "output_type": "error",
     "traceback": [
      "\u001b[0;31m---------------------------------------------------------------------------\u001b[0m",
      "\u001b[0;31mNameError\u001b[0m                                 Traceback (most recent call last)",
      "Cell \u001b[0;32mIn[9], line 1\u001b[0m\n\u001b[0;32m----> 1\u001b[0m l1 \u001b[38;5;241m=\u001b[39m chmm\u001b[38;5;241m.\u001b[39mscore(np\u001b[38;5;241m.\u001b[39marray(\u001b[43mX\u001b[49m)\u001b[38;5;241m.\u001b[39mreshape(\u001b[38;5;241m-\u001b[39m\u001b[38;5;241m1\u001b[39m, \u001b[38;5;241m1\u001b[39m), l)\n\u001b[1;32m      2\u001b[0m l2 \u001b[38;5;241m=\u001b[39m chmm\u001b[38;5;241m.\u001b[39mscore(np\u001b[38;5;241m.\u001b[39mconcatenate([[item_ids[e\u001b[38;5;241m.\u001b[39mitem_id] \u001b[38;5;28;01mfor\u001b[39;00m e \u001b[38;5;129;01min\u001b[39;00m s\u001b[38;5;241m.\u001b[39mevent_list \u001b[38;5;28;01mif\u001b[39;00m e\u001b[38;5;241m.\u001b[39mitem_id \u001b[38;5;129;01min\u001b[39;00m item_ids\u001b[38;5;241m.\u001b[39mkeys()] \u001b[38;5;28;01mfor\u001b[39;00m s \u001b[38;5;129;01min\u001b[39;00m cs\u001b[38;5;241m.\u001b[39msessions])\u001b[38;5;241m.\u001b[39mreshape(\u001b[38;5;241m-\u001b[39m\u001b[38;5;241m1\u001b[39m, \u001b[38;5;241m1\u001b[39m), np\u001b[38;5;241m.\u001b[39marray([\u001b[38;5;28mlen\u001b[39m([e \u001b[38;5;28;01mfor\u001b[39;00m e \u001b[38;5;129;01min\u001b[39;00m s\u001b[38;5;241m.\u001b[39mevent_list  \u001b[38;5;28;01mif\u001b[39;00m e\u001b[38;5;241m.\u001b[39mitem_id \u001b[38;5;129;01min\u001b[39;00m item_ids\u001b[38;5;241m.\u001b[39mkeys()]) \u001b[38;5;28;01mfor\u001b[39;00m s \u001b[38;5;129;01min\u001b[39;00m cs\u001b[38;5;241m.\u001b[39msessions]))\n\u001b[1;32m      3\u001b[0m (l2 \u001b[38;5;241m-\u001b[39m l1) \u001b[38;5;241m/\u001b[39m \u001b[38;5;28mlen\u001b[39m(l)\n",
      "\u001b[0;31mNameError\u001b[0m: name 'X' is not defined"
     ]
    }
   ],
   "source": [
    "l1 = chmm.score(np.array(X).reshape(-1, 1), l)\n",
    "l2 = chmm.score(np.concatenate([[item_ids[e.item_id] for e in s.event_list if e.item_id in item_ids.keys()] for s in cs.sessions]).reshape(-1, 1), np.array([len([e for e in s.event_list  if e.item_id in item_ids.keys()]) for s in cs.sessions]))\n",
    "(l2 - l1) / len(l)"
   ]
  },
  {
   "cell_type": "code",
   "execution_count": 10,
   "metadata": {
    "ExecuteTime": {
     "end_time": "2023-06-19T11:33:26.375948032Z",
     "start_time": "2023-06-19T11:33:25.429184415Z"
    },
    "collapsed": false,
    "execution": {
     "iopub.execute_input": "2023-06-20T16:43:37.434100Z",
     "iopub.status.busy": "2023-06-20T16:43:37.432906Z",
     "iopub.status.idle": "2023-06-20T16:43:37.775820Z",
     "shell.execute_reply": "2023-06-20T16:43:37.774683Z"
    }
   },
   "outputs": [],
   "source": [
    "vectors = KeyedVectors.load(\n",
    "    f\"clickstream_experiment/data/preprocessed_data/vectors_train_20_10_5_8_cleaned.kv\"\n",
    ")\n",
    "vecs = np.concatenate(\n",
    "    [\n",
    "        vectors.get_vector(k).reshape(1, -1)\n",
    "        for k in list(vectors.key_to_index.keys())\n",
    "    ]\n",
    ")"
   ]
  },
  {
   "cell_type": "code",
   "execution_count": 11,
   "metadata": {
    "ExecuteTime": {
     "end_time": "2023-06-19T11:33:27.547725958Z",
     "start_time": "2023-06-19T11:33:27.398466320Z"
    },
    "collapsed": false,
    "execution": {
     "iopub.execute_input": "2023-06-20T16:43:37.779667Z",
     "iopub.status.busy": "2023-06-20T16:43:37.779364Z",
     "iopub.status.idle": "2023-06-20T16:43:37.787390Z",
     "shell.execute_reply": "2023-06-20T16:43:37.786229Z"
    }
   },
   "outputs": [],
   "source": [
    "unknown = vecs.mean(axis=0).reshape(1, -1)\n",
    "\n",
    "def get_vec(e):\n",
    "    try:\n",
    "        return vectors.get_vector(e.item_id).reshape(1, -1)\n",
    "    except:\n",
    "        return unknown"
   ]
  },
  {
   "cell_type": "code",
   "execution_count": 12,
   "metadata": {
    "ExecuteTime": {
     "end_time": "2023-06-19T11:34:16.043842810Z",
     "start_time": "2023-06-19T11:33:29.818189116Z"
    },
    "collapsed": false,
    "execution": {
     "iopub.execute_input": "2023-06-20T16:43:37.790914Z",
     "iopub.status.busy": "2023-06-20T16:43:37.790662Z",
     "iopub.status.idle": "2023-06-20T16:43:37.949751Z",
     "shell.execute_reply": "2023-06-20T16:43:37.948041Z"
    }
   },
   "outputs": [
    {
     "ename": "NameError",
     "evalue": "name 'X' is not defined",
     "output_type": "error",
     "traceback": [
      "\u001b[0;31m---------------------------------------------------------------------------\u001b[0m",
      "\u001b[0;31mNameError\u001b[0m                                 Traceback (most recent call last)",
      "Cell \u001b[0;32mIn[12], line 2\u001b[0m\n\u001b[1;32m      1\u001b[0m Xs_c \u001b[38;5;241m=\u001b[39m [[get_vec(e) \u001b[38;5;28;01mfor\u001b[39;00m e \u001b[38;5;129;01min\u001b[39;00m s\u001b[38;5;241m.\u001b[39mevent_list[:\u001b[38;5;241m-\u001b[39m\u001b[38;5;241m1\u001b[39m]] \u001b[38;5;28;01mfor\u001b[39;00m s \u001b[38;5;129;01min\u001b[39;00m cs\u001b[38;5;241m.\u001b[39msessions]\n\u001b[0;32m----> 2\u001b[0m l_c \u001b[38;5;241m=\u001b[39m [\u001b[38;5;28mlen\u001b[39m(y) \u001b[38;5;28;01mfor\u001b[39;00m y \u001b[38;5;129;01min\u001b[39;00m \u001b[43mX\u001b[49m]\n\u001b[1;32m      4\u001b[0m X_c \u001b[38;5;241m=\u001b[39m np\u001b[38;5;241m.\u001b[39mconcatenate([a \u001b[38;5;28;01mfor\u001b[39;00m as_ \u001b[38;5;129;01min\u001b[39;00m Xs_c \u001b[38;5;28;01mfor\u001b[39;00m a \u001b[38;5;129;01min\u001b[39;00m as_], axis\u001b[38;5;241m=\u001b[39m\u001b[38;5;241m0\u001b[39m)\n\u001b[1;32m      6\u001b[0m target_c \u001b[38;5;241m=\u001b[39m [get_vec(s\u001b[38;5;241m.\u001b[39mevent_list[\u001b[38;5;241m-\u001b[39m\u001b[38;5;241m1\u001b[39m]) \u001b[38;5;28;01mfor\u001b[39;00m s \u001b[38;5;129;01min\u001b[39;00m cs\u001b[38;5;241m.\u001b[39msessions]\n",
      "\u001b[0;31mNameError\u001b[0m: name 'X' is not defined"
     ]
    }
   ],
   "source": [
    "Xs_c = [[get_vec(e) for e in s.event_list[:-1]] for s in cs.sessions]\n",
    "l_c = [len(y) for y in X]\n",
    "\n",
    "X_c = np.concatenate([a for as_ in Xs_c for a in as_], axis=0)\n",
    "\n",
    "target_c = [get_vec(s.event_list[-1]) for s in cs.sessions]"
   ]
  },
  {
   "cell_type": "code",
   "execution_count": 13,
   "metadata": {
    "ExecuteTime": {
     "end_time": "2023-06-19T11:34:16.055172725Z",
     "start_time": "2023-06-19T11:34:16.044861965Z"
    },
    "collapsed": false,
    "execution": {
     "iopub.execute_input": "2023-06-20T16:43:37.954495Z",
     "iopub.status.busy": "2023-06-20T16:43:37.953675Z",
     "iopub.status.idle": "2023-06-20T16:43:37.982569Z",
     "shell.execute_reply": "2023-06-20T16:43:37.982006Z"
    }
   },
   "outputs": [
    {
     "ename": "NameError",
     "evalue": "name 'X_c' is not defined",
     "output_type": "error",
     "traceback": [
      "\u001b[0;31m---------------------------------------------------------------------------\u001b[0m",
      "\u001b[0;31mNameError\u001b[0m                                 Traceback (most recent call last)",
      "Cell \u001b[0;32mIn[13], line 1\u001b[0m\n\u001b[0;32m----> 1\u001b[0m \u001b[43mX_c\u001b[49m\u001b[38;5;241m.\u001b[39mshape\n",
      "\u001b[0;31mNameError\u001b[0m: name 'X_c' is not defined"
     ]
    }
   ],
   "source": [
    "X_c.shape"
   ]
  },
  {
   "cell_type": "code",
   "execution_count": 14,
   "metadata": {
    "ExecuteTime": {
     "end_time": "2023-06-19T11:34:16.056338423Z",
     "start_time": "2023-06-19T11:34:16.045723486Z"
    },
    "collapsed": false,
    "execution": {
     "iopub.execute_input": "2023-06-20T16:43:37.987174Z",
     "iopub.status.busy": "2023-06-20T16:43:37.986658Z",
     "iopub.status.idle": "2023-06-20T16:43:37.989953Z",
     "shell.execute_reply": "2023-06-20T16:43:37.989471Z"
    }
   },
   "outputs": [],
   "source": [
    "w2vhmm = GaussianHMM(5, n_iter=10, verbose=True)"
   ]
  },
  {
   "cell_type": "code",
   "execution_count": 15,
   "metadata": {
    "ExecuteTime": {
     "start_time": "2023-06-19T11:47:33.983843020Z"
    },
    "collapsed": false,
    "execution": {
     "iopub.execute_input": "2023-06-20T16:43:37.993404Z",
     "iopub.status.busy": "2023-06-20T16:43:37.992678Z",
     "iopub.status.idle": "2023-06-20T16:43:38.004578Z",
     "shell.execute_reply": "2023-06-20T16:43:38.004138Z"
    },
    "is_executing": true
   },
   "outputs": [
    {
     "ename": "NameError",
     "evalue": "name 'X_c' is not defined",
     "output_type": "error",
     "traceback": [
      "\u001b[0;31m---------------------------------------------------------------------------\u001b[0m",
      "\u001b[0;31mNameError\u001b[0m                                 Traceback (most recent call last)",
      "File \u001b[0;32m<timed eval>:1\u001b[0m\n",
      "\u001b[0;31mNameError\u001b[0m: name 'X_c' is not defined"
     ]
    }
   ],
   "source": [
    "%time w2vhmm.fit(X_c, l_c)"
   ]
  },
  {
   "cell_type": "code",
   "execution_count": 16,
   "metadata": {
    "collapsed": false,
    "execution": {
     "iopub.execute_input": "2023-06-20T16:43:38.007377Z",
     "iopub.status.busy": "2023-06-20T16:43:38.006985Z",
     "iopub.status.idle": "2023-06-20T16:43:38.025172Z",
     "shell.execute_reply": "2023-06-20T16:43:38.024674Z"
    },
    "is_executing": true
   },
   "outputs": [
    {
     "ename": "NameError",
     "evalue": "name 'X_c' is not defined",
     "output_type": "error",
     "traceback": [
      "\u001b[0;31m---------------------------------------------------------------------------\u001b[0m",
      "\u001b[0;31mNameError\u001b[0m                                 Traceback (most recent call last)",
      "Cell \u001b[0;32mIn[16], line 1\u001b[0m\n\u001b[0;32m----> 1\u001b[0m l1c \u001b[38;5;241m=\u001b[39m w2vhmm\u001b[38;5;241m.\u001b[39mscore(\u001b[43mX_c\u001b[49m, l_c)\n\u001b[1;32m      2\u001b[0m l2c \u001b[38;5;241m=\u001b[39m w2vhmm\u001b[38;5;241m.\u001b[39mscore(np\u001b[38;5;241m.\u001b[39mconcatenate([get_vec(e) \u001b[38;5;28;01mfor\u001b[39;00m s \u001b[38;5;129;01min\u001b[39;00m cs\u001b[38;5;241m.\u001b[39msessions \u001b[38;5;28;01mfor\u001b[39;00m e \u001b[38;5;129;01min\u001b[39;00m s\u001b[38;5;241m.\u001b[39mevent_list \u001b[38;5;28;01mif\u001b[39;00m e\u001b[38;5;241m.\u001b[39mitem_id \u001b[38;5;129;01min\u001b[39;00m item_ids\u001b[38;5;241m.\u001b[39mkeys()]),np\u001b[38;5;241m.\u001b[39marray([\u001b[38;5;28mlen\u001b[39m([e \u001b[38;5;28;01mfor\u001b[39;00m e \u001b[38;5;129;01min\u001b[39;00m s\u001b[38;5;241m.\u001b[39mevent_list  \u001b[38;5;28;01mif\u001b[39;00m e\u001b[38;5;241m.\u001b[39mitem_id \u001b[38;5;129;01min\u001b[39;00m item_ids\u001b[38;5;241m.\u001b[39mkeys()]) \u001b[38;5;28;01mfor\u001b[39;00m s \u001b[38;5;129;01min\u001b[39;00m cs\u001b[38;5;241m.\u001b[39msessions]))\n\u001b[1;32m      3\u001b[0m (l2c \u001b[38;5;241m-\u001b[39m l1c) \u001b[38;5;241m/\u001b[39m \u001b[38;5;28mlen\u001b[39m(l_c)\n",
      "\u001b[0;31mNameError\u001b[0m: name 'X_c' is not defined"
     ]
    }
   ],
   "source": [
    "l1c = w2vhmm.score(X_c, l_c)\n",
    "l2c = w2vhmm.score(np.concatenate([get_vec(e) for s in cs.sessions for e in s.event_list if e.item_id in item_ids.keys()]),np.array([len([e for e in s.event_list  if e.item_id in item_ids.keys()]) for s in cs.sessions]))\n",
    "(l2c - l1c) / len(l_c)"
   ]
  },
  {
   "cell_type": "code",
   "execution_count": 17,
   "metadata": {
    "collapsed": false,
    "execution": {
     "iopub.execute_input": "2023-06-20T16:43:38.028230Z",
     "iopub.status.busy": "2023-06-20T16:43:38.027838Z",
     "iopub.status.idle": "2023-06-20T16:43:38.031896Z",
     "shell.execute_reply": "2023-06-20T16:43:38.030740Z"
    }
   },
   "outputs": [],
   "source": [
    "w2v_dhmm = DiscreteHMM(n_components=5, no_nodes=512, l=100, optimizer=\"Adam\", verbose=True)"
   ]
  },
  {
   "cell_type": "code",
   "execution_count": 18,
   "metadata": {
    "collapsed": false,
    "execution": {
     "iopub.execute_input": "2023-06-20T16:43:38.035461Z",
     "iopub.status.busy": "2023-06-20T16:43:38.034509Z",
     "iopub.status.idle": "2023-06-20T16:43:38.049928Z",
     "shell.execute_reply": "2023-06-20T16:43:38.049376Z"
    }
   },
   "outputs": [
    {
     "ename": "NameError",
     "evalue": "name 'X_c' is not defined",
     "output_type": "error",
     "traceback": [
      "\u001b[0;31m---------------------------------------------------------------------------\u001b[0m",
      "\u001b[0;31mNameError\u001b[0m                                 Traceback (most recent call last)",
      "File \u001b[0;32m<timed eval>:1\u001b[0m\n",
      "\u001b[0;31mNameError\u001b[0m: name 'X_c' is not defined"
     ]
    }
   ],
   "source": [
    "%time w2v_dhmm.fit(X_c, l_c)"
   ]
  },
  {
   "cell_type": "code",
   "execution_count": 19,
   "metadata": {
    "collapsed": false,
    "execution": {
     "iopub.execute_input": "2023-06-20T16:43:38.053237Z",
     "iopub.status.busy": "2023-06-20T16:43:38.052467Z",
     "iopub.status.idle": "2023-06-20T16:43:38.073697Z",
     "shell.execute_reply": "2023-06-20T16:43:38.073119Z"
    }
   },
   "outputs": [
    {
     "ename": "NameError",
     "evalue": "name 'X_c' is not defined",
     "output_type": "error",
     "traceback": [
      "\u001b[0;31m---------------------------------------------------------------------------\u001b[0m",
      "\u001b[0;31mNameError\u001b[0m                                 Traceback (most recent call last)",
      "Cell \u001b[0;32mIn[19], line 1\u001b[0m\n\u001b[0;32m----> 1\u001b[0m l1c_d \u001b[38;5;241m=\u001b[39m w2v_dhmm\u001b[38;5;241m.\u001b[39mscore(\u001b[43mX_c\u001b[49m, l_c)\n\u001b[1;32m      2\u001b[0m l2c_d \u001b[38;5;241m=\u001b[39m w2v_dhmm\u001b[38;5;241m.\u001b[39mscore(np\u001b[38;5;241m.\u001b[39mconcatenate([get_vec(e) \u001b[38;5;28;01mfor\u001b[39;00m s \u001b[38;5;129;01min\u001b[39;00m cs\u001b[38;5;241m.\u001b[39msessions \u001b[38;5;28;01mfor\u001b[39;00m e \u001b[38;5;129;01min\u001b[39;00m s\u001b[38;5;241m.\u001b[39mevent_list \u001b[38;5;28;01mif\u001b[39;00m e\u001b[38;5;241m.\u001b[39mitem_id \u001b[38;5;129;01min\u001b[39;00m item_ids\u001b[38;5;241m.\u001b[39mkeys()]), np\u001b[38;5;241m.\u001b[39marray([\u001b[38;5;28mlen\u001b[39m([e \u001b[38;5;28;01mfor\u001b[39;00m e \u001b[38;5;129;01min\u001b[39;00m s\u001b[38;5;241m.\u001b[39mevent_list  \u001b[38;5;28;01mif\u001b[39;00m e\u001b[38;5;241m.\u001b[39mitem_id \u001b[38;5;129;01min\u001b[39;00m item_ids\u001b[38;5;241m.\u001b[39mkeys()]) \u001b[38;5;28;01mfor\u001b[39;00m s \u001b[38;5;129;01min\u001b[39;00m cs\u001b[38;5;241m.\u001b[39msessions]))\n\u001b[1;32m      3\u001b[0m (l2c_d \u001b[38;5;241m-\u001b[39m l1c_d) \u001b[38;5;241m/\u001b[39m \u001b[38;5;28mlen\u001b[39m(l_c)\n",
      "\u001b[0;31mNameError\u001b[0m: name 'X_c' is not defined"
     ]
    }
   ],
   "source": [
    "l1c_d = w2v_dhmm.score(X_c, l_c)\n",
    "l2c_d = w2v_dhmm.score(np.concatenate([get_vec(e) for s in cs.sessions for e in s.event_list if e.item_id in item_ids.keys()]), np.array([len([e for e in s.event_list  if e.item_id in item_ids.keys()]) for s in cs.sessions]))\n",
    "(l2c_d - l1c_d) / len(l_c)"
   ]
  },
  {
   "cell_type": "code",
   "execution_count": 20,
   "metadata": {
    "collapsed": false,
    "execution": {
     "iopub.execute_input": "2023-06-20T16:43:38.079005Z",
     "iopub.status.busy": "2023-06-20T16:43:38.078358Z",
     "iopub.status.idle": "2023-06-20T16:43:38.107927Z",
     "shell.execute_reply": "2023-06-20T16:43:38.107420Z"
    }
   },
   "outputs": [
    {
     "ename": "NameError",
     "evalue": "name 'X_c' is not defined",
     "output_type": "error",
     "traceback": [
      "\u001b[0;31m---------------------------------------------------------------------------\u001b[0m",
      "\u001b[0;31mNameError\u001b[0m                                 Traceback (most recent call last)",
      "File \u001b[0;32m<timed eval>:1\u001b[0m\n",
      "\u001b[0;31mNameError\u001b[0m: name 'X_c' is not defined"
     ]
    },
    {
     "ename": "NameError",
     "evalue": "name 'X_c' is not defined",
     "output_type": "error",
     "traceback": [
      "\u001b[0;31m---------------------------------------------------------------------------\u001b[0m",
      "\u001b[0;31mNameError\u001b[0m                                 Traceback (most recent call last)",
      "Cell \u001b[0;32mIn[20], line 3\u001b[0m\n\u001b[1;32m      1\u001b[0m w2v_fhmm \u001b[38;5;241m=\u001b[39m FlowHMM(n_components\u001b[38;5;241m=\u001b[39m\u001b[38;5;241m5\u001b[39m, no_nodes\u001b[38;5;241m=\u001b[39m\u001b[38;5;241m512\u001b[39m, l\u001b[38;5;241m=\u001b[39m\u001b[38;5;241m100\u001b[39m, optimizer\u001b[38;5;241m=\u001b[39m\u001b[38;5;124m\"\u001b[39m\u001b[38;5;124mAdam\u001b[39m\u001b[38;5;124m\"\u001b[39m, verbose\u001b[38;5;241m=\u001b[39m\u001b[38;5;28;01mTrue\u001b[39;00m)\n\u001b[1;32m      2\u001b[0m get_ipython()\u001b[38;5;241m.\u001b[39mrun_line_magic(\u001b[38;5;124m'\u001b[39m\u001b[38;5;124mtime\u001b[39m\u001b[38;5;124m'\u001b[39m, \u001b[38;5;124m'\u001b[39m\u001b[38;5;124mw2v_fhmm.fit(X_c, l_c)\u001b[39m\u001b[38;5;124m'\u001b[39m)\n\u001b[0;32m----> 3\u001b[0m l1c_f \u001b[38;5;241m=\u001b[39m w2v_fhmm\u001b[38;5;241m.\u001b[39mscore(\u001b[43mX_c\u001b[49m, l_c)\n\u001b[1;32m      4\u001b[0m l2c_f \u001b[38;5;241m=\u001b[39m w2v_fhmm\u001b[38;5;241m.\u001b[39mscore(np\u001b[38;5;241m.\u001b[39mconcatenate([get_vec(e) \u001b[38;5;28;01mfor\u001b[39;00m s \u001b[38;5;129;01min\u001b[39;00m cs\u001b[38;5;241m.\u001b[39msessions \u001b[38;5;28;01mfor\u001b[39;00m e \u001b[38;5;129;01min\u001b[39;00m s\u001b[38;5;241m.\u001b[39mevent_list \u001b[38;5;28;01mif\u001b[39;00m e\u001b[38;5;241m.\u001b[39mitem_id \u001b[38;5;129;01min\u001b[39;00m item_ids\u001b[38;5;241m.\u001b[39mkeys()]), np\u001b[38;5;241m.\u001b[39marray([\u001b[38;5;28mlen\u001b[39m([e \u001b[38;5;28;01mfor\u001b[39;00m e \u001b[38;5;129;01min\u001b[39;00m s\u001b[38;5;241m.\u001b[39mevent_list  \u001b[38;5;28;01mif\u001b[39;00m e\u001b[38;5;241m.\u001b[39mitem_id \u001b[38;5;129;01min\u001b[39;00m item_ids\u001b[38;5;241m.\u001b[39mkeys()]) \u001b[38;5;28;01mfor\u001b[39;00m s \u001b[38;5;129;01min\u001b[39;00m cs\u001b[38;5;241m.\u001b[39msessions]))\n\u001b[1;32m      5\u001b[0m (l2c_f \u001b[38;5;241m-\u001b[39m l1c_f) \u001b[38;5;241m/\u001b[39m \u001b[38;5;28mlen\u001b[39m(l_c)\n",
      "\u001b[0;31mNameError\u001b[0m: name 'X_c' is not defined"
     ]
    }
   ],
   "source": [
    "w2v_fhmm = FlowHMM(n_components=5, no_nodes=512, l=100, optimizer=\"Adam\", verbose=True)\n",
    "%time w2v_fhmm.fit(X_c, l_c)\n",
    "l1c_f = w2v_fhmm.score(X_c, l_c)\n",
    "l2c_f = w2v_fhmm.score(np.concatenate([get_vec(e) for s in cs.sessions for e in s.event_list if e.item_id in item_ids.keys()]), np.array([len([e for e in s.event_list  if e.item_id in item_ids.keys()]) for s in cs.sessions]))\n",
    "(l2c_f - l1c_f) / len(l_c)"
   ]
  }
 ],
 "metadata": {
  "kernelspec": {
   "display_name": "Python 3",
   "language": "python",
   "name": "python3"
  },
  "language_info": {
   "codemirror_mode": {
    "name": "ipython",
    "version": 3
   },
   "file_extension": ".py",
   "mimetype": "text/x-python",
   "name": "python",
   "nbconvert_exporter": "python",
   "pygments_lexer": "ipython3",
   "version": "3.10.9"
  }
 },
 "nbformat": 4,
 "nbformat_minor": 0
}
