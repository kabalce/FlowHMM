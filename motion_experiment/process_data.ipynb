{
 "cells": [
  {
   "cell_type": "code",
   "execution_count": null,
   "id": "initial_id",
   "metadata": {
    "collapsed": true
   },
   "outputs": [],
   "source": []
  },
  {
   "cell_type": "code",
   "execution_count": 8,
   "outputs": [
    {
     "name": "stdout",
     "output_type": "stream",
     "text": [
      "[INFO] -- Selected sensor data types: ['attitude', 'userAcceleration']\n",
      "[INFO] -- Selected activites: ['dws', 'ups', 'wlk', 'jog', 'std', 'sit']\n",
      "[INFO] -- Data subjects' information is imported.\n",
      "[INFO] -- Creating Time-Series\n",
      "[INFO] -- Shape of time-Series dataset:(1412865, 13)\n"
     ]
    },
    {
     "data": {
      "text/plain": "   attitude.roll  attitude.pitch  attitude.yaw  userAcceleration.x  \\\n0       1.528132       -0.733896      0.696372            0.294894   \n1       1.527992       -0.716987      0.677762            0.219405   \n2       1.527765       -0.706999      0.670951            0.010714   \n3       1.516768       -0.704678      0.675735           -0.008389   \n4       1.493941       -0.703918      0.672994            0.199441   \n\n   userAcceleration.y  userAcceleration.z  act   id  weight  height   age  \\\n0           -0.184493            0.377542  0.0  0.0   102.0   188.0  46.0   \n1            0.035846            0.114866  0.0  0.0   102.0   188.0  46.0   \n2            0.134701           -0.167808  0.0  0.0   102.0   188.0  46.0   \n3            0.136788            0.094958  0.0  0.0   102.0   188.0  46.0   \n4            0.353996           -0.044299  0.0  0.0   102.0   188.0  46.0   \n\n   gender  trial  \n0     1.0    1.0  \n1     1.0    1.0  \n2     1.0    1.0  \n3     1.0    1.0  \n4     1.0    1.0  ",
      "text/html": "<div>\n<style scoped>\n    .dataframe tbody tr th:only-of-type {\n        vertical-align: middle;\n    }\n\n    .dataframe tbody tr th {\n        vertical-align: top;\n    }\n\n    .dataframe thead th {\n        text-align: right;\n    }\n</style>\n<table border=\"1\" class=\"dataframe\">\n  <thead>\n    <tr style=\"text-align: right;\">\n      <th></th>\n      <th>attitude.roll</th>\n      <th>attitude.pitch</th>\n      <th>attitude.yaw</th>\n      <th>userAcceleration.x</th>\n      <th>userAcceleration.y</th>\n      <th>userAcceleration.z</th>\n      <th>act</th>\n      <th>id</th>\n      <th>weight</th>\n      <th>height</th>\n      <th>age</th>\n      <th>gender</th>\n      <th>trial</th>\n    </tr>\n  </thead>\n  <tbody>\n    <tr>\n      <th>0</th>\n      <td>1.528132</td>\n      <td>-0.733896</td>\n      <td>0.696372</td>\n      <td>0.294894</td>\n      <td>-0.184493</td>\n      <td>0.377542</td>\n      <td>0.0</td>\n      <td>0.0</td>\n      <td>102.0</td>\n      <td>188.0</td>\n      <td>46.0</td>\n      <td>1.0</td>\n      <td>1.0</td>\n    </tr>\n    <tr>\n      <th>1</th>\n      <td>1.527992</td>\n      <td>-0.716987</td>\n      <td>0.677762</td>\n      <td>0.219405</td>\n      <td>0.035846</td>\n      <td>0.114866</td>\n      <td>0.0</td>\n      <td>0.0</td>\n      <td>102.0</td>\n      <td>188.0</td>\n      <td>46.0</td>\n      <td>1.0</td>\n      <td>1.0</td>\n    </tr>\n    <tr>\n      <th>2</th>\n      <td>1.527765</td>\n      <td>-0.706999</td>\n      <td>0.670951</td>\n      <td>0.010714</td>\n      <td>0.134701</td>\n      <td>-0.167808</td>\n      <td>0.0</td>\n      <td>0.0</td>\n      <td>102.0</td>\n      <td>188.0</td>\n      <td>46.0</td>\n      <td>1.0</td>\n      <td>1.0</td>\n    </tr>\n    <tr>\n      <th>3</th>\n      <td>1.516768</td>\n      <td>-0.704678</td>\n      <td>0.675735</td>\n      <td>-0.008389</td>\n      <td>0.136788</td>\n      <td>0.094958</td>\n      <td>0.0</td>\n      <td>0.0</td>\n      <td>102.0</td>\n      <td>188.0</td>\n      <td>46.0</td>\n      <td>1.0</td>\n      <td>1.0</td>\n    </tr>\n    <tr>\n      <th>4</th>\n      <td>1.493941</td>\n      <td>-0.703918</td>\n      <td>0.672994</td>\n      <td>0.199441</td>\n      <td>0.353996</td>\n      <td>-0.044299</td>\n      <td>0.0</td>\n      <td>0.0</td>\n      <td>102.0</td>\n      <td>188.0</td>\n      <td>46.0</td>\n      <td>1.0</td>\n      <td>1.0</td>\n    </tr>\n  </tbody>\n</table>\n</div>"
     },
     "execution_count": 8,
     "metadata": {},
     "output_type": "execute_result"
    }
   ],
   "source": [
    "import numpy as np\n",
    "import pandas as pd\n",
    "\n",
    "def get_ds_infos():\n",
    "    \"\"\"\n",
    "    Read the file includes data subject information.\n",
    "    \n",
    "    Data Columns:\n",
    "    0: code [1-24]\n",
    "    1: weight [kg]\n",
    "    2: height [cm]\n",
    "    3: age [years]\n",
    "    4: gender [0:Female, 1:Male]\n",
    "    \n",
    "    Returns:\n",
    "        A pandas DataFrame that contains inforamtion about data subjects' attributes \n",
    "    \"\"\" \n",
    "\n",
    "    dss = pd.read_csv(\"../../motion-sense/data/data_subjects_info.csv\")\n",
    "    print(\"[INFO] -- Data subjects' information is imported.\")\n",
    "    \n",
    "    return dss\n",
    "\n",
    "def set_data_types(data_types=[\"userAcceleration\"]):\n",
    "    \"\"\"\n",
    "    Select the sensors and the mode to shape the final dataset.\n",
    "    \n",
    "    Args:\n",
    "        data_types: A list of sensor data type from this list: [attitude, gravity, rotationRate, userAcceleration] \n",
    "\n",
    "    Returns:\n",
    "        It returns a list of columns to use for creating time-series from files.\n",
    "    \"\"\"\n",
    "    dt_list = []\n",
    "    for t in data_types:\n",
    "        if t != \"attitude\":\n",
    "            dt_list.append([t+\".x\",t+\".y\",t+\".z\"])\n",
    "        else:\n",
    "            dt_list.append([t+\".roll\", t+\".pitch\", t+\".yaw\"])\n",
    "\n",
    "    return dt_list\n",
    "\n",
    "\n",
    "def creat_time_series(dt_list, act_labels, trial_codes, mode=\"mag\", labeled=True):\n",
    "    \"\"\"\n",
    "    Args:\n",
    "        dt_list: A list of columns that shows the type of data we want.\n",
    "        act_labels: list of activites\n",
    "        trial_codes: list of trials\n",
    "        mode: It can be \"raw\" which means you want raw data\n",
    "        for every dimention of each data type,\n",
    "        [attitude(roll, pitch, yaw); gravity(x, y, z); rotationRate(x, y, z); userAcceleration(x,y,z)].\n",
    "        or it can be \"mag\" which means you only want the magnitude for each data type: (x^2+y^2+z^2)^(1/2)\n",
    "        labeled: True, if we want a labeld dataset. False, if we only want sensor values.\n",
    "\n",
    "    Returns:\n",
    "        It returns a time-series of sensor data.\n",
    "    \n",
    "    \"\"\"\n",
    "    num_data_cols = len(dt_list) if mode == \"mag\" else len(dt_list*3)\n",
    "\n",
    "    if labeled:\n",
    "        dataset = np.zeros((0,num_data_cols+7)) # \"7\" --> [act, code, weight, height, age, gender, trial] \n",
    "    else:\n",
    "        dataset = np.zeros((0,num_data_cols))\n",
    "        \n",
    "    ds_list = get_ds_infos()\n",
    "    \n",
    "    print(\"[INFO] -- Creating Time-Series\")\n",
    "    for sub_id in ds_list[\"code\"]:\n",
    "        for act_id, act in enumerate(act_labels):\n",
    "            for trial in trial_codes[act_id]:\n",
    "                fname = '../../motion-sense/data/A_DeviceMotion_data/'+act+'_'+str(trial)+'/sub_'+str(int(sub_id))+'.csv'\n",
    "                raw_data = pd.read_csv(fname)\n",
    "                raw_data = raw_data.drop(['Unnamed: 0'], axis=1)\n",
    "                vals = np.zeros((len(raw_data), num_data_cols))\n",
    "                for x_id, axes in enumerate(dt_list):\n",
    "                    if mode == \"mag\":\n",
    "                        vals[:,x_id] = (raw_data[axes]**2).sum(axis=1)**0.5        \n",
    "                    else:\n",
    "                        vals[:,x_id*3:(x_id+1)*3] = raw_data[axes].values\n",
    "                    vals = vals[:,:num_data_cols]\n",
    "                if labeled:\n",
    "                    lbls = np.array([[act_id,\n",
    "                            sub_id-1,\n",
    "                            ds_list[\"weight\"][sub_id-1],\n",
    "                            ds_list[\"height\"][sub_id-1],\n",
    "                            ds_list[\"age\"][sub_id-1],\n",
    "                            ds_list[\"gender\"][sub_id-1],\n",
    "                            trial          \n",
    "                           ]]*len(raw_data))\n",
    "                    vals = np.concatenate((vals, lbls), axis=1)\n",
    "                dataset = np.append(dataset,vals, axis=0)\n",
    "    cols = []\n",
    "    for axes in dt_list:\n",
    "        if mode == \"raw\":\n",
    "            cols += axes\n",
    "        else:\n",
    "            cols += [str(axes[0][:-2])]\n",
    "            \n",
    "    if labeled:\n",
    "        cols += [\"act\", \"id\", \"weight\", \"height\", \"age\", \"gender\", \"trial\"]\n",
    "    \n",
    "    dataset = pd.DataFrame(data=dataset, columns=cols)\n",
    "    return dataset\n",
    "#________________________________\n",
    "\n",
    "\n",
    "ACT_LABELS = [\"dws\",\"ups\", \"wlk\", \"jog\", \"std\", \"sit\"]\n",
    "TRIAL_CODES = {\n",
    "    ACT_LABELS[0]:[1,2,11],\n",
    "    ACT_LABELS[1]:[3,4,12],\n",
    "    ACT_LABELS[2]:[7,8,15],\n",
    "    ACT_LABELS[3]:[9,16],\n",
    "    ACT_LABELS[4]:[6,14],\n",
    "    ACT_LABELS[5]:[5,13]\n",
    "}\n",
    "\n",
    "## Here we set parameter to build labeld time-series from dataset of \"(A)DeviceMotion_data\"\n",
    "## attitude(roll, pitch, yaw); gravity(x, y, z); rotationRate(x, y, z); userAcceleration(x,y,z)\n",
    "sdt = [\"attitude\", \"userAcceleration\"]\n",
    "print(\"[INFO] -- Selected sensor data types: \"+str(sdt))    \n",
    "act_labels = ACT_LABELS #[0:4]\n",
    "print(\"[INFO] -- Selected activites: \"+str(act_labels))    \n",
    "trial_codes = [TRIAL_CODES[act] for act in act_labels]\n",
    "dt_list = set_data_types(sdt)\n",
    "dataset = creat_time_series(dt_list, act_labels, trial_codes, mode=\"raw\", labeled=True)\n",
    "print(\"[INFO] -- Shape of time-Series dataset:\"+str(dataset.shape))    \n",
    "dataset.head()"
   ],
   "metadata": {
    "collapsed": false,
    "ExecuteTime": {
     "end_time": "2023-08-24T11:37:08.407166134Z",
     "start_time": "2023-08-24T11:36:46.667462753Z"
    }
   },
   "id": "b112e4f1faf7b969"
  },
  {
   "cell_type": "code",
   "execution_count": 15,
   "outputs": [
    {
     "data": {
      "text/plain": "array([ 1.,  2., 11.,  3.,  4., 12.,  7.,  8., 15.,  9., 16.,  6., 14.,\n        5., 13.])"
     },
     "execution_count": 15,
     "metadata": {},
     "output_type": "execute_result"
    }
   ],
   "source": [
    "dataset['trial'].unique()"
   ],
   "metadata": {
    "collapsed": false,
    "ExecuteTime": {
     "end_time": "2023-08-24T11:40:51.492857095Z",
     "start_time": "2023-08-24T11:40:51.284930439Z"
    }
   },
   "id": "70274e7e4b73574b"
  },
  {
   "cell_type": "code",
   "execution_count": 20,
   "outputs": [
    {
     "data": {
      "text/plain": "            act\nid   trial     \n0.0  1.0      1\n     2.0      1\n     3.0      1\n     4.0      1\n     5.0      1\n...         ...\n23.0 12.0     1\n     13.0     1\n     14.0     1\n     15.0     1\n     16.0     1\n\n[360 rows x 1 columns]",
      "text/html": "<div>\n<style scoped>\n    .dataframe tbody tr th:only-of-type {\n        vertical-align: middle;\n    }\n\n    .dataframe tbody tr th {\n        vertical-align: top;\n    }\n\n    .dataframe thead th {\n        text-align: right;\n    }\n</style>\n<table border=\"1\" class=\"dataframe\">\n  <thead>\n    <tr style=\"text-align: right;\">\n      <th></th>\n      <th></th>\n      <th>act</th>\n    </tr>\n    <tr>\n      <th>id</th>\n      <th>trial</th>\n      <th></th>\n    </tr>\n  </thead>\n  <tbody>\n    <tr>\n      <th rowspan=\"5\" valign=\"top\">0.0</th>\n      <th>1.0</th>\n      <td>1</td>\n    </tr>\n    <tr>\n      <th>2.0</th>\n      <td>1</td>\n    </tr>\n    <tr>\n      <th>3.0</th>\n      <td>1</td>\n    </tr>\n    <tr>\n      <th>4.0</th>\n      <td>1</td>\n    </tr>\n    <tr>\n      <th>5.0</th>\n      <td>1</td>\n    </tr>\n    <tr>\n      <th>...</th>\n      <th>...</th>\n      <td>...</td>\n    </tr>\n    <tr>\n      <th rowspan=\"5\" valign=\"top\">23.0</th>\n      <th>12.0</th>\n      <td>1</td>\n    </tr>\n    <tr>\n      <th>13.0</th>\n      <td>1</td>\n    </tr>\n    <tr>\n      <th>14.0</th>\n      <td>1</td>\n    </tr>\n    <tr>\n      <th>15.0</th>\n      <td>1</td>\n    </tr>\n    <tr>\n      <th>16.0</th>\n      <td>1</td>\n    </tr>\n  </tbody>\n</table>\n<p>360 rows × 1 columns</p>\n</div>"
     },
     "execution_count": 20,
     "metadata": {},
     "output_type": "execute_result"
    }
   ],
   "source": [
    "dataset[['id', 'act', 'trial']].groupby(['id', 'trial']).nunique()"
   ],
   "metadata": {
    "collapsed": false,
    "ExecuteTime": {
     "end_time": "2023-08-24T11:45:24.672860593Z",
     "start_time": "2023-08-24T11:45:24.332076519Z"
    }
   },
   "id": "f96f25da363d5242"
  },
  {
   "cell_type": "code",
   "execution_count": 11,
   "outputs": [
    {
     "data": {
      "text/plain": "         attitude.roll  attitude.pitch  attitude.yaw  userAcceleration.x  \\\n0             1.528132       -0.733896      0.696372            0.294894   \n1             1.527992       -0.716987      0.677762            0.219405   \n2             1.527765       -0.706999      0.670951            0.010714   \n3             1.516768       -0.704678      0.675735           -0.008389   \n4             1.493941       -0.703918      0.672994            0.199441   \n...                ...             ...           ...                 ...   \n1412860      -2.368280       -0.381075     -0.089417            0.000789   \n1412861      -2.368752       -0.381071     -0.089478           -0.000409   \n1412862      -2.369130       -0.381163     -0.089465           -0.000486   \n1412863      -2.369372       -0.381295     -0.089468            0.000311   \n1412864      -2.369404       -0.381297     -0.089545            0.001357   \n\n         userAcceleration.y  userAcceleration.z  \n0                 -0.184493            0.377542  \n1                  0.035846            0.114866  \n2                  0.134701           -0.167808  \n3                  0.136788            0.094958  \n4                  0.353996           -0.044299  \n...                     ...                 ...  \n1412860           -0.005937           -0.004355  \n1412861           -0.000608            0.000098  \n1412862            0.000711            0.002045  \n1412863           -0.003395            0.004746  \n1412864           -0.004510            0.004161  \n\n[1412865 rows x 6 columns]",
      "text/html": "<div>\n<style scoped>\n    .dataframe tbody tr th:only-of-type {\n        vertical-align: middle;\n    }\n\n    .dataframe tbody tr th {\n        vertical-align: top;\n    }\n\n    .dataframe thead th {\n        text-align: right;\n    }\n</style>\n<table border=\"1\" class=\"dataframe\">\n  <thead>\n    <tr style=\"text-align: right;\">\n      <th></th>\n      <th>attitude.roll</th>\n      <th>attitude.pitch</th>\n      <th>attitude.yaw</th>\n      <th>userAcceleration.x</th>\n      <th>userAcceleration.y</th>\n      <th>userAcceleration.z</th>\n    </tr>\n  </thead>\n  <tbody>\n    <tr>\n      <th>0</th>\n      <td>1.528132</td>\n      <td>-0.733896</td>\n      <td>0.696372</td>\n      <td>0.294894</td>\n      <td>-0.184493</td>\n      <td>0.377542</td>\n    </tr>\n    <tr>\n      <th>1</th>\n      <td>1.527992</td>\n      <td>-0.716987</td>\n      <td>0.677762</td>\n      <td>0.219405</td>\n      <td>0.035846</td>\n      <td>0.114866</td>\n    </tr>\n    <tr>\n      <th>2</th>\n      <td>1.527765</td>\n      <td>-0.706999</td>\n      <td>0.670951</td>\n      <td>0.010714</td>\n      <td>0.134701</td>\n      <td>-0.167808</td>\n    </tr>\n    <tr>\n      <th>3</th>\n      <td>1.516768</td>\n      <td>-0.704678</td>\n      <td>0.675735</td>\n      <td>-0.008389</td>\n      <td>0.136788</td>\n      <td>0.094958</td>\n    </tr>\n    <tr>\n      <th>4</th>\n      <td>1.493941</td>\n      <td>-0.703918</td>\n      <td>0.672994</td>\n      <td>0.199441</td>\n      <td>0.353996</td>\n      <td>-0.044299</td>\n    </tr>\n    <tr>\n      <th>...</th>\n      <td>...</td>\n      <td>...</td>\n      <td>...</td>\n      <td>...</td>\n      <td>...</td>\n      <td>...</td>\n    </tr>\n    <tr>\n      <th>1412860</th>\n      <td>-2.368280</td>\n      <td>-0.381075</td>\n      <td>-0.089417</td>\n      <td>0.000789</td>\n      <td>-0.005937</td>\n      <td>-0.004355</td>\n    </tr>\n    <tr>\n      <th>1412861</th>\n      <td>-2.368752</td>\n      <td>-0.381071</td>\n      <td>-0.089478</td>\n      <td>-0.000409</td>\n      <td>-0.000608</td>\n      <td>0.000098</td>\n    </tr>\n    <tr>\n      <th>1412862</th>\n      <td>-2.369130</td>\n      <td>-0.381163</td>\n      <td>-0.089465</td>\n      <td>-0.000486</td>\n      <td>0.000711</td>\n      <td>0.002045</td>\n    </tr>\n    <tr>\n      <th>1412863</th>\n      <td>-2.369372</td>\n      <td>-0.381295</td>\n      <td>-0.089468</td>\n      <td>0.000311</td>\n      <td>-0.003395</td>\n      <td>0.004746</td>\n    </tr>\n    <tr>\n      <th>1412864</th>\n      <td>-2.369404</td>\n      <td>-0.381297</td>\n      <td>-0.089545</td>\n      <td>0.001357</td>\n      <td>-0.004510</td>\n      <td>0.004161</td>\n    </tr>\n  </tbody>\n</table>\n<p>1412865 rows × 6 columns</p>\n</div>"
     },
     "execution_count": 11,
     "metadata": {},
     "output_type": "execute_result"
    }
   ],
   "source": [
    "dataset.iloc[:, :6]"
   ],
   "metadata": {
    "collapsed": false,
    "ExecuteTime": {
     "end_time": "2023-08-24T11:38:06.965693267Z",
     "start_time": "2023-08-24T11:38:06.911917519Z"
    }
   },
   "id": "8562a95cb5d1ee85"
  },
  {
   "cell_type": "code",
   "execution_count": null,
   "outputs": [],
   "source": [],
   "metadata": {
    "collapsed": false
   },
   "id": "56767bde7e299dc3"
  },
  {
   "cell_type": "markdown",
   "source": [
    "# FitRec"
   ],
   "metadata": {
    "collapsed": false
   },
   "id": "17b960c33aa3d689"
  },
  {
   "cell_type": "code",
   "execution_count": 1,
   "outputs": [],
   "source": [
    "import numpy as np\n",
    "import pandas as pd"
   ],
   "metadata": {
    "collapsed": false,
    "ExecuteTime": {
     "end_time": "2023-08-26T07:02:58.235954567Z",
     "start_time": "2023-08-26T07:02:58.193041771Z"
    }
   },
   "id": "a3a063ed172a734b"
  },
  {
   "cell_type": "code",
   "execution_count": null,
   "outputs": [],
   "source": [
    "with open('processed_endomondoHR_proper_interpolate.npy', 'rb') as f:\n",
    "    data = np.load(f, allow_pickle=True)"
   ],
   "metadata": {
    "collapsed": false,
    "is_executing": true,
    "ExecuteTime": {
     "start_time": "2023-08-26T07:03:48.904211287Z"
    }
   },
   "id": "fda1e266726609f9"
  },
  {
   "cell_type": "code",
   "execution_count": null,
   "outputs": [],
   "source": [
    "|"
   ],
   "metadata": {
    "collapsed": false
   },
   "id": "1dad8488d90a4e4c"
  }
 ],
 "metadata": {
  "kernelspec": {
   "display_name": "Python 3",
   "language": "python",
   "name": "python3"
  },
  "language_info": {
   "codemirror_mode": {
    "name": "ipython",
    "version": 2
   },
   "file_extension": ".py",
   "mimetype": "text/x-python",
   "name": "python",
   "nbconvert_exporter": "python",
   "pygments_lexer": "ipython2",
   "version": "2.7.6"
  }
 },
 "nbformat": 4,
 "nbformat_minor": 5
}
