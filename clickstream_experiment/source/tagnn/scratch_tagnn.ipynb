{
 "cells": [
  {
   "cell_type": "code",
   "execution_count": 6,
   "outputs": [
    {
     "name": "stdout",
     "output_type": "stream",
     "text": [
      "Collecting wandb\r\n",
      "  Downloading wandb-0.15.3-py3-none-any.whl (2.0 MB)\r\n",
      "\u001B[2K     \u001B[90m━━━━━━━━━━━━━━━━━━━━━━━━━━━━━━━━━━━━━━━━\u001B[0m \u001B[32m2.0/2.0 MB\u001B[0m \u001B[31m14.0 MB/s\u001B[0m eta \u001B[36m0:00:00\u001B[0ma \u001B[36m0:00:01\u001B[0m\r\n",
      "\u001B[?25hCollecting docker-pycreds>=0.4.0\r\n",
      "  Using cached docker_pycreds-0.4.0-py2.py3-none-any.whl (9.0 kB)\r\n",
      "Collecting Click!=8.0.0,>=7.0\r\n",
      "  Using cached click-8.1.3-py3-none-any.whl (96 kB)\r\n",
      "Requirement already satisfied: setuptools in /ziob/klaudia/miniconda3/envs/preproc/lib/python3.10/site-packages (from wandb) (65.6.3)\r\n",
      "Collecting pathtools\r\n",
      "  Using cached pathtools-0.1.2.tar.gz (11 kB)\r\n",
      "  Preparing metadata (setup.py) ... \u001B[?25ldone\r\n",
      "\u001B[?25hCollecting appdirs>=1.4.3\r\n",
      "  Using cached appdirs-1.4.4-py2.py3-none-any.whl (9.6 kB)\r\n",
      "Requirement already satisfied: PyYAML in /ziob/klaudia/miniconda3/envs/preproc/lib/python3.10/site-packages (from wandb) (6.0)\r\n",
      "Collecting sentry-sdk>=1.0.0\r\n",
      "  Downloading sentry_sdk-1.23.1-py2.py3-none-any.whl (205 kB)\r\n",
      "\u001B[2K     \u001B[90m━━━━━━━━━━━━━━━━━━━━━━━━━━━━━━━━━━━━━━\u001B[0m \u001B[32m205.1/205.1 kB\u001B[0m \u001B[31m26.1 MB/s\u001B[0m eta \u001B[36m0:00:00\u001B[0m\r\n",
      "\u001B[?25hRequirement already satisfied: psutil>=5.0.0 in /ziob/klaudia/miniconda3/envs/preproc/lib/python3.10/site-packages (from wandb) (5.9.4)\r\n",
      "Collecting setproctitle\r\n",
      "  Downloading setproctitle-1.3.2-cp310-cp310-manylinux_2_5_x86_64.manylinux1_x86_64.manylinux_2_17_x86_64.manylinux2014_x86_64.whl (30 kB)\r\n",
      "Collecting GitPython!=3.1.29,>=1.0.0\r\n",
      "  Downloading GitPython-3.1.31-py3-none-any.whl (184 kB)\r\n",
      "\u001B[2K     \u001B[90m━━━━━━━━━━━━━━━━━━━━━━━━━━━━━━━━━━━━━━\u001B[0m \u001B[32m184.3/184.3 kB\u001B[0m \u001B[31m21.1 MB/s\u001B[0m eta \u001B[36m0:00:00\u001B[0m\r\n",
      "\u001B[?25hCollecting requests<3,>=2.0.0\r\n",
      "  Downloading requests-2.30.0-py3-none-any.whl (62 kB)\r\n",
      "\u001B[2K     \u001B[90m━━━━━━━━━━━━━━━━━━━━━━━━━━━━━━━━━━━━━━━━\u001B[0m \u001B[32m62.5/62.5 kB\u001B[0m \u001B[31m11.7 MB/s\u001B[0m eta \u001B[36m0:00:00\u001B[0m\r\n",
      "\u001B[?25hCollecting protobuf!=4.21.0,<5,>=3.19.0\r\n",
      "  Downloading protobuf-4.23.1-cp37-abi3-manylinux2014_x86_64.whl (304 kB)\r\n",
      "\u001B[2K     \u001B[90m━━━━━━━━━━━━━━━━━━━━━━━━━━━━━━━━━━━━━━\u001B[0m \u001B[32m304.5/304.5 kB\u001B[0m \u001B[31m29.1 MB/s\u001B[0m eta \u001B[36m0:00:00\u001B[0m\r\n",
      "\u001B[?25hRequirement already satisfied: six>=1.4.0 in /ziob/klaudia/miniconda3/envs/preproc/lib/python3.10/site-packages (from docker-pycreds>=0.4.0->wandb) (1.16.0)\r\n",
      "Collecting gitdb<5,>=4.0.1\r\n",
      "  Downloading gitdb-4.0.10-py3-none-any.whl (62 kB)\r\n",
      "\u001B[2K     \u001B[90m━━━━━━━━━━━━━━━━━━━━━━━━━━━━━━━━━━━━━━━━\u001B[0m \u001B[32m62.7/62.7 kB\u001B[0m \u001B[31m4.5 MB/s\u001B[0m eta \u001B[36m0:00:00\u001B[0m\r\n",
      "\u001B[?25hCollecting urllib3<3,>=1.21.1\r\n",
      "  Downloading urllib3-2.0.2-py3-none-any.whl (123 kB)\r\n",
      "\u001B[2K     \u001B[90m━━━━━━━━━━━━━━━━━━━━━━━━━━━━━━━━━━━━━━\u001B[0m \u001B[32m123.2/123.2 kB\u001B[0m \u001B[31m18.0 MB/s\u001B[0m eta \u001B[36m0:00:00\u001B[0m\r\n",
      "\u001B[?25hCollecting charset-normalizer<4,>=2\r\n",
      "  Downloading charset_normalizer-3.1.0-cp310-cp310-manylinux_2_17_x86_64.manylinux2014_x86_64.whl (199 kB)\r\n",
      "\u001B[2K     \u001B[90m━━━━━━━━━━━━━━━━━━━━━━━━━━━━━━━━━━━━━━\u001B[0m \u001B[32m199.3/199.3 kB\u001B[0m \u001B[31m11.5 MB/s\u001B[0m eta \u001B[36m0:00:00\u001B[0m\r\n",
      "\u001B[?25hRequirement already satisfied: certifi>=2017.4.17 in /ziob/klaudia/miniconda3/envs/preproc/lib/python3.10/site-packages (from requests<3,>=2.0.0->wandb) (2022.12.7)\r\n",
      "Requirement already satisfied: idna<4,>=2.5 in /ziob/klaudia/miniconda3/envs/preproc/lib/python3.10/site-packages (from requests<3,>=2.0.0->wandb) (3.4)\r\n",
      "Collecting urllib3<3,>=1.21.1\r\n",
      "  Downloading urllib3-1.26.15-py2.py3-none-any.whl (140 kB)\r\n",
      "\u001B[2K     \u001B[90m━━━━━━━━━━━━━━━━━━━━━━━━━━━━━━━━━━━━━━\u001B[0m \u001B[32m140.9/140.9 kB\u001B[0m \u001B[31m25.6 MB/s\u001B[0m eta \u001B[36m0:00:00\u001B[0m\r\n",
      "\u001B[?25hCollecting smmap<6,>=3.0.1\r\n",
      "  Using cached smmap-5.0.0-py3-none-any.whl (24 kB)\r\n",
      "Building wheels for collected packages: pathtools\r\n",
      "  Building wheel for pathtools (setup.py) ... \u001B[?25ldone\r\n",
      "\u001B[?25h  Created wheel for pathtools: filename=pathtools-0.1.2-py3-none-any.whl size=8792 sha256=e4cd23783791598be04f37d4e016fc46a315b765470d2d8beee5261c13816a9b\r\n",
      "  Stored in directory: /home/klaudia/.cache/pip/wheels/44/1b/54/249c94316d4e1030e2d0683fba1d8ea06197de866f5a4de738\r\n",
      "Successfully built pathtools\r\n",
      "Installing collected packages: pathtools, appdirs, urllib3, smmap, setproctitle, protobuf, docker-pycreds, Click, charset-normalizer, sentry-sdk, requests, gitdb, GitPython, wandb\r\n",
      "Successfully installed Click-8.1.3 GitPython-3.1.31 appdirs-1.4.4 charset-normalizer-3.1.0 docker-pycreds-0.4.0 gitdb-4.0.10 pathtools-0.1.2 protobuf-4.23.1 requests-2.30.0 sentry-sdk-1.23.1 setproctitle-1.3.2 smmap-5.0.0 urllib3-1.26.15 wandb-0.15.3\r\n"
     ]
    }
   ],
   "source": [
    "!pip install wandb"
   ],
   "metadata": {
    "collapsed": false,
    "ExecuteTime": {
     "end_time": "2023-05-21T09:04:46.580403287Z",
     "start_time": "2023-05-21T09:03:39.240545760Z"
    }
   }
  },
  {
   "cell_type": "code",
   "execution_count": 7,
   "metadata": {
    "collapsed": true,
    "ExecuteTime": {
     "end_time": "2023-05-21T09:04:52.641506748Z",
     "start_time": "2023-05-21T09:04:46.590373629Z"
    }
   },
   "outputs": [],
   "source": [
    "import argparse\n",
    "import pickle\n",
    "from pathlib import Path\n",
    "import sys\n",
    "import wandb"
   ]
  },
  {
   "cell_type": "code",
   "execution_count": 8,
   "outputs": [],
   "source": [
    "PROJECT_PATH = \"/ziob/klaudia/FlowHMM\"\n",
    "sys.path.insert(1, PROJECT_PATH)"
   ],
   "metadata": {
    "collapsed": false,
    "ExecuteTime": {
     "end_time": "2023-05-21T09:05:03.814125553Z",
     "start_time": "2023-05-21T09:05:03.813659799Z"
    }
   }
  },
  {
   "cell_type": "code",
   "execution_count": 9,
   "outputs": [
    {
     "ename": "ModuleNotFoundError",
     "evalue": "No module named 'src'",
     "output_type": "error",
     "traceback": [
      "\u001B[0;31m---------------------------------------------------------------------------\u001B[0m",
      "\u001B[0;31mModuleNotFoundError\u001B[0m                       Traceback (most recent call last)",
      "Cell \u001B[0;32mIn[9], line 2\u001B[0m\n\u001B[1;32m      1\u001B[0m \u001B[38;5;28;01mfrom\u001B[39;00m \u001B[38;5;21;01mclickstream_experiment\u001B[39;00m\u001B[38;5;21;01m.\u001B[39;00m\u001B[38;5;21;01msource\u001B[39;00m\u001B[38;5;21;01m.\u001B[39;00m\u001B[38;5;21;01mtagnn\u001B[39;00m\u001B[38;5;21;01m.\u001B[39;00m\u001B[38;5;21;01mmodels\u001B[39;00m\u001B[38;5;21;01m.\u001B[39;00m\u001B[38;5;21;01mtagnn\u001B[39;00m\u001B[38;5;21;01m.\u001B[39;00m\u001B[38;5;21;01mmodel\u001B[39;00m \u001B[38;5;28;01mimport\u001B[39;00m SessionGraph\n\u001B[0;32m----> 2\u001B[0m \u001B[38;5;28;01mfrom\u001B[39;00m \u001B[38;5;21;01mclickstream_experiment\u001B[39;00m\u001B[38;5;21;01m.\u001B[39;00m\u001B[38;5;21;01msource\u001B[39;00m\u001B[38;5;21;01m.\u001B[39;00m\u001B[38;5;21;01mtagnn\u001B[39;00m\u001B[38;5;21;01m.\u001B[39;00m\u001B[38;5;21;01mmodels\u001B[39;00m\u001B[38;5;21;01m.\u001B[39;00m\u001B[38;5;21;01mtagnn\u001B[39;00m\u001B[38;5;21;01m.\u001B[39;00m\u001B[38;5;21;01mwrappers\u001B[39;00m \u001B[38;5;28;01mimport\u001B[39;00m Trainer\n\u001B[1;32m      3\u001B[0m \u001B[38;5;28;01mfrom\u001B[39;00m \u001B[38;5;21;01mclickstream_experiment\u001B[39;00m\u001B[38;5;21;01m.\u001B[39;00m\u001B[38;5;21;01msource\u001B[39;00m\u001B[38;5;21;01m.\u001B[39;00m\u001B[38;5;21;01mtagnn\u001B[39;00m\u001B[38;5;21;01m.\u001B[39;00m\u001B[38;5;21;01mmodels\u001B[39;00m\u001B[38;5;21;01m.\u001B[39;00m\u001B[38;5;21;01mtagnn\u001B[39;00m\u001B[38;5;21;01m.\u001B[39;00m\u001B[38;5;21;01mutils\u001B[39;00m \u001B[38;5;28;01mimport\u001B[39;00m (\n\u001B[1;32m      4\u001B[0m     Data, trans_to_cuda, find_edge_weights, read_data, calculate_embeddings, calculate_abx\n\u001B[1;32m      5\u001B[0m )\n",
      "File \u001B[0;32m/ziob/klaudia/FlowHMM/clickstream_experiment/source/tagnn/models/tagnn/wrappers.py:8\u001B[0m\n\u001B[1;32m      5\u001B[0m \u001B[38;5;28;01mimport\u001B[39;00m \u001B[38;5;21;01mtorch\u001B[39;00m\n\u001B[1;32m      6\u001B[0m \u001B[38;5;28;01mimport\u001B[39;00m \u001B[38;5;21;01mwandb\u001B[39;00m\n\u001B[0;32m----> 8\u001B[0m \u001B[38;5;28;01mfrom\u001B[39;00m \u001B[38;5;21;01msrc\u001B[39;00m\u001B[38;5;21;01m.\u001B[39;00m\u001B[38;5;21;01mdata\u001B[39;00m\u001B[38;5;21;01m.\u001B[39;00m\u001B[38;5;21;01mabx\u001B[39;00m \u001B[38;5;28;01mimport\u001B[39;00m calculate_abx_score\n\u001B[1;32m      9\u001B[0m \u001B[38;5;28;01mfrom\u001B[39;00m \u001B[38;5;21;01msrc\u001B[39;00m\u001B[38;5;21;01m.\u001B[39;00m\u001B[38;5;21;01mmodels\u001B[39;00m\u001B[38;5;21;01m.\u001B[39;00m\u001B[38;5;21;01mtagnn\u001B[39;00m\u001B[38;5;21;01m.\u001B[39;00m\u001B[38;5;21;01mutils\u001B[39;00m \u001B[38;5;28;01mimport\u001B[39;00m trans_to_cuda, trans_to_cpu\n\u001B[1;32m     12\u001B[0m \u001B[38;5;28;01mclass\u001B[39;00m \u001B[38;5;21;01mModelWrapper\u001B[39;00m:\n",
      "\u001B[0;31mModuleNotFoundError\u001B[0m: No module named 'src'"
     ]
    }
   ],
   "source": [
    "from clickstream_experiment.source.tagnn.models.tagnn.model import SessionGraph\n",
    "from clickstream_experiment.source.tagnn.models.tagnn.wrappers import Trainer\n",
    "from clickstream_experiment.source.tagnn.models.tagnn.utils import (\n",
    "    Data, trans_to_cuda, find_edge_weights, read_data, calculate_embeddings, calculate_abx\n",
    ")"
   ],
   "metadata": {
    "collapsed": false,
    "ExecuteTime": {
     "end_time": "2023-05-21T09:05:29.698971469Z",
     "start_time": "2023-05-21T09:05:04.608702969Z"
    }
   }
  },
  {
   "cell_type": "code",
   "execution_count": 3,
   "outputs": [
    {
     "data": {
      "text/plain": "'/home/klaudia'"
     },
     "execution_count": 3,
     "metadata": {},
     "output_type": "execute_result"
    }
   ],
   "source": [],
   "metadata": {
    "collapsed": false,
    "ExecuteTime": {
     "end_time": "2023-05-21T09:01:55.338689397Z",
     "start_time": "2023-05-21T09:01:55.323979090Z"
    }
   }
  }
 ],
 "metadata": {
  "kernelspec": {
   "display_name": "Python 3",
   "language": "python",
   "name": "python3"
  },
  "language_info": {
   "codemirror_mode": {
    "name": "ipython",
    "version": 2
   },
   "file_extension": ".py",
   "mimetype": "text/x-python",
   "name": "python",
   "nbconvert_exporter": "python",
   "pygments_lexer": "ipython2",
   "version": "2.7.6"
  }
 },
 "nbformat": 4,
 "nbformat_minor": 0
}
