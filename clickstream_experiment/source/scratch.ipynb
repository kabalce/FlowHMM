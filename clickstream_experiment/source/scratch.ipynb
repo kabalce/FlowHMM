{
 "cells": [
  {
   "cell_type": "code",
   "execution_count": 68,
   "metadata": {
    "collapsed": true,
    "ExecuteTime": {
     "end_time": "2023-05-07T19:28:33.164539096Z",
     "start_time": "2023-05-07T19:28:33.157751894Z"
    }
   },
   "outputs": [],
   "source": [
    "import argparse\n",
    "import pickle as pkl\n",
    "import pandas as pd\n",
    "from pathlib import Path\n",
    "from tqdm import tqdm\n",
    "import matplotlib.pyplot as plt\n",
    "# from clickstream_experiment.source.clickstream import ClickStream\n",
    "from gensim.models import KeyedVectors\n",
    "from gensim.models.word2vec import LineSentence\n",
    "# from FlowHMM.model.discretized_HMM import DiscreteHMM"
   ]
  },
  {
   "cell_type": "code",
   "execution_count": 6,
   "outputs": [],
   "source": [
    "DATA_SET = 'train'\n",
    "PROJECT_PATH = '/ziob/klaudia/Multiobjective_RS'\n",
    "w2v_dim = 100\n"
   ],
   "metadata": {
    "collapsed": false,
    "ExecuteTime": {
     "start_time": "2023-04-14T08:59:00.819678Z",
     "end_time": "2023-04-14T08:59:00.873756Z"
    }
   }
  },
  {
   "cell_type": "code",
   "execution_count": 71,
   "outputs": [
    {
     "name": "stdout",
     "output_type": "stream",
     "text": [
      "dict_keys(['Xd_train', 'Xd_test', 'Xc_train', 'Xc_test', 'lengths_train', 'lengths_sub_train', 'lengths_test', 'myHMM.nodes'])\n"
     ]
    }
   ],
   "source": [
    "data_path = f\"{PROJECT_PATH}/clickstream_experiment/data/preprocessed_data/train_valid_data_{w2v_dim}_{5}_{5}.pkl\"\n",
    "if Path(data_path).exists():\n",
    "    with open(data_path, 'rb') as f:\n",
    "        data = pkl.load(f)\n",
    "print(data.keys())"
   ],
   "metadata": {
    "collapsed": false,
    "ExecuteTime": {
     "end_time": "2023-05-07T19:28:59.799167096Z",
     "start_time": "2023-05-07T19:28:59.774420610Z"
    }
   }
  },
  {
   "cell_type": "code",
   "execution_count": 72,
   "outputs": [
    {
     "data": {
      "text/plain": "array([29, 57, 45, ...,  8, 69,  5])"
     },
     "execution_count": 72,
     "metadata": {},
     "output_type": "execute_result"
    }
   ],
   "source": [
    "data['myHMM.nodes']"
   ],
   "metadata": {
    "collapsed": false,
    "ExecuteTime": {
     "end_time": "2023-05-07T19:38:14.700604281Z",
     "start_time": "2023-05-07T19:38:14.687363598Z"
    }
   }
  },
  {
   "cell_type": "code",
   "execution_count": 9,
   "outputs": [],
   "source": [
    "vectors = KeyedVectors.load(f'{PROJECT_PATH}/data/preprocessed_data/vectors_train_100.kv')"
   ],
   "metadata": {
    "collapsed": false,
    "ExecuteTime": {
     "start_time": "2023-04-14T08:59:32.197756Z",
     "end_time": "2023-04-14T08:59:33.331142Z"
    }
   }
  },
  {
   "cell_type": "code",
   "execution_count": 14,
   "outputs": [
    {
     "name": "stderr",
     "output_type": "stream",
     "text": [
      "/tmp/ipykernel_1968135/2997131487.py:1: DeprecationWarning: Call to deprecated `word_vec` (Use get_vector instead).\n",
      "  vectors.word_vec()\n"
     ]
    },
    {
     "ename": "TypeError",
     "evalue": "KeyedVectors.get_vector() missing 1 required positional argument: 'key'",
     "output_type": "error",
     "traceback": [
      "\u001B[0;31m---------------------------------------------------------------------------\u001B[0m",
      "\u001B[0;31mTypeError\u001B[0m                                 Traceback (most recent call last)",
      "Cell \u001B[0;32mIn[14], line 1\u001B[0m\n\u001B[0;32m----> 1\u001B[0m \u001B[43mvectors\u001B[49m\u001B[38;5;241;43m.\u001B[39;49m\u001B[43mword_vec\u001B[49m\u001B[43m(\u001B[49m\u001B[43m)\u001B[49m\n",
      "File \u001B[0;32m/ziob/klaudia/miniconda3/envs/preproc/lib/python3.10/site-packages/gensim/utils.py:1522\u001B[0m, in \u001B[0;36mdeprecated.<locals>.decorator.<locals>.new_func1\u001B[0;34m(*args, **kwargs)\u001B[0m\n\u001B[1;32m   1515\u001B[0m \u001B[38;5;129m@wraps\u001B[39m(func)\n\u001B[1;32m   1516\u001B[0m \u001B[38;5;28;01mdef\u001B[39;00m \u001B[38;5;21mnew_func1\u001B[39m(\u001B[38;5;241m*\u001B[39margs, \u001B[38;5;241m*\u001B[39m\u001B[38;5;241m*\u001B[39mkwargs):\n\u001B[1;32m   1517\u001B[0m     warnings\u001B[38;5;241m.\u001B[39mwarn(\n\u001B[1;32m   1518\u001B[0m         fmt\u001B[38;5;241m.\u001B[39mformat(name\u001B[38;5;241m=\u001B[39mfunc\u001B[38;5;241m.\u001B[39m\u001B[38;5;18m__name__\u001B[39m, reason\u001B[38;5;241m=\u001B[39mreason),\n\u001B[1;32m   1519\u001B[0m         category\u001B[38;5;241m=\u001B[39m\u001B[38;5;167;01mDeprecationWarning\u001B[39;00m,\n\u001B[1;32m   1520\u001B[0m         stacklevel\u001B[38;5;241m=\u001B[39m\u001B[38;5;241m2\u001B[39m\n\u001B[1;32m   1521\u001B[0m     )\n\u001B[0;32m-> 1522\u001B[0m     \u001B[38;5;28;01mreturn\u001B[39;00m \u001B[43mfunc\u001B[49m\u001B[43m(\u001B[49m\u001B[38;5;241;43m*\u001B[39;49m\u001B[43margs\u001B[49m\u001B[43m,\u001B[49m\u001B[43m \u001B[49m\u001B[38;5;241;43m*\u001B[39;49m\u001B[38;5;241;43m*\u001B[39;49m\u001B[43mkwargs\u001B[49m\u001B[43m)\u001B[49m\n",
      "File \u001B[0;32m/ziob/klaudia/miniconda3/envs/preproc/lib/python3.10/site-packages/gensim/models/keyedvectors.py:459\u001B[0m, in \u001B[0;36mKeyedVectors.word_vec\u001B[0;34m(self, *args, **kwargs)\u001B[0m\n\u001B[1;32m    456\u001B[0m \u001B[38;5;129m@deprecated\u001B[39m(\u001B[38;5;124m\"\u001B[39m\u001B[38;5;124mUse get_vector instead\u001B[39m\u001B[38;5;124m\"\u001B[39m)\n\u001B[1;32m    457\u001B[0m \u001B[38;5;28;01mdef\u001B[39;00m \u001B[38;5;21mword_vec\u001B[39m(\u001B[38;5;28mself\u001B[39m, \u001B[38;5;241m*\u001B[39margs, \u001B[38;5;241m*\u001B[39m\u001B[38;5;241m*\u001B[39mkwargs):\n\u001B[1;32m    458\u001B[0m \u001B[38;5;250m    \u001B[39m\u001B[38;5;124;03m\"\"\"Compatibility alias for get_vector(); must exist so subclass calls reach subclass get_vector().\"\"\"\u001B[39;00m\n\u001B[0;32m--> 459\u001B[0m     \u001B[38;5;28;01mreturn\u001B[39;00m \u001B[38;5;28;43mself\u001B[39;49m\u001B[38;5;241;43m.\u001B[39;49m\u001B[43mget_vector\u001B[49m\u001B[43m(\u001B[49m\u001B[38;5;241;43m*\u001B[39;49m\u001B[43margs\u001B[49m\u001B[43m,\u001B[49m\u001B[43m \u001B[49m\u001B[38;5;241;43m*\u001B[39;49m\u001B[38;5;241;43m*\u001B[39;49m\u001B[43mkwargs\u001B[49m\u001B[43m)\u001B[49m\n",
      "\u001B[0;31mTypeError\u001B[0m: KeyedVectors.get_vector() missing 1 required positional argument: 'key'"
     ]
    }
   ],
   "source": [
    "vectors.word_vec()"
   ],
   "metadata": {
    "collapsed": false,
    "ExecuteTime": {
     "start_time": "2023-04-14T09:01:47.738035Z",
     "end_time": "2023-04-14T09:01:48.467421Z"
    }
   }
  },
  {
   "cell_type": "code",
   "execution_count": 21,
   "outputs": [
    {
     "ename": "AttributeError",
     "evalue": "The index2entity attribute has been replaced by index_to_key since Gensim 4.0.0.\nSee https://github.com/RaRe-Technologies/gensim/wiki/Migrating-from-Gensim-3.x-to-4",
     "output_type": "error",
     "traceback": [
      "\u001B[0;31m---------------------------------------------------------------------------\u001B[0m",
      "\u001B[0;31mAttributeError\u001B[0m                            Traceback (most recent call last)",
      "Cell \u001B[0;32mIn[21], line 1\u001B[0m\n\u001B[0;32m----> 1\u001B[0m \u001B[43mvectors\u001B[49m\u001B[38;5;241;43m.\u001B[39;49m\u001B[43mindex2entity\u001B[49m\n",
      "File \u001B[0;32m/ziob/klaudia/miniconda3/envs/preproc/lib/python3.10/site-packages/gensim/models/keyedvectors.py:712\u001B[0m, in \u001B[0;36mKeyedVectors.index2entity\u001B[0;34m(self)\u001B[0m\n\u001B[1;32m    710\u001B[0m \u001B[38;5;129m@property\u001B[39m\n\u001B[1;32m    711\u001B[0m \u001B[38;5;28;01mdef\u001B[39;00m \u001B[38;5;21mindex2entity\u001B[39m(\u001B[38;5;28mself\u001B[39m):\n\u001B[0;32m--> 712\u001B[0m     \u001B[38;5;28;01mraise\u001B[39;00m \u001B[38;5;167;01mAttributeError\u001B[39;00m(\n\u001B[1;32m    713\u001B[0m         \u001B[38;5;124m\"\u001B[39m\u001B[38;5;124mThe index2entity attribute has been replaced by index_to_key since Gensim 4.0.0.\u001B[39m\u001B[38;5;130;01m\\n\u001B[39;00m\u001B[38;5;124m\"\u001B[39m\n\u001B[1;32m    714\u001B[0m         \u001B[38;5;124m\"\u001B[39m\u001B[38;5;124mSee https://github.com/RaRe-Technologies/gensim/wiki/Migrating-from-Gensim-3.x-to-4\u001B[39m\u001B[38;5;124m\"\u001B[39m\n\u001B[1;32m    715\u001B[0m     )\n",
      "\u001B[0;31mAttributeError\u001B[0m: The index2entity attribute has been replaced by index_to_key since Gensim 4.0.0.\nSee https://github.com/RaRe-Technologies/gensim/wiki/Migrating-from-Gensim-3.x-to-4"
     ]
    }
   ],
   "source": [
    "vectors.key_to_index"
   ],
   "metadata": {
    "collapsed": false,
    "ExecuteTime": {
     "start_time": "2023-04-14T09:06:33.419063Z",
     "end_time": "2023-04-14T09:06:33.510924Z"
    }
   }
  },
  {
   "cell_type": "code",
   "execution_count": 28,
   "outputs": [
    {
     "data": {
      "text/plain": "array([[ 0.37812564,  0.9615767 ,  0.9456675 , ..., -1.8996654 ,\n         1.8654928 , -0.6869288 ],\n       [-0.0635553 ,  2.4719412 ,  0.12076852, ...,  0.5209727 ,\n         0.2821499 , -0.03281005],\n       [-0.12845026, -0.72366726, -2.040437  , ..., -0.00900516,\n         2.5470822 ,  0.42293575],\n       ...,\n       [-0.03972329,  0.00678696, -0.02461287, ..., -0.02534718,\n         0.08919474, -0.0304991 ],\n       [-0.06562883,  0.05732198, -0.02860171, ..., -0.00453127,\n         0.01211101, -0.10140423],\n       [-0.02814574,  0.04212878, -0.04877787, ..., -0.01338863,\n        -0.02220276, -0.04998498]], dtype=float32)"
     },
     "execution_count": 28,
     "metadata": {},
     "output_type": "execute_result"
    }
   ],
   "source": [
    "import numpy as np\n",
    "np.concatenate([vectors.get_vector(k).reshape(1, -1) for k in list(vectors.key_to_index.keys())])"
   ],
   "metadata": {
    "collapsed": false,
    "ExecuteTime": {
     "start_time": "2023-04-14T09:11:20.755003Z",
     "end_time": "2023-04-14T09:11:24.721796Z"
    }
   }
  },
  {
   "cell_type": "code",
   "execution_count": null,
   "outputs": [],
   "source": [],
   "metadata": {
    "collapsed": false
   }
  }
 ],
 "metadata": {
  "kernelspec": {
   "display_name": "Python 3",
   "language": "python",
   "name": "python3"
  },
  "language_info": {
   "codemirror_mode": {
    "name": "ipython",
    "version": 2
   },
   "file_extension": ".py",
   "mimetype": "text/x-python",
   "name": "python",
   "nbconvert_exporter": "python",
   "pygments_lexer": "ipython2",
   "version": "2.7.6"
  }
 },
 "nbformat": 4,
 "nbformat_minor": 0
}
