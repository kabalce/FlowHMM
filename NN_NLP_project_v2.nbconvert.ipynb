{
 "cells": [
  {
   "cell_type": "code",
   "execution_count": 1,
   "metadata": {
    "ExecuteTime": {
     "end_time": "2023-06-21T11:31:47.167300383Z",
     "start_time": "2023-06-21T11:31:43.681612880Z"
    },
    "collapsed": true,
    "execution": {
     "iopub.execute_input": "2023-06-21T11:52:32.867382Z",
     "iopub.status.busy": "2023-06-21T11:52:32.866294Z",
     "iopub.status.idle": "2023-06-21T11:53:06.804126Z",
     "shell.execute_reply": "2023-06-21T11:53:06.801574Z"
    }
   },
   "outputs": [],
   "source": [
    "from torchHMM.model.discretized_HMM import DiscreteHMM, DISCRETIZATION_TECHNIQUES\n",
    "from torchHMM.model.discretized_flow_HMM import FlowHMM"
   ]
  },
  {
   "cell_type": "code",
   "execution_count": 2,
   "metadata": {
    "ExecuteTime": {
     "end_time": "2023-06-21T11:31:47.723528438Z",
     "start_time": "2023-06-21T11:31:47.168175700Z"
    },
    "collapsed": false,
    "execution": {
     "iopub.execute_input": "2023-06-21T11:53:06.812832Z",
     "iopub.status.busy": "2023-06-21T11:53:06.811295Z",
     "iopub.status.idle": "2023-06-21T11:53:12.816617Z",
     "shell.execute_reply": "2023-06-21T11:53:12.814834Z"
    }
   },
   "outputs": [],
   "source": [
    "import numpy as np\n",
    "import pandas as pd\n",
    "import pickle as pkl"
   ]
  },
  {
   "cell_type": "code",
   "execution_count": 3,
   "metadata": {
    "ExecuteTime": {
     "end_time": "2023-06-21T11:31:48.057718693Z",
     "start_time": "2023-06-21T11:31:47.724130888Z"
    },
    "collapsed": false,
    "execution": {
     "iopub.execute_input": "2023-06-21T11:53:12.825005Z",
     "iopub.status.busy": "2023-06-21T11:53:12.823442Z",
     "iopub.status.idle": "2023-06-21T11:53:14.880817Z",
     "shell.execute_reply": "2023-06-21T11:53:14.878926Z"
    }
   },
   "outputs": [],
   "source": [
    "from hmmlearn.hmm import CategoricalHMM, GaussianHMM\n",
    "from gensim.models import KeyedVectors\n"
   ]
  },
  {
   "cell_type": "code",
   "execution_count": 4,
   "metadata": {
    "ExecuteTime": {
     "end_time": "2023-06-21T11:31:59.710965366Z",
     "start_time": "2023-06-21T11:31:48.062712757Z"
    },
    "collapsed": false,
    "execution": {
     "iopub.execute_input": "2023-06-21T11:53:14.889622Z",
     "iopub.status.busy": "2023-06-21T11:53:14.887906Z",
     "iopub.status.idle": "2023-06-21T11:53:28.414187Z",
     "shell.execute_reply": "2023-06-21T11:53:28.412960Z"
    }
   },
   "outputs": [],
   "source": [
    "with open('clickstream_experiment/data/preprocessed_data/ClickStream_test_cleaned.pkl', 'rb') as f:\n",
    "    cs = pkl.load(f)"
   ]
  },
  {
   "cell_type": "code",
   "execution_count": 5,
   "metadata": {
    "ExecuteTime": {
     "end_time": "2023-06-21T11:31:59.723653905Z",
     "start_time": "2023-06-21T11:31:59.721865505Z"
    },
    "collapsed": false,
    "execution": {
     "iopub.execute_input": "2023-06-21T11:53:28.418126Z",
     "iopub.status.busy": "2023-06-21T11:53:28.417884Z",
     "iopub.status.idle": "2023-06-21T11:53:28.429191Z",
     "shell.execute_reply": "2023-06-21T11:53:28.428131Z"
    }
   },
   "outputs": [],
   "source": [
    "session_train, sessions_test = cs.sessions[:100000], cs.sessions[-100000:]\n"
   ]
  },
  {
   "cell_type": "code",
   "execution_count": 6,
   "metadata": {
    "ExecuteTime": {
     "end_time": "2023-06-21T11:32:03.087702757Z",
     "start_time": "2023-06-21T11:31:59.748553834Z"
    },
    "collapsed": false,
    "execution": {
     "iopub.execute_input": "2023-06-21T11:53:28.432615Z",
     "iopub.status.busy": "2023-06-21T11:53:28.432356Z",
     "iopub.status.idle": "2023-06-21T11:53:30.027866Z",
     "shell.execute_reply": "2023-06-21T11:53:30.026722Z"
    }
   },
   "outputs": [],
   "source": [
    "item_ids = np.unique([e.item_id for s in session_train for e in s.event_list])\n",
    "item_ids = {item_ids[i]: i for i in range(len(item_ids))}\n",
    "\n",
    "Xs = [[item_ids[e.item_id] for e in s.event_list] for s in session_train]\n",
    "l = [len(y) for y in Xs]\n",
    "\n",
    "X = np.concatenate(Xs).reshape(-1, 1)\n",
    "\n",
    "target =  [[item_ids[e.item_id] for e in s.event_list if e.item_id in item_ids.keys()] for s in sessions_test]\n",
    "target = [l for l in target if len(l)]\n",
    "lt = np.array([len(y) for y in target])\n",
    "target = np.concatenate(target).reshape(-1, 1)"
   ]
  },
  {
   "cell_type": "code",
   "execution_count": 7,
   "metadata": {
    "ExecuteTime": {
     "end_time": "2023-06-21T11:32:03.104906917Z",
     "start_time": "2023-06-21T11:32:03.096653681Z"
    },
    "collapsed": false,
    "execution": {
     "iopub.execute_input": "2023-06-21T11:53:30.033742Z",
     "iopub.status.busy": "2023-06-21T11:53:30.033020Z",
     "iopub.status.idle": "2023-06-21T11:53:30.040407Z",
     "shell.execute_reply": "2023-06-21T11:53:30.039890Z"
    }
   },
   "outputs": [
    {
     "data": {
      "text/plain": [
       "158827"
      ]
     },
     "execution_count": 7,
     "metadata": {},
     "output_type": "execute_result"
    }
   ],
   "source": [
    "len(item_ids.keys())"
   ]
  },
  {
   "cell_type": "code",
   "execution_count": 8,
   "metadata": {
    "ExecuteTime": {
     "end_time": "2023-06-20T18:23:00.404040610Z",
     "start_time": "2023-06-20T18:23:00.384300755Z"
    },
    "collapsed": false,
    "execution": {
     "iopub.execute_input": "2023-06-21T11:53:30.130538Z",
     "iopub.status.busy": "2023-06-21T11:53:30.130239Z",
     "iopub.status.idle": "2023-06-21T11:53:30.135690Z",
     "shell.execute_reply": "2023-06-21T11:53:30.134406Z"
    }
   },
   "outputs": [],
   "source": [
    "chmm = CategoricalHMM(5, n_iter=10, verbose=True)\n"
   ]
  },
  {
   "cell_type": "code",
   "execution_count": 9,
   "metadata": {
    "ExecuteTime": {
     "end_time": "2023-06-20T18:23:21.780253107Z",
     "start_time": "2023-06-20T18:23:02.438883287Z"
    },
    "collapsed": false,
    "execution": {
     "iopub.execute_input": "2023-06-21T11:53:30.143314Z",
     "iopub.status.busy": "2023-06-21T11:53:30.143053Z",
     "iopub.status.idle": "2023-06-21T11:53:30.148951Z",
     "shell.execute_reply": "2023-06-21T11:53:30.147366Z"
    }
   },
   "outputs": [],
   "source": [
    "# %time chmm.fit(X, l)"
   ]
  },
  {
   "cell_type": "code",
   "execution_count": 10,
   "metadata": {
    "ExecuteTime": {
     "end_time": "2023-06-20T18:23:23.444223864Z",
     "start_time": "2023-06-20T18:23:23.401973189Z"
    },
    "collapsed": false,
    "execution": {
     "iopub.execute_input": "2023-06-21T11:53:30.152800Z",
     "iopub.status.busy": "2023-06-21T11:53:30.152474Z",
     "iopub.status.idle": "2023-06-21T11:53:35.597456Z",
     "shell.execute_reply": "2023-06-21T11:53:35.596769Z"
    }
   },
   "outputs": [
    {
     "ename": "NotFittedError",
     "evalue": "This CategoricalHMM instance is not fitted yet. Call 'fit' with appropriate arguments before using this method.",
     "output_type": "error",
     "traceback": [
      "\u001b[0;31m---------------------------------------------------------------------------\u001b[0m",
      "\u001b[0;31mNotFittedError\u001b[0m                            Traceback (most recent call last)",
      "Cell \u001b[0;32mIn[10], line 1\u001b[0m\n\u001b[0;32m----> 1\u001b[0m \u001b[38;5;28mprint\u001b[39m(\u001b[43mchmm\u001b[49m\u001b[38;5;241;43m.\u001b[39;49m\u001b[43mscore\u001b[49m\u001b[43m(\u001b[49m\u001b[43mtarget\u001b[49m\u001b[43m,\u001b[49m\u001b[43m \u001b[49m\u001b[43mlt\u001b[49m\u001b[43m)\u001b[49m)\n",
      "File \u001b[0;32m/ziob/klaudia/miniconda3/envs/preproc/lib/python3.10/site-packages/hmmlearn/hmm.py:517\u001b[0m, in \u001b[0;36m_categoricalhmm_fix_docstring_shape.<locals>.<lambda>\u001b[0;34m(*args, **kwargs)\u001b[0m\n\u001b[1;32m    514\u001b[0m     wrapper \u001b[38;5;241m=\u001b[39m func\n\u001b[1;32m    515\u001b[0m \u001b[38;5;28;01melse\u001b[39;00m:\n\u001b[1;32m    516\u001b[0m     wrapper \u001b[38;5;241m=\u001b[39m functools\u001b[38;5;241m.\u001b[39mwraps(func)(\n\u001b[0;32m--> 517\u001b[0m         \u001b[38;5;28;01mlambda\u001b[39;00m \u001b[38;5;241m*\u001b[39margs, \u001b[38;5;241m*\u001b[39m\u001b[38;5;241m*\u001b[39mkwargs: \u001b[43mfunc\u001b[49m\u001b[43m(\u001b[49m\u001b[38;5;241;43m*\u001b[39;49m\u001b[43margs\u001b[49m\u001b[43m,\u001b[49m\u001b[43m \u001b[49m\u001b[38;5;241;43m*\u001b[39;49m\u001b[38;5;241;43m*\u001b[39;49m\u001b[43mkwargs\u001b[49m\u001b[43m)\u001b[49m)\n\u001b[1;32m    518\u001b[0m     wrapper\u001b[38;5;241m.\u001b[39m\u001b[38;5;18m__doc__\u001b[39m \u001b[38;5;241m=\u001b[39m (\n\u001b[1;32m    519\u001b[0m         doc\u001b[38;5;241m.\u001b[39mreplace(\u001b[38;5;124m\"\u001b[39m\u001b[38;5;124m(n_samples, n_features)\u001b[39m\u001b[38;5;124m\"\u001b[39m, \u001b[38;5;124m\"\u001b[39m\u001b[38;5;124m(n_samples, 1)\u001b[39m\u001b[38;5;124m\"\u001b[39m)\n\u001b[1;32m    520\u001b[0m         \u001b[38;5;241m+\u001b[39m _CATEGORICALHMM_DOC_SUFFIX)\n\u001b[1;32m    521\u001b[0m \u001b[38;5;28;01mreturn\u001b[39;00m wrapper\n",
      "File \u001b[0;32m/ziob/klaudia/miniconda3/envs/preproc/lib/python3.10/site-packages/hmmlearn/base.py:259\u001b[0m, in \u001b[0;36mBaseHMM.score\u001b[0;34m(self, X, lengths)\u001b[0m\n\u001b[1;32m    236\u001b[0m \u001b[38;5;28;01mdef\u001b[39;00m \u001b[38;5;21mscore\u001b[39m(\u001b[38;5;28mself\u001b[39m, X, lengths\u001b[38;5;241m=\u001b[39m\u001b[38;5;28;01mNone\u001b[39;00m):\n\u001b[1;32m    237\u001b[0m \u001b[38;5;250m    \u001b[39m\u001b[38;5;124;03m\"\"\"\u001b[39;00m\n\u001b[1;32m    238\u001b[0m \u001b[38;5;124;03m    Compute the log probability under the model.\u001b[39;00m\n\u001b[1;32m    239\u001b[0m \n\u001b[0;32m   (...)\u001b[0m\n\u001b[1;32m    257\u001b[0m \u001b[38;5;124;03m    decode : Find most likely state sequence corresponding to ``X``.\u001b[39;00m\n\u001b[1;32m    258\u001b[0m \u001b[38;5;124;03m    \"\"\"\u001b[39;00m\n\u001b[0;32m--> 259\u001b[0m     \u001b[38;5;28;01mreturn\u001b[39;00m \u001b[38;5;28;43mself\u001b[39;49m\u001b[38;5;241;43m.\u001b[39;49m\u001b[43m_score\u001b[49m\u001b[43m(\u001b[49m\u001b[43mX\u001b[49m\u001b[43m,\u001b[49m\u001b[43m \u001b[49m\u001b[43mlengths\u001b[49m\u001b[43m,\u001b[49m\u001b[43m \u001b[49m\u001b[43mcompute_posteriors\u001b[49m\u001b[38;5;241;43m=\u001b[39;49m\u001b[38;5;28;43;01mFalse\u001b[39;49;00m\u001b[43m)\u001b[49m[\u001b[38;5;241m0\u001b[39m]\n",
      "File \u001b[0;32m/ziob/klaudia/miniconda3/envs/preproc/lib/python3.10/site-packages/hmmlearn/base.py:269\u001b[0m, in \u001b[0;36mBaseHMM._score\u001b[0;34m(self, X, lengths, compute_posteriors)\u001b[0m\n\u001b[1;32m    261\u001b[0m \u001b[38;5;28;01mdef\u001b[39;00m \u001b[38;5;21m_score\u001b[39m(\u001b[38;5;28mself\u001b[39m, X, lengths\u001b[38;5;241m=\u001b[39m\u001b[38;5;28;01mNone\u001b[39;00m, \u001b[38;5;241m*\u001b[39m, compute_posteriors):\n\u001b[1;32m    262\u001b[0m \u001b[38;5;250m    \u001b[39m\u001b[38;5;124;03m\"\"\"\u001b[39;00m\n\u001b[1;32m    263\u001b[0m \u001b[38;5;124;03m    Helper for `score` and `score_samples`.\u001b[39;00m\n\u001b[1;32m    264\u001b[0m \n\u001b[0;32m   (...)\u001b[0m\n\u001b[1;32m    267\u001b[0m \u001b[38;5;124;03m    for the latter).\u001b[39;00m\n\u001b[1;32m    268\u001b[0m \u001b[38;5;124;03m    \"\"\"\u001b[39;00m\n\u001b[0;32m--> 269\u001b[0m     \u001b[43m_utils\u001b[49m\u001b[38;5;241;43m.\u001b[39;49m\u001b[43mcheck_is_fitted\u001b[49m\u001b[43m(\u001b[49m\u001b[38;5;28;43mself\u001b[39;49m\u001b[43m,\u001b[49m\u001b[43m \u001b[49m\u001b[38;5;124;43m\"\u001b[39;49m\u001b[38;5;124;43mstartprob_\u001b[39;49m\u001b[38;5;124;43m\"\u001b[39;49m\u001b[43m)\u001b[49m\n\u001b[1;32m    270\u001b[0m     \u001b[38;5;28mself\u001b[39m\u001b[38;5;241m.\u001b[39m_check()\n\u001b[1;32m    272\u001b[0m     X \u001b[38;5;241m=\u001b[39m check_array(X)\n",
      "File \u001b[0;32m/ziob/klaudia/miniconda3/envs/preproc/lib/python3.10/site-packages/hmmlearn/_utils.py:87\u001b[0m, in \u001b[0;36mcheck_is_fitted\u001b[0;34m(estimator, attribute)\u001b[0m\n\u001b[1;32m     85\u001b[0m \u001b[38;5;28;01mdef\u001b[39;00m \u001b[38;5;21mcheck_is_fitted\u001b[39m(estimator, attribute):\n\u001b[1;32m     86\u001b[0m     \u001b[38;5;28;01mif\u001b[39;00m \u001b[38;5;129;01mnot\u001b[39;00m \u001b[38;5;28mhasattr\u001b[39m(estimator, attribute):\n\u001b[0;32m---> 87\u001b[0m         \u001b[38;5;28;01mraise\u001b[39;00m NotFittedError(\n\u001b[1;32m     88\u001b[0m             \u001b[38;5;124m\"\u001b[39m\u001b[38;5;124mThis \u001b[39m\u001b[38;5;132;01m%s\u001b[39;00m\u001b[38;5;124m instance is not fitted yet. Call \u001b[39m\u001b[38;5;124m'\u001b[39m\u001b[38;5;124mfit\u001b[39m\u001b[38;5;124m'\u001b[39m\u001b[38;5;124m with \u001b[39m\u001b[38;5;124m\"\u001b[39m\n\u001b[1;32m     89\u001b[0m             \u001b[38;5;124m\"\u001b[39m\u001b[38;5;124mappropriate arguments before using this method.\u001b[39m\u001b[38;5;124m\"\u001b[39m\n\u001b[1;32m     90\u001b[0m             \u001b[38;5;241m%\u001b[39m \u001b[38;5;28mtype\u001b[39m(estimator)\u001b[38;5;241m.\u001b[39m\u001b[38;5;18m__name__\u001b[39m)\n",
      "\u001b[0;31mNotFittedError\u001b[0m: This CategoricalHMM instance is not fitted yet. Call 'fit' with appropriate arguments before using this method."
     ]
    }
   ],
   "source": [
    "print(chmm.score(target, lt))"
   ]
  },
  {
   "cell_type": "code",
   "execution_count": 11,
   "metadata": {
    "ExecuteTime": {
     "end_time": "2023-06-21T11:32:03.327862351Z",
     "start_time": "2023-06-21T11:32:03.104298241Z"
    },
    "collapsed": false,
    "execution": {
     "iopub.execute_input": "2023-06-21T11:53:35.603744Z",
     "iopub.status.busy": "2023-06-21T11:53:35.603144Z",
     "iopub.status.idle": "2023-06-21T11:53:41.734494Z",
     "shell.execute_reply": "2023-06-21T11:53:41.733807Z"
    }
   },
   "outputs": [],
   "source": [
    "vectors = KeyedVectors.load(\n",
    "    f\"clickstream_experiment/data/preprocessed_data/vectors_train_20_10_5_8_cleaned.kv\"\n",
    ")\n",
    "vecs = np.concatenate(\n",
    "    [\n",
    "        vectors.get_vector(k).reshape(1, -1)\n",
    "        for k in list(vectors.key_to_index.keys())\n",
    "    ]\n",
    ")"
   ]
  },
  {
   "cell_type": "code",
   "execution_count": 12,
   "metadata": {
    "ExecuteTime": {
     "end_time": "2023-06-21T11:32:03.335849760Z",
     "start_time": "2023-06-21T11:32:03.331508445Z"
    },
    "collapsed": false,
    "execution": {
     "iopub.execute_input": "2023-06-21T11:53:41.738561Z",
     "iopub.status.busy": "2023-06-21T11:53:41.737924Z",
     "iopub.status.idle": "2023-06-21T11:53:41.801985Z",
     "shell.execute_reply": "2023-06-21T11:53:41.800759Z"
    }
   },
   "outputs": [],
   "source": [
    "unknown = vecs.mean(axis=0).reshape(1, -1)\n",
    "\n",
    "def get_vec(e):\n",
    "    try:\n",
    "        return vectors.get_vector(e.item_id).reshape(1, -1)\n",
    "    except:\n",
    "        return unknown"
   ]
  },
  {
   "cell_type": "code",
   "execution_count": 13,
   "metadata": {
    "ExecuteTime": {
     "end_time": "2023-06-21T11:32:06.964416116Z",
     "start_time": "2023-06-21T11:32:03.341885097Z"
    },
    "collapsed": false,
    "execution": {
     "iopub.execute_input": "2023-06-21T11:53:41.807937Z",
     "iopub.status.busy": "2023-06-21T11:53:41.807638Z",
     "iopub.status.idle": "2023-06-21T11:53:48.411952Z",
     "shell.execute_reply": "2023-06-21T11:53:48.410434Z"
    }
   },
   "outputs": [],
   "source": [
    "Xs_c = [[get_vec(e) for e in s.event_list] for s in session_train]\n",
    "l_c = np.array([len(y) for y in X])\n",
    "\n",
    "X_c = np.concatenate([a for as_ in Xs_c for a in as_], axis=0)\n",
    "\n",
    "target_c =  [[get_vec(e) for e in s.event_list if e.item_id in item_ids.keys()] for s in sessions_test]\n",
    "target_c = np.concatenate([a for as_ in target_c for a in as_], axis=0)\n"
   ]
  },
  {
   "cell_type": "code",
   "execution_count": 14,
   "metadata": {
    "ExecuteTime": {
     "end_time": "2023-06-21T11:32:06.971368403Z",
     "start_time": "2023-06-21T11:32:06.967049728Z"
    },
    "collapsed": false,
    "execution": {
     "iopub.execute_input": "2023-06-21T11:53:48.417616Z",
     "iopub.status.busy": "2023-06-21T11:53:48.417384Z",
     "iopub.status.idle": "2023-06-21T11:53:48.425031Z",
     "shell.execute_reply": "2023-06-21T11:53:48.423973Z"
    }
   },
   "outputs": [],
   "source": [
    "w2vhmm = GaussianHMM(5, n_iter=10, verbose=True)"
   ]
  },
  {
   "cell_type": "code",
   "execution_count": 15,
   "metadata": {
    "ExecuteTime": {
     "end_time": "2023-06-20T18:27:43.779847169Z",
     "start_time": "2023-06-20T18:24:46.236338741Z"
    },
    "collapsed": false,
    "execution": {
     "iopub.execute_input": "2023-06-21T11:53:48.428227Z",
     "iopub.status.busy": "2023-06-21T11:53:48.427984Z",
     "iopub.status.idle": "2023-06-21T11:53:48.433012Z",
     "shell.execute_reply": "2023-06-21T11:53:48.431894Z"
    }
   },
   "outputs": [],
   "source": [
    "# %time w2vhmm.fit(X_c, l_c)"
   ]
  },
  {
   "cell_type": "code",
   "execution_count": 16,
   "metadata": {
    "ExecuteTime": {
     "end_time": "2023-06-20T18:27:57.592832222Z",
     "start_time": "2023-06-20T18:27:57.564246280Z"
    },
    "collapsed": false,
    "execution": {
     "iopub.execute_input": "2023-06-21T11:53:48.436045Z",
     "iopub.status.busy": "2023-06-21T11:53:48.435747Z",
     "iopub.status.idle": "2023-06-21T11:53:48.438968Z",
     "shell.execute_reply": "2023-06-21T11:53:48.438252Z"
    }
   },
   "outputs": [],
   "source": [
    "# w2vhmm.transmat_"
   ]
  },
  {
   "cell_type": "code",
   "execution_count": 17,
   "metadata": {
    "ExecuteTime": {
     "end_time": "2023-06-20T18:28:12.774030248Z",
     "start_time": "2023-06-20T18:28:12.752353371Z"
    },
    "collapsed": false,
    "execution": {
     "iopub.execute_input": "2023-06-21T11:53:48.441489Z",
     "iopub.status.busy": "2023-06-21T11:53:48.441238Z",
     "iopub.status.idle": "2023-06-21T11:53:48.443964Z",
     "shell.execute_reply": "2023-06-21T11:53:48.443352Z"
    }
   },
   "outputs": [],
   "source": [
    "# zeros = w2vhmm.transmat_.sum(axis=1) == 0\n",
    "# w2vhmm.transmat_[zeros] = np.ones(w2vhmm.transmat_.shape)[zeros] / w2vhmm.n_components\n"
   ]
  },
  {
   "cell_type": "code",
   "execution_count": 18,
   "metadata": {
    "ExecuteTime": {
     "end_time": "2023-06-20T18:28:14.694769457Z",
     "start_time": "2023-06-20T18:28:14.583110632Z"
    },
    "collapsed": false,
    "execution": {
     "iopub.execute_input": "2023-06-21T11:53:48.446239Z",
     "iopub.status.busy": "2023-06-21T11:53:48.445996Z",
     "iopub.status.idle": "2023-06-21T11:53:48.448933Z",
     "shell.execute_reply": "2023-06-21T11:53:48.448253Z"
    }
   },
   "outputs": [],
   "source": [
    "# print(w2vhmm.score(target_c, lt))"
   ]
  },
  {
   "cell_type": "code",
   "execution_count": 19,
   "metadata": {
    "ExecuteTime": {
     "end_time": "2023-06-21T11:32:16.137907914Z",
     "start_time": "2023-06-21T11:32:16.081625362Z"
    },
    "collapsed": false,
    "execution": {
     "iopub.execute_input": "2023-06-21T11:53:48.451391Z",
     "iopub.status.busy": "2023-06-21T11:53:48.451177Z",
     "iopub.status.idle": "2023-06-21T11:53:48.454708Z",
     "shell.execute_reply": "2023-06-21T11:53:48.454026Z"
    }
   },
   "outputs": [],
   "source": [
    "w2v_dhmm = DiscreteHMM(n_components=5, no_nodes=512, optimizer=\"Adam\", verbose=True, covariance_type='full')"
   ]
  },
  {
   "cell_type": "code",
   "execution_count": 20,
   "metadata": {
    "ExecuteTime": {
     "end_time": "2023-06-21T11:34:43.532341044Z",
     "start_time": "2023-06-21T11:34:01.973036531Z"
    },
    "collapsed": false,
    "execution": {
     "iopub.execute_input": "2023-06-21T11:53:48.457058Z",
     "iopub.status.busy": "2023-06-21T11:53:48.456845Z",
     "iopub.status.idle": "2023-06-21T11:54:31.218925Z",
     "shell.execute_reply": "2023-06-21T11:54:31.215871Z"
    }
   },
   "outputs": [
    {
     "data": {
      "text/plain": [
       "array([304,  37, 257, ..., 203, 203, 203])"
      ]
     },
     "execution_count": 20,
     "metadata": {},
     "output_type": "execute_result"
    }
   ],
   "source": [
    "w2v_dhmm.discretize(X_c, False)"
   ]
  },
  {
   "cell_type": "code",
   "execution_count": 21,
   "metadata": {
    "ExecuteTime": {
     "end_time": "2023-06-21T11:33:06.349778873Z",
     "start_time": "2023-06-21T11:32:16.826086195Z"
    },
    "collapsed": false,
    "execution": {
     "iopub.execute_input": "2023-06-21T11:54:31.225921Z",
     "iopub.status.busy": "2023-06-21T11:54:31.225183Z",
     "iopub.status.idle": "2023-06-21T11:55:30.716077Z",
     "shell.execute_reply": "2023-06-21T11:55:30.715451Z"
    }
   },
   "outputs": [
    {
     "name": "stderr",
     "output_type": "stream",
     "text": [
      "/ziob/klaudia/miniconda3/envs/preproc/lib/python3.10/site-packages/sklearn/cluster/_kmeans.py:870: FutureWarning: The default value of `n_init` will change from 10 to 'auto' in 1.4. Set the value of `n_init` explicitly to suppress the warning\n",
      "  warnings.warn(\n"
     ]
    },
    {
     "name": "stdout",
     "output_type": "stream",
     "text": [
      "Nodes have been already set. Use force=True to update them\n"
     ]
    },
    {
     "name": "stderr",
     "output_type": "stream",
     "text": [
      "/ziob/klaudia/FlowHMM/torchHMM/model/discretized_HMM.py:452: RuntimeWarning: invalid value encountered in divide\n",
      "  cooc_matrix /= cooc_matrix.sum()\n"
     ]
    },
    {
     "ename": "ValueError",
     "evalue": "component 0 of 'full' covars must be symmetric, positive-definite",
     "output_type": "error",
     "traceback": [
      "\u001b[0;31m---------------------------------------------------------------------------\u001b[0m",
      "\u001b[0;31mValueError\u001b[0m                                Traceback (most recent call last)",
      "File \u001b[0;32m<timed eval>:1\u001b[0m\n",
      "File \u001b[0;32m/ziob/klaudia/FlowHMM/torchHMM/model/discretized_HMM.py:539\u001b[0m, in \u001b[0;36mDiscreteHMM.fit\u001b[0;34m(self, X, lengths, Xd, lengths_d, update_nodes, early_stopping)\u001b[0m\n\u001b[1;32m    537\u001b[0m     \u001b[38;5;28mself\u001b[39m\u001b[38;5;241m.\u001b[39m_fit_em_dense(X, lengths_d)\n\u001b[1;32m    538\u001b[0m \u001b[38;5;28;01melif\u001b[39;00m \u001b[38;5;28mself\u001b[39m\u001b[38;5;241m.\u001b[39mlearning_alg \u001b[38;5;241m==\u001b[39m \u001b[38;5;124m\"\u001b[39m\u001b[38;5;124mcooc\u001b[39m\u001b[38;5;124m\"\u001b[39m:\n\u001b[0;32m--> 539\u001b[0m     \u001b[38;5;28;43mself\u001b[39;49m\u001b[38;5;241;43m.\u001b[39;49m\u001b[43m_fit_cooc\u001b[49m\u001b[43m(\u001b[49m\u001b[43mXd\u001b[49m\u001b[43m,\u001b[49m\u001b[43m \u001b[49m\u001b[43mX\u001b[49m\u001b[43m,\u001b[49m\u001b[43m \u001b[49m\u001b[43mlengths_d\u001b[49m\u001b[43m,\u001b[49m\u001b[43m \u001b[49m\u001b[43mlengths\u001b[49m\u001b[43m,\u001b[49m\u001b[43m \u001b[49m\u001b[43mearly_stopping\u001b[49m\u001b[43m)\u001b[49m\n\u001b[1;32m    540\u001b[0m \u001b[38;5;28;01melse\u001b[39;00m:\n\u001b[1;32m    541\u001b[0m     _log\u001b[38;5;241m.\u001b[39merror(\n\u001b[1;32m    542\u001b[0m         \u001b[38;5;124mf\u001b[39m\u001b[38;5;124m\"\u001b[39m\u001b[38;5;124mLearning algorithm \u001b[39m\u001b[38;5;132;01m{\u001b[39;00m\u001b[38;5;28mself\u001b[39m\u001b[38;5;241m.\u001b[39mlearning_alg\u001b[38;5;132;01m}\u001b[39;00m\u001b[38;5;124m is not implemented. Select one of: \u001b[39m\u001b[38;5;132;01m{\u001b[39;00mLEARNING_ALGORITHMS\u001b[38;5;132;01m}\u001b[39;00m\u001b[38;5;124m\"\u001b[39m\n\u001b[1;32m    543\u001b[0m     )\n",
      "File \u001b[0;32m/ziob/klaudia/FlowHMM/torchHMM/model/discretized_HMM.py:487\u001b[0m, in \u001b[0;36mDiscreteHMM._fit_cooc\u001b[0;34m(self, Xd, Xc, lengthsd, lengthsc, early_stopping)\u001b[0m\n\u001b[1;32m    483\u001b[0m optimizer\u001b[38;5;241m.\u001b[39mstep()\n\u001b[1;32m    484\u001b[0m \u001b[38;5;28;01mif\u001b[39;00m i \u001b[38;5;241m%\u001b[39m \u001b[38;5;241m1000\u001b[39m \u001b[38;5;241m==\u001b[39m \u001b[38;5;241m0\u001b[39m:  \u001b[38;5;66;03m# TODO: select properly\u001b[39;00m\n\u001b[1;32m    485\u001b[0m     (\n\u001b[1;32m    486\u001b[0m         \u001b[38;5;28mself\u001b[39m\u001b[38;5;241m.\u001b[39mmeans_,\n\u001b[0;32m--> 487\u001b[0m         \u001b[38;5;28;43mself\u001b[39;49m\u001b[38;5;241;43m.\u001b[39;49m\u001b[43mcovars_\u001b[49m,\n\u001b[1;32m    488\u001b[0m         \u001b[38;5;28mself\u001b[39m\u001b[38;5;241m.\u001b[39mtransmat_,\n\u001b[1;32m    489\u001b[0m         \u001b[38;5;28mself\u001b[39m\u001b[38;5;241m.\u001b[39mstartprob_,\n\u001b[1;32m    490\u001b[0m     ) \u001b[38;5;241m=\u001b[39m \u001b[38;5;28mself\u001b[39m\u001b[38;5;241m.\u001b[39mmodel\u001b[38;5;241m.\u001b[39mget_model_params()\n\u001b[1;32m    492\u001b[0m     \u001b[38;5;28mself\u001b[39m\u001b[38;5;241m.\u001b[39moptim_params[\u001b[38;5;124m'\u001b[39m\u001b[38;5;124mlr\u001b[39m\u001b[38;5;124m'\u001b[39m] \u001b[38;5;241m=\u001b[39m \u001b[38;5;28mself\u001b[39m\u001b[38;5;241m.\u001b[39moptim_params[\u001b[38;5;124m'\u001b[39m\u001b[38;5;124mlr\u001b[39m\u001b[38;5;124m'\u001b[39m] \u001b[38;5;241m*\u001b[39m \u001b[38;5;241m.9\u001b[39m\n\u001b[1;32m    493\u001b[0m     optimizer \u001b[38;5;241m=\u001b[39m \u001b[38;5;28mself\u001b[39m\u001b[38;5;241m.\u001b[39moptimizer(\u001b[38;5;28mself\u001b[39m\u001b[38;5;241m.\u001b[39mmodel\u001b[38;5;241m.\u001b[39mparameters(), \u001b[38;5;241m*\u001b[39m\u001b[38;5;241m*\u001b[39m\u001b[38;5;28mself\u001b[39m\u001b[38;5;241m.\u001b[39moptim_params)\n",
      "File \u001b[0;32m/ziob/klaudia/miniconda3/envs/preproc/lib/python3.10/site-packages/hmmlearn/hmm.py:180\u001b[0m, in \u001b[0;36mGaussianHMM.covars_\u001b[0;34m(self, covars)\u001b[0m\n\u001b[1;32m    177\u001b[0m \u001b[38;5;129m@covars_\u001b[39m\u001b[38;5;241m.\u001b[39msetter\n\u001b[1;32m    178\u001b[0m \u001b[38;5;28;01mdef\u001b[39;00m \u001b[38;5;21mcovars_\u001b[39m(\u001b[38;5;28mself\u001b[39m, covars):\n\u001b[1;32m    179\u001b[0m     covars \u001b[38;5;241m=\u001b[39m np\u001b[38;5;241m.\u001b[39marray(covars, copy\u001b[38;5;241m=\u001b[39m\u001b[38;5;28;01mTrue\u001b[39;00m)\n\u001b[0;32m--> 180\u001b[0m     \u001b[43m_utils\u001b[49m\u001b[38;5;241;43m.\u001b[39;49m\u001b[43m_validate_covars\u001b[49m\u001b[43m(\u001b[49m\u001b[43mcovars\u001b[49m\u001b[43m,\u001b[49m\u001b[43m \u001b[49m\u001b[38;5;28;43mself\u001b[39;49m\u001b[38;5;241;43m.\u001b[39;49m\u001b[43mcovariance_type\u001b[49m\u001b[43m,\u001b[49m\n\u001b[1;32m    181\u001b[0m \u001b[43m                            \u001b[49m\u001b[38;5;28;43mself\u001b[39;49m\u001b[38;5;241;43m.\u001b[39;49m\u001b[43mn_components\u001b[49m\u001b[43m)\u001b[49m\n\u001b[1;32m    182\u001b[0m     \u001b[38;5;28mself\u001b[39m\u001b[38;5;241m.\u001b[39m_covars_ \u001b[38;5;241m=\u001b[39m covars\n",
      "File \u001b[0;32m/ziob/klaudia/miniconda3/envs/preproc/lib/python3.10/site-packages/hmmlearn/_utils.py:58\u001b[0m, in \u001b[0;36m_validate_covars\u001b[0;34m(covars, covariance_type, n_components)\u001b[0m\n\u001b[1;32m     55\u001b[0m     \u001b[38;5;28;01mfor\u001b[39;00m n, cv \u001b[38;5;129;01min\u001b[39;00m \u001b[38;5;28menumerate\u001b[39m(covars):\n\u001b[1;32m     56\u001b[0m         \u001b[38;5;28;01mif\u001b[39;00m (\u001b[38;5;129;01mnot\u001b[39;00m np\u001b[38;5;241m.\u001b[39mallclose(cv, cv\u001b[38;5;241m.\u001b[39mT)\n\u001b[1;32m     57\u001b[0m                 \u001b[38;5;129;01mor\u001b[39;00m np\u001b[38;5;241m.\u001b[39many(linalg\u001b[38;5;241m.\u001b[39meigvalsh(cv) \u001b[38;5;241m<\u001b[39m\u001b[38;5;241m=\u001b[39m \u001b[38;5;241m0\u001b[39m)):\n\u001b[0;32m---> 58\u001b[0m             \u001b[38;5;28;01mraise\u001b[39;00m \u001b[38;5;167;01mValueError\u001b[39;00m(\u001b[38;5;124m\"\u001b[39m\u001b[38;5;124mcomponent \u001b[39m\u001b[38;5;132;01m%d\u001b[39;00m\u001b[38;5;124m of \u001b[39m\u001b[38;5;124m'\u001b[39m\u001b[38;5;124mfull\u001b[39m\u001b[38;5;124m'\u001b[39m\u001b[38;5;124m covars must be \u001b[39m\u001b[38;5;124m\"\u001b[39m\n\u001b[1;32m     59\u001b[0m                              \u001b[38;5;124m\"\u001b[39m\u001b[38;5;124msymmetric, positive-definite\u001b[39m\u001b[38;5;124m\"\u001b[39m \u001b[38;5;241m%\u001b[39m n)\n\u001b[1;32m     60\u001b[0m \u001b[38;5;28;01melse\u001b[39;00m:\n\u001b[1;32m     61\u001b[0m     \u001b[38;5;28;01mraise\u001b[39;00m \u001b[38;5;167;01mValueError\u001b[39;00m(\u001b[38;5;124m\"\u001b[39m\u001b[38;5;124mcovariance_type must be one of \u001b[39m\u001b[38;5;124m\"\u001b[39m \u001b[38;5;241m+\u001b[39m\n\u001b[1;32m     62\u001b[0m                      \u001b[38;5;124m\"\u001b[39m\u001b[38;5;124m'\u001b[39m\u001b[38;5;124mspherical\u001b[39m\u001b[38;5;124m'\u001b[39m\u001b[38;5;124m, \u001b[39m\u001b[38;5;124m'\u001b[39m\u001b[38;5;124mtied\u001b[39m\u001b[38;5;124m'\u001b[39m\u001b[38;5;124m, \u001b[39m\u001b[38;5;124m'\u001b[39m\u001b[38;5;124mdiag\u001b[39m\u001b[38;5;124m'\u001b[39m\u001b[38;5;124m, \u001b[39m\u001b[38;5;124m'\u001b[39m\u001b[38;5;124mfull\u001b[39m\u001b[38;5;124m'\u001b[39m\u001b[38;5;124m\"\u001b[39m)\n",
      "\u001b[0;31mValueError\u001b[0m: component 0 of 'full' covars must be symmetric, positive-definite"
     ]
    }
   ],
   "source": [
    "%time w2v_dhmm.fit(X_c, l_c)"
   ]
  },
  {
   "cell_type": "code",
   "execution_count": 22,
   "metadata": {
    "collapsed": false,
    "execution": {
     "iopub.execute_input": "2023-06-21T11:55:30.722119Z",
     "iopub.status.busy": "2023-06-21T11:55:30.721432Z",
     "iopub.status.idle": "2023-06-21T11:55:31.327876Z",
     "shell.execute_reply": "2023-06-21T11:55:31.327199Z"
    }
   },
   "outputs": [
    {
     "ename": "ValueError",
     "evalue": "array must not contain infs or NaNs",
     "output_type": "error",
     "traceback": [
      "\u001b[0;31m---------------------------------------------------------------------------\u001b[0m",
      "\u001b[0;31mValueError\u001b[0m                                Traceback (most recent call last)",
      "Cell \u001b[0;32mIn[22], line 1\u001b[0m\n\u001b[0;32m----> 1\u001b[0m \u001b[38;5;28mprint\u001b[39m(\u001b[43mw2v_dhmm\u001b[49m\u001b[38;5;241;43m.\u001b[39;49m\u001b[43mscore\u001b[49m\u001b[43m(\u001b[49m\u001b[43mtarget_c\u001b[49m\u001b[43m,\u001b[49m\u001b[43m \u001b[49m\u001b[43mlt\u001b[49m\u001b[43m)\u001b[49m)\n",
      "File \u001b[0;32m/ziob/klaudia/miniconda3/envs/preproc/lib/python3.10/site-packages/hmmlearn/base.py:259\u001b[0m, in \u001b[0;36mBaseHMM.score\u001b[0;34m(self, X, lengths)\u001b[0m\n\u001b[1;32m    236\u001b[0m \u001b[38;5;28;01mdef\u001b[39;00m \u001b[38;5;21mscore\u001b[39m(\u001b[38;5;28mself\u001b[39m, X, lengths\u001b[38;5;241m=\u001b[39m\u001b[38;5;28;01mNone\u001b[39;00m):\n\u001b[1;32m    237\u001b[0m \u001b[38;5;250m    \u001b[39m\u001b[38;5;124;03m\"\"\"\u001b[39;00m\n\u001b[1;32m    238\u001b[0m \u001b[38;5;124;03m    Compute the log probability under the model.\u001b[39;00m\n\u001b[1;32m    239\u001b[0m \n\u001b[0;32m   (...)\u001b[0m\n\u001b[1;32m    257\u001b[0m \u001b[38;5;124;03m    decode : Find most likely state sequence corresponding to ``X``.\u001b[39;00m\n\u001b[1;32m    258\u001b[0m \u001b[38;5;124;03m    \"\"\"\u001b[39;00m\n\u001b[0;32m--> 259\u001b[0m     \u001b[38;5;28;01mreturn\u001b[39;00m \u001b[38;5;28;43mself\u001b[39;49m\u001b[38;5;241;43m.\u001b[39;49m\u001b[43m_score\u001b[49m\u001b[43m(\u001b[49m\u001b[43mX\u001b[49m\u001b[43m,\u001b[49m\u001b[43m \u001b[49m\u001b[43mlengths\u001b[49m\u001b[43m,\u001b[49m\u001b[43m \u001b[49m\u001b[43mcompute_posteriors\u001b[49m\u001b[38;5;241;43m=\u001b[39;49m\u001b[38;5;28;43;01mFalse\u001b[39;49;00m\u001b[43m)\u001b[49m[\u001b[38;5;241m0\u001b[39m]\n",
      "File \u001b[0;32m/ziob/klaudia/miniconda3/envs/preproc/lib/python3.10/site-packages/hmmlearn/base.py:277\u001b[0m, in \u001b[0;36mBaseHMM._score\u001b[0;34m(self, X, lengths, compute_posteriors)\u001b[0m\n\u001b[1;32m    272\u001b[0m X \u001b[38;5;241m=\u001b[39m check_array(X)\n\u001b[1;32m    273\u001b[0m impl \u001b[38;5;241m=\u001b[39m {\n\u001b[1;32m    274\u001b[0m     \u001b[38;5;124m\"\u001b[39m\u001b[38;5;124mscaling\u001b[39m\u001b[38;5;124m\"\u001b[39m: \u001b[38;5;28mself\u001b[39m\u001b[38;5;241m.\u001b[39m_score_scaling,\n\u001b[1;32m    275\u001b[0m     \u001b[38;5;124m\"\u001b[39m\u001b[38;5;124mlog\u001b[39m\u001b[38;5;124m\"\u001b[39m: \u001b[38;5;28mself\u001b[39m\u001b[38;5;241m.\u001b[39m_score_log,\n\u001b[1;32m    276\u001b[0m }[\u001b[38;5;28mself\u001b[39m\u001b[38;5;241m.\u001b[39mimplementation]\n\u001b[0;32m--> 277\u001b[0m \u001b[38;5;28;01mreturn\u001b[39;00m \u001b[43mimpl\u001b[49m\u001b[43m(\u001b[49m\n\u001b[1;32m    278\u001b[0m \u001b[43m    \u001b[49m\u001b[43mX\u001b[49m\u001b[38;5;241;43m=\u001b[39;49m\u001b[43mX\u001b[49m\u001b[43m,\u001b[49m\u001b[43m \u001b[49m\u001b[43mlengths\u001b[49m\u001b[38;5;241;43m=\u001b[39;49m\u001b[43mlengths\u001b[49m\u001b[43m,\u001b[49m\u001b[43m \u001b[49m\u001b[43mcompute_posteriors\u001b[49m\u001b[38;5;241;43m=\u001b[39;49m\u001b[43mcompute_posteriors\u001b[49m\u001b[43m)\u001b[49m\n",
      "File \u001b[0;32m/ziob/klaudia/miniconda3/envs/preproc/lib/python3.10/site-packages/hmmlearn/base.py:289\u001b[0m, in \u001b[0;36mBaseHMM._score_log\u001b[0;34m(self, X, lengths, compute_posteriors)\u001b[0m\n\u001b[1;32m    287\u001b[0m sub_posteriors \u001b[38;5;241m=\u001b[39m [np\u001b[38;5;241m.\u001b[39mempty((\u001b[38;5;241m0\u001b[39m, \u001b[38;5;28mself\u001b[39m\u001b[38;5;241m.\u001b[39mn_components))]\n\u001b[1;32m    288\u001b[0m \u001b[38;5;28;01mfor\u001b[39;00m sub_X \u001b[38;5;129;01min\u001b[39;00m _utils\u001b[38;5;241m.\u001b[39msplit_X_lengths(X, lengths):\n\u001b[0;32m--> 289\u001b[0m     log_frameprob \u001b[38;5;241m=\u001b[39m \u001b[38;5;28;43mself\u001b[39;49m\u001b[38;5;241;43m.\u001b[39;49m\u001b[43m_compute_log_likelihood\u001b[49m\u001b[43m(\u001b[49m\u001b[43msub_X\u001b[49m\u001b[43m)\u001b[49m\n\u001b[1;32m    290\u001b[0m     log_probij, fwdlattice \u001b[38;5;241m=\u001b[39m _hmmc\u001b[38;5;241m.\u001b[39mforward_log(\n\u001b[1;32m    291\u001b[0m         \u001b[38;5;28mself\u001b[39m\u001b[38;5;241m.\u001b[39mstartprob_, \u001b[38;5;28mself\u001b[39m\u001b[38;5;241m.\u001b[39mtransmat_, log_frameprob)\n\u001b[1;32m    292\u001b[0m     log_prob \u001b[38;5;241m+\u001b[39m\u001b[38;5;241m=\u001b[39m log_probij\n",
      "File \u001b[0;32m/ziob/klaudia/miniconda3/envs/preproc/lib/python3.10/site-packages/hmmlearn/hmm.py:227\u001b[0m, in \u001b[0;36mGaussianHMM._compute_log_likelihood\u001b[0;34m(self, X)\u001b[0m\n\u001b[1;32m    226\u001b[0m \u001b[38;5;28;01mdef\u001b[39;00m \u001b[38;5;21m_compute_log_likelihood\u001b[39m(\u001b[38;5;28mself\u001b[39m, X):\n\u001b[0;32m--> 227\u001b[0m     \u001b[38;5;28;01mreturn\u001b[39;00m \u001b[43mlog_multivariate_normal_density\u001b[49m\u001b[43m(\u001b[49m\n\u001b[1;32m    228\u001b[0m \u001b[43m        \u001b[49m\u001b[43mX\u001b[49m\u001b[43m,\u001b[49m\u001b[43m \u001b[49m\u001b[38;5;28;43mself\u001b[39;49m\u001b[38;5;241;43m.\u001b[39;49m\u001b[43mmeans_\u001b[49m\u001b[43m,\u001b[49m\u001b[43m \u001b[49m\u001b[38;5;28;43mself\u001b[39;49m\u001b[38;5;241;43m.\u001b[39;49m\u001b[43m_covars_\u001b[49m\u001b[43m,\u001b[49m\u001b[43m \u001b[49m\u001b[38;5;28;43mself\u001b[39;49m\u001b[38;5;241;43m.\u001b[39;49m\u001b[43mcovariance_type\u001b[49m\u001b[43m)\u001b[49m\n",
      "File \u001b[0;32m/ziob/klaudia/miniconda3/envs/preproc/lib/python3.10/site-packages/hmmlearn/stats.py:42\u001b[0m, in \u001b[0;36mlog_multivariate_normal_density\u001b[0;34m(X, means, covars, covariance_type)\u001b[0m\n\u001b[1;32m      6\u001b[0m \u001b[38;5;250m\u001b[39m\u001b[38;5;124;03m\"\"\"\u001b[39;00m\n\u001b[1;32m      7\u001b[0m \u001b[38;5;124;03mCompute the log probability under a multivariate Gaussian distribution.\u001b[39;00m\n\u001b[1;32m      8\u001b[0m \n\u001b[0;32m   (...)\u001b[0m\n\u001b[1;32m     35\u001b[0m \u001b[38;5;124;03m    X under each of the n_components multivariate Gaussian distributions.\u001b[39;00m\n\u001b[1;32m     36\u001b[0m \u001b[38;5;124;03m\"\"\"\u001b[39;00m\n\u001b[1;32m     37\u001b[0m log_multivariate_normal_density_dict \u001b[38;5;241m=\u001b[39m {\n\u001b[1;32m     38\u001b[0m     \u001b[38;5;124m'\u001b[39m\u001b[38;5;124mspherical\u001b[39m\u001b[38;5;124m'\u001b[39m: _log_multivariate_normal_density_spherical,\n\u001b[1;32m     39\u001b[0m     \u001b[38;5;124m'\u001b[39m\u001b[38;5;124mtied\u001b[39m\u001b[38;5;124m'\u001b[39m: _log_multivariate_normal_density_tied,\n\u001b[1;32m     40\u001b[0m     \u001b[38;5;124m'\u001b[39m\u001b[38;5;124mdiag\u001b[39m\u001b[38;5;124m'\u001b[39m: _log_multivariate_normal_density_diag,\n\u001b[1;32m     41\u001b[0m     \u001b[38;5;124m'\u001b[39m\u001b[38;5;124mfull\u001b[39m\u001b[38;5;124m'\u001b[39m: _log_multivariate_normal_density_full}\n\u001b[0;32m---> 42\u001b[0m \u001b[38;5;28;01mreturn\u001b[39;00m \u001b[43mlog_multivariate_normal_density_dict\u001b[49m\u001b[43m[\u001b[49m\u001b[43mcovariance_type\u001b[49m\u001b[43m]\u001b[49m\u001b[43m(\u001b[49m\n\u001b[1;32m     43\u001b[0m \u001b[43m    \u001b[49m\u001b[43mX\u001b[49m\u001b[43m,\u001b[49m\u001b[43m \u001b[49m\u001b[43mmeans\u001b[49m\u001b[43m,\u001b[49m\u001b[43m \u001b[49m\u001b[43mcovars\u001b[49m\n\u001b[1;32m     44\u001b[0m \u001b[43m\u001b[49m\u001b[43m)\u001b[49m\n",
      "File \u001b[0;32m/ziob/klaudia/miniconda3/envs/preproc/lib/python3.10/site-packages/hmmlearn/stats.py:93\u001b[0m, in \u001b[0;36m_log_multivariate_normal_density_full\u001b[0;34m(X, means, covars, min_covar)\u001b[0m\n\u001b[1;32m     89\u001b[0m             \u001b[38;5;28;01mraise\u001b[39;00m \u001b[38;5;167;01mValueError\u001b[39;00m(\u001b[38;5;124m\"\u001b[39m\u001b[38;5;124m'\u001b[39m\u001b[38;5;124mcovars\u001b[39m\u001b[38;5;124m'\u001b[39m\u001b[38;5;124m must be symmetric, \u001b[39m\u001b[38;5;124m\"\u001b[39m\n\u001b[1;32m     90\u001b[0m                              \u001b[38;5;124m\"\u001b[39m\u001b[38;5;124mpositive-definite\u001b[39m\u001b[38;5;124m\"\u001b[39m)\n\u001b[1;32m     92\u001b[0m     cv_log_det \u001b[38;5;241m=\u001b[39m \u001b[38;5;241m2\u001b[39m \u001b[38;5;241m*\u001b[39m np\u001b[38;5;241m.\u001b[39msum(np\u001b[38;5;241m.\u001b[39mlog(np\u001b[38;5;241m.\u001b[39mdiagonal(cv_chol)))\n\u001b[0;32m---> 93\u001b[0m     cv_sol \u001b[38;5;241m=\u001b[39m \u001b[43mlinalg\u001b[49m\u001b[38;5;241;43m.\u001b[39;49m\u001b[43msolve_triangular\u001b[49m\u001b[43m(\u001b[49m\u001b[43mcv_chol\u001b[49m\u001b[43m,\u001b[49m\u001b[43m \u001b[49m\u001b[43m(\u001b[49m\u001b[43mX\u001b[49m\u001b[43m \u001b[49m\u001b[38;5;241;43m-\u001b[39;49m\u001b[43m \u001b[49m\u001b[43mmu\u001b[49m\u001b[43m)\u001b[49m\u001b[38;5;241;43m.\u001b[39;49m\u001b[43mT\u001b[49m\u001b[43m,\u001b[49m\u001b[43m \u001b[49m\u001b[43mlower\u001b[49m\u001b[38;5;241;43m=\u001b[39;49m\u001b[38;5;28;43;01mTrue\u001b[39;49;00m\u001b[43m)\u001b[49m\u001b[38;5;241m.\u001b[39mT\n\u001b[1;32m     94\u001b[0m     log_prob\u001b[38;5;241m.\u001b[39mappend(\u001b[38;5;241m-\u001b[39m\u001b[38;5;241m.5\u001b[39m \u001b[38;5;241m*\u001b[39m (nf \u001b[38;5;241m*\u001b[39m np\u001b[38;5;241m.\u001b[39mlog(\u001b[38;5;241m2\u001b[39m \u001b[38;5;241m*\u001b[39m np\u001b[38;5;241m.\u001b[39mpi)\n\u001b[1;32m     95\u001b[0m                            \u001b[38;5;241m+\u001b[39m (cv_sol \u001b[38;5;241m*\u001b[39m\u001b[38;5;241m*\u001b[39m \u001b[38;5;241m2\u001b[39m)\u001b[38;5;241m.\u001b[39msum(axis\u001b[38;5;241m=\u001b[39m\u001b[38;5;241m1\u001b[39m)\n\u001b[1;32m     96\u001b[0m                            \u001b[38;5;241m+\u001b[39m cv_log_det))\n\u001b[1;32m     98\u001b[0m \u001b[38;5;28;01mreturn\u001b[39;00m np\u001b[38;5;241m.\u001b[39mtranspose(log_prob)\n",
      "File \u001b[0;32m/ziob/klaudia/miniconda3/envs/preproc/lib/python3.10/site-packages/scipy/linalg/_basic.py:338\u001b[0m, in \u001b[0;36msolve_triangular\u001b[0;34m(a, b, trans, lower, unit_diagonal, overwrite_b, check_finite)\u001b[0m\n\u001b[1;32m    270\u001b[0m \u001b[38;5;250m\u001b[39m\u001b[38;5;124;03m\"\"\"\u001b[39;00m\n\u001b[1;32m    271\u001b[0m \u001b[38;5;124;03mSolve the equation `a x = b` for `x`, assuming a is a triangular matrix.\u001b[39;00m\n\u001b[1;32m    272\u001b[0m \n\u001b[0;32m   (...)\u001b[0m\n\u001b[1;32m    334\u001b[0m \n\u001b[1;32m    335\u001b[0m \u001b[38;5;124;03m\"\"\"\u001b[39;00m\n\u001b[1;32m    337\u001b[0m a1 \u001b[38;5;241m=\u001b[39m _asarray_validated(a, check_finite\u001b[38;5;241m=\u001b[39mcheck_finite)\n\u001b[0;32m--> 338\u001b[0m b1 \u001b[38;5;241m=\u001b[39m \u001b[43m_asarray_validated\u001b[49m\u001b[43m(\u001b[49m\u001b[43mb\u001b[49m\u001b[43m,\u001b[49m\u001b[43m \u001b[49m\u001b[43mcheck_finite\u001b[49m\u001b[38;5;241;43m=\u001b[39;49m\u001b[43mcheck_finite\u001b[49m\u001b[43m)\u001b[49m\n\u001b[1;32m    339\u001b[0m \u001b[38;5;28;01mif\u001b[39;00m \u001b[38;5;28mlen\u001b[39m(a1\u001b[38;5;241m.\u001b[39mshape) \u001b[38;5;241m!=\u001b[39m \u001b[38;5;241m2\u001b[39m \u001b[38;5;129;01mor\u001b[39;00m a1\u001b[38;5;241m.\u001b[39mshape[\u001b[38;5;241m0\u001b[39m] \u001b[38;5;241m!=\u001b[39m a1\u001b[38;5;241m.\u001b[39mshape[\u001b[38;5;241m1\u001b[39m]:\n\u001b[1;32m    340\u001b[0m     \u001b[38;5;28;01mraise\u001b[39;00m \u001b[38;5;167;01mValueError\u001b[39;00m(\u001b[38;5;124m'\u001b[39m\u001b[38;5;124mexpected square matrix\u001b[39m\u001b[38;5;124m'\u001b[39m)\n",
      "File \u001b[0;32m/ziob/klaudia/miniconda3/envs/preproc/lib/python3.10/site-packages/scipy/_lib/_util.py:252\u001b[0m, in \u001b[0;36m_asarray_validated\u001b[0;34m(a, check_finite, sparse_ok, objects_ok, mask_ok, as_inexact)\u001b[0m\n\u001b[1;32m    250\u001b[0m         \u001b[38;5;28;01mraise\u001b[39;00m \u001b[38;5;167;01mValueError\u001b[39;00m(\u001b[38;5;124m'\u001b[39m\u001b[38;5;124mmasked arrays are not supported\u001b[39m\u001b[38;5;124m'\u001b[39m)\n\u001b[1;32m    251\u001b[0m toarray \u001b[38;5;241m=\u001b[39m np\u001b[38;5;241m.\u001b[39masarray_chkfinite \u001b[38;5;28;01mif\u001b[39;00m check_finite \u001b[38;5;28;01melse\u001b[39;00m np\u001b[38;5;241m.\u001b[39masarray\n\u001b[0;32m--> 252\u001b[0m a \u001b[38;5;241m=\u001b[39m \u001b[43mtoarray\u001b[49m\u001b[43m(\u001b[49m\u001b[43ma\u001b[49m\u001b[43m)\u001b[49m\n\u001b[1;32m    253\u001b[0m \u001b[38;5;28;01mif\u001b[39;00m \u001b[38;5;129;01mnot\u001b[39;00m objects_ok:\n\u001b[1;32m    254\u001b[0m     \u001b[38;5;28;01mif\u001b[39;00m a\u001b[38;5;241m.\u001b[39mdtype \u001b[38;5;129;01mis\u001b[39;00m np\u001b[38;5;241m.\u001b[39mdtype(\u001b[38;5;124m'\u001b[39m\u001b[38;5;124mO\u001b[39m\u001b[38;5;124m'\u001b[39m):\n",
      "File \u001b[0;32m/ziob/klaudia/miniconda3/envs/preproc/lib/python3.10/site-packages/numpy/lib/function_base.py:627\u001b[0m, in \u001b[0;36masarray_chkfinite\u001b[0;34m(a, dtype, order)\u001b[0m\n\u001b[1;32m    625\u001b[0m a \u001b[38;5;241m=\u001b[39m asarray(a, dtype\u001b[38;5;241m=\u001b[39mdtype, order\u001b[38;5;241m=\u001b[39morder)\n\u001b[1;32m    626\u001b[0m \u001b[38;5;28;01mif\u001b[39;00m a\u001b[38;5;241m.\u001b[39mdtype\u001b[38;5;241m.\u001b[39mchar \u001b[38;5;129;01min\u001b[39;00m typecodes[\u001b[38;5;124m'\u001b[39m\u001b[38;5;124mAllFloat\u001b[39m\u001b[38;5;124m'\u001b[39m] \u001b[38;5;129;01mand\u001b[39;00m \u001b[38;5;129;01mnot\u001b[39;00m np\u001b[38;5;241m.\u001b[39misfinite(a)\u001b[38;5;241m.\u001b[39mall():\n\u001b[0;32m--> 627\u001b[0m     \u001b[38;5;28;01mraise\u001b[39;00m \u001b[38;5;167;01mValueError\u001b[39;00m(\n\u001b[1;32m    628\u001b[0m         \u001b[38;5;124m\"\u001b[39m\u001b[38;5;124marray must not contain infs or NaNs\u001b[39m\u001b[38;5;124m\"\u001b[39m)\n\u001b[1;32m    629\u001b[0m \u001b[38;5;28;01mreturn\u001b[39;00m a\n",
      "\u001b[0;31mValueError\u001b[0m: array must not contain infs or NaNs"
     ]
    }
   ],
   "source": [
    "print(w2v_dhmm.score(target_c, lt))"
   ]
  },
  {
   "cell_type": "code",
   "execution_count": 23,
   "metadata": {
    "collapsed": false,
    "execution": {
     "iopub.execute_input": "2023-06-21T11:55:31.336430Z",
     "iopub.status.busy": "2023-06-21T11:55:31.334118Z",
     "iopub.status.idle": "2023-06-21T11:56:57.058303Z",
     "shell.execute_reply": "2023-06-21T11:56:57.057054Z"
    }
   },
   "outputs": [
    {
     "name": "stderr",
     "output_type": "stream",
     "text": [
      "/ziob/klaudia/FlowHMM/torchHMM/model/discretized_flow_HMM.py:422: RuntimeWarning: invalid value encountered in divide\n",
      "  cooc_matrix /= cooc_matrix.sum()\n"
     ]
    },
    {
     "ename": "RuntimeError",
     "evalue": "Index put requires the source and destination dtypes match, got Double for the destination and Float for the source.",
     "output_type": "error",
     "traceback": [
      "\u001b[0;31m---------------------------------------------------------------------------\u001b[0m",
      "\u001b[0;31mRuntimeError\u001b[0m                              Traceback (most recent call last)",
      "File \u001b[0;32m<timed eval>:1\u001b[0m\n",
      "File \u001b[0;32m/ziob/klaudia/FlowHMM/torchHMM/model/discretized_flow_HMM.py:520\u001b[0m, in \u001b[0;36mFlowHMM.fit\u001b[0;34m(self, X, lengths, Xd, lengths_d, update_nodes, early_stopping)\u001b[0m\n\u001b[1;32m    518\u001b[0m     \u001b[38;5;28mself\u001b[39m\u001b[38;5;241m.\u001b[39m_fit_em_dense(X, lengths_d)\n\u001b[1;32m    519\u001b[0m \u001b[38;5;28;01melif\u001b[39;00m \u001b[38;5;28mself\u001b[39m\u001b[38;5;241m.\u001b[39mlearning_alg \u001b[38;5;241m==\u001b[39m \u001b[38;5;124m\"\u001b[39m\u001b[38;5;124mcooc\u001b[39m\u001b[38;5;124m\"\u001b[39m:\n\u001b[0;32m--> 520\u001b[0m     \u001b[38;5;28;43mself\u001b[39;49m\u001b[38;5;241;43m.\u001b[39;49m\u001b[43m_fit_cooc\u001b[49m\u001b[43m(\u001b[49m\u001b[43mXd\u001b[49m\u001b[43m,\u001b[49m\u001b[43m \u001b[49m\u001b[43mX\u001b[49m\u001b[43m,\u001b[49m\u001b[43m \u001b[49m\u001b[43mlengths_d\u001b[49m\u001b[43m,\u001b[49m\u001b[43m \u001b[49m\u001b[43mlengths\u001b[49m\u001b[43m,\u001b[49m\u001b[43m \u001b[49m\u001b[43mearly_stopping\u001b[49m\u001b[43m)\u001b[49m\n\u001b[1;32m    521\u001b[0m \u001b[38;5;28;01melse\u001b[39;00m:\n\u001b[1;32m    522\u001b[0m     _log\u001b[38;5;241m.\u001b[39merror(\n\u001b[1;32m    523\u001b[0m         \u001b[38;5;124mf\u001b[39m\u001b[38;5;124m\"\u001b[39m\u001b[38;5;124mLearning algorithm \u001b[39m\u001b[38;5;132;01m{\u001b[39;00m\u001b[38;5;28mself\u001b[39m\u001b[38;5;241m.\u001b[39mlearning_alg\u001b[38;5;132;01m}\u001b[39;00m\u001b[38;5;124m is not implemented. Select one of: \u001b[39m\u001b[38;5;132;01m{\u001b[39;00mLEARNING_ALGORITHMS\u001b[38;5;132;01m}\u001b[39;00m\u001b[38;5;124m\"\u001b[39m\n\u001b[1;32m    524\u001b[0m     )\n",
      "File \u001b[0;32m/ziob/klaudia/FlowHMM/torchHMM/model/discretized_flow_HMM.py:459\u001b[0m, in \u001b[0;36mFlowHMM._fit_cooc\u001b[0;34m(self, Xd, Xc, lengthsd, lengthsc, early_stopping)\u001b[0m\n\u001b[1;32m    453\u001b[0m optimizer\u001b[38;5;241m.\u001b[39mstep()\n\u001b[1;32m    454\u001b[0m \u001b[38;5;28;01mif\u001b[39;00m i \u001b[38;5;241m%\u001b[39m \u001b[38;5;241m1000\u001b[39m \u001b[38;5;241m==\u001b[39m \u001b[38;5;241m0\u001b[39m:  \u001b[38;5;66;03m# TODO: select properly\u001b[39;00m\n\u001b[1;32m    455\u001b[0m     (\n\u001b[1;32m    456\u001b[0m         \u001b[38;5;28mself\u001b[39m\u001b[38;5;241m.\u001b[39mNFs,\n\u001b[1;32m    457\u001b[0m         \u001b[38;5;28mself\u001b[39m\u001b[38;5;241m.\u001b[39mtransmat_,\n\u001b[1;32m    458\u001b[0m         \u001b[38;5;28mself\u001b[39m\u001b[38;5;241m.\u001b[39mstartprob_,\n\u001b[0;32m--> 459\u001b[0m     ) \u001b[38;5;241m=\u001b[39m \u001b[38;5;28;43mself\u001b[39;49m\u001b[38;5;241;43m.\u001b[39;49m\u001b[43mmodel\u001b[49m\u001b[38;5;241;43m.\u001b[39;49m\u001b[43mget_model_params\u001b[49m\u001b[43m(\u001b[49m\u001b[43m)\u001b[49m\n\u001b[1;32m    461\u001b[0m     \u001b[38;5;28mself\u001b[39m\u001b[38;5;241m.\u001b[39moptim_params[\u001b[38;5;124m'\u001b[39m\u001b[38;5;124mlr\u001b[39m\u001b[38;5;124m'\u001b[39m] \u001b[38;5;241m=\u001b[39m \u001b[38;5;28mself\u001b[39m\u001b[38;5;241m.\u001b[39moptim_params[\u001b[38;5;124m'\u001b[39m\u001b[38;5;124mlr\u001b[39m\u001b[38;5;124m'\u001b[39m] \u001b[38;5;241m*\u001b[39m \u001b[38;5;241m.9\u001b[39m\n\u001b[1;32m    462\u001b[0m     optimizer \u001b[38;5;241m=\u001b[39m \u001b[38;5;28mself\u001b[39m\u001b[38;5;241m.\u001b[39moptimizer(\u001b[38;5;28mself\u001b[39m\u001b[38;5;241m.\u001b[39mmodel\u001b[38;5;241m.\u001b[39mparameters(), \u001b[38;5;241m*\u001b[39m\u001b[38;5;241m*\u001b[39m\u001b[38;5;28mself\u001b[39m\u001b[38;5;241m.\u001b[39moptim_params)\n",
      "File \u001b[0;32m/ziob/klaudia/FlowHMM/torchHMM/model/discretized_flow_HMM.py:138\u001b[0m, in \u001b[0;36mFlowHmmOptim.get_model_params\u001b[0;34m(self)\u001b[0m\n\u001b[1;32m    136\u001b[0m S_ \u001b[38;5;241m=\u001b[39m torch\u001b[38;5;241m.\u001b[39mexp(\u001b[38;5;28mself\u001b[39m\u001b[38;5;241m.\u001b[39m_S_unconstrained)\n\u001b[1;32m    137\u001b[0m zero_rows \u001b[38;5;241m=\u001b[39m S_\u001b[38;5;241m.\u001b[39msum(axis\u001b[38;5;241m=\u001b[39m\u001b[38;5;241m1\u001b[39m) \u001b[38;5;241m==\u001b[39m \u001b[38;5;241m0\u001b[39m\n\u001b[0;32m--> 138\u001b[0m \u001b[43mS_\u001b[49m\u001b[43m[\u001b[49m\u001b[43mzero_rows\u001b[49m\u001b[43m]\u001b[49m \u001b[38;5;241m=\u001b[39m torch\u001b[38;5;241m.\u001b[39mones(S_\u001b[38;5;241m.\u001b[39mshape)[zero_rows]\n\u001b[1;32m    139\u001b[0m S \u001b[38;5;241m=\u001b[39m S_ \u001b[38;5;241m/\u001b[39m S_\u001b[38;5;241m.\u001b[39msum()\n\u001b[1;32m    140\u001b[0m startprob \u001b[38;5;241m=\u001b[39m torch\u001b[38;5;241m.\u001b[39msum(S, dim\u001b[38;5;241m=\u001b[39m\u001b[38;5;241m1\u001b[39m)\n",
      "\u001b[0;31mRuntimeError\u001b[0m: Index put requires the source and destination dtypes match, got Double for the destination and Float for the source."
     ]
    },
    {
     "name": "stdout",
     "output_type": "stream",
     "text": [
      "Nodes have been already set. Use force=True to update them\n"
     ]
    },
    {
     "ename": "ValueError",
     "evalue": "Expected 2D array, got 1D array instead:\narray=[325 271 271 ... 476 476 423].\nReshape your data either using array.reshape(-1, 1) if your data has a single feature or array.reshape(1, -1) if it contains a single sample.",
     "output_type": "error",
     "traceback": [
      "\u001b[0;31m---------------------------------------------------------------------------\u001b[0m",
      "\u001b[0;31mValueError\u001b[0m                                Traceback (most recent call last)",
      "Cell \u001b[0;32mIn[23], line 5\u001b[0m\n\u001b[1;32m      1\u001b[0m w2v_fhmm \u001b[38;5;241m=\u001b[39m FlowHMM(n_components\u001b[38;5;241m=\u001b[39m\u001b[38;5;241m5\u001b[39m, no_nodes\u001b[38;5;241m=\u001b[39m\u001b[38;5;241m512\u001b[39m, l\u001b[38;5;241m=\u001b[39m\u001b[38;5;241m100\u001b[39m, optimizer\u001b[38;5;241m=\u001b[39m\u001b[38;5;124m\"\u001b[39m\u001b[38;5;124mAdam\u001b[39m\u001b[38;5;124m\"\u001b[39m, verbose\u001b[38;5;241m=\u001b[39m\u001b[38;5;28;01mTrue\u001b[39;00m)\n\u001b[1;32m      3\u001b[0m get_ipython()\u001b[38;5;241m.\u001b[39mrun_line_magic(\u001b[38;5;124m'\u001b[39m\u001b[38;5;124mtime\u001b[39m\u001b[38;5;124m'\u001b[39m, \u001b[38;5;124m'\u001b[39m\u001b[38;5;124mw2v_fhmm.fit(X_c, l_c)\u001b[39m\u001b[38;5;124m'\u001b[39m)\n\u001b[0;32m----> 5\u001b[0m \u001b[38;5;28mprint\u001b[39m(\u001b[43mw2v_fhmm\u001b[49m\u001b[38;5;241;43m.\u001b[39;49m\u001b[43mscore\u001b[49m\u001b[43m(\u001b[49m\u001b[43mtarget_c\u001b[49m\u001b[43m,\u001b[49m\u001b[43m \u001b[49m\u001b[43mlt\u001b[49m\u001b[43m)\u001b[49m)\n",
      "File \u001b[0;32m/ziob/klaudia/FlowHMM/torchHMM/model/discretized_flow_HMM.py:528\u001b[0m, in \u001b[0;36mFlowHMM.score\u001b[0;34m(self, X, lengths)\u001b[0m\n\u001b[1;32m    526\u001b[0m \u001b[38;5;28;01mdef\u001b[39;00m \u001b[38;5;21mscore\u001b[39m(\u001b[38;5;28mself\u001b[39m, X, lengths):\n\u001b[1;32m    527\u001b[0m     Xd \u001b[38;5;241m=\u001b[39m \u001b[38;5;28mself\u001b[39m\u001b[38;5;241m.\u001b[39mdiscretize(X, force\u001b[38;5;241m=\u001b[39m\u001b[38;5;28;01mFalse\u001b[39;00m)\n\u001b[0;32m--> 528\u001b[0m     \u001b[38;5;28;01mreturn\u001b[39;00m \u001b[38;5;28;43msuper\u001b[39;49m\u001b[43m(\u001b[49m\u001b[43m)\u001b[49m\u001b[38;5;241;43m.\u001b[39;49m\u001b[43mscore\u001b[49m\u001b[43m(\u001b[49m\u001b[43mXd\u001b[49m\u001b[43m,\u001b[49m\u001b[43m \u001b[49m\u001b[43mlengths\u001b[49m\u001b[43m)\u001b[49m\n",
      "File \u001b[0;32m/ziob/klaudia/miniconda3/envs/preproc/lib/python3.10/site-packages/hmmlearn/hmm.py:517\u001b[0m, in \u001b[0;36m_categoricalhmm_fix_docstring_shape.<locals>.<lambda>\u001b[0;34m(*args, **kwargs)\u001b[0m\n\u001b[1;32m    514\u001b[0m     wrapper \u001b[38;5;241m=\u001b[39m func\n\u001b[1;32m    515\u001b[0m \u001b[38;5;28;01melse\u001b[39;00m:\n\u001b[1;32m    516\u001b[0m     wrapper \u001b[38;5;241m=\u001b[39m functools\u001b[38;5;241m.\u001b[39mwraps(func)(\n\u001b[0;32m--> 517\u001b[0m         \u001b[38;5;28;01mlambda\u001b[39;00m \u001b[38;5;241m*\u001b[39margs, \u001b[38;5;241m*\u001b[39m\u001b[38;5;241m*\u001b[39mkwargs: \u001b[43mfunc\u001b[49m\u001b[43m(\u001b[49m\u001b[38;5;241;43m*\u001b[39;49m\u001b[43margs\u001b[49m\u001b[43m,\u001b[49m\u001b[43m \u001b[49m\u001b[38;5;241;43m*\u001b[39;49m\u001b[38;5;241;43m*\u001b[39;49m\u001b[43mkwargs\u001b[49m\u001b[43m)\u001b[49m)\n\u001b[1;32m    518\u001b[0m     wrapper\u001b[38;5;241m.\u001b[39m\u001b[38;5;18m__doc__\u001b[39m \u001b[38;5;241m=\u001b[39m (\n\u001b[1;32m    519\u001b[0m         doc\u001b[38;5;241m.\u001b[39mreplace(\u001b[38;5;124m\"\u001b[39m\u001b[38;5;124m(n_samples, n_features)\u001b[39m\u001b[38;5;124m\"\u001b[39m, \u001b[38;5;124m\"\u001b[39m\u001b[38;5;124m(n_samples, 1)\u001b[39m\u001b[38;5;124m\"\u001b[39m)\n\u001b[1;32m    520\u001b[0m         \u001b[38;5;241m+\u001b[39m _CATEGORICALHMM_DOC_SUFFIX)\n\u001b[1;32m    521\u001b[0m \u001b[38;5;28;01mreturn\u001b[39;00m wrapper\n",
      "File \u001b[0;32m/ziob/klaudia/miniconda3/envs/preproc/lib/python3.10/site-packages/hmmlearn/base.py:259\u001b[0m, in \u001b[0;36mBaseHMM.score\u001b[0;34m(self, X, lengths)\u001b[0m\n\u001b[1;32m    236\u001b[0m \u001b[38;5;28;01mdef\u001b[39;00m \u001b[38;5;21mscore\u001b[39m(\u001b[38;5;28mself\u001b[39m, X, lengths\u001b[38;5;241m=\u001b[39m\u001b[38;5;28;01mNone\u001b[39;00m):\n\u001b[1;32m    237\u001b[0m \u001b[38;5;250m    \u001b[39m\u001b[38;5;124;03m\"\"\"\u001b[39;00m\n\u001b[1;32m    238\u001b[0m \u001b[38;5;124;03m    Compute the log probability under the model.\u001b[39;00m\n\u001b[1;32m    239\u001b[0m \n\u001b[0;32m   (...)\u001b[0m\n\u001b[1;32m    257\u001b[0m \u001b[38;5;124;03m    decode : Find most likely state sequence corresponding to ``X``.\u001b[39;00m\n\u001b[1;32m    258\u001b[0m \u001b[38;5;124;03m    \"\"\"\u001b[39;00m\n\u001b[0;32m--> 259\u001b[0m     \u001b[38;5;28;01mreturn\u001b[39;00m \u001b[38;5;28;43mself\u001b[39;49m\u001b[38;5;241;43m.\u001b[39;49m\u001b[43m_score\u001b[49m\u001b[43m(\u001b[49m\u001b[43mX\u001b[49m\u001b[43m,\u001b[49m\u001b[43m \u001b[49m\u001b[43mlengths\u001b[49m\u001b[43m,\u001b[49m\u001b[43m \u001b[49m\u001b[43mcompute_posteriors\u001b[49m\u001b[38;5;241;43m=\u001b[39;49m\u001b[38;5;28;43;01mFalse\u001b[39;49;00m\u001b[43m)\u001b[49m[\u001b[38;5;241m0\u001b[39m]\n",
      "File \u001b[0;32m/ziob/klaudia/miniconda3/envs/preproc/lib/python3.10/site-packages/hmmlearn/base.py:272\u001b[0m, in \u001b[0;36mBaseHMM._score\u001b[0;34m(self, X, lengths, compute_posteriors)\u001b[0m\n\u001b[1;32m    269\u001b[0m _utils\u001b[38;5;241m.\u001b[39mcheck_is_fitted(\u001b[38;5;28mself\u001b[39m, \u001b[38;5;124m\"\u001b[39m\u001b[38;5;124mstartprob_\u001b[39m\u001b[38;5;124m\"\u001b[39m)\n\u001b[1;32m    270\u001b[0m \u001b[38;5;28mself\u001b[39m\u001b[38;5;241m.\u001b[39m_check()\n\u001b[0;32m--> 272\u001b[0m X \u001b[38;5;241m=\u001b[39m \u001b[43mcheck_array\u001b[49m\u001b[43m(\u001b[49m\u001b[43mX\u001b[49m\u001b[43m)\u001b[49m\n\u001b[1;32m    273\u001b[0m impl \u001b[38;5;241m=\u001b[39m {\n\u001b[1;32m    274\u001b[0m     \u001b[38;5;124m\"\u001b[39m\u001b[38;5;124mscaling\u001b[39m\u001b[38;5;124m\"\u001b[39m: \u001b[38;5;28mself\u001b[39m\u001b[38;5;241m.\u001b[39m_score_scaling,\n\u001b[1;32m    275\u001b[0m     \u001b[38;5;124m\"\u001b[39m\u001b[38;5;124mlog\u001b[39m\u001b[38;5;124m\"\u001b[39m: \u001b[38;5;28mself\u001b[39m\u001b[38;5;241m.\u001b[39m_score_log,\n\u001b[1;32m    276\u001b[0m }[\u001b[38;5;28mself\u001b[39m\u001b[38;5;241m.\u001b[39mimplementation]\n\u001b[1;32m    277\u001b[0m \u001b[38;5;28;01mreturn\u001b[39;00m impl(\n\u001b[1;32m    278\u001b[0m     X\u001b[38;5;241m=\u001b[39mX, lengths\u001b[38;5;241m=\u001b[39mlengths, compute_posteriors\u001b[38;5;241m=\u001b[39mcompute_posteriors)\n",
      "File \u001b[0;32m/ziob/klaudia/miniconda3/envs/preproc/lib/python3.10/site-packages/sklearn/utils/validation.py:902\u001b[0m, in \u001b[0;36mcheck_array\u001b[0;34m(array, accept_sparse, accept_large_sparse, dtype, order, copy, force_all_finite, ensure_2d, allow_nd, ensure_min_samples, ensure_min_features, estimator, input_name)\u001b[0m\n\u001b[1;32m    900\u001b[0m     \u001b[38;5;66;03m# If input is 1D raise error\u001b[39;00m\n\u001b[1;32m    901\u001b[0m     \u001b[38;5;28;01mif\u001b[39;00m array\u001b[38;5;241m.\u001b[39mndim \u001b[38;5;241m==\u001b[39m \u001b[38;5;241m1\u001b[39m:\n\u001b[0;32m--> 902\u001b[0m         \u001b[38;5;28;01mraise\u001b[39;00m \u001b[38;5;167;01mValueError\u001b[39;00m(\n\u001b[1;32m    903\u001b[0m             \u001b[38;5;124m\"\u001b[39m\u001b[38;5;124mExpected 2D array, got 1D array instead:\u001b[39m\u001b[38;5;130;01m\\n\u001b[39;00m\u001b[38;5;124marray=\u001b[39m\u001b[38;5;132;01m{}\u001b[39;00m\u001b[38;5;124m.\u001b[39m\u001b[38;5;130;01m\\n\u001b[39;00m\u001b[38;5;124m\"\u001b[39m\n\u001b[1;32m    904\u001b[0m             \u001b[38;5;124m\"\u001b[39m\u001b[38;5;124mReshape your data either using array.reshape(-1, 1) if \u001b[39m\u001b[38;5;124m\"\u001b[39m\n\u001b[1;32m    905\u001b[0m             \u001b[38;5;124m\"\u001b[39m\u001b[38;5;124myour data has a single feature or array.reshape(1, -1) \u001b[39m\u001b[38;5;124m\"\u001b[39m\n\u001b[1;32m    906\u001b[0m             \u001b[38;5;124m\"\u001b[39m\u001b[38;5;124mif it contains a single sample.\u001b[39m\u001b[38;5;124m\"\u001b[39m\u001b[38;5;241m.\u001b[39mformat(array)\n\u001b[1;32m    907\u001b[0m         )\n\u001b[1;32m    909\u001b[0m \u001b[38;5;28;01mif\u001b[39;00m dtype_numeric \u001b[38;5;129;01mand\u001b[39;00m array\u001b[38;5;241m.\u001b[39mdtype\u001b[38;5;241m.\u001b[39mkind \u001b[38;5;129;01min\u001b[39;00m \u001b[38;5;124m\"\u001b[39m\u001b[38;5;124mUSV\u001b[39m\u001b[38;5;124m\"\u001b[39m:\n\u001b[1;32m    910\u001b[0m     \u001b[38;5;28;01mraise\u001b[39;00m \u001b[38;5;167;01mValueError\u001b[39;00m(\n\u001b[1;32m    911\u001b[0m         \u001b[38;5;124m\"\u001b[39m\u001b[38;5;124mdtype=\u001b[39m\u001b[38;5;124m'\u001b[39m\u001b[38;5;124mnumeric\u001b[39m\u001b[38;5;124m'\u001b[39m\u001b[38;5;124m is not compatible with arrays of bytes/strings.\u001b[39m\u001b[38;5;124m\"\u001b[39m\n\u001b[1;32m    912\u001b[0m         \u001b[38;5;124m\"\u001b[39m\u001b[38;5;124mConvert your data to numeric values explicitly instead.\u001b[39m\u001b[38;5;124m\"\u001b[39m\n\u001b[1;32m    913\u001b[0m     )\n",
      "\u001b[0;31mValueError\u001b[0m: Expected 2D array, got 1D array instead:\narray=[325 271 271 ... 476 476 423].\nReshape your data either using array.reshape(-1, 1) if your data has a single feature or array.reshape(1, -1) if it contains a single sample."
     ]
    }
   ],
   "source": [
    "w2v_fhmm = FlowHMM(n_components=5, no_nodes=512, l=100, optimizer=\"Adam\", verbose=True)\n",
    "\n",
    "%time w2v_fhmm.fit(X_c, l_c)\n",
    "\n",
    "print(w2v_fhmm.score(target_c, lt))\n"
   ]
  }
 ],
 "metadata": {
  "kernelspec": {
   "display_name": "Python 3",
   "language": "python",
   "name": "python3"
  },
  "language_info": {
   "codemirror_mode": {
    "name": "ipython",
    "version": 3
   },
   "file_extension": ".py",
   "mimetype": "text/x-python",
   "name": "python",
   "nbconvert_exporter": "python",
   "pygments_lexer": "ipython3",
   "version": "3.10.9"
  }
 },
 "nbformat": 4,
 "nbformat_minor": 0
}
