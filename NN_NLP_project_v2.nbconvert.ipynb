{
 "cells": [
  {
   "cell_type": "code",
   "execution_count": 1,
   "metadata": {
    "ExecuteTime": {
     "end_time": "2023-06-20T18:21:24.917388994Z",
     "start_time": "2023-06-20T18:21:21.816549855Z"
    },
    "collapsed": true,
    "execution": {
     "iopub.execute_input": "2023-06-21T10:42:15.748816Z",
     "iopub.status.busy": "2023-06-21T10:42:15.748086Z",
     "iopub.status.idle": "2023-06-21T10:42:29.007087Z",
     "shell.execute_reply": "2023-06-21T10:42:29.004688Z"
    }
   },
   "outputs": [
    {
     "ename": "SyntaxError",
     "evalue": "invalid syntax (discretized_flow_HMM.py, line 311)",
     "output_type": "error",
     "traceback": [
      "Traceback \u001b[0;36m(most recent call last)\u001b[0m:\n",
      "\u001b[0m  File \u001b[1;32m/ziob/klaudia/miniconda3/envs/preproc/lib/python3.10/site-packages/IPython/core/interactiveshell.py:3460\u001b[0m in \u001b[1;35mrun_code\u001b[0m\n    exec(code_obj, self.user_global_ns, self.user_ns)\u001b[0m\n",
      "\u001b[0;36m  Cell \u001b[0;32mIn[1], line 2\u001b[0;36m\n\u001b[0;31m    from torchHMM.model.discretized_flow_HMM import FlowHMM\u001b[0;36m\n",
      "\u001b[0;36m  File \u001b[0;32m/ziob/klaudia/FlowHMM/torchHMM/model/discretized_flow_HMM.py:311\u001b[0;36m\u001b[0m\n\u001b[0;31m    for i range((X.shape[0] // batchsize) + 1):\u001b[0m\n\u001b[0m          ^\u001b[0m\n\u001b[0;31mSyntaxError\u001b[0m\u001b[0;31m:\u001b[0m invalid syntax\n"
     ]
    }
   ],
   "source": [
    "from torchHMM.model.discretized_HMM import DiscreteHMM, DISCRETIZATION_TECHNIQUES\n",
    "from torchHMM.model.discretized_flow_HMM import FlowHMM"
   ]
  },
  {
   "cell_type": "code",
   "execution_count": 2,
   "metadata": {
    "ExecuteTime": {
     "end_time": "2023-06-20T18:21:25.426880898Z",
     "start_time": "2023-06-20T18:21:24.919406164Z"
    },
    "collapsed": false,
    "execution": {
     "iopub.execute_input": "2023-06-21T10:42:29.052018Z",
     "iopub.status.busy": "2023-06-21T10:42:29.050494Z",
     "iopub.status.idle": "2023-06-21T10:42:31.029069Z",
     "shell.execute_reply": "2023-06-21T10:42:31.027269Z"
    }
   },
   "outputs": [],
   "source": [
    "import numpy as np\n",
    "import pandas as pd\n",
    "import pickle as pkl"
   ]
  },
  {
   "cell_type": "code",
   "execution_count": 3,
   "metadata": {
    "ExecuteTime": {
     "end_time": "2023-06-20T18:21:25.585738439Z",
     "start_time": "2023-06-20T18:21:25.430620644Z"
    },
    "collapsed": false,
    "execution": {
     "iopub.execute_input": "2023-06-21T10:42:31.038411Z",
     "iopub.status.busy": "2023-06-21T10:42:31.036813Z",
     "iopub.status.idle": "2023-06-21T10:42:31.827160Z",
     "shell.execute_reply": "2023-06-21T10:42:31.825436Z"
    }
   },
   "outputs": [],
   "source": [
    "from hmmlearn.hmm import CategoricalHMM, GaussianHMM\n",
    "from gensim.models import KeyedVectors\n"
   ]
  },
  {
   "cell_type": "code",
   "execution_count": 4,
   "metadata": {
    "ExecuteTime": {
     "end_time": "2023-06-20T18:22:25.677005789Z",
     "start_time": "2023-06-20T18:22:10.988230672Z"
    },
    "collapsed": false,
    "execution": {
     "iopub.execute_input": "2023-06-21T10:42:31.834513Z",
     "iopub.status.busy": "2023-06-21T10:42:31.833588Z",
     "iopub.status.idle": "2023-06-21T10:42:43.304690Z",
     "shell.execute_reply": "2023-06-21T10:42:43.302996Z"
    }
   },
   "outputs": [],
   "source": [
    "with open('clickstream_experiment/data/preprocessed_data/ClickStream_test_cleaned.pkl', 'rb') as f:\n",
    "    cs = pkl.load(f)"
   ]
  },
  {
   "cell_type": "code",
   "execution_count": 5,
   "metadata": {
    "ExecuteTime": {
     "end_time": "2023-06-20T18:22:57.662225691Z",
     "start_time": "2023-06-20T18:22:57.635218463Z"
    },
    "collapsed": false,
    "execution": {
     "iopub.execute_input": "2023-06-21T10:42:43.308407Z",
     "iopub.status.busy": "2023-06-21T10:42:43.308143Z",
     "iopub.status.idle": "2023-06-21T10:42:43.331017Z",
     "shell.execute_reply": "2023-06-21T10:42:43.329397Z"
    }
   },
   "outputs": [],
   "source": [
    "session_train, sessions_test = cs.sessions[:-100000], cs.sessions[-100000:]\n"
   ]
  },
  {
   "cell_type": "code",
   "execution_count": 6,
   "metadata": {
    "ExecuteTime": {
     "end_time": "2023-06-20T18:22:58.837276197Z",
     "start_time": "2023-06-20T18:22:58.476808811Z"
    },
    "collapsed": false,
    "execution": {
     "iopub.execute_input": "2023-06-21T10:42:43.336711Z",
     "iopub.status.busy": "2023-06-21T10:42:43.335416Z",
     "iopub.status.idle": "2023-06-21T10:42:49.980851Z",
     "shell.execute_reply": "2023-06-21T10:42:49.978995Z"
    }
   },
   "outputs": [],
   "source": [
    "item_ids = np.unique([e.item_id for s in session_train for e in s.event_list])\n",
    "item_ids = {item_ids[i]: i for i in range(len(item_ids))}\n",
    "\n",
    "Xs = [[item_ids[e.item_id] for e in s.event_list] for s in session_train]\n",
    "l = [len(y) for y in Xs]\n",
    "\n",
    "X = np.concatenate(Xs).reshape(-1, 1)\n",
    "\n",
    "target =  [[item_ids[e.item_id] for e in s.event_list if e.item_id in item_ids.keys()] for s in sessions_test]\n",
    "target = [l for l in target if len(l)]\n",
    "lt = np.array([len(y) for y in target])\n",
    "target = np.concatenate(target).reshape(-1, 1)"
   ]
  },
  {
   "cell_type": "code",
   "execution_count": 7,
   "metadata": {
    "ExecuteTime": {
     "end_time": "2023-06-20T18:22:59.599689404Z",
     "start_time": "2023-06-20T18:22:59.575620931Z"
    },
    "collapsed": false,
    "execution": {
     "iopub.execute_input": "2023-06-21T10:42:49.987114Z",
     "iopub.status.busy": "2023-06-21T10:42:49.986841Z",
     "iopub.status.idle": "2023-06-21T10:42:49.995134Z",
     "shell.execute_reply": "2023-06-21T10:42:49.994161Z"
    }
   },
   "outputs": [
    {
     "data": {
      "text/plain": [
       "237227"
      ]
     },
     "execution_count": 7,
     "metadata": {},
     "output_type": "execute_result"
    }
   ],
   "source": [
    "len(item_ids.keys())"
   ]
  },
  {
   "cell_type": "code",
   "execution_count": 8,
   "metadata": {
    "ExecuteTime": {
     "end_time": "2023-06-20T18:23:00.404040610Z",
     "start_time": "2023-06-20T18:23:00.384300755Z"
    },
    "collapsed": false,
    "execution": {
     "iopub.execute_input": "2023-06-21T10:42:50.002099Z",
     "iopub.status.busy": "2023-06-21T10:42:50.001847Z",
     "iopub.status.idle": "2023-06-21T10:42:50.007007Z",
     "shell.execute_reply": "2023-06-21T10:42:50.005704Z"
    }
   },
   "outputs": [],
   "source": [
    "chmm = CategoricalHMM(5, n_iter=10, verbose=True)\n"
   ]
  },
  {
   "cell_type": "code",
   "execution_count": 9,
   "metadata": {
    "ExecuteTime": {
     "end_time": "2023-06-20T18:23:21.780253107Z",
     "start_time": "2023-06-20T18:23:02.438883287Z"
    },
    "collapsed": false,
    "execution": {
     "iopub.execute_input": "2023-06-21T10:42:50.010763Z",
     "iopub.status.busy": "2023-06-21T10:42:50.010431Z",
     "iopub.status.idle": "2023-06-21T10:52:50.233431Z",
     "shell.execute_reply": "2023-06-21T10:52:50.232204Z"
    }
   },
   "outputs": [
    {
     "name": "stderr",
     "output_type": "stream",
     "text": [
      "         1   -48967877.4673             +nan\n",
      "         2   -44494963.5797    +4472913.8876\n",
      "         3   -44082639.1029     +412324.4768\n",
      "         4   -43635718.1281     +446920.9748\n",
      "         5   -43263446.5899     +372271.5382\n",
      "         6   -42981936.6787     +281509.9112\n",
      "         7   -42776755.9350     +205180.7437\n",
      "         8   -42629241.9418     +147513.9931\n",
      "         9   -42512510.6219     +116731.3199\n"
     ]
    },
    {
     "name": "stdout",
     "output_type": "stream",
     "text": [
      "CPU times: user 9min 59s, sys: 153 ms, total: 9min 59s\n",
      "Wall time: 10min\n"
     ]
    },
    {
     "name": "stderr",
     "output_type": "stream",
     "text": [
      "        10   -42415299.4840      +97211.1379\n"
     ]
    },
    {
     "data": {
      "text/html": [
       "<style>#sk-container-id-1 {color: black;background-color: white;}#sk-container-id-1 pre{padding: 0;}#sk-container-id-1 div.sk-toggleable {background-color: white;}#sk-container-id-1 label.sk-toggleable__label {cursor: pointer;display: block;width: 100%;margin-bottom: 0;padding: 0.3em;box-sizing: border-box;text-align: center;}#sk-container-id-1 label.sk-toggleable__label-arrow:before {content: \"▸\";float: left;margin-right: 0.25em;color: #696969;}#sk-container-id-1 label.sk-toggleable__label-arrow:hover:before {color: black;}#sk-container-id-1 div.sk-estimator:hover label.sk-toggleable__label-arrow:before {color: black;}#sk-container-id-1 div.sk-toggleable__content {max-height: 0;max-width: 0;overflow: hidden;text-align: left;background-color: #f0f8ff;}#sk-container-id-1 div.sk-toggleable__content pre {margin: 0.2em;color: black;border-radius: 0.25em;background-color: #f0f8ff;}#sk-container-id-1 input.sk-toggleable__control:checked~div.sk-toggleable__content {max-height: 200px;max-width: 100%;overflow: auto;}#sk-container-id-1 input.sk-toggleable__control:checked~label.sk-toggleable__label-arrow:before {content: \"▾\";}#sk-container-id-1 div.sk-estimator input.sk-toggleable__control:checked~label.sk-toggleable__label {background-color: #d4ebff;}#sk-container-id-1 div.sk-label input.sk-toggleable__control:checked~label.sk-toggleable__label {background-color: #d4ebff;}#sk-container-id-1 input.sk-hidden--visually {border: 0;clip: rect(1px 1px 1px 1px);clip: rect(1px, 1px, 1px, 1px);height: 1px;margin: -1px;overflow: hidden;padding: 0;position: absolute;width: 1px;}#sk-container-id-1 div.sk-estimator {font-family: monospace;background-color: #f0f8ff;border: 1px dotted black;border-radius: 0.25em;box-sizing: border-box;margin-bottom: 0.5em;}#sk-container-id-1 div.sk-estimator:hover {background-color: #d4ebff;}#sk-container-id-1 div.sk-parallel-item::after {content: \"\";width: 100%;border-bottom: 1px solid gray;flex-grow: 1;}#sk-container-id-1 div.sk-label:hover label.sk-toggleable__label {background-color: #d4ebff;}#sk-container-id-1 div.sk-serial::before {content: \"\";position: absolute;border-left: 1px solid gray;box-sizing: border-box;top: 0;bottom: 0;left: 50%;z-index: 0;}#sk-container-id-1 div.sk-serial {display: flex;flex-direction: column;align-items: center;background-color: white;padding-right: 0.2em;padding-left: 0.2em;position: relative;}#sk-container-id-1 div.sk-item {position: relative;z-index: 1;}#sk-container-id-1 div.sk-parallel {display: flex;align-items: stretch;justify-content: center;background-color: white;position: relative;}#sk-container-id-1 div.sk-item::before, #sk-container-id-1 div.sk-parallel-item::before {content: \"\";position: absolute;border-left: 1px solid gray;box-sizing: border-box;top: 0;bottom: 0;left: 50%;z-index: -1;}#sk-container-id-1 div.sk-parallel-item {display: flex;flex-direction: column;z-index: 1;position: relative;background-color: white;}#sk-container-id-1 div.sk-parallel-item:first-child::after {align-self: flex-end;width: 50%;}#sk-container-id-1 div.sk-parallel-item:last-child::after {align-self: flex-start;width: 50%;}#sk-container-id-1 div.sk-parallel-item:only-child::after {width: 0;}#sk-container-id-1 div.sk-dashed-wrapped {border: 1px dashed gray;margin: 0 0.4em 0.5em 0.4em;box-sizing: border-box;padding-bottom: 0.4em;background-color: white;}#sk-container-id-1 div.sk-label label {font-family: monospace;font-weight: bold;display: inline-block;line-height: 1.2em;}#sk-container-id-1 div.sk-label-container {text-align: center;}#sk-container-id-1 div.sk-container {/* jupyter's `normalize.less` sets `[hidden] { display: none; }` but bootstrap.min.css set `[hidden] { display: none !important; }` so we also need the `!important` here to be able to override the default hidden behavior on the sphinx rendered scikit-learn.org. See: https://github.com/scikit-learn/scikit-learn/issues/21755 */display: inline-block !important;position: relative;}#sk-container-id-1 div.sk-text-repr-fallback {display: none;}</style><div id=\"sk-container-id-1\" class=\"sk-top-container\"><div class=\"sk-text-repr-fallback\"><pre>CategoricalHMM(n_components=5,\n",
       "               random_state=RandomState(MT19937) at 0x7F0738A14A40,\n",
       "               verbose=True)</pre><b>In a Jupyter environment, please rerun this cell to show the HTML representation or trust the notebook. <br />On GitHub, the HTML representation is unable to render, please try loading this page with nbviewer.org.</b></div><div class=\"sk-container\" hidden><div class=\"sk-item\"><div class=\"sk-estimator sk-toggleable\"><input class=\"sk-toggleable__control sk-hidden--visually\" id=\"sk-estimator-id-1\" type=\"checkbox\" checked><label for=\"sk-estimator-id-1\" class=\"sk-toggleable__label sk-toggleable__label-arrow\">CategoricalHMM</label><div class=\"sk-toggleable__content\"><pre>CategoricalHMM(n_components=5,\n",
       "               random_state=RandomState(MT19937) at 0x7F0738A14A40,\n",
       "               verbose=True)</pre></div></div></div></div></div>"
      ],
      "text/plain": [
       "CategoricalHMM(n_components=5,\n",
       "               random_state=RandomState(MT19937) at 0x7F0738A14A40,\n",
       "               verbose=True)"
      ]
     },
     "execution_count": 9,
     "metadata": {},
     "output_type": "execute_result"
    }
   ],
   "source": [
    "%time chmm.fit(X, l)"
   ]
  },
  {
   "cell_type": "code",
   "execution_count": 10,
   "metadata": {
    "ExecuteTime": {
     "end_time": "2023-06-20T18:23:23.444223864Z",
     "start_time": "2023-06-20T18:23:23.401973189Z"
    },
    "collapsed": false,
    "execution": {
     "iopub.execute_input": "2023-06-21T10:52:50.239089Z",
     "iopub.status.busy": "2023-06-21T10:52:50.238426Z",
     "iopub.status.idle": "2023-06-21T10:52:52.804609Z",
     "shell.execute_reply": "2023-06-21T10:52:52.801747Z"
    }
   },
   "outputs": [
    {
     "name": "stdout",
     "output_type": "stream",
     "text": [
      "-8643459.88323004\n"
     ]
    }
   ],
   "source": [
    "print(chmm.score(target, lt))"
   ]
  },
  {
   "cell_type": "code",
   "execution_count": 11,
   "metadata": {
    "ExecuteTime": {
     "end_time": "2023-06-20T18:24:42.032483840Z",
     "start_time": "2023-06-20T18:24:41.704801762Z"
    },
    "collapsed": false,
    "execution": {
     "iopub.execute_input": "2023-06-21T10:52:52.810581Z",
     "iopub.status.busy": "2023-06-21T10:52:52.810281Z",
     "iopub.status.idle": "2023-06-21T10:52:58.845788Z",
     "shell.execute_reply": "2023-06-21T10:52:58.845042Z"
    }
   },
   "outputs": [],
   "source": [
    "vectors = KeyedVectors.load(\n",
    "    f\"clickstream_experiment/data/preprocessed_data/vectors_train_20_10_5_8_cleaned.kv\"\n",
    ")\n",
    "vecs = np.concatenate(\n",
    "    [\n",
    "        vectors.get_vector(k).reshape(1, -1)\n",
    "        for k in list(vectors.key_to_index.keys())\n",
    "    ]\n",
    ")"
   ]
  },
  {
   "cell_type": "code",
   "execution_count": 12,
   "metadata": {
    "ExecuteTime": {
     "end_time": "2023-06-20T18:24:42.776322886Z",
     "start_time": "2023-06-20T18:24:42.757777606Z"
    },
    "collapsed": false,
    "execution": {
     "iopub.execute_input": "2023-06-21T10:52:58.851209Z",
     "iopub.status.busy": "2023-06-21T10:52:58.850405Z",
     "iopub.status.idle": "2023-06-21T10:52:58.959672Z",
     "shell.execute_reply": "2023-06-21T10:52:58.958222Z"
    }
   },
   "outputs": [],
   "source": [
    "unknown = vecs.mean(axis=0).reshape(1, -1)\n",
    "\n",
    "def get_vec(e):\n",
    "    try:\n",
    "        return vectors.get_vector(e.item_id).reshape(1, -1)\n",
    "    except:\n",
    "        return unknown"
   ]
  },
  {
   "cell_type": "code",
   "execution_count": 13,
   "metadata": {
    "ExecuteTime": {
     "end_time": "2023-06-20T18:24:44.297892693Z",
     "start_time": "2023-06-20T18:24:43.848615414Z"
    },
    "collapsed": false,
    "execution": {
     "iopub.execute_input": "2023-06-21T10:52:58.965711Z",
     "iopub.status.busy": "2023-06-21T10:52:58.965437Z",
     "iopub.status.idle": "2023-06-21T10:53:11.407655Z",
     "shell.execute_reply": "2023-06-21T10:53:11.406350Z"
    }
   },
   "outputs": [],
   "source": [
    "Xs_c = [[get_vec(e) for e in s.event_list] for s in session_train]\n",
    "l_c = np.array([len(y) for y in X])\n",
    "\n",
    "X_c = np.concatenate([a for as_ in Xs_c for a in as_], axis=0)\n",
    "\n",
    "target_c =  [[get_vec(e) for e in s.event_list if e.item_id in item_ids.keys()] for s in sessions_test]\n",
    "target_c = np.concatenate([a for as_ in target_c for a in as_], axis=0)\n"
   ]
  },
  {
   "cell_type": "code",
   "execution_count": 14,
   "metadata": {
    "ExecuteTime": {
     "end_time": "2023-06-20T18:24:45.197173861Z",
     "start_time": "2023-06-20T18:24:45.170177665Z"
    },
    "collapsed": false,
    "execution": {
     "iopub.execute_input": "2023-06-21T10:53:11.413826Z",
     "iopub.status.busy": "2023-06-21T10:53:11.413581Z",
     "iopub.status.idle": "2023-06-21T10:53:11.418112Z",
     "shell.execute_reply": "2023-06-21T10:53:11.416725Z"
    }
   },
   "outputs": [],
   "source": [
    "w2vhmm = GaussianHMM(5, n_iter=10, verbose=True)"
   ]
  },
  {
   "cell_type": "code",
   "execution_count": 15,
   "metadata": {
    "ExecuteTime": {
     "end_time": "2023-06-20T18:27:43.779847169Z",
     "start_time": "2023-06-20T18:24:46.236338741Z"
    },
    "collapsed": false,
    "execution": {
     "iopub.execute_input": "2023-06-21T10:53:11.424852Z",
     "iopub.status.busy": "2023-06-21T10:53:11.424597Z",
     "iopub.status.idle": "2023-06-21T10:53:11.429252Z",
     "shell.execute_reply": "2023-06-21T10:53:11.427864Z"
    }
   },
   "outputs": [],
   "source": [
    "# %time w2vhmm.fit(X_c, l_c)"
   ]
  },
  {
   "cell_type": "code",
   "execution_count": 16,
   "metadata": {
    "ExecuteTime": {
     "end_time": "2023-06-20T18:27:57.592832222Z",
     "start_time": "2023-06-20T18:27:57.564246280Z"
    },
    "collapsed": false,
    "execution": {
     "iopub.execute_input": "2023-06-21T10:53:11.433105Z",
     "iopub.status.busy": "2023-06-21T10:53:11.432279Z",
     "iopub.status.idle": "2023-06-21T10:53:11.436257Z",
     "shell.execute_reply": "2023-06-21T10:53:11.435488Z"
    }
   },
   "outputs": [],
   "source": [
    "# w2vhmm.transmat_"
   ]
  },
  {
   "cell_type": "code",
   "execution_count": 17,
   "metadata": {
    "ExecuteTime": {
     "end_time": "2023-06-20T18:28:12.774030248Z",
     "start_time": "2023-06-20T18:28:12.752353371Z"
    },
    "collapsed": false,
    "execution": {
     "iopub.execute_input": "2023-06-21T10:53:11.438950Z",
     "iopub.status.busy": "2023-06-21T10:53:11.438434Z",
     "iopub.status.idle": "2023-06-21T10:53:11.442047Z",
     "shell.execute_reply": "2023-06-21T10:53:11.441211Z"
    }
   },
   "outputs": [],
   "source": [
    "# zeros = w2vhmm.transmat_.sum(axis=1) == 0\n",
    "# w2vhmm.transmat_[zeros] = np.ones(w2vhmm.transmat_.shape)[zeros] / w2vhmm.n_components\n"
   ]
  },
  {
   "cell_type": "code",
   "execution_count": 18,
   "metadata": {
    "ExecuteTime": {
     "end_time": "2023-06-20T18:28:14.694769457Z",
     "start_time": "2023-06-20T18:28:14.583110632Z"
    },
    "collapsed": false,
    "execution": {
     "iopub.execute_input": "2023-06-21T10:53:11.444378Z",
     "iopub.status.busy": "2023-06-21T10:53:11.443965Z",
     "iopub.status.idle": "2023-06-21T10:53:11.446840Z",
     "shell.execute_reply": "2023-06-21T10:53:11.446161Z"
    }
   },
   "outputs": [],
   "source": [
    "# print(w2vhmm.score(target_c, lt))"
   ]
  },
  {
   "cell_type": "code",
   "execution_count": 19,
   "metadata": {
    "ExecuteTime": {
     "end_time": "2023-06-20T18:28:25.818432661Z",
     "start_time": "2023-06-20T18:28:25.809965693Z"
    },
    "collapsed": false,
    "execution": {
     "iopub.execute_input": "2023-06-21T10:53:11.449574Z",
     "iopub.status.busy": "2023-06-21T10:53:11.448983Z",
     "iopub.status.idle": "2023-06-21T10:53:11.452766Z",
     "shell.execute_reply": "2023-06-21T10:53:11.451859Z"
    }
   },
   "outputs": [],
   "source": [
    "w2v_dhmm = DiscreteHMM(n_components=5, no_nodes=512, optimizer=\"Adam\", verbose=True, covariance_type='full')"
   ]
  },
  {
   "cell_type": "code",
   "execution_count": 20,
   "metadata": {
    "ExecuteTime": {
     "start_time": "2023-06-20T18:28:27.160186017Z"
    },
    "collapsed": false,
    "execution": {
     "iopub.execute_input": "2023-06-21T10:53:11.457666Z",
     "iopub.status.busy": "2023-06-21T10:53:11.456593Z",
     "iopub.status.idle": "2023-06-21T10:54:21.189998Z",
     "shell.execute_reply": "2023-06-21T10:54:21.188338Z"
    },
    "is_executing": true
   },
   "outputs": [
    {
     "name": "stderr",
     "output_type": "stream",
     "text": [
      "/ziob/klaudia/miniconda3/envs/preproc/lib/python3.10/site-packages/sklearn/cluster/_kmeans.py:870: FutureWarning: The default value of `n_init` will change from 10 to 'auto' in 1.4. Set the value of `n_init` explicitly to suppress the warning\n",
      "  warnings.warn(\n"
     ]
    },
    {
     "ename": "MemoryError",
     "evalue": "Unable to allocate 149. GiB for an array with shape (3917265, 20, 512) and data type float32",
     "output_type": "error",
     "traceback": [
      "\u001b[0;31m---------------------------------------------------------------------------\u001b[0m",
      "\u001b[0;31mMemoryError\u001b[0m                               Traceback (most recent call last)",
      "File \u001b[0;32m<timed eval>:1\u001b[0m\n",
      "File \u001b[0;32m/ziob/klaudia/FlowHMM/torchHMM/model/discretized_HMM.py:527\u001b[0m, in \u001b[0;36mDiscreteHMM.fit\u001b[0;34m(self, X, lengths, Xd, lengths_d, update_nodes, early_stopping)\u001b[0m\n\u001b[1;32m    525\u001b[0m \u001b[38;5;28mself\u001b[39m\u001b[38;5;241m.\u001b[39m_init(X, lengths)\n\u001b[1;32m    526\u001b[0m \u001b[38;5;28;01mif\u001b[39;00m Xd \u001b[38;5;129;01mis\u001b[39;00m \u001b[38;5;28;01mNone\u001b[39;00m:\n\u001b[0;32m--> 527\u001b[0m     Xd \u001b[38;5;241m=\u001b[39m \u001b[38;5;28;43mself\u001b[39;49m\u001b[38;5;241;43m.\u001b[39;49m\u001b[43mdiscretize\u001b[49m\u001b[43m(\u001b[49m\u001b[43mX\u001b[49m\u001b[43m,\u001b[49m\u001b[43m \u001b[49m\u001b[43mupdate_nodes\u001b[49m\u001b[43m)\u001b[49m\n\u001b[1;32m    528\u001b[0m     lengths_d \u001b[38;5;241m=\u001b[39m lengths\n\u001b[1;32m    529\u001b[0m \u001b[38;5;28;01mif\u001b[39;00m \u001b[38;5;28mself\u001b[39m\u001b[38;5;241m.\u001b[39mlearning_alg \u001b[38;5;241m==\u001b[39m \u001b[38;5;124m\"\u001b[39m\u001b[38;5;124mem\u001b[39m\u001b[38;5;124m\"\u001b[39m:\n",
      "File \u001b[0;32m/ziob/klaudia/FlowHMM/torchHMM/model/discretized_HMM.py:340\u001b[0m, in \u001b[0;36mDiscreteHMM.discretize\u001b[0;34m(self, X, force)\u001b[0m\n\u001b[1;32m    332\u001b[0m \u001b[38;5;250m\u001b[39m\u001b[38;5;124;03m\"\"\"\u001b[39;00m\n\u001b[1;32m    333\u001b[0m \u001b[38;5;124;03mProvide nodes for discretization and represent continuous data as cluster indexes\u001b[39;00m\n\u001b[1;32m    334\u001b[0m \u001b[38;5;124;03m:param X: Original, continuous (gaussian) data\u001b[39;00m\n\u001b[1;32m    335\u001b[0m \u001b[38;5;124;03m:param force: Should nodes be updated, if they are already provided.\u001b[39;00m\n\u001b[1;32m    336\u001b[0m \u001b[38;5;124;03m:return: Discretized data (index of cluster)\u001b[39;00m\n\u001b[1;32m    337\u001b[0m \u001b[38;5;124;03m\"\"\"\u001b[39;00m\n\u001b[1;32m    338\u001b[0m \u001b[38;5;28mself\u001b[39m\u001b[38;5;241m.\u001b[39mprovide_nodes(X, force)\n\u001b[1;32m    339\u001b[0m \u001b[38;5;28;01mreturn\u001b[39;00m np\u001b[38;5;241m.\u001b[39margmin(\n\u001b[0;32m--> 340\u001b[0m     np\u001b[38;5;241m.\u001b[39msquare(\u001b[43mX\u001b[49m\u001b[43m[\u001b[49m\u001b[43m:\u001b[49m\u001b[43m,\u001b[49m\u001b[43m \u001b[49m\u001b[43m:\u001b[49m\u001b[43m,\u001b[49m\u001b[43m \u001b[49m\u001b[43mnp\u001b[49m\u001b[38;5;241;43m.\u001b[39;49m\u001b[43mnewaxis\u001b[49m\u001b[43m]\u001b[49m\u001b[43m \u001b[49m\u001b[38;5;241;43m-\u001b[39;49m\u001b[43m \u001b[49m\u001b[38;5;28;43mself\u001b[39;49m\u001b[38;5;241;43m.\u001b[39;49m\u001b[43mnodes\u001b[49m\u001b[43m[\u001b[49m\u001b[43mnp\u001b[49m\u001b[38;5;241;43m.\u001b[39;49m\u001b[43mnewaxis\u001b[49m\u001b[43m,\u001b[49m\u001b[43m \u001b[49m\u001b[43m:\u001b[49m\u001b[43m,\u001b[49m\u001b[43m \u001b[49m\u001b[43m:\u001b[49m\u001b[43m]\u001b[49m)\u001b[38;5;241m.\u001b[39msum(axis\u001b[38;5;241m=\u001b[39m\u001b[38;5;241m1\u001b[39m),\n\u001b[1;32m    341\u001b[0m     axis\u001b[38;5;241m=\u001b[39m\u001b[38;5;241m1\u001b[39m,\n\u001b[1;32m    342\u001b[0m )\u001b[38;5;241m.\u001b[39mreshape(\u001b[38;5;241m-\u001b[39m\u001b[38;5;241m1\u001b[39m)\n",
      "\u001b[0;31mMemoryError\u001b[0m: Unable to allocate 149. GiB for an array with shape (3917265, 20, 512) and data type float32"
     ]
    }
   ],
   "source": [
    "%time w2v_dhmm.fit(X_c, l_c)"
   ]
  },
  {
   "cell_type": "code",
   "execution_count": 21,
   "metadata": {
    "collapsed": false,
    "execution": {
     "iopub.execute_input": "2023-06-21T10:54:21.193200Z",
     "iopub.status.busy": "2023-06-21T10:54:21.192969Z",
     "iopub.status.idle": "2023-06-21T10:54:54.638592Z",
     "shell.execute_reply": "2023-06-21T10:54:54.637776Z"
    }
   },
   "outputs": [
    {
     "name": "stdout",
     "output_type": "stream",
     "text": [
      "-16790654.124366872\n"
     ]
    }
   ],
   "source": [
    "print(w2v_dhmm.score(target_c, lt))"
   ]
  },
  {
   "cell_type": "code",
   "execution_count": 22,
   "metadata": {
    "collapsed": false,
    "execution": {
     "iopub.execute_input": "2023-06-21T10:54:54.641776Z",
     "iopub.status.busy": "2023-06-21T10:54:54.641505Z",
     "iopub.status.idle": "2023-06-21T10:54:54.774742Z",
     "shell.execute_reply": "2023-06-21T10:54:54.773772Z"
    }
   },
   "outputs": [
    {
     "ename": "NameError",
     "evalue": "name 'FlowHMM' is not defined",
     "output_type": "error",
     "traceback": [
      "\u001b[0;31m---------------------------------------------------------------------------\u001b[0m",
      "\u001b[0;31mNameError\u001b[0m                                 Traceback (most recent call last)",
      "Cell \u001b[0;32mIn[22], line 1\u001b[0m\n\u001b[0;32m----> 1\u001b[0m w2v_fhmm \u001b[38;5;241m=\u001b[39m \u001b[43mFlowHMM\u001b[49m(n_components\u001b[38;5;241m=\u001b[39m\u001b[38;5;241m5\u001b[39m, no_nodes\u001b[38;5;241m=\u001b[39m\u001b[38;5;241m512\u001b[39m, l\u001b[38;5;241m=\u001b[39m\u001b[38;5;241m100\u001b[39m, optimizer\u001b[38;5;241m=\u001b[39m\u001b[38;5;124m\"\u001b[39m\u001b[38;5;124mAdam\u001b[39m\u001b[38;5;124m\"\u001b[39m, verbose\u001b[38;5;241m=\u001b[39m\u001b[38;5;28;01mTrue\u001b[39;00m)\n\u001b[1;32m      3\u001b[0m get_ipython()\u001b[38;5;241m.\u001b[39mrun_line_magic(\u001b[38;5;124m'\u001b[39m\u001b[38;5;124mtime\u001b[39m\u001b[38;5;124m'\u001b[39m, \u001b[38;5;124m'\u001b[39m\u001b[38;5;124mw2v_fhmm.fit(X_c, l_c)\u001b[39m\u001b[38;5;124m'\u001b[39m)\n\u001b[1;32m      5\u001b[0m \u001b[38;5;28mprint\u001b[39m(w2v_fhmm\u001b[38;5;241m.\u001b[39mscore(target_c, lt))\n",
      "\u001b[0;31mNameError\u001b[0m: name 'FlowHMM' is not defined"
     ]
    }
   ],
   "source": [
    "w2v_fhmm = FlowHMM(n_components=5, no_nodes=512, l=100, optimizer=\"Adam\", verbose=True)\n",
    "\n",
    "%time w2v_fhmm.fit(X_c, l_c)\n",
    "\n",
    "print(w2v_fhmm.score(target_c, lt))\n"
   ]
  }
 ],
 "metadata": {
  "kernelspec": {
   "display_name": "Python 3",
   "language": "python",
   "name": "python3"
  },
  "language_info": {
   "codemirror_mode": {
    "name": "ipython",
    "version": 3
   },
   "file_extension": ".py",
   "mimetype": "text/x-python",
   "name": "python",
   "nbconvert_exporter": "python",
   "pygments_lexer": "ipython3",
   "version": "3.10.9"
  }
 },
 "nbformat": 4,
 "nbformat_minor": 0
}
