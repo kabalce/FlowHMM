{
 "cells": [
  {
   "cell_type": "markdown",
   "source": [
    "# Intro\n",
    "\n",
    "The aim of the notebook is to present the impact of disretization on gaussian hidden markov model training, as well as investigate the possibilities of co-occurrence-based learning procedure.\n",
    "\n",
    "## Plan\n",
    "\n",
    "1. Define several Gaussian HMMs\n",
    "2. Train my model using:\n",
    "    - EM\n",
    "    - co-occurrence (pay attention to SGD hyperparameters!)\n",
    "3. Evaluate the results:\n",
    "    - loglikelihood\n",
    "    - accuracy\n",
    "    - $d_{tv}$, KL on transition matrix\n",
    "    - RMSE on means and covariance matrices\n",
    "4. Repeat each experiments several (10) times, to understand the stability of proposed methods.\n",
    "5. Present the results:\n",
    "    - table summarising numerical results\n",
    "    - visualize real/learned distribution\n",
    "    - present data, nodes and clusters"
   ],
   "metadata": {
    "collapsed": false
   }
  },
  {
   "cell_type": "markdown",
   "source": [
    "## Setup"
   ],
   "metadata": {
    "collapsed": false
   }
  },
  {
   "cell_type": "code",
   "execution_count": 1,
   "metadata": {
    "collapsed": true,
    "ExecuteTime": {
     "start_time": "2023-04-04T16:44:25.056360Z",
     "end_time": "2023-04-04T16:44:27.209592Z"
    }
   },
   "outputs": [],
   "source": [
    "import numpy as np\n",
    "import pandas as pd\n",
    "\n",
    "import matplotlib.pyplot as plt\n",
    "import seaborn as sns\n",
    "\n",
    "import urllib\n",
    "import itertools\n",
    "from scipy.stats import multivariate_normal\n",
    "\n",
    "from ssm.util import find_permutation\n",
    "from ssm.plots import gradient_cmap, white_to_color_cmap\n",
    "\n",
    "from hmmlearn import hmm\n",
    "from source.utils.utils import  total_variance_dist\n",
    "from source.model.discretized_HMM import DiscreteHMM, DISCRETIZATION_TECHNIQUES\n",
    "LEARNING_ALGORITHMS = [\"em\", \"cooc\"]"
   ]
  },
  {
   "cell_type": "code",
   "execution_count": 2,
   "outputs": [],
   "source": [
    "sns.set_style(\"white\")\n",
    "\n",
    "with urllib.request.urlopen('https://xkcd.com/color/rgb.txt') as f:\n",
    "    colors = f.readlines()\n",
    "color_names = [str(c)[2:].split('\\\\t')[0] for c in colors[1:]]\n",
    "\n",
    "colors = sns.xkcd_palette(color_names)\n",
    "cmap = gradient_cmap(colors)"
   ],
   "metadata": {
    "collapsed": false,
    "ExecuteTime": {
     "start_time": "2023-04-04T16:44:27.214544Z",
     "end_time": "2023-04-04T16:44:27.417049Z"
    }
   }
  },
  {
   "cell_type": "code",
   "execution_count": 3,
   "outputs": [],
   "source": [
    "np.random.seed(42)\n",
    "\n",
    "true_model = hmm.GaussianHMM(n_components=3, covariance_type=\"full\")\n",
    "true_model.startprob_ = np.array([0.6, 0.3, 0.1])\n",
    "true_model.transmat_ = np.array([[0.7, 0.2, 0.1],\n",
    "                            [0.3, 0.5, 0.2],\n",
    "                            [0.3, 0.3, 0.4]])\n",
    "\n",
    "true_model.means_ = np.array([[0.0, 0.0], [3.0, -3.0], [4.0, 3.0]])\n",
    "true_model.covars_ = np.array([[[1, -.5], [-.5, 1.2]], [[.6, -.5], [-.5, 1.2]], [[1.5, .5], [.5, 2.2]]]) * .8"
   ],
   "metadata": {
    "collapsed": false,
    "ExecuteTime": {
     "start_time": "2023-04-04T16:44:27.427374Z",
     "end_time": "2023-04-04T16:44:27.430097Z"
    }
   }
  },
  {
   "cell_type": "code",
   "execution_count": 12,
   "outputs": [],
   "source": [
    "X_train, Z_train = true_model.sample(10000)\n",
    "X_test, Z_test = true_model.sample(1000)"
   ],
   "metadata": {
    "collapsed": false,
    "ExecuteTime": {
     "start_time": "2023-04-04T16:50:57.398528Z",
     "end_time": "2023-04-04T16:50:59.183662Z"
    }
   }
  },
  {
   "cell_type": "markdown",
   "source": [
    "## Define experiments"
   ],
   "metadata": {
    "collapsed": false
   }
  },
  {
   "cell_type": "code",
   "execution_count": 15,
   "outputs": [
    {
     "name": "stdout",
     "output_type": "stream",
     "text": [
      "em random\n"
     ]
    },
    {
     "name": "stderr",
     "output_type": "stream",
     "text": [
      "/home/kabalce/.local/lib/python3.10/site-packages/sklearn/cluster/_kmeans.py:870: FutureWarning: The default value of `n_init` will change from 10 to 'auto' in 1.4. Set the value of `n_init` explicitly to suppress the warning\n",
      "  warnings.warn(\n",
      "Even though the 'transmat_' attribute is set, it will be overwritten during initialization because 'init_params' contains 't'\n",
      "Even though the 'means_' attribute is set, it will be overwritten during initialization because 'init_params' contains 'm'\n",
      "/home/kabalce/.local/lib/python3.10/site-packages/sklearn/cluster/_kmeans.py:870: FutureWarning: The default value of `n_init` will change from 10 to 'auto' in 1.4. Set the value of `n_init` explicitly to suppress the warning\n",
      "  warnings.warn(\n",
      "Even though the 'covars_' attribute is set, it will be overwritten during initialization because 'init_params' contains 'c'\n",
      "         1      -51939.6446             +nan\n",
      "         2      -49356.7219       +2582.9228\n",
      "         3      -49294.3820         +62.3398\n",
      "         4      -49257.5234         +36.8586\n",
      "         5      -49220.6513         +36.8721\n",
      "         6      -49177.6421         +43.0092\n",
      "         7      -49124.9280         +52.7140\n",
      "         8      -49060.9095         +64.0185\n",
      "         9      -48982.6379         +78.2716\n",
      "        10      -48873.1593        +109.4786\n",
      "        11      -48670.2916        +202.8677\n",
      "        12      -48130.9228        +539.3688\n",
      "        13      -46623.4002       +1507.5226\n",
      "        14      -45881.0606        +742.3396\n",
      "        15      -45844.7099         +36.3507\n",
      "        16      -45829.4107         +15.2992\n",
      "        17      -45812.2027         +17.2080\n",
      "        18      -45785.9845         +26.2182\n",
      "        19      -45735.4942         +50.4903\n",
      "        20      -45602.6694        +132.8249\n",
      "        21      -45177.8169        +424.8524\n",
      "        22      -44358.0527        +819.7642\n",
      "        23      -43883.5000        +474.5527\n",
      "        24      -43641.3933        +242.1067\n",
      "        25      -43506.3012        +135.0921\n",
      "        26      -43415.2724         +91.0288\n",
      "        27      -43334.7996         +80.4728\n",
      "        28      -43248.7952         +86.0044\n",
      "        29      -43153.0624         +95.7329\n",
      "        30      -43063.9692         +89.0932\n",
      "        31      -43011.7640         +52.2052\n",
      "        32      -42992.9100         +18.8540\n",
      "        33      -42985.2219          +7.6880\n",
      "        34      -42978.0634          +7.1585\n",
      "        35      -42967.4087         +10.6547\n",
      "        36      -42949.4966         +17.9121\n",
      "        37      -42917.2958         +32.2008\n",
      "        38      -42854.5456         +62.7502\n",
      "        39      -42720.2185        +134.3271\n",
      "        40      -42459.4960        +260.7225\n",
      "        41      -42314.1880        +145.3080\n",
      "        42      -42312.8124          +1.3756\n",
      "        43      -42312.8123          +0.0000\n",
      "/home/kabalce/.local/lib/python3.10/site-packages/sklearn/cluster/_kmeans.py:870: FutureWarning: The default value of `n_init` will change from 10 to 'auto' in 1.4. Set the value of `n_init` explicitly to suppress the warning\n",
      "  warnings.warn(\n"
     ]
    },
    {
     "name": "stdout",
     "output_type": "stream",
     "text": [
      "em latin_cube_u\n"
     ]
    },
    {
     "name": "stderr",
     "output_type": "stream",
     "text": [
      "Even though the 'transmat_' attribute is set, it will be overwritten during initialization because 'init_params' contains 't'\n",
      "Even though the 'means_' attribute is set, it will be overwritten during initialization because 'init_params' contains 'm'\n",
      "/home/kabalce/.local/lib/python3.10/site-packages/sklearn/cluster/_kmeans.py:870: FutureWarning: The default value of `n_init` will change from 10 to 'auto' in 1.4. Set the value of `n_init` explicitly to suppress the warning\n",
      "  warnings.warn(\n",
      "Even though the 'covars_' attribute is set, it will be overwritten during initialization because 'init_params' contains 'c'\n",
      "         1      -57086.0537             +nan\n",
      "         2      -47894.0764       +9191.9773\n",
      "         3      -44645.9967       +3248.0797\n",
      "         4      -39328.9868       +5317.0099\n",
      "         5      -29863.0845       +9465.9023\n",
      "         6      -24958.2114       +4904.8731\n",
      "         7      -18156.3229       +6801.8885\n",
      "         8       11537.4399      +29693.7628\n",
      "         9       11609.9990         +72.5591\n",
      "        10       11610.0146          +0.0156\n",
      "        11       11610.0093          -0.0054\n",
      "/home/kabalce/.local/lib/python3.10/site-packages/sklearn/cluster/_kmeans.py:870: FutureWarning: The default value of `n_init` will change from 10 to 'auto' in 1.4. Set the value of `n_init` explicitly to suppress the warning\n",
      "  warnings.warn(\n"
     ]
    },
    {
     "name": "stdout",
     "output_type": "stream",
     "text": [
      "em latin_cube_q\n"
     ]
    },
    {
     "name": "stderr",
     "output_type": "stream",
     "text": [
      "Even though the 'transmat_' attribute is set, it will be overwritten during initialization because 'init_params' contains 't'\n",
      "Even though the 'means_' attribute is set, it will be overwritten during initialization because 'init_params' contains 'm'\n",
      "/home/kabalce/.local/lib/python3.10/site-packages/sklearn/cluster/_kmeans.py:870: FutureWarning: The default value of `n_init` will change from 10 to 'auto' in 1.4. Set the value of `n_init` explicitly to suppress the warning\n",
      "  warnings.warn(\n",
      "Even though the 'covars_' attribute is set, it will be overwritten during initialization because 'init_params' contains 'c'\n",
      "         1      -49910.6252             +nan\n",
      "         2      -43622.0032       +6288.6221\n",
      "         3      -43097.3583        +524.6449\n",
      "         4      -42494.5420        +602.8163\n",
      "         5      -41533.2106        +961.3313\n",
      "         6      -40688.4228        +844.7879\n",
      "         7      -40325.1825        +363.2403\n",
      "         8      -40112.5903        +212.5922\n",
      "         9      -39968.5462        +144.0441\n",
      "        10      -39859.4484        +109.0978\n",
      "        11      -39786.6796         +72.7688\n",
      "        12      -39752.6701         +34.0095\n",
      "        13      -39741.9467         +10.7234\n",
      "        14      -39739.1556          +2.7911\n",
      "        15      -39738.3530          +0.8027\n",
      "        16      -39738.0531          +0.2998\n",
      "        17      -39737.9132          +0.1399\n",
      "        18      -39737.8398          +0.0735\n",
      "        19      -39737.7992          +0.0406\n",
      "        20      -39737.7762          +0.0230\n",
      "        21      -39737.7631          +0.0132\n",
      "        22      -39737.7554          +0.0076\n",
      "/home/kabalce/.local/lib/python3.10/site-packages/sklearn/cluster/_kmeans.py:870: FutureWarning: The default value of `n_init` will change from 10 to 'auto' in 1.4. Set the value of `n_init` explicitly to suppress the warning\n",
      "  warnings.warn(\n"
     ]
    },
    {
     "name": "stdout",
     "output_type": "stream",
     "text": [
      "em uniform\n"
     ]
    },
    {
     "name": "stderr",
     "output_type": "stream",
     "text": [
      "Even though the 'transmat_' attribute is set, it will be overwritten during initialization because 'init_params' contains 't'\n",
      "Even though the 'means_' attribute is set, it will be overwritten during initialization because 'init_params' contains 'm'\n",
      "/home/kabalce/.local/lib/python3.10/site-packages/sklearn/cluster/_kmeans.py:870: FutureWarning: The default value of `n_init` will change from 10 to 'auto' in 1.4. Set the value of `n_init` explicitly to suppress the warning\n",
      "  warnings.warn(\n",
      "Even though the 'covars_' attribute is set, it will be overwritten during initialization because 'init_params' contains 'c'\n",
      "         1      -61355.1817             +nan\n",
      "         2      -57671.0877       +3684.0941\n",
      "         3      -50711.1893       +6959.8984\n",
      "         4      -21924.3979      +28786.7914\n",
      "         5      -13415.6933       +8508.7046\n",
      "         6        5477.6832      +18893.3764\n",
      "         7       -7745.0923      -13222.7754\n",
      "/home/kabalce/.local/lib/python3.10/site-packages/sklearn/cluster/_kmeans.py:870: FutureWarning: The default value of `n_init` will change from 10 to 'auto' in 1.4. Set the value of `n_init` explicitly to suppress the warning\n",
      "  warnings.warn(\n"
     ]
    },
    {
     "name": "stdout",
     "output_type": "stream",
     "text": [
      "cooc random\n"
     ]
    },
    {
     "name": "stderr",
     "output_type": "stream",
     "text": [
      "         1      -55991.6968             +nan\n",
      "         2      -55305.0224        +686.6744\n",
      "         3      -54862.7305        +442.2919\n",
      "         4      -54589.7087        +273.0218\n",
      "         5      -54429.6407        +160.0680\n",
      "         6      -54344.7495         +84.8912\n",
      "         7      -54310.4242         +34.3254\n",
      "         8      -54310.6345          -0.2104\n",
      "/home/kabalce/.local/lib/python3.10/site-packages/sklearn/cluster/_kmeans.py:870: FutureWarning: The default value of `n_init` will change from 10 to 'auto' in 1.4. Set the value of `n_init` explicitly to suppress the warning\n",
      "  warnings.warn(\n"
     ]
    },
    {
     "name": "stdout",
     "output_type": "stream",
     "text": [
      "cooc latin_cube_u\n",
      "cooc latin_cube_q\n"
     ]
    },
    {
     "name": "stderr",
     "output_type": "stream",
     "text": [
      "/home/kabalce/.local/lib/python3.10/site-packages/sklearn/cluster/_kmeans.py:870: FutureWarning: The default value of `n_init` will change from 10 to 'auto' in 1.4. Set the value of `n_init` explicitly to suppress the warning\n",
      "  warnings.warn(\n",
      "         1      -52380.8679             +nan\n",
      "         2      -52467.3521         -86.4842\n",
      "/home/kabalce/.local/lib/python3.10/site-packages/sklearn/cluster/_kmeans.py:870: FutureWarning: The default value of `n_init` will change from 10 to 'auto' in 1.4. Set the value of `n_init` explicitly to suppress the warning\n",
      "  warnings.warn(\n"
     ]
    },
    {
     "name": "stdout",
     "output_type": "stream",
     "text": [
      "cooc uniform\n"
     ]
    },
    {
     "name": "stderr",
     "output_type": "stream",
     "text": [
      "         1      -51230.5047             +nan\n",
      "         2      -51788.9103        -558.4056\n"
     ]
    }
   ],
   "source": [
    "results = []\n",
    "\n",
    "for learning_alg, discretize_meth in itertools.product(LEARNING_ALGORITHMS, DISCRETIZATION_TECHNIQUES):\n",
    "    print(learning_alg, discretize_meth)\n",
    "    try:\n",
    "        model = DiscreteHMM(discretize_meth, 20, n_components=3, learning_alg=learning_alg, verbose=True, optim_params=dict(max_epoch=100000, lr=0.1), n_iter=100)\n",
    "        model.fit(X_train)\n",
    "        Z_hat = model.predict(X_test)\n",
    "        Z_hat = find_permutation(np.concatenate([Z_test, np.array([0, 1, 2])]), np.concatenate([Z_hat, np.array([0, 1, 2])]))[Z_hat]\n",
    "\n",
    "        results.append({\n",
    "            'learning_alg': learning_alg,\n",
    "            'discretize_meth': discretize_meth,\n",
    "            'accuracy': (Z_hat == Z_test).mean(),\n",
    "            'transmat_dtv': total_variance_dist(model.transmat_, true_model.transmat_),\n",
    "            'means_diff': np.abs(model.means_, true_model.means_).sum(),\n",
    "            'covars_diff': np.abs(model.covars_, true_model.covars_).sum(),\n",
    "            'loglikelihood': model.score(X_test)\n",
    "        })\n",
    "    except:\n",
    "        pass"
   ],
   "metadata": {
    "collapsed": false,
    "ExecuteTime": {
     "start_time": "2023-04-04T16:54:31.744715Z",
     "end_time": "2023-04-04T16:55:21.406556Z"
    }
   }
  },
  {
   "cell_type": "code",
   "execution_count": 16,
   "outputs": [
    {
     "data": {
      "text/plain": "  learning_alg discretize_meth  accuracy  transmat_dtv  means_diff  \\\n0           em          random     0.475      0.332477   18.930874   \n1           em    latin_cube_u     0.481      0.222334   15.636164   \n2           em    latin_cube_q     0.454      0.263428   18.867262   \n3           em         uniform     0.497      0.190199   29.426423   \n4         cooc          random     0.480      0.612697   16.370770   \n5         cooc    latin_cube_q     0.423      0.499271   16.269599   \n6         cooc         uniform     0.479      0.334252   16.202467   \n\n   covars_diff  loglikelihood  \n0    28.267222   -7824.480002  \n1    76.818576  -23229.267134  \n2    21.721500   -8370.499869  \n3    24.772629  -16471.052958  \n4   101.704704   -5449.626876  \n5    73.931223   -5304.368782  \n6    77.662555   -5201.554874  ",
      "text/html": "<div>\n<style scoped>\n    .dataframe tbody tr th:only-of-type {\n        vertical-align: middle;\n    }\n\n    .dataframe tbody tr th {\n        vertical-align: top;\n    }\n\n    .dataframe thead th {\n        text-align: right;\n    }\n</style>\n<table border=\"1\" class=\"dataframe\">\n  <thead>\n    <tr style=\"text-align: right;\">\n      <th></th>\n      <th>learning_alg</th>\n      <th>discretize_meth</th>\n      <th>accuracy</th>\n      <th>transmat_dtv</th>\n      <th>means_diff</th>\n      <th>covars_diff</th>\n      <th>loglikelihood</th>\n    </tr>\n  </thead>\n  <tbody>\n    <tr>\n      <th>0</th>\n      <td>em</td>\n      <td>random</td>\n      <td>0.475</td>\n      <td>0.332477</td>\n      <td>18.930874</td>\n      <td>28.267222</td>\n      <td>-7824.480002</td>\n    </tr>\n    <tr>\n      <th>1</th>\n      <td>em</td>\n      <td>latin_cube_u</td>\n      <td>0.481</td>\n      <td>0.222334</td>\n      <td>15.636164</td>\n      <td>76.818576</td>\n      <td>-23229.267134</td>\n    </tr>\n    <tr>\n      <th>2</th>\n      <td>em</td>\n      <td>latin_cube_q</td>\n      <td>0.454</td>\n      <td>0.263428</td>\n      <td>18.867262</td>\n      <td>21.721500</td>\n      <td>-8370.499869</td>\n    </tr>\n    <tr>\n      <th>3</th>\n      <td>em</td>\n      <td>uniform</td>\n      <td>0.497</td>\n      <td>0.190199</td>\n      <td>29.426423</td>\n      <td>24.772629</td>\n      <td>-16471.052958</td>\n    </tr>\n    <tr>\n      <th>4</th>\n      <td>cooc</td>\n      <td>random</td>\n      <td>0.480</td>\n      <td>0.612697</td>\n      <td>16.370770</td>\n      <td>101.704704</td>\n      <td>-5449.626876</td>\n    </tr>\n    <tr>\n      <th>5</th>\n      <td>cooc</td>\n      <td>latin_cube_q</td>\n      <td>0.423</td>\n      <td>0.499271</td>\n      <td>16.269599</td>\n      <td>73.931223</td>\n      <td>-5304.368782</td>\n    </tr>\n    <tr>\n      <th>6</th>\n      <td>cooc</td>\n      <td>uniform</td>\n      <td>0.479</td>\n      <td>0.334252</td>\n      <td>16.202467</td>\n      <td>77.662555</td>\n      <td>-5201.554874</td>\n    </tr>\n  </tbody>\n</table>\n</div>"
     },
     "execution_count": 16,
     "metadata": {},
     "output_type": "execute_result"
    }
   ],
   "source": [
    "pd.DataFrame(results)"
   ],
   "metadata": {
    "collapsed": false,
    "ExecuteTime": {
     "start_time": "2023-04-04T17:00:24.036745Z",
     "end_time": "2023-04-04T17:00:24.088931Z"
    }
   }
  },
  {
   "cell_type": "markdown",
   "source": [
    "# TODO: recheck cavariance learning in HmmOptim!\n",
    "# TODO: recheck Latin cube"
   ],
   "metadata": {
    "collapsed": false
   }
  },
  {
   "cell_type": "code",
   "execution_count": null,
   "outputs": [],
   "source": [],
   "metadata": {
    "collapsed": false
   }
  }
 ],
 "metadata": {
  "kernelspec": {
   "display_name": "Python 3",
   "language": "python",
   "name": "python3"
  },
  "language_info": {
   "codemirror_mode": {
    "name": "ipython",
    "version": 2
   },
   "file_extension": ".py",
   "mimetype": "text/x-python",
   "name": "python",
   "nbconvert_exporter": "python",
   "pygments_lexer": "ipython2",
   "version": "2.7.6"
  }
 },
 "nbformat": 4,
 "nbformat_minor": 0
}
