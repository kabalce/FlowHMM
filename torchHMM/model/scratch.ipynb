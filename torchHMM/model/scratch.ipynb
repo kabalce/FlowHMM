{
 "cells": [
  {
   "cell_type": "code",
   "execution_count": 1,
   "metadata": {
    "collapsed": true
   },
   "outputs": [],
   "source": [
    "from hmmlearn import hmm\n",
    "from hmmlearn.base import _log\n",
    "import numpy as np\n",
    "import numpy.typing as npt\n",
    "from scipy.stats.qmc import LatinHypercube\n",
    "# import tensorflow as tf\n",
    "import torch\n",
    "from discretized_HMM import DiscreteHMM, HmmOptim"
   ]
  },
  {
   "cell_type": "code",
   "execution_count": 17,
   "outputs": [
    {
     "name": "stderr",
     "output_type": "stream",
     "text": [
      "/home/kabalce/.local/lib/python3.10/site-packages/sklearn/cluster/_kmeans.py:870: FutureWarning: The default value of `n_init` will change from 10 to 'auto' in 1.4. Set the value of `n_init` explicitly to suppress the warning\n",
      "  warnings.warn(\n",
      "/home/kabalce/.local/lib/python3.10/site-packages/sklearn/cluster/_kmeans.py:870: FutureWarning: The default value of `n_init` will change from 10 to 'auto' in 1.4. Set the value of `n_init` explicitly to suppress the warning\n",
      "  warnings.warn(\n",
      "Optimizing separately attribute 'startprob_' ignores the stationarity requirement\n"
     ]
    }
   ],
   "source": [
    "HMM_model = hmm.GaussianHMM(3).fit(np.random.multivariate_normal(np.array([0, 1]), np.array([[1, 0],  [0,1]]), 100))\n",
    "myHMM = DiscreteHMM('random', 10, 3, learning_alg=\"em\")\n",
    "myHMM2 = DiscreteHMM('uniform', 10, 3)\n",
    "myHMM3 = DiscreteHMM('latin_cube_u', 10, 3)\n",
    "myHMM4 = DiscreteHMM('latin_cube_q', 10, 3)\n",
    "obs, hid = HMM_model.sample(100)\n",
    "myHMM.fit(obs)\n",
    "myHMM2.fit(obs)\n",
    "myHMM3.fit(obs)\n",
    "myHMM4.fit(obs)"
   ],
   "metadata": {
    "collapsed": false
   }
  },
  {
   "cell_type": "code",
   "execution_count": 18,
   "outputs": [
    {
     "data": {
      "text/plain": "DiscreteHMM(l=3, learning_alg='em', no_nodes=10)",
      "text/html": "<style>#sk-container-id-3 {color: black;background-color: white;}#sk-container-id-3 pre{padding: 0;}#sk-container-id-3 div.sk-toggleable {background-color: white;}#sk-container-id-3 label.sk-toggleable__label {cursor: pointer;display: block;width: 100%;margin-bottom: 0;padding: 0.3em;box-sizing: border-box;text-align: center;}#sk-container-id-3 label.sk-toggleable__label-arrow:before {content: \"▸\";float: left;margin-right: 0.25em;color: #696969;}#sk-container-id-3 label.sk-toggleable__label-arrow:hover:before {color: black;}#sk-container-id-3 div.sk-estimator:hover label.sk-toggleable__label-arrow:before {color: black;}#sk-container-id-3 div.sk-toggleable__content {max-height: 0;max-width: 0;overflow: hidden;text-align: left;background-color: #f0f8ff;}#sk-container-id-3 div.sk-toggleable__content pre {margin: 0.2em;color: black;border-radius: 0.25em;background-color: #f0f8ff;}#sk-container-id-3 input.sk-toggleable__control:checked~div.sk-toggleable__content {max-height: 200px;max-width: 100%;overflow: auto;}#sk-container-id-3 input.sk-toggleable__control:checked~label.sk-toggleable__label-arrow:before {content: \"▾\";}#sk-container-id-3 div.sk-estimator input.sk-toggleable__control:checked~label.sk-toggleable__label {background-color: #d4ebff;}#sk-container-id-3 div.sk-label input.sk-toggleable__control:checked~label.sk-toggleable__label {background-color: #d4ebff;}#sk-container-id-3 input.sk-hidden--visually {border: 0;clip: rect(1px 1px 1px 1px);clip: rect(1px, 1px, 1px, 1px);height: 1px;margin: -1px;overflow: hidden;padding: 0;position: absolute;width: 1px;}#sk-container-id-3 div.sk-estimator {font-family: monospace;background-color: #f0f8ff;border: 1px dotted black;border-radius: 0.25em;box-sizing: border-box;margin-bottom: 0.5em;}#sk-container-id-3 div.sk-estimator:hover {background-color: #d4ebff;}#sk-container-id-3 div.sk-parallel-item::after {content: \"\";width: 100%;border-bottom: 1px solid gray;flex-grow: 1;}#sk-container-id-3 div.sk-label:hover label.sk-toggleable__label {background-color: #d4ebff;}#sk-container-id-3 div.sk-serial::before {content: \"\";position: absolute;border-left: 1px solid gray;box-sizing: border-box;top: 0;bottom: 0;left: 50%;z-index: 0;}#sk-container-id-3 div.sk-serial {display: flex;flex-direction: column;align-items: center;background-color: white;padding-right: 0.2em;padding-left: 0.2em;position: relative;}#sk-container-id-3 div.sk-item {position: relative;z-index: 1;}#sk-container-id-3 div.sk-parallel {display: flex;align-items: stretch;justify-content: center;background-color: white;position: relative;}#sk-container-id-3 div.sk-item::before, #sk-container-id-3 div.sk-parallel-item::before {content: \"\";position: absolute;border-left: 1px solid gray;box-sizing: border-box;top: 0;bottom: 0;left: 50%;z-index: -1;}#sk-container-id-3 div.sk-parallel-item {display: flex;flex-direction: column;z-index: 1;position: relative;background-color: white;}#sk-container-id-3 div.sk-parallel-item:first-child::after {align-self: flex-end;width: 50%;}#sk-container-id-3 div.sk-parallel-item:last-child::after {align-self: flex-start;width: 50%;}#sk-container-id-3 div.sk-parallel-item:only-child::after {width: 0;}#sk-container-id-3 div.sk-dashed-wrapped {border: 1px dashed gray;margin: 0 0.4em 0.5em 0.4em;box-sizing: border-box;padding-bottom: 0.4em;background-color: white;}#sk-container-id-3 div.sk-label label {font-family: monospace;font-weight: bold;display: inline-block;line-height: 1.2em;}#sk-container-id-3 div.sk-label-container {text-align: center;}#sk-container-id-3 div.sk-container {/* jupyter's `normalize.less` sets `[hidden] { display: none; }` but bootstrap.min.css set `[hidden] { display: none !important; }` so we also need the `!important` here to be able to override the default hidden behavior on the sphinx rendered scikit-learn.org. See: https://github.com/scikit-learn/scikit-learn/issues/21755 */display: inline-block !important;position: relative;}#sk-container-id-3 div.sk-text-repr-fallback {display: none;}</style><div id=\"sk-container-id-3\" class=\"sk-top-container\"><div class=\"sk-text-repr-fallback\"><pre>DiscreteHMM(l=3, learning_alg=&#x27;em&#x27;, no_nodes=10)</pre><b>In a Jupyter environment, please rerun this cell to show the HTML representation or trust the notebook. <br />On GitHub, the HTML representation is unable to render, please try loading this page with nbviewer.org.</b></div><div class=\"sk-container\" hidden><div class=\"sk-item\"><div class=\"sk-estimator sk-toggleable\"><input class=\"sk-toggleable__control sk-hidden--visually\" id=\"sk-estimator-id-3\" type=\"checkbox\" checked><label for=\"sk-estimator-id-3\" class=\"sk-toggleable__label sk-toggleable__label-arrow\">DiscreteHMM</label><div class=\"sk-toggleable__content\"><pre>DiscreteHMM(l=3, learning_alg=&#x27;em&#x27;, no_nodes=10)</pre></div></div></div></div></div>"
     },
     "execution_count": 18,
     "metadata": {},
     "output_type": "execute_result"
    }
   ],
   "source": [
    "myHMM"
   ],
   "metadata": {
    "collapsed": false
   }
  },
  {
   "cell_type": "code",
   "execution_count": 25,
   "outputs": [
    {
     "data": {
      "text/plain": "array([[0.19427891, 0.        ],\n       [0.        , 0.86494671]])"
     },
     "execution_count": 25,
     "metadata": {},
     "output_type": "execute_result"
    }
   ],
   "source": [
    "HMM_model.covars_[0]"
   ],
   "metadata": {
    "collapsed": false
   }
  },
  {
   "cell_type": "code",
   "execution_count": 37,
   "outputs": [
    {
     "data": {
      "text/plain": "MultivariateNormal(loc: torch.Size([3, 2]), covariance_matrix: torch.Size([3, 2, 2]))"
     },
     "execution_count": 37,
     "metadata": {},
     "output_type": "execute_result"
    }
   ],
   "source": [
    "dist"
   ],
   "metadata": {
    "collapsed": false
   }
  },
  {
   "cell_type": "code",
   "execution_count": 55,
   "outputs": [],
   "source": [
    "dists = [torch.distributions.MultivariateNormal(torch.tensor(HMM_model.means_[i]), torch.tensor(HMM_model.covars_[i])) for i in range(HMM_model.means_.shape[0])]\n",
    "probs = torch.cat([dist.log_prob(torch.Tensor(myHMM.nodes.T)).reshape(-1,1) for dist in dists], dim=1)\n",
    "probs = torch.nn.functional.normalize(probs, dim=0)"
   ],
   "metadata": {
    "collapsed": false
   }
  },
  {
   "cell_type": "code",
   "execution_count": 56,
   "outputs": [
    {
     "data": {
      "text/plain": "torch.Size([10, 3])"
     },
     "execution_count": 56,
     "metadata": {},
     "output_type": "execute_result"
    }
   ],
   "source": [
    "probs.shape"
   ],
   "metadata": {
    "collapsed": false
   }
  },
  {
   "cell_type": "code",
   "execution_count": 57,
   "outputs": [
    {
     "data": {
      "text/plain": "tensor([[-0.2443, -0.3074, -0.2651],\n        [-0.2026, -0.1473, -0.1802],\n        [-0.0876, -0.2243, -0.1286],\n        [-0.0768, -0.1721, -0.1359],\n        [-0.1609, -0.1067, -0.1909],\n        [-0.1198, -0.3852, -0.1719],\n        [-0.1054, -0.2935, -0.1849],\n        [-0.8669, -0.2269, -0.4381],\n        [-0.1092, -0.7116, -0.4166],\n        [-0.2662, -0.0124, -0.6297]], dtype=torch.float64)"
     },
     "execution_count": 57,
     "metadata": {},
     "output_type": "execute_result"
    }
   ],
   "source": [
    "probs"
   ],
   "metadata": {
    "collapsed": false
   }
  },
  {
   "cell_type": "code",
   "execution_count": 11,
   "outputs": [
    {
     "data": {
      "text/plain": "(1, 10)"
     },
     "execution_count": 11,
     "metadata": {},
     "output_type": "execute_result"
    }
   ],
   "source": [
    "myHMM.nodes.shape"
   ],
   "metadata": {
    "collapsed": false
   }
  },
  {
   "cell_type": "code",
   "execution_count": 12,
   "outputs": [
    {
     "data": {
      "text/plain": "(3, 1, 1)"
     },
     "execution_count": 12,
     "metadata": {},
     "output_type": "execute_result"
    }
   ],
   "source": [
    "HMM_model.covars_.shape"
   ],
   "metadata": {
    "collapsed": false
   }
  },
  {
   "cell_type": "code",
   "execution_count": 61,
   "outputs": [],
   "source": [
    "S = np.log(HMM_model.transmat_ * HMM_model.startprob_)"
   ],
   "metadata": {
    "collapsed": false
   }
  },
  {
   "cell_type": "code",
   "execution_count": 63,
   "outputs": [],
   "source": [
    "B = probs"
   ],
   "metadata": {
    "collapsed": false
   }
  },
  {
   "cell_type": "code",
   "execution_count": 65,
   "outputs": [
    {
     "data": {
      "text/plain": "tensor([[-17.1572, -12.7818,  -7.4234,  -7.1799, -11.6181, -10.1808,  -9.9181,\n         -43.5181, -18.0881, -28.6921],\n        [-11.1973,  -8.3467,  -4.8408,  -4.6789,  -7.5794,  -6.6401,  -6.4640,\n         -28.4663, -11.7667, -18.6749],\n        [ -9.1874,  -6.8394,  -3.9791,  -3.8520,  -6.2246,  -5.4559,  -5.3202,\n         -23.2350,  -9.7257, -15.4185],\n        [ -8.0378,  -5.9843,  -3.4808,  -3.3686,  -5.4444,  -4.7734,  -4.6530,\n         -20.3401,  -8.5019, -13.4742],\n        [ -9.6832,  -7.2175,  -4.1869,  -4.0463,  -6.5534,  -5.7439,  -5.5906,\n         -24.6150, -10.1774, -16.1424],\n        [-14.0848, -10.4829,  -6.1019,  -5.9090,  -9.5450,  -8.3654,  -8.1605,\n         -35.5867, -14.9296, -23.6692],\n        [-12.1706,  -9.0595,  -5.2719,  -5.1035,  -8.2456,  -7.2286,  -7.0489,\n         -30.7720, -12.8884, -20.4271],\n        [-32.6768, -24.3851, -14.1039, -13.6183, -22.1071, -19.3492, -18.8156,\n         -83.4172, -34.1343, -54.2618],\n        [-25.6576, -19.0875, -11.1235, -10.7743, -17.3884, -15.2506, -14.8805,\n         -64.7261, -27.2574, -43.1666],\n        [-19.2599, -14.3571,  -8.3282,  -8.0413, -13.0239, -11.4318, -11.1150,\n         -49.0138, -20.2150, -32.0041]], dtype=torch.float64)"
     },
     "execution_count": 65,
     "metadata": {},
     "output_type": "execute_result"
    }
   ],
   "source": [
    "B @ S @ B.T"
   ],
   "metadata": {
    "collapsed": false
   }
  },
  {
   "cell_type": "code",
   "execution_count": 72,
   "outputs": [
    {
     "data": {
      "text/plain": "tensor([[0.3237, 0.3527, 0.3237],\n        [0.3208, 0.3583, 0.3208],\n        [0.3248, 0.3504, 0.3248]], dtype=torch.float64)"
     },
     "execution_count": 72,
     "metadata": {},
     "output_type": "execute_result"
    }
   ],
   "source": [
    "torch.softmax(torch.tensor(np.exp(S)), dim=1)"
   ],
   "metadata": {
    "collapsed": false
   }
  },
  {
   "cell_type": "code",
   "execution_count": 76,
   "outputs": [
    {
     "data": {
      "text/plain": "0.9692999999999999"
     },
     "execution_count": 76,
     "metadata": {},
     "output_type": "execute_result"
    }
   ],
   "source": [
    "sum([0.3248, 0.3208, 0.3237])"
   ],
   "metadata": {
    "collapsed": false
   }
  },
  {
   "cell_type": "code",
   "execution_count": 77,
   "outputs": [],
   "source": [
    "covar = HMM_model.covars_[0]"
   ],
   "metadata": {
    "collapsed": false
   }
  },
  {
   "cell_type": "code",
   "execution_count": 79,
   "outputs": [
    {
     "data": {
      "text/plain": "array([[0.44077081, 0.        ],\n       [0.        , 0.93002511]])"
     },
     "execution_count": 79,
     "metadata": {},
     "output_type": "execute_result"
    }
   ],
   "source": [
    "np.linalg.cholesky(covar)"
   ],
   "metadata": {
    "collapsed": false
   }
  },
  {
   "cell_type": "code",
   "execution_count": 80,
   "outputs": [
    {
     "data": {
      "text/plain": "array([[[ 0.53985629,  0.        ],\n        [-0.29998013, -0.44768971]],\n\n       [[-0.00227077,  0.        ],\n        [ 0.10262521,  0.87128949]],\n\n       [[ 0.14473708,  0.        ],\n        [-0.31126927,  0.71334796]]])"
     },
     "execution_count": 80,
     "metadata": {},
     "output_type": "execute_result"
    }
   ],
   "source": [
    "n_components = 3\n",
    "n_dim = 2\n",
    "np.tril(np.random.standard_normal(n_components * n_dim ** 2).reshape(n_components, n_dim, n_dim))"
   ],
   "metadata": {
    "collapsed": false
   }
  },
  {
   "cell_type": "code",
   "execution_count": 84,
   "outputs": [],
   "source": [
    "transmat = HMM_model.transmat_ / HMM_model.transmat_.sum(axis=1)[:, np.newaxis]"
   ],
   "metadata": {
    "collapsed": false
   }
  },
  {
   "cell_type": "code",
   "execution_count": 86,
   "outputs": [
    {
     "data": {
      "text/plain": "array([[0.00132856, 0.0859425 , 0.91272894],\n       [0.36666489, 0.1105509 , 0.52278421],\n       [0.03373398, 0.07595588, 0.89031014]])"
     },
     "execution_count": 86,
     "metadata": {},
     "output_type": "execute_result"
    }
   ],
   "source": [
    "transmat"
   ],
   "metadata": {
    "collapsed": false
   }
  },
  {
   "cell_type": "code",
   "execution_count": null,
   "outputs": [],
   "source": [],
   "metadata": {
    "collapsed": false
   }
  }
 ],
 "metadata": {
  "kernelspec": {
   "display_name": "Python 3",
   "language": "python",
   "name": "python3"
  },
  "language_info": {
   "codemirror_mode": {
    "name": "ipython",
    "version": 2
   },
   "file_extension": ".py",
   "mimetype": "text/x-python",
   "name": "python",
   "nbconvert_exporter": "python",
   "pygments_lexer": "ipython2",
   "version": "2.7.6"
  }
 },
 "nbformat": 4,
 "nbformat_minor": 0
}
